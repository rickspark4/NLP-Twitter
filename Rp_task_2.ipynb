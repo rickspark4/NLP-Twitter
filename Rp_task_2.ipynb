{
 "cells": [
  {
   "cell_type": "code",
   "execution_count": 1,
   "id": "cf03dd1c",
   "metadata": {},
   "outputs": [
    {
     "name": "stderr",
     "output_type": "stream",
     "text": [
      "C:\\Users\\Asus\\Anaconda\\lib\\site-packages\\gensim\\similarities\\__init__.py:15: UserWarning: The gensim.similarities.levenshtein submodule is disabled, because the optional Levenshtein package <https://pypi.org/project/python-Levenshtein/> is unavailable. Install Levenhstein (e.g. `pip install python-Levenshtein`) to suppress this warning.\n",
      "  warnings.warn(msg)\n"
     ]
    }
   ],
   "source": [
    "import pandas as pd\n",
    "import numpy as np\n",
    "\n",
    "import matplotlib.pyplot as plt\n",
    "%matplotlib inline\n",
    "import seaborn as sns\n",
    "import plotly.express as px\n",
    "\n",
    "import spacy\n",
    "import nltk\n",
    "from nltk.corpus import stopwords\n",
    "import glob\n",
    "from spacy.lang.en import English\n",
    "from nltk.stem import WordNetLemmatizer\n",
    "\n",
    "#Gensim\n",
    "import gensim\n",
    "from gensim.utils import simple_preprocess\n",
    "\n",
    "\n",
    "from tqdm import tqdm\n",
    "import re\n",
    "from sklearn import preprocessing\n",
    "from sklearn.feature_extraction.text import TfidfVectorizer\n",
    "\n",
    "from sklearn.model_selection import train_test_split, StratifiedKFold, KFold\n",
    "\n",
    "from sklearn.naive_bayes import MultinomialNB\n",
    "from sklearn.linear_model import LogisticRegression\n",
    "from sklearn.svm import LinearSVC\n",
    "from sklearn.ensemble import RandomForestClassifier, GradientBoostingClassifier\n",
    "from xgboost.sklearn import XGBClassifier\n",
    "\n",
    "\n",
    "from sklearn.metrics import precision_score\n",
    "from sklearn.metrics import recall_score\n",
    "from sklearn.metrics import accuracy_score\n",
    "from sklearn.metrics import f1_score\n",
    "\n"
   ]
  },
  {
   "cell_type": "markdown",
   "id": "6d56b419",
   "metadata": {},
   "source": [
    "Problem Statement - To predict the name of the company based on the text of the tweet."
   ]
  },
  {
   "cell_type": "code",
   "execution_count": 47,
   "id": "f54035ec",
   "metadata": {},
   "outputs": [
    {
     "data": {
      "text/html": [
       "<div>\n",
       "<style scoped>\n",
       "    .dataframe tbody tr th:only-of-type {\n",
       "        vertical-align: middle;\n",
       "    }\n",
       "\n",
       "    .dataframe tbody tr th {\n",
       "        vertical-align: top;\n",
       "    }\n",
       "\n",
       "    .dataframe thead th {\n",
       "        text-align: right;\n",
       "    }\n",
       "</style>\n",
       "<table border=\"1\" class=\"dataframe\">\n",
       "  <thead>\n",
       "    <tr style=\"text-align: right;\">\n",
       "      <th></th>\n",
       "      <th>tweet_id</th>\n",
       "      <th>author_id</th>\n",
       "      <th>inbound</th>\n",
       "      <th>created_at</th>\n",
       "      <th>text</th>\n",
       "      <th>response_tweet_id</th>\n",
       "      <th>in_response_to_tweet_id</th>\n",
       "    </tr>\n",
       "  </thead>\n",
       "  <tbody>\n",
       "    <tr>\n",
       "      <th>0</th>\n",
       "      <td>1</td>\n",
       "      <td>sprintcare</td>\n",
       "      <td>False</td>\n",
       "      <td>Tue Oct 31 22:10:47 +0000 2017</td>\n",
       "      <td>@115712 I understand. I would like to assist y...</td>\n",
       "      <td>2</td>\n",
       "      <td>3.0</td>\n",
       "    </tr>\n",
       "    <tr>\n",
       "      <th>1</th>\n",
       "      <td>2</td>\n",
       "      <td>115712</td>\n",
       "      <td>True</td>\n",
       "      <td>Tue Oct 31 22:11:45 +0000 2017</td>\n",
       "      <td>@sprintcare and how do you propose we do that</td>\n",
       "      <td>NaN</td>\n",
       "      <td>1.0</td>\n",
       "    </tr>\n",
       "    <tr>\n",
       "      <th>2</th>\n",
       "      <td>3</td>\n",
       "      <td>115712</td>\n",
       "      <td>True</td>\n",
       "      <td>Tue Oct 31 22:08:27 +0000 2017</td>\n",
       "      <td>@sprintcare I have sent several private messag...</td>\n",
       "      <td>1</td>\n",
       "      <td>4.0</td>\n",
       "    </tr>\n",
       "    <tr>\n",
       "      <th>3</th>\n",
       "      <td>4</td>\n",
       "      <td>sprintcare</td>\n",
       "      <td>False</td>\n",
       "      <td>Tue Oct 31 21:54:49 +0000 2017</td>\n",
       "      <td>@115712 Please send us a Private Message so th...</td>\n",
       "      <td>3</td>\n",
       "      <td>5.0</td>\n",
       "    </tr>\n",
       "    <tr>\n",
       "      <th>4</th>\n",
       "      <td>5</td>\n",
       "      <td>115712</td>\n",
       "      <td>True</td>\n",
       "      <td>Tue Oct 31 21:49:35 +0000 2017</td>\n",
       "      <td>@sprintcare I did.</td>\n",
       "      <td>4</td>\n",
       "      <td>6.0</td>\n",
       "    </tr>\n",
       "    <tr>\n",
       "      <th>...</th>\n",
       "      <td>...</td>\n",
       "      <td>...</td>\n",
       "      <td>...</td>\n",
       "      <td>...</td>\n",
       "      <td>...</td>\n",
       "      <td>...</td>\n",
       "      <td>...</td>\n",
       "    </tr>\n",
       "    <tr>\n",
       "      <th>2811769</th>\n",
       "      <td>2987947</td>\n",
       "      <td>sprintcare</td>\n",
       "      <td>False</td>\n",
       "      <td>Wed Nov 22 08:43:51 +0000 2017</td>\n",
       "      <td>@823869 Hey, we'd be happy to look into this f...</td>\n",
       "      <td>NaN</td>\n",
       "      <td>2987948.0</td>\n",
       "    </tr>\n",
       "    <tr>\n",
       "      <th>2811770</th>\n",
       "      <td>2987948</td>\n",
       "      <td>823869</td>\n",
       "      <td>True</td>\n",
       "      <td>Wed Nov 22 08:35:16 +0000 2017</td>\n",
       "      <td>@115714 wtf!? I’ve been having really shitty s...</td>\n",
       "      <td>2987947</td>\n",
       "      <td>NaN</td>\n",
       "    </tr>\n",
       "    <tr>\n",
       "      <th>2811771</th>\n",
       "      <td>2812240</td>\n",
       "      <td>121673</td>\n",
       "      <td>True</td>\n",
       "      <td>Thu Nov 23 04:13:07 +0000 2017</td>\n",
       "      <td>@143549 @sprintcare You have to go to https://...</td>\n",
       "      <td>NaN</td>\n",
       "      <td>2812239.0</td>\n",
       "    </tr>\n",
       "    <tr>\n",
       "      <th>2811772</th>\n",
       "      <td>2987949</td>\n",
       "      <td>AldiUK</td>\n",
       "      <td>False</td>\n",
       "      <td>Wed Nov 22 08:31:24 +0000 2017</td>\n",
       "      <td>@823870 Sounds delicious, Sarah! 😋 https://t.c...</td>\n",
       "      <td>NaN</td>\n",
       "      <td>2987950.0</td>\n",
       "    </tr>\n",
       "    <tr>\n",
       "      <th>2811773</th>\n",
       "      <td>2987950</td>\n",
       "      <td>823870</td>\n",
       "      <td>True</td>\n",
       "      <td>Tue Nov 21 22:01:04 +0000 2017</td>\n",
       "      <td>@AldiUK  warm sloe gin mince pies with ice cre...</td>\n",
       "      <td>2987951,2987949</td>\n",
       "      <td>NaN</td>\n",
       "    </tr>\n",
       "  </tbody>\n",
       "</table>\n",
       "<p>2811774 rows × 7 columns</p>\n",
       "</div>"
      ],
      "text/plain": [
       "         tweet_id   author_id  inbound                      created_at  \\\n",
       "0               1  sprintcare    False  Tue Oct 31 22:10:47 +0000 2017   \n",
       "1               2      115712     True  Tue Oct 31 22:11:45 +0000 2017   \n",
       "2               3      115712     True  Tue Oct 31 22:08:27 +0000 2017   \n",
       "3               4  sprintcare    False  Tue Oct 31 21:54:49 +0000 2017   \n",
       "4               5      115712     True  Tue Oct 31 21:49:35 +0000 2017   \n",
       "...           ...         ...      ...                             ...   \n",
       "2811769   2987947  sprintcare    False  Wed Nov 22 08:43:51 +0000 2017   \n",
       "2811770   2987948      823869     True  Wed Nov 22 08:35:16 +0000 2017   \n",
       "2811771   2812240      121673     True  Thu Nov 23 04:13:07 +0000 2017   \n",
       "2811772   2987949      AldiUK    False  Wed Nov 22 08:31:24 +0000 2017   \n",
       "2811773   2987950      823870     True  Tue Nov 21 22:01:04 +0000 2017   \n",
       "\n",
       "                                                      text response_tweet_id  \\\n",
       "0        @115712 I understand. I would like to assist y...                 2   \n",
       "1            @sprintcare and how do you propose we do that               NaN   \n",
       "2        @sprintcare I have sent several private messag...                 1   \n",
       "3        @115712 Please send us a Private Message so th...                 3   \n",
       "4                                       @sprintcare I did.                 4   \n",
       "...                                                    ...               ...   \n",
       "2811769  @823869 Hey, we'd be happy to look into this f...               NaN   \n",
       "2811770  @115714 wtf!? I’ve been having really shitty s...           2987947   \n",
       "2811771  @143549 @sprintcare You have to go to https://...               NaN   \n",
       "2811772  @823870 Sounds delicious, Sarah! 😋 https://t.c...               NaN   \n",
       "2811773  @AldiUK  warm sloe gin mince pies with ice cre...   2987951,2987949   \n",
       "\n",
       "         in_response_to_tweet_id  \n",
       "0                            3.0  \n",
       "1                            1.0  \n",
       "2                            4.0  \n",
       "3                            5.0  \n",
       "4                            6.0  \n",
       "...                          ...  \n",
       "2811769                2987948.0  \n",
       "2811770                      NaN  \n",
       "2811771                2812239.0  \n",
       "2811772                2987950.0  \n",
       "2811773                      NaN  \n",
       "\n",
       "[2811774 rows x 7 columns]"
      ]
     },
     "execution_count": 47,
     "metadata": {},
     "output_type": "execute_result"
    }
   ],
   "source": [
    "df = pd.read_csv(\"twcs.csv\")\n",
    "df"
   ]
  },
  {
   "cell_type": "code",
   "execution_count": 48,
   "id": "e555c3f7",
   "metadata": {},
   "outputs": [
    {
     "data": {
      "text/plain": [
       "tweet_id                         0\n",
       "author_id                        0\n",
       "inbound                          0\n",
       "created_at                       0\n",
       "text                             0\n",
       "response_tweet_id          1040629\n",
       "in_response_to_tweet_id     794335\n",
       "dtype: int64"
      ]
     },
     "execution_count": 48,
     "metadata": {},
     "output_type": "execute_result"
    }
   ],
   "source": [
    "df.isnull().sum()"
   ]
  },
  {
   "cell_type": "markdown",
   "id": "a808d55b",
   "metadata": {},
   "source": [
    "Below are the Tweets tweet by Company"
   ]
  },
  {
   "cell_type": "code",
   "execution_count": 49,
   "id": "06d49d96",
   "metadata": {},
   "outputs": [
    {
     "data": {
      "text/html": [
       "<div>\n",
       "<style scoped>\n",
       "    .dataframe tbody tr th:only-of-type {\n",
       "        vertical-align: middle;\n",
       "    }\n",
       "\n",
       "    .dataframe tbody tr th {\n",
       "        vertical-align: top;\n",
       "    }\n",
       "\n",
       "    .dataframe thead th {\n",
       "        text-align: right;\n",
       "    }\n",
       "</style>\n",
       "<table border=\"1\" class=\"dataframe\">\n",
       "  <thead>\n",
       "    <tr style=\"text-align: right;\">\n",
       "      <th></th>\n",
       "      <th>tweet_id</th>\n",
       "      <th>author_id</th>\n",
       "      <th>inbound</th>\n",
       "      <th>created_at</th>\n",
       "      <th>text</th>\n",
       "      <th>response_tweet_id</th>\n",
       "      <th>in_response_to_tweet_id</th>\n",
       "    </tr>\n",
       "  </thead>\n",
       "  <tbody>\n",
       "    <tr>\n",
       "      <th>0</th>\n",
       "      <td>1</td>\n",
       "      <td>sprintcare</td>\n",
       "      <td>False</td>\n",
       "      <td>Tue Oct 31 22:10:47 +0000 2017</td>\n",
       "      <td>@115712 I understand. I would like to assist y...</td>\n",
       "      <td>2</td>\n",
       "      <td>3.0</td>\n",
       "    </tr>\n",
       "    <tr>\n",
       "      <th>3</th>\n",
       "      <td>4</td>\n",
       "      <td>sprintcare</td>\n",
       "      <td>False</td>\n",
       "      <td>Tue Oct 31 21:54:49 +0000 2017</td>\n",
       "      <td>@115712 Please send us a Private Message so th...</td>\n",
       "      <td>3</td>\n",
       "      <td>5.0</td>\n",
       "    </tr>\n",
       "    <tr>\n",
       "      <th>5</th>\n",
       "      <td>6</td>\n",
       "      <td>sprintcare</td>\n",
       "      <td>False</td>\n",
       "      <td>Tue Oct 31 21:46:24 +0000 2017</td>\n",
       "      <td>@115712 Can you please send us a private messa...</td>\n",
       "      <td>5,7</td>\n",
       "      <td>8.0</td>\n",
       "    </tr>\n",
       "    <tr>\n",
       "      <th>7</th>\n",
       "      <td>11</td>\n",
       "      <td>sprintcare</td>\n",
       "      <td>False</td>\n",
       "      <td>Tue Oct 31 22:10:35 +0000 2017</td>\n",
       "      <td>@115713 This is saddening to hear. Please shoo...</td>\n",
       "      <td>NaN</td>\n",
       "      <td>12.0</td>\n",
       "    </tr>\n",
       "    <tr>\n",
       "      <th>9</th>\n",
       "      <td>15</td>\n",
       "      <td>sprintcare</td>\n",
       "      <td>False</td>\n",
       "      <td>Tue Oct 31 20:03:31 +0000 2017</td>\n",
       "      <td>@115713 We understand your concerns and we'd l...</td>\n",
       "      <td>12</td>\n",
       "      <td>16.0</td>\n",
       "    </tr>\n",
       "    <tr>\n",
       "      <th>...</th>\n",
       "      <td>...</td>\n",
       "      <td>...</td>\n",
       "      <td>...</td>\n",
       "      <td>...</td>\n",
       "      <td>...</td>\n",
       "      <td>...</td>\n",
       "      <td>...</td>\n",
       "    </tr>\n",
       "    <tr>\n",
       "      <th>2811764</th>\n",
       "      <td>2987943</td>\n",
       "      <td>AirAsiaSupport</td>\n",
       "      <td>False</td>\n",
       "      <td>Wed Nov 22 07:54:57 +0000 2017</td>\n",
       "      <td>@823868 Sorry but kindly try to clear browser,...</td>\n",
       "      <td>NaN</td>\n",
       "      <td>2987944.0</td>\n",
       "    </tr>\n",
       "    <tr>\n",
       "      <th>2811766</th>\n",
       "      <td>139628</td>\n",
       "      <td>ArgosHelpers</td>\n",
       "      <td>False</td>\n",
       "      <td>Wed Nov 22 08:03:26 +0000 2017</td>\n",
       "      <td>@134664 Can you Dm us your order number and we...</td>\n",
       "      <td>NaN</td>\n",
       "      <td>139627.0</td>\n",
       "    </tr>\n",
       "    <tr>\n",
       "      <th>2811767</th>\n",
       "      <td>2987945</td>\n",
       "      <td>VirginTrains</td>\n",
       "      <td>False</td>\n",
       "      <td>Wed Nov 22 08:27:34 +0000 2017</td>\n",
       "      <td>@524544 That's a Peak service. The 09:56 is th...</td>\n",
       "      <td>NaN</td>\n",
       "      <td>2987946.0</td>\n",
       "    </tr>\n",
       "    <tr>\n",
       "      <th>2811769</th>\n",
       "      <td>2987947</td>\n",
       "      <td>sprintcare</td>\n",
       "      <td>False</td>\n",
       "      <td>Wed Nov 22 08:43:51 +0000 2017</td>\n",
       "      <td>@823869 Hey, we'd be happy to look into this f...</td>\n",
       "      <td>NaN</td>\n",
       "      <td>2987948.0</td>\n",
       "    </tr>\n",
       "    <tr>\n",
       "      <th>2811772</th>\n",
       "      <td>2987949</td>\n",
       "      <td>AldiUK</td>\n",
       "      <td>False</td>\n",
       "      <td>Wed Nov 22 08:31:24 +0000 2017</td>\n",
       "      <td>@823870 Sounds delicious, Sarah! 😋 https://t.c...</td>\n",
       "      <td>NaN</td>\n",
       "      <td>2987950.0</td>\n",
       "    </tr>\n",
       "  </tbody>\n",
       "</table>\n",
       "<p>1273931 rows × 7 columns</p>\n",
       "</div>"
      ],
      "text/plain": [
       "         tweet_id       author_id  inbound                      created_at  \\\n",
       "0               1      sprintcare    False  Tue Oct 31 22:10:47 +0000 2017   \n",
       "3               4      sprintcare    False  Tue Oct 31 21:54:49 +0000 2017   \n",
       "5               6      sprintcare    False  Tue Oct 31 21:46:24 +0000 2017   \n",
       "7              11      sprintcare    False  Tue Oct 31 22:10:35 +0000 2017   \n",
       "9              15      sprintcare    False  Tue Oct 31 20:03:31 +0000 2017   \n",
       "...           ...             ...      ...                             ...   \n",
       "2811764   2987943  AirAsiaSupport    False  Wed Nov 22 07:54:57 +0000 2017   \n",
       "2811766    139628    ArgosHelpers    False  Wed Nov 22 08:03:26 +0000 2017   \n",
       "2811767   2987945    VirginTrains    False  Wed Nov 22 08:27:34 +0000 2017   \n",
       "2811769   2987947      sprintcare    False  Wed Nov 22 08:43:51 +0000 2017   \n",
       "2811772   2987949          AldiUK    False  Wed Nov 22 08:31:24 +0000 2017   \n",
       "\n",
       "                                                      text response_tweet_id  \\\n",
       "0        @115712 I understand. I would like to assist y...                 2   \n",
       "3        @115712 Please send us a Private Message so th...                 3   \n",
       "5        @115712 Can you please send us a private messa...               5,7   \n",
       "7        @115713 This is saddening to hear. Please shoo...               NaN   \n",
       "9        @115713 We understand your concerns and we'd l...                12   \n",
       "...                                                    ...               ...   \n",
       "2811764  @823868 Sorry but kindly try to clear browser,...               NaN   \n",
       "2811766  @134664 Can you Dm us your order number and we...               NaN   \n",
       "2811767  @524544 That's a Peak service. The 09:56 is th...               NaN   \n",
       "2811769  @823869 Hey, we'd be happy to look into this f...               NaN   \n",
       "2811772  @823870 Sounds delicious, Sarah! 😋 https://t.c...               NaN   \n",
       "\n",
       "         in_response_to_tweet_id  \n",
       "0                            3.0  \n",
       "3                            5.0  \n",
       "5                            8.0  \n",
       "7                           12.0  \n",
       "9                           16.0  \n",
       "...                          ...  \n",
       "2811764                2987944.0  \n",
       "2811766                 139627.0  \n",
       "2811767                2987946.0  \n",
       "2811769                2987948.0  \n",
       "2811772                2987950.0  \n",
       "\n",
       "[1273931 rows x 7 columns]"
      ]
     },
     "execution_count": 49,
     "metadata": {},
     "output_type": "execute_result"
    }
   ],
   "source": [
    "df_company = df[df['inbound'] == False]\n",
    "df_company\n"
   ]
  },
  {
   "cell_type": "markdown",
   "id": "bec3a7b0",
   "metadata": {},
   "source": [
    "Below are the Tweets tweet by Users.\n",
    "So, I am going to use this dataset to build my model for company name prediction"
   ]
  },
  {
   "cell_type": "code",
   "execution_count": 51,
   "id": "88753607",
   "metadata": {},
   "outputs": [
    {
     "data": {
      "text/html": [
       "<div>\n",
       "<style scoped>\n",
       "    .dataframe tbody tr th:only-of-type {\n",
       "        vertical-align: middle;\n",
       "    }\n",
       "\n",
       "    .dataframe tbody tr th {\n",
       "        vertical-align: top;\n",
       "    }\n",
       "\n",
       "    .dataframe thead th {\n",
       "        text-align: right;\n",
       "    }\n",
       "</style>\n",
       "<table border=\"1\" class=\"dataframe\">\n",
       "  <thead>\n",
       "    <tr style=\"text-align: right;\">\n",
       "      <th></th>\n",
       "      <th>tweet_id</th>\n",
       "      <th>author_id</th>\n",
       "      <th>inbound</th>\n",
       "      <th>created_at</th>\n",
       "      <th>text</th>\n",
       "      <th>response_tweet_id</th>\n",
       "      <th>in_response_to_tweet_id</th>\n",
       "    </tr>\n",
       "  </thead>\n",
       "  <tbody>\n",
       "    <tr>\n",
       "      <th>1</th>\n",
       "      <td>2</td>\n",
       "      <td>115712</td>\n",
       "      <td>True</td>\n",
       "      <td>Tue Oct 31 22:11:45 +0000 2017</td>\n",
       "      <td>@sprintcare and how do you propose we do that</td>\n",
       "      <td>NaN</td>\n",
       "      <td>1.0</td>\n",
       "    </tr>\n",
       "    <tr>\n",
       "      <th>2</th>\n",
       "      <td>3</td>\n",
       "      <td>115712</td>\n",
       "      <td>True</td>\n",
       "      <td>Tue Oct 31 22:08:27 +0000 2017</td>\n",
       "      <td>@sprintcare I have sent several private messag...</td>\n",
       "      <td>1</td>\n",
       "      <td>4.0</td>\n",
       "    </tr>\n",
       "    <tr>\n",
       "      <th>4</th>\n",
       "      <td>5</td>\n",
       "      <td>115712</td>\n",
       "      <td>True</td>\n",
       "      <td>Tue Oct 31 21:49:35 +0000 2017</td>\n",
       "      <td>@sprintcare I did.</td>\n",
       "      <td>4</td>\n",
       "      <td>6.0</td>\n",
       "    </tr>\n",
       "    <tr>\n",
       "      <th>6</th>\n",
       "      <td>8</td>\n",
       "      <td>115712</td>\n",
       "      <td>True</td>\n",
       "      <td>Tue Oct 31 21:45:10 +0000 2017</td>\n",
       "      <td>@sprintcare is the worst customer service</td>\n",
       "      <td>9,6,10</td>\n",
       "      <td>NaN</td>\n",
       "    </tr>\n",
       "    <tr>\n",
       "      <th>8</th>\n",
       "      <td>12</td>\n",
       "      <td>115713</td>\n",
       "      <td>True</td>\n",
       "      <td>Tue Oct 31 22:04:47 +0000 2017</td>\n",
       "      <td>@sprintcare You gonna magically change your co...</td>\n",
       "      <td>11,13,14</td>\n",
       "      <td>15.0</td>\n",
       "    </tr>\n",
       "    <tr>\n",
       "      <th>...</th>\n",
       "      <td>...</td>\n",
       "      <td>...</td>\n",
       "      <td>...</td>\n",
       "      <td>...</td>\n",
       "      <td>...</td>\n",
       "      <td>...</td>\n",
       "      <td>...</td>\n",
       "    </tr>\n",
       "    <tr>\n",
       "      <th>2811765</th>\n",
       "      <td>2987944</td>\n",
       "      <td>823868</td>\n",
       "      <td>True</td>\n",
       "      <td>Wed Nov 22 07:43:36 +0000 2017</td>\n",
       "      <td>@AirAsiaSupport \\n\\nI am unable to do web chec...</td>\n",
       "      <td>2987943</td>\n",
       "      <td>NaN</td>\n",
       "    </tr>\n",
       "    <tr>\n",
       "      <th>2811768</th>\n",
       "      <td>2987946</td>\n",
       "      <td>524544</td>\n",
       "      <td>True</td>\n",
       "      <td>Wed Nov 22 08:25:48 +0000 2017</td>\n",
       "      <td>@VirginTrains Hope you are well? Does the 9.30...</td>\n",
       "      <td>2987945</td>\n",
       "      <td>NaN</td>\n",
       "    </tr>\n",
       "    <tr>\n",
       "      <th>2811770</th>\n",
       "      <td>2987948</td>\n",
       "      <td>823869</td>\n",
       "      <td>True</td>\n",
       "      <td>Wed Nov 22 08:35:16 +0000 2017</td>\n",
       "      <td>@115714 wtf!? I’ve been having really shitty s...</td>\n",
       "      <td>2987947</td>\n",
       "      <td>NaN</td>\n",
       "    </tr>\n",
       "    <tr>\n",
       "      <th>2811771</th>\n",
       "      <td>2812240</td>\n",
       "      <td>121673</td>\n",
       "      <td>True</td>\n",
       "      <td>Thu Nov 23 04:13:07 +0000 2017</td>\n",
       "      <td>@143549 @sprintcare You have to go to https://...</td>\n",
       "      <td>NaN</td>\n",
       "      <td>2812239.0</td>\n",
       "    </tr>\n",
       "    <tr>\n",
       "      <th>2811773</th>\n",
       "      <td>2987950</td>\n",
       "      <td>823870</td>\n",
       "      <td>True</td>\n",
       "      <td>Tue Nov 21 22:01:04 +0000 2017</td>\n",
       "      <td>@AldiUK  warm sloe gin mince pies with ice cre...</td>\n",
       "      <td>2987951,2987949</td>\n",
       "      <td>NaN</td>\n",
       "    </tr>\n",
       "  </tbody>\n",
       "</table>\n",
       "<p>1537843 rows × 7 columns</p>\n",
       "</div>"
      ],
      "text/plain": [
       "         tweet_id author_id  inbound                      created_at  \\\n",
       "1               2    115712     True  Tue Oct 31 22:11:45 +0000 2017   \n",
       "2               3    115712     True  Tue Oct 31 22:08:27 +0000 2017   \n",
       "4               5    115712     True  Tue Oct 31 21:49:35 +0000 2017   \n",
       "6               8    115712     True  Tue Oct 31 21:45:10 +0000 2017   \n",
       "8              12    115713     True  Tue Oct 31 22:04:47 +0000 2017   \n",
       "...           ...       ...      ...                             ...   \n",
       "2811765   2987944    823868     True  Wed Nov 22 07:43:36 +0000 2017   \n",
       "2811768   2987946    524544     True  Wed Nov 22 08:25:48 +0000 2017   \n",
       "2811770   2987948    823869     True  Wed Nov 22 08:35:16 +0000 2017   \n",
       "2811771   2812240    121673     True  Thu Nov 23 04:13:07 +0000 2017   \n",
       "2811773   2987950    823870     True  Tue Nov 21 22:01:04 +0000 2017   \n",
       "\n",
       "                                                      text response_tweet_id  \\\n",
       "1            @sprintcare and how do you propose we do that               NaN   \n",
       "2        @sprintcare I have sent several private messag...                 1   \n",
       "4                                       @sprintcare I did.                 4   \n",
       "6                @sprintcare is the worst customer service            9,6,10   \n",
       "8        @sprintcare You gonna magically change your co...          11,13,14   \n",
       "...                                                    ...               ...   \n",
       "2811765  @AirAsiaSupport \\n\\nI am unable to do web chec...           2987943   \n",
       "2811768  @VirginTrains Hope you are well? Does the 9.30...           2987945   \n",
       "2811770  @115714 wtf!? I’ve been having really shitty s...           2987947   \n",
       "2811771  @143549 @sprintcare You have to go to https://...               NaN   \n",
       "2811773  @AldiUK  warm sloe gin mince pies with ice cre...   2987951,2987949   \n",
       "\n",
       "         in_response_to_tweet_id  \n",
       "1                            1.0  \n",
       "2                            4.0  \n",
       "4                            6.0  \n",
       "6                            NaN  \n",
       "8                           15.0  \n",
       "...                          ...  \n",
       "2811765                      NaN  \n",
       "2811768                      NaN  \n",
       "2811770                      NaN  \n",
       "2811771                2812239.0  \n",
       "2811773                      NaN  \n",
       "\n",
       "[1537843 rows x 7 columns]"
      ]
     },
     "execution_count": 51,
     "metadata": {},
     "output_type": "execute_result"
    }
   ],
   "source": [
    "df_tweets = df[df['inbound'] == True]\n",
    "df_tweets"
   ]
  },
  {
   "cell_type": "code",
   "execution_count": 59,
   "id": "ff917876",
   "metadata": {},
   "outputs": [
    {
     "name": "stdout",
     "output_type": "stream",
     "text": [
      "There are total 108 company present in the dataset\n"
     ]
    }
   ],
   "source": [
    "company_name = df_company['author_id'].unique().tolist()\n",
    "print(\"There are total {} company present in the dataset\".format(len(company_name)))"
   ]
  },
  {
   "cell_type": "markdown",
   "id": "ab94b699",
   "metadata": {},
   "source": [
    "lets extract the all names of company present in dataset"
   ]
  },
  {
   "cell_type": "code",
   "execution_count": 60,
   "id": "28dbbb56",
   "metadata": {},
   "outputs": [],
   "source": [
    "final_list = []\n",
    "\n",
    "for name in company_name:\n",
    "    new_name = \"@\"+name\n",
    "    final_list.append(new_name)"
   ]
  },
  {
   "cell_type": "code",
   "execution_count": 61,
   "id": "df7fff35",
   "metadata": {},
   "outputs": [
    {
     "data": {
      "text/plain": [
       "['@sprintcare',\n",
       " '@Ask_Spectrum',\n",
       " '@VerizonSupport',\n",
       " '@ChipotleTweets',\n",
       " '@AskPlayStation',\n",
       " '@marksandspencer',\n",
       " '@MicrosoftHelps',\n",
       " '@ATVIAssist',\n",
       " '@AdobeCare',\n",
       " '@AmazonHelp',\n",
       " '@XboxSupport',\n",
       " '@AirbnbHelp',\n",
       " '@nationalrailenq',\n",
       " '@AirAsiaSupport',\n",
       " '@Morrisons',\n",
       " '@NikeSupport',\n",
       " '@AskAmex',\n",
       " '@McDonalds',\n",
       " '@YahooCare',\n",
       " '@AskLyft',\n",
       " '@UPSHelp',\n",
       " '@Delta',\n",
       " '@AppleSupport',\n",
       " '@Uber_Support',\n",
       " '@Tesco',\n",
       " '@SpotifyCares',\n",
       " '@British_Airways',\n",
       " '@comcastcares',\n",
       " '@AmericanAir',\n",
       " '@TMobileHelp',\n",
       " '@VirginTrains',\n",
       " '@SouthwestAir',\n",
       " '@AskeBay',\n",
       " '@hulu_support',\n",
       " '@GWRHelp',\n",
       " '@sainsburys',\n",
       " '@AskPayPal',\n",
       " '@HPSupport',\n",
       " '@ChaseSupport',\n",
       " '@CoxHelp',\n",
       " '@DropboxSupport',\n",
       " '@VirginAtlantic',\n",
       " '@BofA_Help',\n",
       " '@AzureSupport',\n",
       " '@AlaskaAir',\n",
       " '@ArgosHelpers',\n",
       " '@Postmates_Help',\n",
       " '@AskTarget',\n",
       " '@GoDaddyHelp',\n",
       " '@CenturyLinkHelp',\n",
       " '@AskPapaJohns',\n",
       " '@SW_Help',\n",
       " '@askpanera',\n",
       " '@Walmart',\n",
       " '@USCellularCares',\n",
       " '@AsurionCares',\n",
       " '@GloCare',\n",
       " '@idea_cares',\n",
       " '@DoorDash_Help',\n",
       " '@NeweggService',\n",
       " '@VirginAmerica',\n",
       " '@Safaricom_Care',\n",
       " '@DunkinDonuts',\n",
       " '@Ask_WellsFargo',\n",
       " '@O2',\n",
       " '@TfL',\n",
       " '@asksalesforce',\n",
       " '@airtel_care',\n",
       " '@Kimpton',\n",
       " '@AskCiti',\n",
       " '@IHGService',\n",
       " '@LondonMidland',\n",
       " '@JetBlue',\n",
       " '@BoostCare',\n",
       " '@JackBox',\n",
       " '@AldiUK',\n",
       " '@HiltonHelp',\n",
       " '@GooglePlayMusic',\n",
       " '@OfficeSupport',\n",
       " '@KFC_UKI_Help',\n",
       " '@DellCares',\n",
       " '@TwitterSupport',\n",
       " '@GreggsOfficial',\n",
       " '@ATT',\n",
       " '@TacoBellTeam',\n",
       " '@AskRBC',\n",
       " '@ArbysCares',\n",
       " '@NortonSupport',\n",
       " '@AskSeagate',\n",
       " '@sizehelpteam',\n",
       " '@SCsupport',\n",
       " '@MOO',\n",
       " '@AskDSC',\n",
       " '@AskVirginMoney',\n",
       " '@AskRobinhood',\n",
       " '@MTNC_Care',\n",
       " '@AWSSupport',\n",
       " '@VMUcare',\n",
       " '@mediatemplehelp',\n",
       " '@AskTigogh',\n",
       " '@PandoraSupport',\n",
       " '@askvisa',\n",
       " '@OPPOCareIN',\n",
       " '@ask_progressive',\n",
       " '@PearsonSupport',\n",
       " '@CarlsJr',\n",
       " '@HotelTonightCX',\n",
       " '@KeyBank_Help']"
      ]
     },
     "execution_count": 61,
     "metadata": {},
     "output_type": "execute_result"
    }
   ],
   "source": [
    "final_list"
   ]
  },
  {
   "cell_type": "markdown",
   "id": "14c1e26f",
   "metadata": {},
   "source": [
    "Below Function will be use to create training Data for Custom NER Model."
   ]
  },
  {
   "cell_type": "code",
   "execution_count": 62,
   "id": "5f249e76",
   "metadata": {},
   "outputs": [],
   "source": [
    "def create_training_data(data, type):\n",
    "    patterns = []\n",
    "    for item in data:\n",
    "        pattern = {\n",
    "                    \"label\": type,\n",
    "                    \"pattern\": item\n",
    "                    }\n",
    "        patterns.append(pattern)\n",
    "    return (patterns)\n",
    "\n",
    "patterns = create_training_data(final_list ,\"Company\")\n"
   ]
  },
  {
   "cell_type": "code",
   "execution_count": 63,
   "id": "46256222",
   "metadata": {},
   "outputs": [
    {
     "data": {
      "text/plain": [
       "[{'label': 'Company', 'pattern': '@sprintcare'},\n",
       " {'label': 'Company', 'pattern': '@Ask_Spectrum'},\n",
       " {'label': 'Company', 'pattern': '@VerizonSupport'},\n",
       " {'label': 'Company', 'pattern': '@ChipotleTweets'},\n",
       " {'label': 'Company', 'pattern': '@AskPlayStation'},\n",
       " {'label': 'Company', 'pattern': '@marksandspencer'},\n",
       " {'label': 'Company', 'pattern': '@MicrosoftHelps'},\n",
       " {'label': 'Company', 'pattern': '@ATVIAssist'},\n",
       " {'label': 'Company', 'pattern': '@AdobeCare'},\n",
       " {'label': 'Company', 'pattern': '@AmazonHelp'},\n",
       " {'label': 'Company', 'pattern': '@XboxSupport'},\n",
       " {'label': 'Company', 'pattern': '@AirbnbHelp'},\n",
       " {'label': 'Company', 'pattern': '@nationalrailenq'},\n",
       " {'label': 'Company', 'pattern': '@AirAsiaSupport'},\n",
       " {'label': 'Company', 'pattern': '@Morrisons'},\n",
       " {'label': 'Company', 'pattern': '@NikeSupport'},\n",
       " {'label': 'Company', 'pattern': '@AskAmex'},\n",
       " {'label': 'Company', 'pattern': '@McDonalds'},\n",
       " {'label': 'Company', 'pattern': '@YahooCare'},\n",
       " {'label': 'Company', 'pattern': '@AskLyft'},\n",
       " {'label': 'Company', 'pattern': '@UPSHelp'},\n",
       " {'label': 'Company', 'pattern': '@Delta'},\n",
       " {'label': 'Company', 'pattern': '@AppleSupport'},\n",
       " {'label': 'Company', 'pattern': '@Uber_Support'},\n",
       " {'label': 'Company', 'pattern': '@Tesco'},\n",
       " {'label': 'Company', 'pattern': '@SpotifyCares'},\n",
       " {'label': 'Company', 'pattern': '@British_Airways'},\n",
       " {'label': 'Company', 'pattern': '@comcastcares'},\n",
       " {'label': 'Company', 'pattern': '@AmericanAir'},\n",
       " {'label': 'Company', 'pattern': '@TMobileHelp'},\n",
       " {'label': 'Company', 'pattern': '@VirginTrains'},\n",
       " {'label': 'Company', 'pattern': '@SouthwestAir'},\n",
       " {'label': 'Company', 'pattern': '@AskeBay'},\n",
       " {'label': 'Company', 'pattern': '@hulu_support'},\n",
       " {'label': 'Company', 'pattern': '@GWRHelp'},\n",
       " {'label': 'Company', 'pattern': '@sainsburys'},\n",
       " {'label': 'Company', 'pattern': '@AskPayPal'},\n",
       " {'label': 'Company', 'pattern': '@HPSupport'},\n",
       " {'label': 'Company', 'pattern': '@ChaseSupport'},\n",
       " {'label': 'Company', 'pattern': '@CoxHelp'},\n",
       " {'label': 'Company', 'pattern': '@DropboxSupport'},\n",
       " {'label': 'Company', 'pattern': '@VirginAtlantic'},\n",
       " {'label': 'Company', 'pattern': '@BofA_Help'},\n",
       " {'label': 'Company', 'pattern': '@AzureSupport'},\n",
       " {'label': 'Company', 'pattern': '@AlaskaAir'},\n",
       " {'label': 'Company', 'pattern': '@ArgosHelpers'},\n",
       " {'label': 'Company', 'pattern': '@Postmates_Help'},\n",
       " {'label': 'Company', 'pattern': '@AskTarget'},\n",
       " {'label': 'Company', 'pattern': '@GoDaddyHelp'},\n",
       " {'label': 'Company', 'pattern': '@CenturyLinkHelp'},\n",
       " {'label': 'Company', 'pattern': '@AskPapaJohns'},\n",
       " {'label': 'Company', 'pattern': '@SW_Help'},\n",
       " {'label': 'Company', 'pattern': '@askpanera'},\n",
       " {'label': 'Company', 'pattern': '@Walmart'},\n",
       " {'label': 'Company', 'pattern': '@USCellularCares'},\n",
       " {'label': 'Company', 'pattern': '@AsurionCares'},\n",
       " {'label': 'Company', 'pattern': '@GloCare'},\n",
       " {'label': 'Company', 'pattern': '@idea_cares'},\n",
       " {'label': 'Company', 'pattern': '@DoorDash_Help'},\n",
       " {'label': 'Company', 'pattern': '@NeweggService'},\n",
       " {'label': 'Company', 'pattern': '@VirginAmerica'},\n",
       " {'label': 'Company', 'pattern': '@Safaricom_Care'},\n",
       " {'label': 'Company', 'pattern': '@DunkinDonuts'},\n",
       " {'label': 'Company', 'pattern': '@Ask_WellsFargo'},\n",
       " {'label': 'Company', 'pattern': '@O2'},\n",
       " {'label': 'Company', 'pattern': '@TfL'},\n",
       " {'label': 'Company', 'pattern': '@asksalesforce'},\n",
       " {'label': 'Company', 'pattern': '@airtel_care'},\n",
       " {'label': 'Company', 'pattern': '@Kimpton'},\n",
       " {'label': 'Company', 'pattern': '@AskCiti'},\n",
       " {'label': 'Company', 'pattern': '@IHGService'},\n",
       " {'label': 'Company', 'pattern': '@LondonMidland'},\n",
       " {'label': 'Company', 'pattern': '@JetBlue'},\n",
       " {'label': 'Company', 'pattern': '@BoostCare'},\n",
       " {'label': 'Company', 'pattern': '@JackBox'},\n",
       " {'label': 'Company', 'pattern': '@AldiUK'},\n",
       " {'label': 'Company', 'pattern': '@HiltonHelp'},\n",
       " {'label': 'Company', 'pattern': '@GooglePlayMusic'},\n",
       " {'label': 'Company', 'pattern': '@OfficeSupport'},\n",
       " {'label': 'Company', 'pattern': '@KFC_UKI_Help'},\n",
       " {'label': 'Company', 'pattern': '@DellCares'},\n",
       " {'label': 'Company', 'pattern': '@TwitterSupport'},\n",
       " {'label': 'Company', 'pattern': '@GreggsOfficial'},\n",
       " {'label': 'Company', 'pattern': '@ATT'},\n",
       " {'label': 'Company', 'pattern': '@TacoBellTeam'},\n",
       " {'label': 'Company', 'pattern': '@AskRBC'},\n",
       " {'label': 'Company', 'pattern': '@ArbysCares'},\n",
       " {'label': 'Company', 'pattern': '@NortonSupport'},\n",
       " {'label': 'Company', 'pattern': '@AskSeagate'},\n",
       " {'label': 'Company', 'pattern': '@sizehelpteam'},\n",
       " {'label': 'Company', 'pattern': '@SCsupport'},\n",
       " {'label': 'Company', 'pattern': '@MOO'},\n",
       " {'label': 'Company', 'pattern': '@AskDSC'},\n",
       " {'label': 'Company', 'pattern': '@AskVirginMoney'},\n",
       " {'label': 'Company', 'pattern': '@AskRobinhood'},\n",
       " {'label': 'Company', 'pattern': '@MTNC_Care'},\n",
       " {'label': 'Company', 'pattern': '@AWSSupport'},\n",
       " {'label': 'Company', 'pattern': '@VMUcare'},\n",
       " {'label': 'Company', 'pattern': '@mediatemplehelp'},\n",
       " {'label': 'Company', 'pattern': '@AskTigogh'},\n",
       " {'label': 'Company', 'pattern': '@PandoraSupport'},\n",
       " {'label': 'Company', 'pattern': '@askvisa'},\n",
       " {'label': 'Company', 'pattern': '@OPPOCareIN'},\n",
       " {'label': 'Company', 'pattern': '@ask_progressive'},\n",
       " {'label': 'Company', 'pattern': '@PearsonSupport'},\n",
       " {'label': 'Company', 'pattern': '@CarlsJr'},\n",
       " {'label': 'Company', 'pattern': '@HotelTonightCX'},\n",
       " {'label': 'Company', 'pattern': '@KeyBank_Help'}]"
      ]
     },
     "execution_count": 63,
     "metadata": {},
     "output_type": "execute_result"
    }
   ],
   "source": [
    "patterns"
   ]
  },
  {
   "cell_type": "markdown",
   "id": "4267a0b3",
   "metadata": {},
   "source": [
    "lets build our Custom NER model using Spacy Library."
   ]
  },
  {
   "cell_type": "code",
   "execution_count": 64,
   "id": "b1004310",
   "metadata": {},
   "outputs": [],
   "source": [
    "def generate_rules(patterns):\n",
    "    nlp = English()\n",
    "    ruler = nlp.add_pipe(\"entity_ruler\")\n",
    "    ruler.add_patterns(patterns)\n",
    "    nlp.to_disk(\"hp_ner\")\n",
    "\n",
    "generate_rules(patterns)"
   ]
  },
  {
   "cell_type": "code",
   "execution_count": 65,
   "id": "03728976",
   "metadata": {},
   "outputs": [],
   "source": [
    "nlp = spacy.load(\"hp_ner\")"
   ]
  },
  {
   "cell_type": "markdown",
   "id": "3a5990c5",
   "metadata": {},
   "source": [
    "using below code we will extract the company username present in the tweet that extracted username will be act as a target label, we have also extracted the index as well bcoz there are certain tweets where user did't mentioned the company name"
   ]
  },
  {
   "cell_type": "code",
   "execution_count": 70,
   "id": "9e13ef3c",
   "metadata": {},
   "outputs": [
    {
     "name": "stderr",
     "output_type": "stream",
     "text": [
      "1537843it [07:09, 3584.37it/s]\n"
     ]
    }
   ],
   "source": [
    "target = []\n",
    "index = []\n",
    "\n",
    "\n",
    "for text, i in tqdm(zip(df_tweets['text'], df_tweets.index)):\n",
    "    doc = nlp(text)\n",
    "    \n",
    "    for ent in doc.ents:\n",
    "        ans = ent.text\n",
    "        target.append(ans)\n",
    "        index.append(i)\n",
    "        \n",
    "        \n",
    "        \n",
    "    \n",
    "    "
   ]
  },
  {
   "cell_type": "code",
   "execution_count": 72,
   "id": "c011b773",
   "metadata": {},
   "outputs": [
    {
     "data": {
      "text/html": [
       "<div>\n",
       "<style scoped>\n",
       "    .dataframe tbody tr th:only-of-type {\n",
       "        vertical-align: middle;\n",
       "    }\n",
       "\n",
       "    .dataframe tbody tr th {\n",
       "        vertical-align: top;\n",
       "    }\n",
       "\n",
       "    .dataframe thead th {\n",
       "        text-align: right;\n",
       "    }\n",
       "</style>\n",
       "<table border=\"1\" class=\"dataframe\">\n",
       "  <thead>\n",
       "    <tr style=\"text-align: right;\">\n",
       "      <th></th>\n",
       "      <th>tweet_id</th>\n",
       "      <th>author_id</th>\n",
       "      <th>inbound</th>\n",
       "      <th>created_at</th>\n",
       "      <th>text</th>\n",
       "      <th>response_tweet_id</th>\n",
       "      <th>in_response_to_tweet_id</th>\n",
       "    </tr>\n",
       "  </thead>\n",
       "  <tbody>\n",
       "    <tr>\n",
       "      <th>1</th>\n",
       "      <td>2</td>\n",
       "      <td>115712</td>\n",
       "      <td>True</td>\n",
       "      <td>Tue Oct 31 22:11:45 +0000 2017</td>\n",
       "      <td>@sprintcare and how do you propose we do that</td>\n",
       "      <td>NaN</td>\n",
       "      <td>1.0</td>\n",
       "    </tr>\n",
       "    <tr>\n",
       "      <th>2</th>\n",
       "      <td>3</td>\n",
       "      <td>115712</td>\n",
       "      <td>True</td>\n",
       "      <td>Tue Oct 31 22:08:27 +0000 2017</td>\n",
       "      <td>@sprintcare I have sent several private messag...</td>\n",
       "      <td>1</td>\n",
       "      <td>4.0</td>\n",
       "    </tr>\n",
       "    <tr>\n",
       "      <th>4</th>\n",
       "      <td>5</td>\n",
       "      <td>115712</td>\n",
       "      <td>True</td>\n",
       "      <td>Tue Oct 31 21:49:35 +0000 2017</td>\n",
       "      <td>@sprintcare I did.</td>\n",
       "      <td>4</td>\n",
       "      <td>6.0</td>\n",
       "    </tr>\n",
       "    <tr>\n",
       "      <th>6</th>\n",
       "      <td>8</td>\n",
       "      <td>115712</td>\n",
       "      <td>True</td>\n",
       "      <td>Tue Oct 31 21:45:10 +0000 2017</td>\n",
       "      <td>@sprintcare is the worst customer service</td>\n",
       "      <td>9,6,10</td>\n",
       "      <td>NaN</td>\n",
       "    </tr>\n",
       "    <tr>\n",
       "      <th>8</th>\n",
       "      <td>12</td>\n",
       "      <td>115713</td>\n",
       "      <td>True</td>\n",
       "      <td>Tue Oct 31 22:04:47 +0000 2017</td>\n",
       "      <td>@sprintcare You gonna magically change your co...</td>\n",
       "      <td>11,13,14</td>\n",
       "      <td>15.0</td>\n",
       "    </tr>\n",
       "    <tr>\n",
       "      <th>...</th>\n",
       "      <td>...</td>\n",
       "      <td>...</td>\n",
       "      <td>...</td>\n",
       "      <td>...</td>\n",
       "      <td>...</td>\n",
       "      <td>...</td>\n",
       "      <td>...</td>\n",
       "    </tr>\n",
       "    <tr>\n",
       "      <th>2811763</th>\n",
       "      <td>2987942</td>\n",
       "      <td>823867</td>\n",
       "      <td>True</td>\n",
       "      <td>Wed Nov 22 07:30:39 +0000 2017</td>\n",
       "      <td>Hai @AirAsiaSupport #asking how many days need...</td>\n",
       "      <td>2987941</td>\n",
       "      <td>NaN</td>\n",
       "    </tr>\n",
       "    <tr>\n",
       "      <th>2811765</th>\n",
       "      <td>2987944</td>\n",
       "      <td>823868</td>\n",
       "      <td>True</td>\n",
       "      <td>Wed Nov 22 07:43:36 +0000 2017</td>\n",
       "      <td>@AirAsiaSupport \\n\\nI am unable to do web chec...</td>\n",
       "      <td>2987943</td>\n",
       "      <td>NaN</td>\n",
       "    </tr>\n",
       "    <tr>\n",
       "      <th>2811768</th>\n",
       "      <td>2987946</td>\n",
       "      <td>524544</td>\n",
       "      <td>True</td>\n",
       "      <td>Wed Nov 22 08:25:48 +0000 2017</td>\n",
       "      <td>@VirginTrains Hope you are well? Does the 9.30...</td>\n",
       "      <td>2987945</td>\n",
       "      <td>NaN</td>\n",
       "    </tr>\n",
       "    <tr>\n",
       "      <th>2811771</th>\n",
       "      <td>2812240</td>\n",
       "      <td>121673</td>\n",
       "      <td>True</td>\n",
       "      <td>Thu Nov 23 04:13:07 +0000 2017</td>\n",
       "      <td>@143549 @sprintcare You have to go to https://...</td>\n",
       "      <td>NaN</td>\n",
       "      <td>2812239.0</td>\n",
       "    </tr>\n",
       "    <tr>\n",
       "      <th>2811773</th>\n",
       "      <td>2987950</td>\n",
       "      <td>823870</td>\n",
       "      <td>True</td>\n",
       "      <td>Tue Nov 21 22:01:04 +0000 2017</td>\n",
       "      <td>@AldiUK  warm sloe gin mince pies with ice cre...</td>\n",
       "      <td>2987951,2987949</td>\n",
       "      <td>NaN</td>\n",
       "    </tr>\n",
       "  </tbody>\n",
       "</table>\n",
       "<p>1176988 rows × 7 columns</p>\n",
       "</div>"
      ],
      "text/plain": [
       "         tweet_id author_id  inbound                      created_at  \\\n",
       "1               2    115712     True  Tue Oct 31 22:11:45 +0000 2017   \n",
       "2               3    115712     True  Tue Oct 31 22:08:27 +0000 2017   \n",
       "4               5    115712     True  Tue Oct 31 21:49:35 +0000 2017   \n",
       "6               8    115712     True  Tue Oct 31 21:45:10 +0000 2017   \n",
       "8              12    115713     True  Tue Oct 31 22:04:47 +0000 2017   \n",
       "...           ...       ...      ...                             ...   \n",
       "2811763   2987942    823867     True  Wed Nov 22 07:30:39 +0000 2017   \n",
       "2811765   2987944    823868     True  Wed Nov 22 07:43:36 +0000 2017   \n",
       "2811768   2987946    524544     True  Wed Nov 22 08:25:48 +0000 2017   \n",
       "2811771   2812240    121673     True  Thu Nov 23 04:13:07 +0000 2017   \n",
       "2811773   2987950    823870     True  Tue Nov 21 22:01:04 +0000 2017   \n",
       "\n",
       "                                                      text response_tweet_id  \\\n",
       "1            @sprintcare and how do you propose we do that               NaN   \n",
       "2        @sprintcare I have sent several private messag...                 1   \n",
       "4                                       @sprintcare I did.                 4   \n",
       "6                @sprintcare is the worst customer service            9,6,10   \n",
       "8        @sprintcare You gonna magically change your co...          11,13,14   \n",
       "...                                                    ...               ...   \n",
       "2811763  Hai @AirAsiaSupport #asking how many days need...           2987941   \n",
       "2811765  @AirAsiaSupport \\n\\nI am unable to do web chec...           2987943   \n",
       "2811768  @VirginTrains Hope you are well? Does the 9.30...           2987945   \n",
       "2811771  @143549 @sprintcare You have to go to https://...               NaN   \n",
       "2811773  @AldiUK  warm sloe gin mince pies with ice cre...   2987951,2987949   \n",
       "\n",
       "         in_response_to_tweet_id  \n",
       "1                            1.0  \n",
       "2                            4.0  \n",
       "4                            6.0  \n",
       "6                            NaN  \n",
       "8                           15.0  \n",
       "...                          ...  \n",
       "2811763                      NaN  \n",
       "2811765                      NaN  \n",
       "2811768                      NaN  \n",
       "2811771                2812239.0  \n",
       "2811773                      NaN  \n",
       "\n",
       "[1176988 rows x 7 columns]"
      ]
     },
     "execution_count": 72,
     "metadata": {},
     "output_type": "execute_result"
    }
   ],
   "source": [
    "df_final = df_tweets.loc[index]\n",
    "df_final"
   ]
  },
  {
   "cell_type": "code",
   "execution_count": 73,
   "id": "ca1e239e",
   "metadata": {},
   "outputs": [],
   "source": [
    "df_final['Organization'] = target"
   ]
  },
  {
   "cell_type": "code",
   "execution_count": 74,
   "id": "79db6162",
   "metadata": {},
   "outputs": [
    {
     "data": {
      "text/html": [
       "<div>\n",
       "<style scoped>\n",
       "    .dataframe tbody tr th:only-of-type {\n",
       "        vertical-align: middle;\n",
       "    }\n",
       "\n",
       "    .dataframe tbody tr th {\n",
       "        vertical-align: top;\n",
       "    }\n",
       "\n",
       "    .dataframe thead th {\n",
       "        text-align: right;\n",
       "    }\n",
       "</style>\n",
       "<table border=\"1\" class=\"dataframe\">\n",
       "  <thead>\n",
       "    <tr style=\"text-align: right;\">\n",
       "      <th></th>\n",
       "      <th>tweet_id</th>\n",
       "      <th>author_id</th>\n",
       "      <th>inbound</th>\n",
       "      <th>created_at</th>\n",
       "      <th>text</th>\n",
       "      <th>response_tweet_id</th>\n",
       "      <th>in_response_to_tweet_id</th>\n",
       "      <th>Organization</th>\n",
       "    </tr>\n",
       "  </thead>\n",
       "  <tbody>\n",
       "    <tr>\n",
       "      <th>1</th>\n",
       "      <td>2</td>\n",
       "      <td>115712</td>\n",
       "      <td>True</td>\n",
       "      <td>Tue Oct 31 22:11:45 +0000 2017</td>\n",
       "      <td>@sprintcare and how do you propose we do that</td>\n",
       "      <td>NaN</td>\n",
       "      <td>1.0</td>\n",
       "      <td>@sprintcare</td>\n",
       "    </tr>\n",
       "    <tr>\n",
       "      <th>2</th>\n",
       "      <td>3</td>\n",
       "      <td>115712</td>\n",
       "      <td>True</td>\n",
       "      <td>Tue Oct 31 22:08:27 +0000 2017</td>\n",
       "      <td>@sprintcare I have sent several private messag...</td>\n",
       "      <td>1</td>\n",
       "      <td>4.0</td>\n",
       "      <td>@sprintcare</td>\n",
       "    </tr>\n",
       "    <tr>\n",
       "      <th>4</th>\n",
       "      <td>5</td>\n",
       "      <td>115712</td>\n",
       "      <td>True</td>\n",
       "      <td>Tue Oct 31 21:49:35 +0000 2017</td>\n",
       "      <td>@sprintcare I did.</td>\n",
       "      <td>4</td>\n",
       "      <td>6.0</td>\n",
       "      <td>@sprintcare</td>\n",
       "    </tr>\n",
       "    <tr>\n",
       "      <th>6</th>\n",
       "      <td>8</td>\n",
       "      <td>115712</td>\n",
       "      <td>True</td>\n",
       "      <td>Tue Oct 31 21:45:10 +0000 2017</td>\n",
       "      <td>@sprintcare is the worst customer service</td>\n",
       "      <td>9,6,10</td>\n",
       "      <td>NaN</td>\n",
       "      <td>@sprintcare</td>\n",
       "    </tr>\n",
       "    <tr>\n",
       "      <th>8</th>\n",
       "      <td>12</td>\n",
       "      <td>115713</td>\n",
       "      <td>True</td>\n",
       "      <td>Tue Oct 31 22:04:47 +0000 2017</td>\n",
       "      <td>@sprintcare You gonna magically change your co...</td>\n",
       "      <td>11,13,14</td>\n",
       "      <td>15.0</td>\n",
       "      <td>@sprintcare</td>\n",
       "    </tr>\n",
       "    <tr>\n",
       "      <th>...</th>\n",
       "      <td>...</td>\n",
       "      <td>...</td>\n",
       "      <td>...</td>\n",
       "      <td>...</td>\n",
       "      <td>...</td>\n",
       "      <td>...</td>\n",
       "      <td>...</td>\n",
       "      <td>...</td>\n",
       "    </tr>\n",
       "    <tr>\n",
       "      <th>2811763</th>\n",
       "      <td>2987942</td>\n",
       "      <td>823867</td>\n",
       "      <td>True</td>\n",
       "      <td>Wed Nov 22 07:30:39 +0000 2017</td>\n",
       "      <td>Hai @AirAsiaSupport #asking how many days need...</td>\n",
       "      <td>2987941</td>\n",
       "      <td>NaN</td>\n",
       "      <td>@AirAsiaSupport</td>\n",
       "    </tr>\n",
       "    <tr>\n",
       "      <th>2811765</th>\n",
       "      <td>2987944</td>\n",
       "      <td>823868</td>\n",
       "      <td>True</td>\n",
       "      <td>Wed Nov 22 07:43:36 +0000 2017</td>\n",
       "      <td>@AirAsiaSupport \\n\\nI am unable to do web chec...</td>\n",
       "      <td>2987943</td>\n",
       "      <td>NaN</td>\n",
       "      <td>@AirAsiaSupport</td>\n",
       "    </tr>\n",
       "    <tr>\n",
       "      <th>2811768</th>\n",
       "      <td>2987946</td>\n",
       "      <td>524544</td>\n",
       "      <td>True</td>\n",
       "      <td>Wed Nov 22 08:25:48 +0000 2017</td>\n",
       "      <td>@VirginTrains Hope you are well? Does the 9.30...</td>\n",
       "      <td>2987945</td>\n",
       "      <td>NaN</td>\n",
       "      <td>@VirginTrains</td>\n",
       "    </tr>\n",
       "    <tr>\n",
       "      <th>2811771</th>\n",
       "      <td>2812240</td>\n",
       "      <td>121673</td>\n",
       "      <td>True</td>\n",
       "      <td>Thu Nov 23 04:13:07 +0000 2017</td>\n",
       "      <td>@143549 @sprintcare You have to go to https://...</td>\n",
       "      <td>NaN</td>\n",
       "      <td>2812239.0</td>\n",
       "      <td>@sprintcare</td>\n",
       "    </tr>\n",
       "    <tr>\n",
       "      <th>2811773</th>\n",
       "      <td>2987950</td>\n",
       "      <td>823870</td>\n",
       "      <td>True</td>\n",
       "      <td>Tue Nov 21 22:01:04 +0000 2017</td>\n",
       "      <td>@AldiUK  warm sloe gin mince pies with ice cre...</td>\n",
       "      <td>2987951,2987949</td>\n",
       "      <td>NaN</td>\n",
       "      <td>@AldiUK</td>\n",
       "    </tr>\n",
       "  </tbody>\n",
       "</table>\n",
       "<p>1176988 rows × 8 columns</p>\n",
       "</div>"
      ],
      "text/plain": [
       "         tweet_id author_id  inbound                      created_at  \\\n",
       "1               2    115712     True  Tue Oct 31 22:11:45 +0000 2017   \n",
       "2               3    115712     True  Tue Oct 31 22:08:27 +0000 2017   \n",
       "4               5    115712     True  Tue Oct 31 21:49:35 +0000 2017   \n",
       "6               8    115712     True  Tue Oct 31 21:45:10 +0000 2017   \n",
       "8              12    115713     True  Tue Oct 31 22:04:47 +0000 2017   \n",
       "...           ...       ...      ...                             ...   \n",
       "2811763   2987942    823867     True  Wed Nov 22 07:30:39 +0000 2017   \n",
       "2811765   2987944    823868     True  Wed Nov 22 07:43:36 +0000 2017   \n",
       "2811768   2987946    524544     True  Wed Nov 22 08:25:48 +0000 2017   \n",
       "2811771   2812240    121673     True  Thu Nov 23 04:13:07 +0000 2017   \n",
       "2811773   2987950    823870     True  Tue Nov 21 22:01:04 +0000 2017   \n",
       "\n",
       "                                                      text response_tweet_id  \\\n",
       "1            @sprintcare and how do you propose we do that               NaN   \n",
       "2        @sprintcare I have sent several private messag...                 1   \n",
       "4                                       @sprintcare I did.                 4   \n",
       "6                @sprintcare is the worst customer service            9,6,10   \n",
       "8        @sprintcare You gonna magically change your co...          11,13,14   \n",
       "...                                                    ...               ...   \n",
       "2811763  Hai @AirAsiaSupport #asking how many days need...           2987941   \n",
       "2811765  @AirAsiaSupport \\n\\nI am unable to do web chec...           2987943   \n",
       "2811768  @VirginTrains Hope you are well? Does the 9.30...           2987945   \n",
       "2811771  @143549 @sprintcare You have to go to https://...               NaN   \n",
       "2811773  @AldiUK  warm sloe gin mince pies with ice cre...   2987951,2987949   \n",
       "\n",
       "         in_response_to_tweet_id     Organization  \n",
       "1                            1.0      @sprintcare  \n",
       "2                            4.0      @sprintcare  \n",
       "4                            6.0      @sprintcare  \n",
       "6                            NaN      @sprintcare  \n",
       "8                           15.0      @sprintcare  \n",
       "...                          ...              ...  \n",
       "2811763                      NaN  @AirAsiaSupport  \n",
       "2811765                      NaN  @AirAsiaSupport  \n",
       "2811768                      NaN    @VirginTrains  \n",
       "2811771                2812239.0      @sprintcare  \n",
       "2811773                      NaN          @AldiUK  \n",
       "\n",
       "[1176988 rows x 8 columns]"
      ]
     },
     "execution_count": 74,
     "metadata": {},
     "output_type": "execute_result"
    }
   ],
   "source": [
    "df_final"
   ]
  },
  {
   "cell_type": "markdown",
   "id": "026335dc",
   "metadata": {},
   "source": [
    "Our dataset is ready for Preprocessing"
   ]
  },
  {
   "cell_type": "code",
   "execution_count": 75,
   "id": "d987fc54",
   "metadata": {},
   "outputs": [],
   "source": [
    "final =[]\n",
    "\n",
    "for org in df_final['Organization']:\n",
    "    final.append(org.split('@')[1])\n",
    "    \n",
    "df_final['Organization'] = final"
   ]
  },
  {
   "cell_type": "code",
   "execution_count": 76,
   "id": "3c78472e",
   "metadata": {},
   "outputs": [],
   "source": [
    "df_final.reset_index(inplace=True)\n"
   ]
  },
  {
   "cell_type": "code",
   "execution_count": 77,
   "id": "18868642",
   "metadata": {},
   "outputs": [
    {
     "data": {
      "text/plain": [
       "Index(['index', 'tweet_id', 'author_id', 'inbound', 'created_at', 'text',\n",
       "       'response_tweet_id', 'in_response_to_tweet_id', 'Organization'],\n",
       "      dtype='object')"
      ]
     },
     "execution_count": 77,
     "metadata": {},
     "output_type": "execute_result"
    }
   ],
   "source": [
    "df_final.columns"
   ]
  },
  {
   "cell_type": "code",
   "execution_count": 78,
   "id": "99077cd3",
   "metadata": {},
   "outputs": [],
   "source": [
    "df_final.drop(['index', 'tweet_id', 'author_id', 'inbound', 'created_at',\n",
    "       'response_tweet_id', 'in_response_to_tweet_id'], axis=1, inplace=True )"
   ]
  },
  {
   "cell_type": "code",
   "execution_count": 79,
   "id": "f8ad7d64",
   "metadata": {},
   "outputs": [
    {
     "data": {
      "text/html": [
       "<div>\n",
       "<style scoped>\n",
       "    .dataframe tbody tr th:only-of-type {\n",
       "        vertical-align: middle;\n",
       "    }\n",
       "\n",
       "    .dataframe tbody tr th {\n",
       "        vertical-align: top;\n",
       "    }\n",
       "\n",
       "    .dataframe thead th {\n",
       "        text-align: right;\n",
       "    }\n",
       "</style>\n",
       "<table border=\"1\" class=\"dataframe\">\n",
       "  <thead>\n",
       "    <tr style=\"text-align: right;\">\n",
       "      <th></th>\n",
       "      <th>text</th>\n",
       "      <th>Organization</th>\n",
       "    </tr>\n",
       "  </thead>\n",
       "  <tbody>\n",
       "    <tr>\n",
       "      <th>0</th>\n",
       "      <td>@sprintcare and how do you propose we do that</td>\n",
       "      <td>sprintcare</td>\n",
       "    </tr>\n",
       "    <tr>\n",
       "      <th>1</th>\n",
       "      <td>@sprintcare I have sent several private messag...</td>\n",
       "      <td>sprintcare</td>\n",
       "    </tr>\n",
       "    <tr>\n",
       "      <th>2</th>\n",
       "      <td>@sprintcare I did.</td>\n",
       "      <td>sprintcare</td>\n",
       "    </tr>\n",
       "    <tr>\n",
       "      <th>3</th>\n",
       "      <td>@sprintcare is the worst customer service</td>\n",
       "      <td>sprintcare</td>\n",
       "    </tr>\n",
       "    <tr>\n",
       "      <th>4</th>\n",
       "      <td>@sprintcare You gonna magically change your co...</td>\n",
       "      <td>sprintcare</td>\n",
       "    </tr>\n",
       "    <tr>\n",
       "      <th>...</th>\n",
       "      <td>...</td>\n",
       "      <td>...</td>\n",
       "    </tr>\n",
       "    <tr>\n",
       "      <th>1176983</th>\n",
       "      <td>Hai @AirAsiaSupport #asking how many days need...</td>\n",
       "      <td>AirAsiaSupport</td>\n",
       "    </tr>\n",
       "    <tr>\n",
       "      <th>1176984</th>\n",
       "      <td>@AirAsiaSupport \\n\\nI am unable to do web chec...</td>\n",
       "      <td>AirAsiaSupport</td>\n",
       "    </tr>\n",
       "    <tr>\n",
       "      <th>1176985</th>\n",
       "      <td>@VirginTrains Hope you are well? Does the 9.30...</td>\n",
       "      <td>VirginTrains</td>\n",
       "    </tr>\n",
       "    <tr>\n",
       "      <th>1176986</th>\n",
       "      <td>@143549 @sprintcare You have to go to https://...</td>\n",
       "      <td>sprintcare</td>\n",
       "    </tr>\n",
       "    <tr>\n",
       "      <th>1176987</th>\n",
       "      <td>@AldiUK  warm sloe gin mince pies with ice cre...</td>\n",
       "      <td>AldiUK</td>\n",
       "    </tr>\n",
       "  </tbody>\n",
       "</table>\n",
       "<p>1176988 rows × 2 columns</p>\n",
       "</div>"
      ],
      "text/plain": [
       "                                                      text    Organization\n",
       "0            @sprintcare and how do you propose we do that      sprintcare\n",
       "1        @sprintcare I have sent several private messag...      sprintcare\n",
       "2                                       @sprintcare I did.      sprintcare\n",
       "3                @sprintcare is the worst customer service      sprintcare\n",
       "4        @sprintcare You gonna magically change your co...      sprintcare\n",
       "...                                                    ...             ...\n",
       "1176983  Hai @AirAsiaSupport #asking how many days need...  AirAsiaSupport\n",
       "1176984  @AirAsiaSupport \\n\\nI am unable to do web chec...  AirAsiaSupport\n",
       "1176985  @VirginTrains Hope you are well? Does the 9.30...    VirginTrains\n",
       "1176986  @143549 @sprintcare You have to go to https://...      sprintcare\n",
       "1176987  @AldiUK  warm sloe gin mince pies with ice cre...          AldiUK\n",
       "\n",
       "[1176988 rows x 2 columns]"
      ]
     },
     "execution_count": 79,
     "metadata": {},
     "output_type": "execute_result"
    }
   ],
   "source": [
    "df_final"
   ]
  },
  {
   "cell_type": "code",
   "execution_count": 81,
   "id": "f3741b82",
   "metadata": {},
   "outputs": [
    {
     "data": {
      "text/plain": [
       "55820"
      ]
     },
     "execution_count": 81,
     "metadata": {},
     "output_type": "execute_result"
    }
   ],
   "source": [
    "df_final.duplicated(subset='text', keep='first').sum()"
   ]
  },
  {
   "cell_type": "code",
   "execution_count": 82,
   "id": "158b358c",
   "metadata": {},
   "outputs": [
    {
     "name": "stdout",
     "output_type": "stream",
     "text": [
      "There are total 55820 number of Duplicates present in our dataset\n"
     ]
    }
   ],
   "source": [
    "print(\"There are total {} number of Duplicates present in our dataset\".format(df_final.duplicated(subset='text', keep='first').sum()))\n",
    "df_final.drop_duplicates(inplace=True)"
   ]
  },
  {
   "cell_type": "markdown",
   "id": "3f4251b3",
   "metadata": {},
   "source": [
    "After Removing Duplicates....."
   ]
  },
  {
   "cell_type": "code",
   "execution_count": 84,
   "id": "dd722a48",
   "metadata": {},
   "outputs": [
    {
     "data": {
      "text/html": [
       "<div>\n",
       "<style scoped>\n",
       "    .dataframe tbody tr th:only-of-type {\n",
       "        vertical-align: middle;\n",
       "    }\n",
       "\n",
       "    .dataframe tbody tr th {\n",
       "        vertical-align: top;\n",
       "    }\n",
       "\n",
       "    .dataframe thead th {\n",
       "        text-align: right;\n",
       "    }\n",
       "</style>\n",
       "<table border=\"1\" class=\"dataframe\">\n",
       "  <thead>\n",
       "    <tr style=\"text-align: right;\">\n",
       "      <th></th>\n",
       "      <th>text</th>\n",
       "      <th>Organization</th>\n",
       "    </tr>\n",
       "  </thead>\n",
       "  <tbody>\n",
       "    <tr>\n",
       "      <th>0</th>\n",
       "      <td>@sprintcare and how do you propose we do that</td>\n",
       "      <td>sprintcare</td>\n",
       "    </tr>\n",
       "    <tr>\n",
       "      <th>1</th>\n",
       "      <td>@sprintcare I have sent several private messag...</td>\n",
       "      <td>sprintcare</td>\n",
       "    </tr>\n",
       "    <tr>\n",
       "      <th>2</th>\n",
       "      <td>@sprintcare I did.</td>\n",
       "      <td>sprintcare</td>\n",
       "    </tr>\n",
       "    <tr>\n",
       "      <th>3</th>\n",
       "      <td>@sprintcare is the worst customer service</td>\n",
       "      <td>sprintcare</td>\n",
       "    </tr>\n",
       "    <tr>\n",
       "      <th>4</th>\n",
       "      <td>@sprintcare You gonna magically change your co...</td>\n",
       "      <td>sprintcare</td>\n",
       "    </tr>\n",
       "    <tr>\n",
       "      <th>...</th>\n",
       "      <td>...</td>\n",
       "      <td>...</td>\n",
       "    </tr>\n",
       "    <tr>\n",
       "      <th>1176983</th>\n",
       "      <td>Hai @AirAsiaSupport #asking how many days need...</td>\n",
       "      <td>AirAsiaSupport</td>\n",
       "    </tr>\n",
       "    <tr>\n",
       "      <th>1176984</th>\n",
       "      <td>@AirAsiaSupport \\n\\nI am unable to do web chec...</td>\n",
       "      <td>AirAsiaSupport</td>\n",
       "    </tr>\n",
       "    <tr>\n",
       "      <th>1176985</th>\n",
       "      <td>@VirginTrains Hope you are well? Does the 9.30...</td>\n",
       "      <td>VirginTrains</td>\n",
       "    </tr>\n",
       "    <tr>\n",
       "      <th>1176986</th>\n",
       "      <td>@143549 @sprintcare You have to go to https://...</td>\n",
       "      <td>sprintcare</td>\n",
       "    </tr>\n",
       "    <tr>\n",
       "      <th>1176987</th>\n",
       "      <td>@AldiUK  warm sloe gin mince pies with ice cre...</td>\n",
       "      <td>AldiUK</td>\n",
       "    </tr>\n",
       "  </tbody>\n",
       "</table>\n",
       "<p>1133828 rows × 2 columns</p>\n",
       "</div>"
      ],
      "text/plain": [
       "                                                      text    Organization\n",
       "0            @sprintcare and how do you propose we do that      sprintcare\n",
       "1        @sprintcare I have sent several private messag...      sprintcare\n",
       "2                                       @sprintcare I did.      sprintcare\n",
       "3                @sprintcare is the worst customer service      sprintcare\n",
       "4        @sprintcare You gonna magically change your co...      sprintcare\n",
       "...                                                    ...             ...\n",
       "1176983  Hai @AirAsiaSupport #asking how many days need...  AirAsiaSupport\n",
       "1176984  @AirAsiaSupport \\n\\nI am unable to do web chec...  AirAsiaSupport\n",
       "1176985  @VirginTrains Hope you are well? Does the 9.30...    VirginTrains\n",
       "1176986  @143549 @sprintcare You have to go to https://...      sprintcare\n",
       "1176987  @AldiUK  warm sloe gin mince pies with ice cre...          AldiUK\n",
       "\n",
       "[1133828 rows x 2 columns]"
      ]
     },
     "execution_count": 84,
     "metadata": {},
     "output_type": "execute_result"
    }
   ],
   "source": [
    "df_final"
   ]
  },
  {
   "cell_type": "markdown",
   "id": "c92106bb",
   "metadata": {},
   "source": [
    "lets make some preprocessing on data\n",
    "\n",
    "1) Remove any type of username present in a text\n",
    "\n",
    "2) Remove Hashtags\n",
    "\n",
    "3) Remove any kind or urls\n",
    "\n",
    "4) Remove Numbers\n",
    "\n",
    "5) lowering the text"
   ]
  },
  {
   "cell_type": "code",
   "execution_count": 85,
   "id": "48bd0488",
   "metadata": {},
   "outputs": [
    {
     "name": "stderr",
     "output_type": "stream",
     "text": [
      "100%|█████████████████████████████████████████████████████████████████████| 1133828/1133828 [00:26<00:00, 43147.16it/s]\n"
     ]
    }
   ],
   "source": [
    "corpus = []\n",
    "for text in tqdm(df_final['text']):\n",
    "    review= re.sub(\"@([a-zA-Z0-9_]{1,50})\",\" \", text).strip() #remove username\n",
    "    review = re.sub(\"#[A-Za-z0-9_]+\",\" \", review).strip() #remove hashtags\n",
    "    review= re.sub(r'http\\S+', ' ', review).strip() #remove links\n",
    "    review = re.sub('[^a-zA-Z]', ' ', review).strip()\n",
    "    review = review.lower()\n",
    "    review = review.strip(\"\\n\").strip(\" \")\n",
    "    corpus.append(review)\n",
    "    "
   ]
  },
  {
   "cell_type": "code",
   "execution_count": null,
   "id": "8225dbfb",
   "metadata": {},
   "outputs": [],
   "source": []
  },
  {
   "cell_type": "code",
   "execution_count": 87,
   "id": "c3bff985",
   "metadata": {},
   "outputs": [
    {
     "name": "stdout",
     "output_type": "stream",
     "text": [
      "There are total 1133828 number of records present in the dataset \n"
     ]
    }
   ],
   "source": [
    "print(\"There are total {} number of records present in the dataset \".format(len(corpus)))"
   ]
  },
  {
   "cell_type": "code",
   "execution_count": 88,
   "id": "8dc92365",
   "metadata": {},
   "outputs": [],
   "source": [
    "df_final['Corpus'] = corpus"
   ]
  },
  {
   "cell_type": "code",
   "execution_count": 89,
   "id": "bbadb04d",
   "metadata": {},
   "outputs": [
    {
     "data": {
      "text/html": [
       "<div>\n",
       "<style scoped>\n",
       "    .dataframe tbody tr th:only-of-type {\n",
       "        vertical-align: middle;\n",
       "    }\n",
       "\n",
       "    .dataframe tbody tr th {\n",
       "        vertical-align: top;\n",
       "    }\n",
       "\n",
       "    .dataframe thead th {\n",
       "        text-align: right;\n",
       "    }\n",
       "</style>\n",
       "<table border=\"1\" class=\"dataframe\">\n",
       "  <thead>\n",
       "    <tr style=\"text-align: right;\">\n",
       "      <th></th>\n",
       "      <th>text</th>\n",
       "      <th>Organization</th>\n",
       "      <th>Corpus</th>\n",
       "    </tr>\n",
       "  </thead>\n",
       "  <tbody>\n",
       "    <tr>\n",
       "      <th>0</th>\n",
       "      <td>@sprintcare and how do you propose we do that</td>\n",
       "      <td>sprintcare</td>\n",
       "      <td>and how do you propose we do that</td>\n",
       "    </tr>\n",
       "    <tr>\n",
       "      <th>1</th>\n",
       "      <td>@sprintcare I have sent several private messag...</td>\n",
       "      <td>sprintcare</td>\n",
       "      <td>i have sent several private messages and no on...</td>\n",
       "    </tr>\n",
       "    <tr>\n",
       "      <th>2</th>\n",
       "      <td>@sprintcare I did.</td>\n",
       "      <td>sprintcare</td>\n",
       "      <td>i did</td>\n",
       "    </tr>\n",
       "    <tr>\n",
       "      <th>3</th>\n",
       "      <td>@sprintcare is the worst customer service</td>\n",
       "      <td>sprintcare</td>\n",
       "      <td>is the worst customer service</td>\n",
       "    </tr>\n",
       "    <tr>\n",
       "      <th>4</th>\n",
       "      <td>@sprintcare You gonna magically change your co...</td>\n",
       "      <td>sprintcare</td>\n",
       "      <td>you gonna magically change your connectivity f...</td>\n",
       "    </tr>\n",
       "    <tr>\n",
       "      <th>...</th>\n",
       "      <td>...</td>\n",
       "      <td>...</td>\n",
       "      <td>...</td>\n",
       "    </tr>\n",
       "    <tr>\n",
       "      <th>1176983</th>\n",
       "      <td>Hai @AirAsiaSupport #asking how many days need...</td>\n",
       "      <td>AirAsiaSupport</td>\n",
       "      <td>hai     how many days needed to proceed cancel...</td>\n",
       "    </tr>\n",
       "    <tr>\n",
       "      <th>1176984</th>\n",
       "      <td>@AirAsiaSupport \\n\\nI am unable to do web chec...</td>\n",
       "      <td>AirAsiaSupport</td>\n",
       "      <td>i am unable to do web checkin   i am getting t...</td>\n",
       "    </tr>\n",
       "    <tr>\n",
       "      <th>1176985</th>\n",
       "      <td>@VirginTrains Hope you are well? Does the 9.30...</td>\n",
       "      <td>VirginTrains</td>\n",
       "      <td>hope you are well  does the     am train from ...</td>\n",
       "    </tr>\n",
       "    <tr>\n",
       "      <th>1176986</th>\n",
       "      <td>@143549 @sprintcare You have to go to https://...</td>\n",
       "      <td>sprintcare</td>\n",
       "      <td>you have to go to   and ask them to add the hu...</td>\n",
       "    </tr>\n",
       "    <tr>\n",
       "      <th>1176987</th>\n",
       "      <td>@AldiUK  warm sloe gin mince pies with ice cre...</td>\n",
       "      <td>AldiUK</td>\n",
       "      <td>warm sloe gin mince pies with ice cream   the ...</td>\n",
       "    </tr>\n",
       "  </tbody>\n",
       "</table>\n",
       "<p>1133828 rows × 3 columns</p>\n",
       "</div>"
      ],
      "text/plain": [
       "                                                      text    Organization  \\\n",
       "0            @sprintcare and how do you propose we do that      sprintcare   \n",
       "1        @sprintcare I have sent several private messag...      sprintcare   \n",
       "2                                       @sprintcare I did.      sprintcare   \n",
       "3                @sprintcare is the worst customer service      sprintcare   \n",
       "4        @sprintcare You gonna magically change your co...      sprintcare   \n",
       "...                                                    ...             ...   \n",
       "1176983  Hai @AirAsiaSupport #asking how many days need...  AirAsiaSupport   \n",
       "1176984  @AirAsiaSupport \\n\\nI am unable to do web chec...  AirAsiaSupport   \n",
       "1176985  @VirginTrains Hope you are well? Does the 9.30...    VirginTrains   \n",
       "1176986  @143549 @sprintcare You have to go to https://...      sprintcare   \n",
       "1176987  @AldiUK  warm sloe gin mince pies with ice cre...          AldiUK   \n",
       "\n",
       "                                                    Corpus  \n",
       "0                        and how do you propose we do that  \n",
       "1        i have sent several private messages and no on...  \n",
       "2                                                    i did  \n",
       "3                            is the worst customer service  \n",
       "4        you gonna magically change your connectivity f...  \n",
       "...                                                    ...  \n",
       "1176983  hai     how many days needed to proceed cancel...  \n",
       "1176984  i am unable to do web checkin   i am getting t...  \n",
       "1176985  hope you are well  does the     am train from ...  \n",
       "1176986  you have to go to   and ask them to add the hu...  \n",
       "1176987  warm sloe gin mince pies with ice cream   the ...  \n",
       "\n",
       "[1133828 rows x 3 columns]"
      ]
     },
     "execution_count": 89,
     "metadata": {},
     "output_type": "execute_result"
    }
   ],
   "source": [
    "df_final"
   ]
  },
  {
   "cell_type": "markdown",
   "id": "985857f7",
   "metadata": {},
   "source": [
    "Remove those words which have length less than equal to 3"
   ]
  },
  {
   "cell_type": "code",
   "execution_count": 90,
   "id": "988207ff",
   "metadata": {},
   "outputs": [],
   "source": [
    "df_final['Corpus'] = df_final['Corpus'].apply(lambda x:\" \".join([w for w in x.split() if len(w)>3]))"
   ]
  },
  {
   "cell_type": "code",
   "execution_count": 91,
   "id": "59caeea4",
   "metadata": {},
   "outputs": [
    {
     "data": {
      "text/html": [
       "<div>\n",
       "<style scoped>\n",
       "    .dataframe tbody tr th:only-of-type {\n",
       "        vertical-align: middle;\n",
       "    }\n",
       "\n",
       "    .dataframe tbody tr th {\n",
       "        vertical-align: top;\n",
       "    }\n",
       "\n",
       "    .dataframe thead th {\n",
       "        text-align: right;\n",
       "    }\n",
       "</style>\n",
       "<table border=\"1\" class=\"dataframe\">\n",
       "  <thead>\n",
       "    <tr style=\"text-align: right;\">\n",
       "      <th></th>\n",
       "      <th>text</th>\n",
       "      <th>Organization</th>\n",
       "      <th>Corpus</th>\n",
       "    </tr>\n",
       "  </thead>\n",
       "  <tbody>\n",
       "    <tr>\n",
       "      <th>0</th>\n",
       "      <td>@sprintcare and how do you propose we do that</td>\n",
       "      <td>sprintcare</td>\n",
       "      <td>propose that</td>\n",
       "    </tr>\n",
       "    <tr>\n",
       "      <th>1</th>\n",
       "      <td>@sprintcare I have sent several private messag...</td>\n",
       "      <td>sprintcare</td>\n",
       "      <td>have sent several private messages responding ...</td>\n",
       "    </tr>\n",
       "    <tr>\n",
       "      <th>2</th>\n",
       "      <td>@sprintcare I did.</td>\n",
       "      <td>sprintcare</td>\n",
       "      <td></td>\n",
       "    </tr>\n",
       "    <tr>\n",
       "      <th>3</th>\n",
       "      <td>@sprintcare is the worst customer service</td>\n",
       "      <td>sprintcare</td>\n",
       "      <td>worst customer service</td>\n",
       "    </tr>\n",
       "    <tr>\n",
       "      <th>4</th>\n",
       "      <td>@sprintcare You gonna magically change your co...</td>\n",
       "      <td>sprintcare</td>\n",
       "      <td>gonna magically change your connectivity whole...</td>\n",
       "    </tr>\n",
       "    <tr>\n",
       "      <th>...</th>\n",
       "      <td>...</td>\n",
       "      <td>...</td>\n",
       "      <td>...</td>\n",
       "    </tr>\n",
       "    <tr>\n",
       "      <th>1176983</th>\n",
       "      <td>Hai @AirAsiaSupport #asking how many days need...</td>\n",
       "      <td>AirAsiaSupport</td>\n",
       "      <td>many days needed proceed cancelation flight th...</td>\n",
       "    </tr>\n",
       "    <tr>\n",
       "      <th>1176984</th>\n",
       "      <td>@AirAsiaSupport \\n\\nI am unable to do web chec...</td>\n",
       "      <td>AirAsiaSupport</td>\n",
       "      <td>unable checkin getting below error please chec...</td>\n",
       "    </tr>\n",
       "    <tr>\n",
       "      <th>1176985</th>\n",
       "      <td>@VirginTrains Hope you are well? Does the 9.30...</td>\n",
       "      <td>VirginTrains</td>\n",
       "      <td>hope well does train from crewe euston class p...</td>\n",
       "    </tr>\n",
       "    <tr>\n",
       "      <th>1176986</th>\n",
       "      <td>@143549 @sprintcare You have to go to https://...</td>\n",
       "      <td>sprintcare</td>\n",
       "      <td>have them hulu service your account after text...</td>\n",
       "    </tr>\n",
       "    <tr>\n",
       "      <th>1176987</th>\n",
       "      <td>@AldiUK  warm sloe gin mince pies with ice cre...</td>\n",
       "      <td>AldiUK</td>\n",
       "      <td>warm sloe mince pies with cream best thing ever</td>\n",
       "    </tr>\n",
       "  </tbody>\n",
       "</table>\n",
       "<p>1133828 rows × 3 columns</p>\n",
       "</div>"
      ],
      "text/plain": [
       "                                                      text    Organization  \\\n",
       "0            @sprintcare and how do you propose we do that      sprintcare   \n",
       "1        @sprintcare I have sent several private messag...      sprintcare   \n",
       "2                                       @sprintcare I did.      sprintcare   \n",
       "3                @sprintcare is the worst customer service      sprintcare   \n",
       "4        @sprintcare You gonna magically change your co...      sprintcare   \n",
       "...                                                    ...             ...   \n",
       "1176983  Hai @AirAsiaSupport #asking how many days need...  AirAsiaSupport   \n",
       "1176984  @AirAsiaSupport \\n\\nI am unable to do web chec...  AirAsiaSupport   \n",
       "1176985  @VirginTrains Hope you are well? Does the 9.30...    VirginTrains   \n",
       "1176986  @143549 @sprintcare You have to go to https://...      sprintcare   \n",
       "1176987  @AldiUK  warm sloe gin mince pies with ice cre...          AldiUK   \n",
       "\n",
       "                                                    Corpus  \n",
       "0                                             propose that  \n",
       "1        have sent several private messages responding ...  \n",
       "2                                                           \n",
       "3                                   worst customer service  \n",
       "4        gonna magically change your connectivity whole...  \n",
       "...                                                    ...  \n",
       "1176983  many days needed proceed cancelation flight th...  \n",
       "1176984  unable checkin getting below error please chec...  \n",
       "1176985  hope well does train from crewe euston class p...  \n",
       "1176986  have them hulu service your account after text...  \n",
       "1176987    warm sloe mince pies with cream best thing ever  \n",
       "\n",
       "[1133828 rows x 3 columns]"
      ]
     },
     "execution_count": 91,
     "metadata": {},
     "output_type": "execute_result"
    }
   ],
   "source": [
    "df_final"
   ]
  },
  {
   "cell_type": "markdown",
   "id": "f64b3286",
   "metadata": {},
   "source": [
    "Remove top 15 very common words in dataset which doesnt give much information"
   ]
  },
  {
   "cell_type": "code",
   "execution_count": 92,
   "id": "1f854d97",
   "metadata": {},
   "outputs": [
    {
     "data": {
      "text/plain": [
       "[('this', 165873),\n",
       " ('have', 160919),\n",
       " ('that', 149700),\n",
       " ('with', 124910),\n",
       " ('your', 118141),\n",
       " ('from', 93779),\n",
       " ('just', 91291),\n",
       " ('what', 75744),\n",
       " ('thanks', 71597),\n",
       " ('when', 71218),\n",
       " ('they', 69637),\n",
       " ('help', 66328),\n",
       " ('been', 63594),\n",
       " ('will', 62194),\n",
       " ('please', 60860)]"
      ]
     },
     "execution_count": 92,
     "metadata": {},
     "output_type": "execute_result"
    }
   ],
   "source": [
    "#common words\n",
    "\n",
    "from collections import Counter\n",
    "cnt = Counter()\n",
    "for text in df_final[\"Corpus\"].values:\n",
    "    for word in text.split():\n",
    "        cnt[word] += 1\n",
    "        \n",
    "cnt.most_common(15)"
   ]
  },
  {
   "cell_type": "code",
   "execution_count": 93,
   "id": "bf249d09",
   "metadata": {},
   "outputs": [
    {
     "data": {
      "text/html": [
       "<div>\n",
       "<style scoped>\n",
       "    .dataframe tbody tr th:only-of-type {\n",
       "        vertical-align: middle;\n",
       "    }\n",
       "\n",
       "    .dataframe tbody tr th {\n",
       "        vertical-align: top;\n",
       "    }\n",
       "\n",
       "    .dataframe thead th {\n",
       "        text-align: right;\n",
       "    }\n",
       "</style>\n",
       "<table border=\"1\" class=\"dataframe\">\n",
       "  <thead>\n",
       "    <tr style=\"text-align: right;\">\n",
       "      <th></th>\n",
       "      <th>text</th>\n",
       "      <th>Organization</th>\n",
       "      <th>Corpus</th>\n",
       "    </tr>\n",
       "  </thead>\n",
       "  <tbody>\n",
       "    <tr>\n",
       "      <th>0</th>\n",
       "      <td>@sprintcare and how do you propose we do that</td>\n",
       "      <td>sprintcare</td>\n",
       "      <td>propose</td>\n",
       "    </tr>\n",
       "    <tr>\n",
       "      <th>1</th>\n",
       "      <td>@sprintcare I have sent several private messag...</td>\n",
       "      <td>sprintcare</td>\n",
       "      <td>sent several private messages responding usual</td>\n",
       "    </tr>\n",
       "    <tr>\n",
       "      <th>2</th>\n",
       "      <td>@sprintcare I did.</td>\n",
       "      <td>sprintcare</td>\n",
       "      <td></td>\n",
       "    </tr>\n",
       "    <tr>\n",
       "      <th>3</th>\n",
       "      <td>@sprintcare is the worst customer service</td>\n",
       "      <td>sprintcare</td>\n",
       "      <td>worst customer service</td>\n",
       "    </tr>\n",
       "    <tr>\n",
       "      <th>4</th>\n",
       "      <td>@sprintcare You gonna magically change your co...</td>\n",
       "      <td>sprintcare</td>\n",
       "      <td>gonna magically change connectivity whole family</td>\n",
       "    </tr>\n",
       "  </tbody>\n",
       "</table>\n",
       "</div>"
      ],
      "text/plain": [
       "                                                text Organization  \\\n",
       "0      @sprintcare and how do you propose we do that   sprintcare   \n",
       "1  @sprintcare I have sent several private messag...   sprintcare   \n",
       "2                                 @sprintcare I did.   sprintcare   \n",
       "3          @sprintcare is the worst customer service   sprintcare   \n",
       "4  @sprintcare You gonna magically change your co...   sprintcare   \n",
       "\n",
       "                                             Corpus  \n",
       "0                                           propose  \n",
       "1    sent several private messages responding usual  \n",
       "2                                                    \n",
       "3                            worst customer service  \n",
       "4  gonna magically change connectivity whole family  "
      ]
     },
     "execution_count": 93,
     "metadata": {},
     "output_type": "execute_result"
    }
   ],
   "source": [
    "FREQWORDS = set([w for (w, wc) in cnt.most_common(15)])\n",
    "def remove_freqwords(text):\n",
    "    \"\"\"custom function to remove the frequent words\"\"\"\n",
    "    return \" \".join([word for word in str(text).split() if word not in FREQWORDS])\n",
    "\n",
    "df_final[\"Corpus\"] = df_final[\"Corpus\"].apply(lambda text: remove_freqwords(text))\n",
    "df_final.head()\n",
    "\n",
    "#This Code Taken from Stack Overflow"
   ]
  },
  {
   "cell_type": "markdown",
   "id": "7b65b639",
   "metadata": {},
   "source": [
    "Remove top 15 very Rare words in dataset."
   ]
  },
  {
   "cell_type": "code",
   "execution_count": 94,
   "id": "e5668b1d",
   "metadata": {},
   "outputs": [
    {
     "data": {
      "text/html": [
       "<div>\n",
       "<style scoped>\n",
       "    .dataframe tbody tr th:only-of-type {\n",
       "        vertical-align: middle;\n",
       "    }\n",
       "\n",
       "    .dataframe tbody tr th {\n",
       "        vertical-align: top;\n",
       "    }\n",
       "\n",
       "    .dataframe thead th {\n",
       "        text-align: right;\n",
       "    }\n",
       "</style>\n",
       "<table border=\"1\" class=\"dataframe\">\n",
       "  <thead>\n",
       "    <tr style=\"text-align: right;\">\n",
       "      <th></th>\n",
       "      <th>text</th>\n",
       "      <th>Organization</th>\n",
       "      <th>Corpus</th>\n",
       "    </tr>\n",
       "  </thead>\n",
       "  <tbody>\n",
       "    <tr>\n",
       "      <th>0</th>\n",
       "      <td>@sprintcare and how do you propose we do that</td>\n",
       "      <td>sprintcare</td>\n",
       "      <td>propose</td>\n",
       "    </tr>\n",
       "    <tr>\n",
       "      <th>1</th>\n",
       "      <td>@sprintcare I have sent several private messag...</td>\n",
       "      <td>sprintcare</td>\n",
       "      <td>sent several private messages responding usual</td>\n",
       "    </tr>\n",
       "    <tr>\n",
       "      <th>2</th>\n",
       "      <td>@sprintcare I did.</td>\n",
       "      <td>sprintcare</td>\n",
       "      <td></td>\n",
       "    </tr>\n",
       "    <tr>\n",
       "      <th>3</th>\n",
       "      <td>@sprintcare is the worst customer service</td>\n",
       "      <td>sprintcare</td>\n",
       "      <td>worst customer service</td>\n",
       "    </tr>\n",
       "    <tr>\n",
       "      <th>4</th>\n",
       "      <td>@sprintcare You gonna magically change your co...</td>\n",
       "      <td>sprintcare</td>\n",
       "      <td>gonna magically change connectivity whole family</td>\n",
       "    </tr>\n",
       "  </tbody>\n",
       "</table>\n",
       "</div>"
      ],
      "text/plain": [
       "                                                text Organization  \\\n",
       "0      @sprintcare and how do you propose we do that   sprintcare   \n",
       "1  @sprintcare I have sent several private messag...   sprintcare   \n",
       "2                                 @sprintcare I did.   sprintcare   \n",
       "3          @sprintcare is the worst customer service   sprintcare   \n",
       "4  @sprintcare You gonna magically change your co...   sprintcare   \n",
       "\n",
       "                                             Corpus  \n",
       "0                                           propose  \n",
       "1    sent several private messages responding usual  \n",
       "2                                                    \n",
       "3                            worst customer service  \n",
       "4  gonna magically change connectivity whole family  "
      ]
     },
     "execution_count": 94,
     "metadata": {},
     "output_type": "execute_result"
    }
   ],
   "source": [
    "n_rare_words = 15\n",
    "RAREWORDS = set([w for (w, wc) in cnt.most_common()[:-n_rare_words-1:-1]])\n",
    "def remove_rarewords(text):\n",
    "    \"\"\"custom function to remove the rare words\"\"\"\n",
    "    return \" \".join([word for word in str(text).split() if word not in RAREWORDS])\n",
    "\n",
    "df_final[\"Corpus\"] = df_final[\"Corpus\"].apply(lambda text: remove_rarewords(text))\n",
    "df_final.head()\n",
    "\n",
    "#This Code Taken from Stack Overflow"
   ]
  },
  {
   "cell_type": "markdown",
   "id": "1ff78083",
   "metadata": {},
   "source": [
    "Lemetization of sentences by keeping only Noun, Adejective, Verb, Adverb"
   ]
  },
  {
   "cell_type": "code",
   "execution_count": 96,
   "id": "c72d2a87",
   "metadata": {},
   "outputs": [
    {
     "name": "stderr",
     "output_type": "stream",
     "text": [
      "100%|█████████████████████████████████████████████████████████████████████| 1133828/1133828 [1:15:59<00:00, 248.68it/s]\n"
     ]
    }
   ],
   "source": [
    "def lemmatization(texts, allowed_postags=[\"NOUN\", \"ADJ\", \"VERB\", \"ADV\"]):\n",
    "    nlp = spacy.load(\"en_core_web_sm\", disable=[\"parser\", \"ner\"])\n",
    "    texts_out = []\n",
    "    for text in tqdm(texts):\n",
    "        doc = nlp(text)\n",
    "        new_text = []\n",
    "        for token in doc:\n",
    "            if token.pos_ in allowed_postags:\n",
    "                new_text.append(token.lemma_)\n",
    "        final = \" \".join(new_text)\n",
    "        texts_out.append(final)\n",
    "    return (texts_out)\n",
    "\n",
    "\n",
    "lemmatized_texts = lemmatization(df_final['Corpus'])\n",
    "# print (lemmatized_texts[0][0:90])"
   ]
  },
  {
   "cell_type": "code",
   "execution_count": 97,
   "id": "0909235a",
   "metadata": {},
   "outputs": [],
   "source": [
    "df_final['lemma'] = lemmatized_texts"
   ]
  },
  {
   "cell_type": "code",
   "execution_count": 98,
   "id": "6f84f347",
   "metadata": {},
   "outputs": [
    {
     "data": {
      "text/html": [
       "<div>\n",
       "<style scoped>\n",
       "    .dataframe tbody tr th:only-of-type {\n",
       "        vertical-align: middle;\n",
       "    }\n",
       "\n",
       "    .dataframe tbody tr th {\n",
       "        vertical-align: top;\n",
       "    }\n",
       "\n",
       "    .dataframe thead th {\n",
       "        text-align: right;\n",
       "    }\n",
       "</style>\n",
       "<table border=\"1\" class=\"dataframe\">\n",
       "  <thead>\n",
       "    <tr style=\"text-align: right;\">\n",
       "      <th></th>\n",
       "      <th>text</th>\n",
       "      <th>Organization</th>\n",
       "      <th>Corpus</th>\n",
       "      <th>lemma</th>\n",
       "    </tr>\n",
       "  </thead>\n",
       "  <tbody>\n",
       "    <tr>\n",
       "      <th>0</th>\n",
       "      <td>@sprintcare and how do you propose we do that</td>\n",
       "      <td>sprintcare</td>\n",
       "      <td>propose</td>\n",
       "      <td>propose</td>\n",
       "    </tr>\n",
       "    <tr>\n",
       "      <th>1</th>\n",
       "      <td>@sprintcare I have sent several private messag...</td>\n",
       "      <td>sprintcare</td>\n",
       "      <td>sent several private messages responding usual</td>\n",
       "      <td>send several private message respond usual</td>\n",
       "    </tr>\n",
       "    <tr>\n",
       "      <th>2</th>\n",
       "      <td>@sprintcare I did.</td>\n",
       "      <td>sprintcare</td>\n",
       "      <td></td>\n",
       "      <td></td>\n",
       "    </tr>\n",
       "    <tr>\n",
       "      <th>3</th>\n",
       "      <td>@sprintcare is the worst customer service</td>\n",
       "      <td>sprintcare</td>\n",
       "      <td>worst customer service</td>\n",
       "      <td>bad customer service</td>\n",
       "    </tr>\n",
       "    <tr>\n",
       "      <th>4</th>\n",
       "      <td>@sprintcare You gonna magically change your co...</td>\n",
       "      <td>sprintcare</td>\n",
       "      <td>gonna magically change connectivity whole family</td>\n",
       "      <td>gon magically change connectivity whole family</td>\n",
       "    </tr>\n",
       "    <tr>\n",
       "      <th>...</th>\n",
       "      <td>...</td>\n",
       "      <td>...</td>\n",
       "      <td>...</td>\n",
       "      <td>...</td>\n",
       "    </tr>\n",
       "    <tr>\n",
       "      <th>1176983</th>\n",
       "      <td>Hai @AirAsiaSupport #asking how many days need...</td>\n",
       "      <td>AirAsiaSupport</td>\n",
       "      <td>many days needed proceed cancelation flight th...</td>\n",
       "      <td>many day need proceed cancelation flight email...</td>\n",
       "    </tr>\n",
       "    <tr>\n",
       "      <th>1176984</th>\n",
       "      <td>@AirAsiaSupport \\n\\nI am unable to do web chec...</td>\n",
       "      <td>AirAsiaSupport</td>\n",
       "      <td>unable checkin getting below error check rever...</td>\n",
       "      <td>unable checkin get error check revert thank</td>\n",
       "    </tr>\n",
       "    <tr>\n",
       "      <th>1176985</th>\n",
       "      <td>@VirginTrains Hope you are well? Does the 9.30...</td>\n",
       "      <td>VirginTrains</td>\n",
       "      <td>hope well does train crewe euston class peak peak</td>\n",
       "      <td>hope do train crewe euston class peak peak</td>\n",
       "    </tr>\n",
       "    <tr>\n",
       "      <th>1176986</th>\n",
       "      <td>@143549 @sprintcare You have to go to https://...</td>\n",
       "      <td>sprintcare</td>\n",
       "      <td>them hulu service account after text good</td>\n",
       "      <td>hulu service account text good</td>\n",
       "    </tr>\n",
       "    <tr>\n",
       "      <th>1176987</th>\n",
       "      <td>@AldiUK  warm sloe gin mince pies with ice cre...</td>\n",
       "      <td>AldiUK</td>\n",
       "      <td>warm sloe mince pies cream best thing ever</td>\n",
       "      <td>warm sloe mince pie cream good thing ever</td>\n",
       "    </tr>\n",
       "  </tbody>\n",
       "</table>\n",
       "<p>1133828 rows × 4 columns</p>\n",
       "</div>"
      ],
      "text/plain": [
       "                                                      text    Organization  \\\n",
       "0            @sprintcare and how do you propose we do that      sprintcare   \n",
       "1        @sprintcare I have sent several private messag...      sprintcare   \n",
       "2                                       @sprintcare I did.      sprintcare   \n",
       "3                @sprintcare is the worst customer service      sprintcare   \n",
       "4        @sprintcare You gonna magically change your co...      sprintcare   \n",
       "...                                                    ...             ...   \n",
       "1176983  Hai @AirAsiaSupport #asking how many days need...  AirAsiaSupport   \n",
       "1176984  @AirAsiaSupport \\n\\nI am unable to do web chec...  AirAsiaSupport   \n",
       "1176985  @VirginTrains Hope you are well? Does the 9.30...    VirginTrains   \n",
       "1176986  @143549 @sprintcare You have to go to https://...      sprintcare   \n",
       "1176987  @AldiUK  warm sloe gin mince pies with ice cre...          AldiUK   \n",
       "\n",
       "                                                    Corpus  \\\n",
       "0                                                  propose   \n",
       "1           sent several private messages responding usual   \n",
       "2                                                            \n",
       "3                                   worst customer service   \n",
       "4         gonna magically change connectivity whole family   \n",
       "...                                                    ...   \n",
       "1176983  many days needed proceed cancelation flight th...   \n",
       "1176984  unable checkin getting below error check rever...   \n",
       "1176985  hope well does train crewe euston class peak peak   \n",
       "1176986          them hulu service account after text good   \n",
       "1176987         warm sloe mince pies cream best thing ever   \n",
       "\n",
       "                                                     lemma  \n",
       "0                                                  propose  \n",
       "1               send several private message respond usual  \n",
       "2                                                           \n",
       "3                                     bad customer service  \n",
       "4           gon magically change connectivity whole family  \n",
       "...                                                    ...  \n",
       "1176983  many day need proceed cancelation flight email...  \n",
       "1176984        unable checkin get error check revert thank  \n",
       "1176985         hope do train crewe euston class peak peak  \n",
       "1176986                     hulu service account text good  \n",
       "1176987          warm sloe mince pie cream good thing ever  \n",
       "\n",
       "[1133828 rows x 4 columns]"
      ]
     },
     "execution_count": 98,
     "metadata": {},
     "output_type": "execute_result"
    }
   ],
   "source": [
    "df_final"
   ]
  },
  {
   "cell_type": "code",
   "execution_count": 99,
   "id": "91cc015c",
   "metadata": {},
   "outputs": [
    {
     "name": "stderr",
     "output_type": "stream",
     "text": [
      "100%|█████████████████████████████████████████████████████████████████████| 1133828/1133828 [00:39<00:00, 28962.84it/s]\n"
     ]
    }
   ],
   "source": [
    "def gen_words(texts):\n",
    "    final = []\n",
    "    for text in tqdm(texts):\n",
    "        new = gensim.utils.simple_preprocess(text, deacc=True)\n",
    "        final.append(new)\n",
    "    return (final)\n",
    "\n",
    "data_words = gen_words(df_final['lemma'])\n"
   ]
  },
  {
   "cell_type": "markdown",
   "id": "739f156b",
   "metadata": {},
   "source": [
    "Now we will find out Bigram and Trigrams present in our dataset"
   ]
  },
  {
   "cell_type": "code",
   "execution_count": 100,
   "id": "30dd4209",
   "metadata": {},
   "outputs": [
    {
     "name": "stderr",
     "output_type": "stream",
     "text": [
      "100%|█████████████████████████████████████████████████████████████████████| 1133828/1133828 [00:17<00:00, 64274.93it/s]\n",
      "100%|█████████████████████████████████████████████████████████████████████| 1133828/1133828 [00:28<00:00, 40377.59it/s]\n"
     ]
    }
   ],
   "source": [
    "#BIGRAMS AND TRIGRAMS\n",
    "bigram_phrases = gensim.models.Phrases(data_words, min_count=5, threshold=100)\n",
    "trigram_phrases = gensim.models.Phrases(bigram_phrases[data_words], threshold=100)\n",
    "\n",
    "bigram = gensim.models.phrases.Phraser(bigram_phrases)\n",
    "trigram = gensim.models.phrases.Phraser(trigram_phrases)\n",
    "\n",
    "def make_bigrams(texts):\n",
    "    return([bigram[doc] for doc in tqdm(texts)])\n",
    "\n",
    "def make_trigrams(texts):\n",
    "    return ([trigram[bigram[doc]] for doc in tqdm(texts)])\n",
    "\n",
    "data_bigrams = make_bigrams(data_words)\n",
    "data_bigrams_trigrams = make_trigrams(data_bigrams)\n",
    "\n",
    "#This code is taken from Stackoverflow\n"
   ]
  },
  {
   "cell_type": "code",
   "execution_count": 101,
   "id": "f46aaf0b",
   "metadata": {},
   "outputs": [
    {
     "data": {
      "text/plain": [
       "[['propose'],\n",
       " ['send', 'several', 'private', 'message', 'respond', 'usual'],\n",
       " [],\n",
       " ['bad', 'customer', 'service'],\n",
       " ['gon', 'magically', 'change', 'connectivity', 'whole', 'family'],\n",
       " ['sign'],\n",
       " ['like', 'email', 'copy', 'spectrum', 'update', 'training'],\n",
       " ['receive', 'corporate', 'office', 'like', 'copy'],\n",
       " ['correct',\n",
       "  'account',\n",
       "  'takeover',\n",
       "  'email',\n",
       "  'consent',\n",
       "  'form',\n",
       "  'do',\n",
       "  'need',\n",
       "  'do',\n",
       "  'local',\n",
       "  'office'],\n",
       " ['incorrect',\n",
       "  'information',\n",
       "  'form',\n",
       "  'front',\n",
       "  'fax',\n",
       "  'maybe',\n",
       "  'need',\n",
       "  'maintain',\n",
       "  'date',\n",
       "  'information'],\n",
       " ['customer',\n",
       "  'service',\n",
       "  'rep',\n",
       "  'super',\n",
       "  'nice',\n",
       "  'imma',\n",
       "  'start',\n",
       "  'trippin',\n",
       "  'service',\n",
       "  'go'],\n",
       " ['picture', 'pretty', 'much', 'month'],\n",
       " ['finally', 'help'],\n",
       " ['meeeeee', 'have', 'bad', 'luck', 'customer', 'service'],\n",
       " ['friend',\n",
       "  'internet',\n",
       "  'need',\n",
       "  'play',\n",
       "  'videogame',\n",
       "  'together',\n",
       "  'skill',\n",
       "  'diminish',\n",
       "  'moment',\n",
       "  'internetz'],\n",
       " ['else', 'provide', 'refuse', 'validate', 'account'],\n",
       " ['phone',\n",
       "  'number',\n",
       "  'email',\n",
       "  'equipment',\n",
       "  'service',\n",
       "  'literally',\n",
       "  'try',\n",
       "  'find'],\n",
       " ['know', 'router', 'downstairs', 'wifi', 'connect', 'ethernet'],\n",
       " ['randomly', 'boot', 'offline', 'go', 'again'],\n",
       " [],\n",
       " ['cut', 'minute', 'ridiculous'],\n",
       " ['becky', 'very', 'nice'],\n",
       " ['veggie', 'burrito', 'costume'],\n",
       " ['mess', 'today', 'didn', 'give', 'burrito', 'dress'],\n",
       " ['wanna', 'come', 'mammoth', 'least', 'there', 'week', 'promise'],\n",
       " ['excellent',\n",
       "  'service',\n",
       "  'tonight',\n",
       "  'plenty',\n",
       "  'people',\n",
       "  'line',\n",
       "  'go',\n",
       "  'very',\n",
       "  'fast',\n",
       "  'kind'],\n",
       " ['only', 'costume'],\n",
       " ['diet_coke', 'literal', 'bone', 'boorito', 'extra', 'spooky'],\n",
       " ['queso', 'quac', 'bowl', 'extra'],\n",
       " ['happy',\n",
       "  'halloween',\n",
       "  'trick',\n",
       "  'treat',\n",
       "  'look',\n",
       "  'forward',\n",
       "  'booritos',\n",
       "  'mine',\n",
       "  'early'],\n",
       " ['thank', 'resolve', 'issue', 'quickly', 'good'],\n",
       " ['frustrated',\n",
       "  'order',\n",
       "  'dinner',\n",
       "  'saturday',\n",
       "  'use',\n",
       "  'order',\n",
       "  'wrong',\n",
       "  'charge',\n",
       "  'credit',\n",
       "  'card',\n",
       "  'twice'],\n",
       " ['give',\n",
       "  'burritos',\n",
       "  'dress',\n",
       "  'halloween',\n",
       "  'call',\n",
       "  'chipotle',\n",
       "  'make',\n",
       "  'sure',\n",
       "  'do',\n",
       "  'select',\n",
       "  'one'],\n",
       " ['try', 'didn', 'work', 'rude'],\n",
       " ['dress', 'still', 'qualify', 'boorito'],\n",
       " ['year',\n",
       "  'trick',\n",
       "  'treat',\n",
       "  'routine',\n",
       "  'walk',\n",
       "  'chipotle',\n",
       "  'spending',\n",
       "  'dollar',\n",
       "  'walk',\n",
       "  'back',\n",
       "  'home'],\n",
       " ['nasty', 'use', 'napkin', 'food'],\n",
       " ['burritos', 'nowhere', 'near'],\n",
       " ['also', 'onesie', 'target', 'cozy'],\n",
       " ['becky', 'feeling', 'sorry', 'fianc', 'drive', 'mississippi', 'tonight'],\n",
       " ['consider', 'walk', 'llama', 'onesie', 'alone', 'happy', 'halloween'],\n",
       " ['name', 'well', 'halloween'],\n",
       " ['already'],\n",
       " ['november', 'free', 'game'],\n",
       " ['download', 'wait', 'hour', 'buy', 'download'],\n",
       " ['buy',\n",
       "  'lego_star_war',\n",
       "  'playstation',\n",
       "  'store',\n",
       "  'download',\n",
       "  'datum',\n",
       "  'corrupt'],\n",
       " ['block', 'community', 'send', 'invite', 'do', 'want', 'join'],\n",
       " ['count_colin'],\n",
       " ['never',\n",
       "  'mind',\n",
       "  'avocado',\n",
       "  'word',\n",
       "  'really',\n",
       "  'necessary',\n",
       "  'pair',\n",
       "  'be',\n",
       "  'suffocate'],\n",
       " ['meat', 'do', 'unwrapped', 'meat', 'sainsbury', 'charge', 'waitrose'],\n",
       " ['check',\n",
       "  'office',\n",
       "  'legal',\n",
       "  'state',\n",
       "  'right',\n",
       "  'funny',\n",
       "  'other',\n",
       "  'store',\n",
       "  'wonder',\n",
       "  'lidl',\n",
       "  'rest',\n",
       "  'beat'],\n",
       " ['charge',\n",
       "  'least',\n",
       "  'include',\n",
       "  'carrier',\n",
       "  'bag',\n",
       "  'follow',\n",
       "  'unused',\n",
       "  'hasn',\n",
       "  'already',\n",
       "  'use',\n",
       "  'sell',\n",
       "  'good',\n",
       "  'take',\n",
       "  'away',\n",
       "  'deliver',\n",
       "  'plastic',\n",
       "  'micron',\n",
       "  'thick',\n",
       "  'less',\n",
       "  'handle',\n",
       "  'open',\n",
       "  'seal'],\n",
       " ['aren',\n",
       "  'require',\n",
       "  'charge',\n",
       "  'paper',\n",
       "  'bag',\n",
       "  'shop',\n",
       "  'airport',\n",
       "  'board',\n",
       "  'train',\n",
       "  'aeroplane',\n",
       "  'ship',\n",
       "  'bag',\n",
       "  'only',\n",
       "  'contain',\n",
       "  'certain',\n",
       "  'item',\n",
       "  'such',\n",
       "  'unwrapped',\n",
       "  'food',\n",
       "  'meat',\n",
       "  'fish',\n",
       "  'where',\n",
       "  'there',\n",
       "  'food',\n",
       "  'safety',\n",
       "  'risk',\n",
       "  'prescription',\n",
       "  'medicine',\n",
       "  'uncover',\n",
       "  'blade',\n",
       "  'seed',\n",
       "  'bulb'],\n",
       " ['charge',\n",
       "  'meat',\n",
       "  'collier_wood',\n",
       "  'branch',\n",
       "  'meat',\n",
       "  'require',\n",
       "  'supply',\n",
       "  'customer',\n",
       "  'free',\n",
       "  'poor',\n",
       "  'service'],\n",
       " ['excellent', 'halloweening'],\n",
       " ['brilliant', 'thank'],\n",
       " ['brilliant', 'thank'],\n",
       " ['have', 'trouble', 'make', 'purchase', 'xbox', 'store', 'fifa', 'point'],\n",
       " ['need',\n",
       "  'assistance',\n",
       "  'recover',\n",
       "  'hotmail',\n",
       "  'account',\n",
       "  'fill',\n",
       "  'recovery',\n",
       "  'form',\n",
       "  'tell',\n",
       "  'provide',\n",
       "  'enough',\n",
       "  'info'],\n",
       " ['streaming', 'wwii', 'viewer'],\n",
       " ['try',\n",
       "  'digital_deluxe_edition',\n",
       "  'store',\n",
       "  'keep',\n",
       "  'receive',\n",
       "  'error',\n",
       "  'message'],\n",
       " [],\n",
       " ['still', 'oder', 'playstation', 'store'],\n",
       " ['yous', 'go', 'update', 'zombie'],\n",
       " ['try', 'there', 'people', 'come', 'back'],\n",
       " ['game', 'friday', 'code', 'receipt'],\n",
       " ['beta', 'code'],\n",
       " ['code'],\n",
       " ['order', 'game', 'game', 'stop'],\n",
       " ['double'],\n",
       " ['order', 'wwii', 'code'],\n",
       " ['seth', 'tubb'],\n",
       " ['stat', 'reset', 'know'],\n",
       " ['season', 'pass', 'holder', 'bobus', 'carentan', 'point'],\n",
       " ['didn', 'work', 'try', 'computer', 'fresh', 'install', 'same', 'thing'],\n",
       " ['sure', 'thing'],\n",
       " ['ctrl', 'shift', 'load', 'method', 'work'],\n",
       " ['pretty',\n",
       "  'much',\n",
       "  'explain',\n",
       "  'issue',\n",
       "  'quote',\n",
       "  'tweet',\n",
       "  'drag',\n",
       "  'image',\n",
       "  'canvas',\n",
       "  'long',\n",
       "  'center',\n",
       "  'snap'],\n",
       " ['here'],\n",
       " ['nope', 'still', 'down'],\n",
       " ['do', 'multiple', 'time', 'happen', 'previous', 'version', 'well'],\n",
       " [],\n",
       " ['available'],\n",
       " ['very',\n",
       "  'frustrating',\n",
       "  'multiple',\n",
       "  'job',\n",
       "  'need',\n",
       "  'finished',\n",
       "  'application',\n",
       "  'be',\n",
       "  'help'],\n",
       " ['still',\n",
       "  'break',\n",
       "  'delete',\n",
       "  'probably',\n",
       "  'get',\n",
       "  'membership',\n",
       "  'return',\n",
       "  'work',\n",
       "  'properly'],\n",
       " ['wait', 'next', 'update', 'waste', 'time', 'patience', 'adobe', 'product'],\n",
       " ['do', 'guy', 'tell', 'know', 'retina', 'imac', 'fairly'],\n",
       " ['guy',\n",
       "  'say',\n",
       "  'week',\n",
       "  'product',\n",
       "  'go',\n",
       "  'be',\n",
       "  'great',\n",
       "  'unable',\n",
       "  'work',\n",
       "  'terrible',\n",
       "  'very',\n",
       "  'disappointed'],\n",
       " [],\n",
       " [],\n",
       " [],\n",
       " ['change',\n",
       "  'son',\n",
       "  'xbox',\n",
       "  'live',\n",
       "  'account',\n",
       "  'hotmail',\n",
       "  'account',\n",
       "  'currently',\n",
       "  'link',\n",
       "  'hotmail',\n",
       "  'account'],\n",
       " ['intermittent',\n",
       "  'file',\n",
       "  'fail',\n",
       "  'reliably',\n",
       "  'create',\n",
       "  'subfolder',\n",
       "  'option',\n",
       "  'make',\n",
       "  'empty',\n",
       "  'folder'],\n",
       " ['seem',\n",
       "  'pretty',\n",
       "  'widespread',\n",
       "  'mean',\n",
       "  'jerk',\n",
       "  'frustrating',\n",
       "  'update',\n",
       "  'break',\n",
       "  'core',\n",
       "  'functionality'],\n",
       " ['here',\n",
       "  'example',\n",
       "  'export',\n",
       "  'before',\n",
       "  'export',\n",
       "  'setting',\n",
       "  'unchanged',\n",
       "  'default',\n",
       "  'only',\n",
       "  'file'],\n",
       " ['solve', 'phone', 'support'],\n",
       " ['indesign',\n",
       "  'export',\n",
       "  'pdfs',\n",
       "  'blurry',\n",
       "  'link',\n",
       "  'link',\n",
       "  'miss',\n",
       "  'indd',\n",
       "  'file',\n",
       "  'export',\n",
       "  'blurry'],\n",
       " ['send', 'message', 'detail'],\n",
       " ['info', 'either'],\n",
       " ['go', 'ship', 'kinda', 'weird'],\n",
       " ['know', 'xbox', 'ship', 'know', 'shouldn', 'mystery'],\n",
       " ['kinda',\n",
       "  'need',\n",
       "  'make',\n",
       "  'sure',\n",
       "  'bank',\n",
       "  'nice',\n",
       "  'know',\n",
       "  'cash',\n",
       "  'laying',\n",
       "  'know'],\n",
       " ['already', 'call', 'answer', 'question', 'try', 'jerk', 'nuts', 'answer'],\n",
       " ['know', 'make', 'sure', 'enough', 'money'],\n",
       " ['know', 'order', 'go', 'ship', 'xbox'],\n",
       " ['redeem', 'code', 'fifa', 'point', 'afternoon', 'still', 'haven'],\n",
       " ['screen',\n",
       "  'sure',\n",
       "  'xbox',\n",
       "  'side',\n",
       "  'side',\n",
       "  'break',\n",
       "  'last',\n",
       "  'time',\n",
       "  'call',\n",
       "  'head',\n",
       "  'office'],\n",
       " ['xboxe', 'work', 'error', 'code', 'do', 'power_cycle', 'still', 'same'],\n",
       " ['colleague', 'more', 'info', 'affect', 'service'],\n",
       " ['book', 'passport', 'picture', 'much', 'quick', 'action'],\n",
       " ['thank', 'very', 'much'],\n",
       " ['know',\n",
       "  'itenerary',\n",
       "  'birthday',\n",
       "  'see',\n",
       "  'like',\n",
       "  'double',\n",
       "  'check',\n",
       "  'birthday',\n",
       "  'right'],\n",
       " ['only', 'itenerary', 'birthday'],\n",
       " ['airasia',\n",
       "  'want',\n",
       "  'rebook',\n",
       "  'return',\n",
       "  'flight',\n",
       "  'rebooking',\n",
       "  'inbond',\n",
       "  'also',\n",
       "  'rebooke'],\n",
       " ['book',\n",
       "  'ticket',\n",
       "  'itenary',\n",
       "  'redundant',\n",
       "  'call',\n",
       "  'customer',\n",
       "  'service',\n",
       "  'assist',\n",
       "  'line'],\n",
       " ['lose', 'booking', 'chua', 'loreen', 'flight', 'taipei', 'manila', 'email'],\n",
       " ['yana', 'follow'],\n",
       " ['yana', 'mean', 'email'],\n",
       " ['check', 'haven', 'hear', 'case', 'officer', 'week', 'provide', 'doc'],\n",
       " ['even',\n",
       "  'happy',\n",
       "  'know',\n",
       "  'restriction',\n",
       "  'volcano',\n",
       "  'area',\n",
       "  'lift',\n",
       "  'enjoy',\n",
       "  'stay',\n",
       "  'home'],\n",
       " ['refund', 'trip', 'bali_volcano', 'eruption', 'urgently', 'refund'],\n",
       " ['surname', 'redundant', 'where', 'correct'],\n",
       " ['lip', 'seal'],\n",
       " ['aahhrrgh', 'keep', 'still', 'watch'],\n",
       " ['sophie', 'deserve', 'winner'],\n",
       " ['fresh',\n",
       "  'cream',\n",
       "  'palmy',\n",
       "  'bakery',\n",
       "  'bellshill',\n",
       "  'get',\n",
       "  'vote',\n",
       "  'baker',\n",
       "  'catching',\n",
       "  'know'],\n",
       " ['pointless', 'time', 'matter', 'speak', 'management', 'staff'],\n",
       " ['very',\n",
       "  'familiar',\n",
       "  'sight',\n",
       "  'houghton_regis',\n",
       "  'more',\n",
       "  'staff',\n",
       "  'stock',\n",
       "  'place',\n",
       "  'properly',\n",
       "  'small',\n",
       "  'example'],\n",
       " ['reduce', 'hide', 'label', 'side', 'then', 'care', 'feel', 'rip'],\n",
       " ['thank', 'nike'],\n",
       " ['nike_club', 'start', 'guide', 'run', 'couch'],\n",
       " ['ask', 'sale', 'payment', 'wasn', 'ready', 'listen', 'issue'],\n",
       " ['sure', 'drop', 'message'],\n",
       " ['amex', 'platinum', 'amex', 'everyday', 'card'],\n",
       " ['ready', 'listen', 'want', 'question', 'else', 'hang'],\n",
       " ['think',\n",
       "  'amex',\n",
       "  'value',\n",
       "  'customer',\n",
       "  'really',\n",
       "  'rep',\n",
       "  'customer',\n",
       "  'service'],\n",
       " ['treat'],\n",
       " ['treat'],\n",
       " ['uhhhhhhhhhh', 'treat'],\n",
       " ['work',\n",
       "  'tomorrow',\n",
       "  'phone',\n",
       "  'be',\n",
       "  'overnighte',\n",
       "  'there',\n",
       "  'then',\n",
       "  'other',\n",
       "  'ride'],\n",
       " ['send'],\n",
       " ['granny', 'attend', 'give', 'able', 'bring'],\n",
       " ['grandma_lay_delicious'],\n",
       " ['different',\n",
       "  'people',\n",
       "  'give',\n",
       "  'different',\n",
       "  'answer',\n",
       "  'still',\n",
       "  'order',\n",
       "  'say',\n",
       "  'deliver',\n",
       "  'saturday',\n",
       "  'home'],\n",
       " ['frankly', 'patience', 'chat', 'customer', 'service', 'people', 'today'],\n",
       " ['danke', 'info'],\n",
       " ['crazy',\n",
       "  'less',\n",
       "  'week',\n",
       "  'away',\n",
       "  'still',\n",
       "  'ship',\n",
       "  'information',\n",
       "  'order',\n",
       "  'back',\n",
       "  'august'],\n",
       " ['order',\n",
       "  'local',\n",
       "  'courier',\n",
       "  'last',\n",
       "  'day',\n",
       "  'still',\n",
       "  'hasn',\n",
       "  'deliver',\n",
       "  'week',\n",
       "  'late'],\n",
       " ['ready'],\n",
       " ['echo', 'show', 'long', 'support'],\n",
       " ['there', 'help', 'echo', 'show'],\n",
       " ['buy', 'echo', 'show', 'recognize', 'single', 'account', 'household', 'guy'],\n",
       " ['page',\n",
       "  'useless',\n",
       "  'doesn',\n",
       "  'allow',\n",
       "  'state',\n",
       "  'hasn',\n",
       "  'deliver',\n",
       "  'only',\n",
       "  'tell',\n",
       "  'sort'],\n",
       " ['want',\n",
       "  'form',\n",
       "  'fill',\n",
       "  'log',\n",
       "  'response',\n",
       "  'read',\n",
       "  'want',\n",
       "  'prevent',\n",
       "  'amzl',\n",
       "  'touch',\n",
       "  'stuff',\n",
       "  'possible'],\n",
       " ['already', 'start', 'return', 'get', 'doorstep', 'tomorrow', 'order'],\n",
       " ['possible',\n",
       "  'prevent',\n",
       "  'amzl',\n",
       "  'deliver',\n",
       "  'package',\n",
       "  'move',\n",
       "  'forward',\n",
       "  'stuff',\n",
       "  'lose',\n",
       "  'steal',\n",
       "  'break',\n",
       "  'time'],\n",
       " ['already', 'handle', 'venting', 'pretty', 'bummer'],\n",
       " ['delivery',\n",
       "  'pay',\n",
       "  'today',\n",
       "  'didn',\n",
       "  'arrive',\n",
       "  'pay',\n",
       "  'enough',\n",
       "  'where',\n",
       "  'unhappy',\n",
       "  'refund',\n",
       "  'delivery',\n",
       "  'charge'],\n",
       " ['reply', 'make', 'night'],\n",
       " ['say', 'sorted', 'refunded', 'impressed', 'service', 'more'],\n",
       " ['detail', 'send', 'check'],\n",
       " ['already',\n",
       "  'contact',\n",
       "  'time',\n",
       "  'last',\n",
       "  'month',\n",
       "  'assurance',\n",
       "  'matter',\n",
       "  'escalate',\n",
       "  'status',\n",
       "  'provide'],\n",
       " ['order', 'couldn', 'deliver', 'even', 'month', 'ashamed'],\n",
       " ['stop',\n",
       "  'give',\n",
       "  'videogame',\n",
       "  'order',\n",
       "  'amazon',\n",
       "  'prime',\n",
       "  'member',\n",
       "  'confuse'],\n",
       " ['new', 'update', 'make', 'sure', 'download', 'yesterday'],\n",
       " [],\n",
       " ['change', 'show', 'correctly', 'social_medium', 'platform'],\n",
       " ['try', 'reset', 'setting', 'restart', 'phone'],\n",
       " ['look'],\n",
       " ['iphone'],\n",
       " ['need', 'answer', 'annoying'],\n",
       " ['send'],\n",
       " ['else', 'upgrade', 'have', 'issue', 'capital', 'mail', 'put'],\n",
       " ['happen'],\n",
       " ['call', 'centre', 'close', 'night'],\n",
       " ['line', 'close', 'tonight'],\n",
       " ['upgrade', 'didn', 'work'],\n",
       " [],\n",
       " ['go', 'need', 'share', 'answer', 'angela', 'stand'],\n",
       " ['internet',\n",
       "  'explain',\n",
       "  'symbol',\n",
       "  'keep',\n",
       "  'appear',\n",
       "  'phone',\n",
       "  'type',\n",
       "  'letter',\n",
       "  'also'],\n",
       " ['screenshot', 'saying', 'reserve', 'then', 'email', 'say', 'happen'],\n",
       " ['iphone', 'most_recent', 'update'],\n",
       " ['thank',\n",
       "  'update',\n",
       "  'phone',\n",
       "  'even',\n",
       "  'slow',\n",
       "  'barely',\n",
       "  'work',\n",
       "  'thank',\n",
       "  'ruin',\n",
       "  'phone'],\n",
       " [],\n",
       " ['okey', 'thank'],\n",
       " ['iphone'],\n",
       " ['need',\n",
       "  'software',\n",
       "  'update',\n",
       "  'urgently',\n",
       "  'battery',\n",
       "  'last',\n",
       "  'literally',\n",
       "  'half'],\n",
       " ['hola_necesito',\n",
       "  'urgente',\n",
       "  'actualizaci',\n",
       "  'software',\n",
       "  'bater_dura',\n",
       "  'literal',\n",
       "  'medio'],\n",
       " ['go', 'youtube', 'lose', 'do', 'support'],\n",
       " [],\n",
       " ['apple',\n",
       "  'work',\n",
       "  'fine',\n",
       "  'phone',\n",
       "  'playing',\n",
       "  'video',\n",
       "  'stutter',\n",
       "  'much',\n",
       "  'sound',\n",
       "  'still'],\n",
       " [],\n",
       " ['home', 'button', 'doesn', 'work'],\n",
       " ['find', 'option', 'always', 'there', 'play'],\n",
       " ['still', 'there', 'long', 'able', 'control', 'lockscreen'],\n",
       " ['already',\n",
       "  'tell',\n",
       "  'request',\n",
       "  'drop',\n",
       "  'somewhere',\n",
       "  'different',\n",
       "  'completely',\n",
       "  'false'],\n",
       " ['get', 'text'],\n",
       " ['wouldn'],\n",
       " ['phone',\n",
       "  'number',\n",
       "  'literally',\n",
       "  'strand',\n",
       "  'wait',\n",
       "  'automate',\n",
       "  'reply',\n",
       "  'ridiculous'],\n",
       " ['literally', 'strand', 'support', 'phone', 'number', 'wait', 'message'],\n",
       " ['tall',\n",
       "  'lady',\n",
       "  'slim',\n",
       "  'think',\n",
       "  'blonde_hair',\n",
       "  'serve',\n",
       "  'know',\n",
       "  'didn',\n",
       "  'queue',\n",
       "  'other'],\n",
       " ['wrong',\n",
       "  'really',\n",
       "  'appreciate',\n",
       "  'need',\n",
       "  'investigate',\n",
       "  'simply',\n",
       "  'queue',\n",
       "  'push'],\n",
       " ['check',\n",
       "  'daily',\n",
       "  'flight',\n",
       "  'never',\n",
       "  'offer',\n",
       "  'option',\n",
       "  'most',\n",
       "  'certainly',\n",
       "  'make',\n",
       "  'adjust',\n",
       "  'trip'],\n",
       " ['wasn',\n",
       "  'early',\n",
       "  'flight',\n",
       "  'offer',\n",
       "  'try',\n",
       "  'rebook',\n",
       "  'cool',\n",
       "  'happen',\n",
       "  'look',\n",
       "  'moniter',\n",
       "  'deplane'],\n",
       " [],\n",
       " ['screenshot', 'explanation'],\n",
       " ['seem', 'technical', 'issue', 'still', 'hasn', 'fix', 'look', 'again'],\n",
       " ['change', 'flight', 'search', 'option', 'website', 'break', 'once', 'again'],\n",
       " ['do', 'already'],\n",
       " ['reply', 'thread'],\n",
       " ['time', 'haven', 'hear'],\n",
       " ['actually', 'look', 'again', 'disagree', 'idea'],\n",
       " ['think', 'figured', 'run', 'flight', 'need', 'check', 'aeromexico'],\n",
       " ['fly', 'tomorrow', 'book', 'look', 'first', 'check'],\n",
       " [],\n",
       " ['same', 'again', 'give'],\n",
       " ['full',\n",
       "  'flight',\n",
       "  'change',\n",
       "  'comfort',\n",
       "  'class',\n",
       "  'handling',\n",
       "  'agent',\n",
       "  'telling',\n",
       "  'take',\n",
       "  'care',\n",
       "  'excuse',\n",
       "  'retwitter',\n",
       "  'reply'],\n",
       " ['obviously',\n",
       "  'read',\n",
       "  'already',\n",
       "  'say',\n",
       "  'give',\n",
       "  'exactly',\n",
       "  'same',\n",
       "  'answer',\n",
       "  'know',\n",
       "  'guarantee',\n",
       "  'know',\n",
       "  'move',\n",
       "  'know',\n",
       "  'employee',\n",
       "  'sit',\n",
       "  'seat'],\n",
       " ['tweet', 'same'],\n",
       " ['even'],\n",
       " [],\n",
       " ['doesn', 'work', 'even', 'try', 'delete'],\n",
       " ['premium',\n",
       "  'shuffle',\n",
       "  'turn',\n",
       "  'song',\n",
       "  'do',\n",
       "  'play',\n",
       "  'order',\n",
       "  'repeat',\n",
       "  'light',\n",
       "  'doesn',\n",
       "  'repeat'],\n",
       " ['iphone', 'most_recent', 'update', 'spotify'],\n",
       " ['multiple',\n",
       "  'time',\n",
       "  'change',\n",
       "  'premium',\n",
       "  'user',\n",
       "  'send',\n",
       "  'user',\n",
       "  'spotify',\n",
       "  'bugfree',\n",
       "  'run'],\n",
       " ['manage', 'album', 'recently', 'add', 'mess'],\n",
       " ['groove',\n",
       "  'music',\n",
       "  'quit',\n",
       "  'redirect',\n",
       "  'spotify',\n",
       "  'bugf',\n",
       "  'far',\n",
       "  'update',\n",
       "  'possible'],\n",
       " [],\n",
       " ['find', 'explicit', 'song', 'explicit'],\n",
       " ['sure', 'much', 'upgrade', 'cost', 'curiosity'],\n",
       " ['more',\n",
       "  'importantly',\n",
       "  'there',\n",
       "  'early',\n",
       "  'flight',\n",
       "  'itinerary',\n",
       "  'rebooke',\n",
       "  'preference'],\n",
       " ['itinerary',\n",
       "  'prefer',\n",
       "  'unable',\n",
       "  'view',\n",
       "  'other',\n",
       "  'option',\n",
       "  'manage',\n",
       "  'booking',\n",
       "  'link',\n",
       "  'include',\n",
       "  'original',\n",
       "  'cancelation',\n",
       "  'email'],\n",
       " ['assume',\n",
       "  'be',\n",
       "  'sapphire',\n",
       "  'do',\n",
       "  'matter',\n",
       "  'find',\n",
       "  'landing',\n",
       "  'where',\n",
       "  'park'],\n",
       " ['flight',\n",
       "  'cancel',\n",
       "  'excited',\n",
       "  'club',\n",
       "  'product',\n",
       "  'only',\n",
       "  'available',\n",
       "  'flight',\n",
       "  'hassle',\n",
       "  'rebooke',\n",
       "  'anyway',\n",
       "  'only',\n",
       "  'option',\n",
       "  'availability',\n",
       "  'first',\n",
       "  'class',\n",
       "  'trouble'],\n",
       " ['info',\n",
       "  'check',\n",
       "  'sanket',\n",
       "  'thakur',\n",
       "  'supposedly',\n",
       "  'customer',\n",
       "  'service',\n",
       "  'reference',\n",
       "  'number'],\n",
       " ['ever', 'address', 'complaint', 'claim', 'ignore'],\n",
       " ['booking', 'qma', 'second', 'send', 'info', 'be', 'tell', 'entitle'],\n",
       " ['hotel', 'good', 'bill', 'cancel', 'flight', 'home'],\n",
       " ['confirm',\n",
       "  'email',\n",
       "  'send',\n",
       "  'passport',\n",
       "  'detail',\n",
       "  'change',\n",
       "  'name',\n",
       "  'ticket',\n",
       "  'email'],\n",
       " ['here',\n",
       "  'news',\n",
       "  'article',\n",
       "  'case',\n",
       "  'guy',\n",
       "  'need',\n",
       "  'update',\n",
       "  'future',\n",
       "  'share'],\n",
       " ['runway',\n",
       "  'maintenance',\n",
       "  'delhi',\n",
       "  'flight',\n",
       "  'cancel',\n",
       "  'want',\n",
       "  'know',\n",
       "  'status'],\n",
       " ['hour', 'assist', 'email', 'address', 'email'],\n",
       " ['think', 'strange', 'receive', 'confirmation', 'email', 'flight', 'other'],\n",
       " ['amsterdam',\n",
       "  'london',\n",
       "  'london',\n",
       "  'athen',\n",
       "  'receive',\n",
       "  'confirmation',\n",
       "  'contact'],\n",
       " ['full', 'name', 'david', 'simon'],\n",
       " ['update', 'sophie'],\n",
       " ['make',\n",
       "  'booking',\n",
       "  'only',\n",
       "  'receive',\n",
       "  'confirmation',\n",
       "  'email',\n",
       "  'flight',\n",
       "  'little'],\n",
       " [],\n",
       " ['send', 'thank'],\n",
       " ['phoenix',\n",
       "  'sun',\n",
       "  'auto',\n",
       "  'record',\n",
       "  'team',\n",
       "  'channel',\n",
       "  'try',\n",
       "  'record',\n",
       "  'tonight',\n",
       "  'only',\n",
       "  'want',\n",
       "  'regular',\n",
       "  'broadcast',\n",
       "  'game',\n",
       "  'record',\n",
       "  'tivo',\n",
       "  'do'],\n",
       " ['reply',\n",
       "  'say',\n",
       "  'update',\n",
       "  'software',\n",
       "  'know',\n",
       "  'record',\n",
       "  'unavailable',\n",
       "  'channel',\n",
       "  'software'],\n",
       " ['erica', 'team', 'amazing', 'give', 'raise'],\n",
       " ['team', 'available', 'guide', 'gate', 'asap'],\n",
       " ['flight',\n",
       "  'min',\n",
       "  'almost',\n",
       "  'legally',\n",
       "  'blind',\n",
       "  'didn',\n",
       "  'know',\n",
       "  'where',\n",
       "  'know',\n",
       "  'need',\n",
       "  'assistance'],\n",
       " ['right',\n",
       "  'earn',\n",
       "  'also',\n",
       "  'shouldn',\n",
       "  'pass',\n",
       "  'spouse',\n",
       "  'need',\n",
       "  'change',\n",
       "  'program'],\n",
       " ['go', 'cost', 'transfer', 'advantage', 'point', 'spouse', 'ridiculous'],\n",
       " ['head',\n",
       "  'london',\n",
       "  'tonight',\n",
       "  'there',\n",
       "  'day',\n",
       "  'do',\n",
       "  'exciting',\n",
       "  'stuff',\n",
       "  'drink',\n",
       "  'ready',\n",
       "  'come',\n",
       "  'aboard'],\n",
       " ['check', 'tiny', 'trick_treater', 'dress', 'young', 'training'],\n",
       " ['thank',\n",
       "  'play',\n",
       "  'have',\n",
       "  'great',\n",
       "  'flight',\n",
       "  'attendant',\n",
       "  'flight',\n",
       "  'back',\n",
       "  'home'],\n",
       " ['try', 'redeem', 'free', 'tuesday', 'code', 'let', 'tell', 'error'],\n",
       " [],\n",
       " ['maybe', 'problem', 'resize'],\n",
       " ['resize',\n",
       "  'instead',\n",
       "  'alert',\n",
       "  'wouldn',\n",
       "  'take',\n",
       "  'coupon',\n",
       "  'code',\n",
       "  'resize',\n",
       "  'work'],\n",
       " ['code', 'working', 'apply', 'checkout', 'look'],\n",
       " ['wait',\n",
       "  'almost',\n",
       "  'hour',\n",
       "  'then',\n",
       "  'rude',\n",
       "  'arrogant',\n",
       "  'unhelpful',\n",
       "  'raise',\n",
       "  'technical',\n",
       "  'case'],\n",
       " [],\n",
       " ['need', 'booking', 'need', 'change', 'make', 'mistake', 'contact'],\n",
       " ['get',\n",
       "  'finally',\n",
       "  'call',\n",
       "  'cntr',\n",
       "  'try',\n",
       "  'charge',\n",
       "  'ticket',\n",
       "  'purchase',\n",
       "  'online'],\n",
       " ['real', 'shame', 'poor'],\n",
       " ['do', 'option', 'open', 'return'],\n",
       " [],\n",
       " ['daughter',\n",
       "  'euston',\n",
       "  'train',\n",
       "  'stick',\n",
       "  'outside',\n",
       "  'preston',\n",
       "  'timeframe',\n",
       "  'arrival'],\n",
       " ['target',\n",
       "  'next',\n",
       "  'season',\n",
       "  'price',\n",
       "  'assume',\n",
       "  'performance',\n",
       "  'target',\n",
       "  'reflective'],\n",
       " ['nice', 'do', 'target', 'next', 'year'],\n",
       " ['always',\n",
       "  'supposedly',\n",
       "  'acceptable',\n",
       "  'reason',\n",
       "  'use',\n",
       "  'train',\n",
       "  'week',\n",
       "  'spend',\n",
       "  'money',\n",
       "  'late',\n",
       "  'regularly',\n",
       "  'acceptable'],\n",
       " ['euston', 'here', 'wait', 'also', 'late'],\n",
       " ['least',\n",
       "  'third',\n",
       "  'time',\n",
       "  'year',\n",
       "  'miss',\n",
       "  'meeting',\n",
       "  'especially',\n",
       "  'take',\n",
       "  'train',\n",
       "  'first',\n",
       "  'place',\n",
       "  'often',\n",
       "  'late',\n",
       "  'refund',\n",
       "  'doesn',\n",
       "  'qualify',\n",
       "  'next',\n",
       "  'season'],\n",
       " ['hour', 'away', 'finger_cross'],\n",
       " ['enroute', 'preston', 'euston', 'wait'],\n",
       " ['really',\n",
       "  'bad',\n",
       "  'experience',\n",
       "  'ever',\n",
       "  'start',\n",
       "  'finish',\n",
       "  'never',\n",
       "  'internationally',\n",
       "  'again'],\n",
       " ['wonderful', 'crew', 'flight', 'get', 'safe', 'sound'],\n",
       " ['work', 'again'],\n",
       " ['consider', 'report', 'error'],\n",
       " ['account', 'page'],\n",
       " ['sure', 'get', 'refunded', 'seller', 'meantime'],\n",
       " ['good',\n",
       "  'part',\n",
       "  'halloween',\n",
       "  'free',\n",
       "  'drink',\n",
       "  'flight',\n",
       "  'holiday',\n",
       "  'spooktacular'],\n",
       " ['super',\n",
       "  'excited',\n",
       "  'entire',\n",
       "  'trip',\n",
       "  'again',\n",
       "  'least',\n",
       "  'time',\n",
       "  'know',\n",
       "  'good',\n",
       "  'time'],\n",
       " ['see',\n",
       "  'month',\n",
       "  'concert',\n",
       "  'miss',\n",
       "  'flight',\n",
       "  'american',\n",
       "  'airline',\n",
       "  'thank',\n",
       "  'again',\n",
       "  'guy'],\n",
       " ['guy', 'amazing', 'seriously', 'thank', 'bottom', 'heart'],\n",
       " ['guy',\n",
       "  'help',\n",
       "  'much',\n",
       "  'try',\n",
       "  'flight',\n",
       "  'even',\n",
       "  'amazing',\n",
       "  'company',\n",
       "  'amazing',\n",
       "  'people',\n",
       "  'thank',\n",
       "  'much'],\n",
       " ['help', 'flight', 'didn', 'flight', 'loss', 'word'],\n",
       " ['help', 'flight', 'didn', 'flight', 'loss', 'word'],\n",
       " ['error', 'even', 'turn', 'blocker'],\n",
       " ['receive',\n",
       "  'error',\n",
       "  'check',\n",
       "  'flight',\n",
       "  'take',\n",
       "  'keep',\n",
       "  'get',\n",
       "  'error',\n",
       "  'message'],\n",
       " ['year', 'make', 'really', 'travel'],\n",
       " ['everytime',\n",
       "  'sell',\n",
       "  'come',\n",
       "  'back',\n",
       "  'fraudulent',\n",
       "  'repost',\n",
       "  'day',\n",
       "  'waste',\n",
       "  'do'],\n",
       " ['item',\n",
       "  'mark',\n",
       "  'deliver',\n",
       "  'system',\n",
       "  'contact',\n",
       "  'ebay',\n",
       "  'customer',\n",
       "  'service',\n",
       "  'directly',\n",
       "  'seller',\n",
       "  'fault',\n",
       "  'mismanage',\n",
       "  'somewhere',\n",
       "  'shipment',\n",
       "  'delivery',\n",
       "  'still',\n",
       "  'file',\n",
       "  'claim'],\n",
       " ['need',\n",
       "  'contact',\n",
       "  'customer',\n",
       "  'service',\n",
       "  'directly',\n",
       "  'contact',\n",
       "  'email',\n",
       "  'customer',\n",
       "  'service'],\n",
       " ['thank'],\n",
       " ['further', 'question', 'ebay', 'transaction', 'explain'],\n",
       " [],\n",
       " ['need',\n",
       "  'further',\n",
       "  'assistance',\n",
       "  'situation',\n",
       "  'dme',\n",
       "  'recap',\n",
       "  'update',\n",
       "  'advance'],\n",
       " ['need',\n",
       "  'assistance',\n",
       "  'buy',\n",
       "  'item',\n",
       "  'deliver',\n",
       "  'saturday',\n",
       "  'never',\n",
       "  'receive',\n",
       "  'item',\n",
       "  'be',\n",
       "  'mark',\n",
       "  'deliver',\n",
       "  'response',\n",
       "  'seller',\n",
       "  'delivery',\n",
       "  'service',\n",
       "  'assist',\n",
       "  'lost',\n",
       "  'miss',\n",
       "  'package',\n",
       "  'advise'],\n",
       " ['get',\n",
       "  'list',\n",
       "  'episode',\n",
       "  'difficult',\n",
       "  'more',\n",
       "  'annoying',\n",
       "  'many',\n",
       "  'choice',\n",
       "  'screen',\n",
       "  'once'],\n",
       " [],\n",
       " ['wife',\n",
       "  'hate',\n",
       "  'interface',\n",
       "  'enjoy',\n",
       "  'content',\n",
       "  'get',\n",
       "  'horrible',\n",
       "  'experience'],\n",
       " ['change',\n",
       "  'password',\n",
       "  'hack',\n",
       "  'ask',\n",
       "  'reset',\n",
       "  'link',\n",
       "  'hour',\n",
       "  'email',\n",
       "  'junk'],\n",
       " ['think',\n",
       "  'understand',\n",
       "  'work',\n",
       "  'frustrating',\n",
       "  'use',\n",
       "  'much',\n",
       "  'more',\n",
       "  'user',\n",
       "  'friendly',\n",
       "  'update'],\n",
       " [],\n",
       " ['intuitive',\n",
       "  'take',\n",
       "  'long',\n",
       "  'find',\n",
       "  'episode',\n",
       "  'want',\n",
       "  'instead',\n",
       "  'episode',\n",
       "  'present'],\n",
       " ['sound', 'generic', 'replh'],\n",
       " ['expect', 'people', 'travel', 'compass'],\n",
       " ['boarding', 'swindon', 'where', 'reading', 'do', 'usually', 'find', 'staff'],\n",
       " ['concern', 'wouldn', 'tweet', 'much', 'last', 'year'],\n",
       " ['fucking', 'potato', 'tower', 'here', 'albuquerque', 'start'],\n",
       " [],\n",
       " ['send', 'several', 'private', 'message', 'respond'],\n",
       " ['send', 'twice', 'apparently', 'noone'],\n",
       " ['touch', 'matter', 'spring', 'corporate'],\n",
       " ['follow', 'never', 'mind', 'call', 'get', 'great', 'jury', 'still'],\n",
       " ['happy', 'discuss', 'problem', 'link', 'send'],\n",
       " ['have', 'trouble', 'cable'],\n",
       " ['do', 'reduce', 'single', 'plastic', 'product', 'line', 'carry'],\n",
       " ['burrito_bowl'],\n",
       " ['nope', 'laziness'],\n",
       " ['didn', 'know', 'order', 'half', 'bowl'],\n",
       " ['burritos', 'chip', 'queso'],\n",
       " ['get', 'buck', 'burrito', 'become', 'tradition', 'halloween'],\n",
       " ['shoutout', 'do', 'deal'],\n",
       " ['most', 'respect', 'boorito'],\n",
       " ['burrito_bowl', 'tonight'],\n",
       " ['order', 'online', 'say', 'connect', 'chipotle', 'supercomputer'],\n",
       " ['go',\n",
       "  'expect',\n",
       "  'boorito',\n",
       "  'wear_costume',\n",
       "  'go',\n",
       "  'trick',\n",
       "  'treat',\n",
       "  'costume',\n",
       "  'expect',\n",
       "  'candy'],\n",
       " ['halloween', 'complete', 'bowl', 'guacamole', 'wear_costume'],\n",
       " ['wear', 'hoodie', 'whole', 'family', 'costume', 'score', 'rito', 'bowl'],\n",
       " ['frustrated', 'compassion'],\n",
       " ['chorizo', 'anymore', 'good', 'thing', 'menu'],\n",
       " ['happy', 'halloween'],\n",
       " ['boorito', 'favorite', 'halloween', 'tradition'],\n",
       " ['spend', 'even', 'boorito'],\n",
       " ['guess', 'soccer', 'player', 'costume', 'wasn', 'good', 'enough', 'burrito'],\n",
       " ['double', 'meat', 'boorito', 'still', 'only'],\n",
       " ['woohoo', 'gon', 'first', 'line'],\n",
       " ['thing',\n",
       "  'plan',\n",
       "  'check',\n",
       "  'broadway',\n",
       "  'location',\n",
       "  'vancouver',\n",
       "  'open',\n",
       "  'today'],\n",
       " ['word', 'broadway', 'location', 'vancouver', 'open', 'wait', 'more'],\n",
       " ['costume', 'becky', 'want', 'shrek', 'tuesday'],\n",
       " ['think',\n",
       "  'first',\n",
       "  'time',\n",
       "  'birth',\n",
       "  'haven',\n",
       "  'go',\n",
       "  'halloween',\n",
       "  'annual',\n",
       "  'boorito'],\n",
       " ['dress', 'soccer', 'player', 'burritos'],\n",
       " ['pray', 'becky'],\n",
       " ['halloween', 'total'],\n",
       " ['think', 'family', 'hate', 'make', 'halloween'],\n",
       " ['becky'],\n",
       " ['walk',\n",
       "  'wear',\n",
       "  'mermaid',\n",
       "  'costume',\n",
       "  'burrito',\n",
       "  'never',\n",
       "  'feel',\n",
       "  'more',\n",
       "  'alive'],\n",
       " ['pull', 'costume', 'burrito', 'crazy'],\n",
       " ['look', 'burrito'],\n",
       " ['burrito_bowl', 'heck', 'close', 'halloween_costume', 'deal'],\n",
       " ['becky', 'be', 'able', 'back', 'chipotle', 'booritos'],\n",
       " ['ghost', 'chipotle', 'go', 'tell', 'wait', 'hour', 'unboolievable'],\n",
       " ['extra', 'meat', 'guac', 'queso', 'include', 'boorito'],\n",
       " ['say', 'amount'],\n",
       " ['outstanding', 'due', 'sept', 'pay'],\n",
       " ['ever', 'upgrade', 'ulimited', 'datum', 'speed', 'terrible', 'there'],\n",
       " ['provide', 'require', 'information'],\n",
       " ['track',\n",
       "  'info',\n",
       "  'invoice',\n",
       "  'track',\n",
       "  'info',\n",
       "  'link',\n",
       "  'always',\n",
       "  'lead',\n",
       "  'blank',\n",
       "  'page'],\n",
       " ['paypal', 'account', 'fair', 'play', 'wonder', 'shut', 'account', 'restart'],\n",
       " [],\n",
       " ['serious', 'problem', 'need'],\n",
       " ['locked',\n",
       "  'account',\n",
       "  'different',\n",
       "  'agent',\n",
       "  'reset',\n",
       "  'account',\n",
       "  'still',\n",
       "  'dice',\n",
       "  'soon',\n",
       "  'phone'],\n",
       " ['good', 'morning', 'customer', 'service', 'make'],\n",
       " ['question'],\n",
       " ['fix'],\n",
       " ['game', 'button', 'work', 'solution'],\n",
       " ['let', 'load', 'game', 'then', 'fortnite', 'press', 'continue'],\n",
       " ['compre', 'tarjeta', 'acreditaron', 'sale', 'revise', 'rmino', 'hago'],\n",
       " ['turn', 'recently', 'constantly', 'eject', 'game', 'disc', 'heck', 'go'],\n",
       " ['account',\n",
       "  'tell',\n",
       "  'reset',\n",
       "  'password',\n",
       "  'do',\n",
       "  'know',\n",
       "  'date_birth',\n",
       "  'know',\n",
       "  'password',\n",
       "  'account'],\n",
       " ['quochuy', 'email', 'live', 'chat', 'block'],\n",
       " ['follow',\n",
       "  'instruction',\n",
       "  'automatic',\n",
       "  'download',\n",
       "  'find',\n",
       "  'library',\n",
       "  'there',\n",
       "  'diablo',\n",
       "  'nercromancer'],\n",
       " ['buy',\n",
       "  'diablo',\n",
       "  'necromancer',\n",
       "  'phy',\n",
       "  'disc',\n",
       "  'click',\n",
       "  'necromaner',\n",
       "  'pack',\n",
       "  'game',\n",
       "  'do',\n",
       "  'download'],\n",
       " ['less',\n",
       "  'billing',\n",
       "  'issue',\n",
       "  'update',\n",
       "  'date',\n",
       "  'acct',\n",
       "  'more',\n",
       "  'wasn',\n",
       "  'able',\n",
       "  'renew',\n",
       "  'make',\n",
       "  'sure',\n",
       "  'stay',\n",
       "  'current',\n",
       "  'lose'],\n",
       " ['sure', 'acct', 'incorrect', 'date', 'renewal', 'fail', 'correct'],\n",
       " [],\n",
       " ['accidentally', 'buy', 'game', 'playstation', 'store', 'thinking', 'return'],\n",
       " ['preordere', 'standard', 'edition', 'change', 'deluxe_edition', 'somehow'],\n",
       " ['account', 'change', 'email'],\n",
       " ['laserjet',\n",
       "  'print',\n",
       "  'driver',\n",
       "  'install',\n",
       "  'window',\n",
       "  'find',\n",
       "  'printer',\n",
       "  'error'],\n",
       " ['send',\n",
       "  'notebook',\n",
       "  'hard',\n",
       "  'drive',\n",
       "  'replacement',\n",
       "  'alright',\n",
       "  'format',\n",
       "  'drive',\n",
       "  'factory',\n",
       "  'defaul',\n",
       "  'first'],\n",
       " ['speak', 'technician'],\n",
       " ['sound', 'good'],\n",
       " ['chase', 'online', 'ultimate_reward', 'webpage', 'extra', 'cash', 'shop'],\n",
       " ['phone', 'guy', 'be', 'great'],\n",
       " ['guy'],\n",
       " ['couldn',\n",
       "  'find',\n",
       "  'mail',\n",
       "  'online',\n",
       "  'apartment',\n",
       "  'address',\n",
       "  'number',\n",
       "  'update',\n",
       "  'ensure',\n",
       "  'card',\n",
       "  'get'],\n",
       " ['apply',\n",
       "  'credit',\n",
       "  'card',\n",
       "  'never',\n",
       "  'ask',\n",
       "  'try',\n",
       "  'call',\n",
       "  'couldn',\n",
       "  'automate',\n",
       "  'system'],\n",
       " ['push',\n",
       "  'hard',\n",
       "  'finally',\n",
       "  'team',\n",
       "  'lead',\n",
       "  'reach',\n",
       "  'call',\n",
       "  'tech',\n",
       "  'outage',\n",
       "  'issue',\n",
       "  'solve'],\n",
       " ['next', 'turnaround', 'outage', 'issue', 'come', 'deal', 'outage'],\n",
       " ['need', 'fix', 'permanently'],\n",
       " [],\n",
       " ['lookong',\n",
       "  'forward',\n",
       "  'binge',\n",
       "  'hope',\n",
       "  'internet',\n",
       "  'outage',\n",
       "  'neighborhood',\n",
       "  'lately'],\n",
       " ['contact',\n",
       "  'seller',\n",
       "  'question',\n",
       "  'receive',\n",
       "  'product',\n",
       "  'customer',\n",
       "  'service',\n",
       "  'say',\n",
       "  'wrong'],\n",
       " ['care',\n",
       "  'want',\n",
       "  'product',\n",
       "  'wish',\n",
       "  'opt',\n",
       "  'ebay',\n",
       "  'future',\n",
       "  'go',\n",
       "  'choose',\n",
       "  'ebay',\n",
       "  'bad'],\n",
       " ['haven', 'receive', 'contract', 'delivery', 'product', 'seller'],\n",
       " ['instead', 'tell', 'contact', 'seller', 'guy', 'contact', 'seller'],\n",
       " ['haven',\n",
       "  'receive',\n",
       "  'contact',\n",
       "  'seller',\n",
       "  'tomorrow',\n",
       "  'morning',\n",
       "  'service',\n",
       "  'pathetic'],\n",
       " ['appreciate',\n",
       "  'refund',\n",
       "  'previous',\n",
       "  'damaged',\n",
       "  'product',\n",
       "  'where',\n",
       "  'timeline',\n",
       "  'delivery'],\n",
       " ['email', 'address', 'associate', 'account', 'email'],\n",
       " ['look',\n",
       "  'refund',\n",
       "  'check',\n",
       "  'account',\n",
       "  'condemn',\n",
       "  'service',\n",
       "  'bad',\n",
       "  'packing'],\n",
       " ['haven', 'receive', 'layman', 'term', 'wait', 'much', 'time', 'wait'],\n",
       " ['provide', 'refund', 'product', 'order', 'same', 'product'],\n",
       " ['look', 'product', 'tell', 'buy', 'similar', 'product', 'month', 'damage'],\n",
       " ['check', 'team', 'else', 'keep', 'fucking', 'money', 'guy', 'stress'],\n",
       " ['kindly', 'check', 'message', 'needful', 'bad', 'service'],\n",
       " ['closed', 'case', 'lose', 'pound', 'theft', 'do', 'care'],\n",
       " ['delivery',\n",
       "  'company',\n",
       "  'say',\n",
       "  'deliver',\n",
       "  'street',\n",
       "  'give',\n",
       "  'address',\n",
       "  'seller',\n",
       "  'say',\n",
       "  'proof',\n",
       "  'show'],\n",
       " ['option',\n",
       "  'buy',\n",
       "  'ebay',\n",
       "  'wasn',\n",
       "  'deliver',\n",
       "  'close',\n",
       "  'claim',\n",
       "  'money',\n",
       "  'back'],\n",
       " ['setup',\n",
       "  'automatic',\n",
       "  'decline',\n",
       "  'list',\n",
       "  'centre',\n",
       "  'struggle',\n",
       "  'find',\n",
       "  'setting'],\n",
       " ['remove',\n",
       "  'good',\n",
       "  'offer',\n",
       "  'facility',\n",
       "  'item',\n",
       "  'sell',\n",
       "  'item',\n",
       "  'wish',\n",
       "  'offer',\n",
       "  'good',\n",
       "  'offer'],\n",
       " ['user',\n",
       "  'like',\n",
       "  'hide',\n",
       "  'irrelevant',\n",
       "  'contact',\n",
       "  'suggestion',\n",
       "  'order',\n",
       "  'make',\n",
       "  'room',\n",
       "  'relevant',\n",
       "  'one'],\n",
       " ['remove',\n",
       "  'suggest',\n",
       "  'contact',\n",
       "  'invite',\n",
       "  'people',\n",
       "  'paper',\n",
       "  'column',\n",
       "  'third_party',\n",
       "  'contact',\n",
       "  'connect'],\n",
       " ['update', 'tier', 'point', 'account'],\n",
       " ['time',\n",
       "  'hour',\n",
       "  'phone',\n",
       "  'hope',\n",
       "  'correct',\n",
       "  'hate',\n",
       "  'wrong',\n",
       "  'special',\n",
       "  'occasion'],\n",
       " ['call',\n",
       "  'hope',\n",
       "  'sort',\n",
       "  'book',\n",
       "  'flight',\n",
       "  'guy',\n",
       "  'people',\n",
       "  'detail',\n",
       "  'be',\n",
       "  'incorrect',\n",
       "  'worried'],\n",
       " [],\n",
       " ['anytime', 'noon', 'today', 'anytime', 'tomorrow'],\n",
       " ['whenever', 'ready'],\n",
       " ['currently', 'middle', 'return', 'call', 'shortly', 'thank'],\n",
       " ['thank', 'beginning', 'become', 'comfortable', 'go', 'great'],\n",
       " ['week', 'licence', 'validate', 'minecraft', 'window'],\n",
       " ['connection',\n",
       "  'ethernet',\n",
       "  'possible',\n",
       "  'where',\n",
       "  'also',\n",
       "  'file',\n",
       "  'delete',\n",
       "  'restart',\n",
       "  'say',\n",
       "  'do',\n",
       "  'power_cycle'],\n",
       " ['brother', 'install', 'xbox', 'already', 'try', 'power_cycle'],\n",
       " ['message',\n",
       "  'backwards_compatible',\n",
       "  'game',\n",
       "  'suggestion',\n",
       "  'great',\n",
       "  'game',\n",
       "  'fourm'],\n",
       " ['reboot', 'game', 'animal', 'become', 'strike', 'crisis', 'come', 'quickly'],\n",
       " ['there', 'many', 'bug', 'game', 'especially', 'release', 'animal'],\n",
       " ['buy',\n",
       "  'die',\n",
       "  'light',\n",
       "  'xbox',\n",
       "  'store',\n",
       "  'play',\n",
       "  'continuously',\n",
       "  'freeze',\n",
       "  'want',\n",
       "  'money',\n",
       "  'back'],\n",
       " ['need',\n",
       "  'active',\n",
       "  'game',\n",
       "  'pass',\n",
       "  'order',\n",
       "  'receive',\n",
       "  'mystery',\n",
       "  'gift',\n",
       "  'giveaway'],\n",
       " ['quelqu', 'payer', 'jeux', 'avec', 'pour', 'acheter', 'jeux'],\n",
       " ['skype',\n",
       "  'hear',\n",
       "  'people',\n",
       "  'hear',\n",
       "  'try',\n",
       "  'different',\n",
       "  'controller',\n",
       "  'uninstalle'],\n",
       " ['happen', 'system', 'send', 'refund', 'info', 'form'],\n",
       " ['actually',\n",
       "  'decide',\n",
       "  'azure_blob',\n",
       "  'storage',\n",
       "  'instead',\n",
       "  'service',\n",
       "  'principal',\n",
       "  'admin'],\n",
       " ['thank', 'listen', 'help', 'issue', 'today', 'great', 'customer', 'service'],\n",
       " ['great', 'customer', 'service', 'thank'],\n",
       " ['terrible',\n",
       "  'delivery',\n",
       "  'service',\n",
       "  'even',\n",
       "  'worse',\n",
       "  'pay',\n",
       "  'extra',\n",
       "  'time',\n",
       "  'slot'],\n",
       " ['order',\n",
       "  'mess',\n",
       "  'refund',\n",
       "  'deserve',\n",
       "  'money',\n",
       "  'back',\n",
       "  'food',\n",
       "  'taste',\n",
       "  'horrible'],\n",
       " ['discontinue', 'tin', 'ravioli', 'bolognese', 'sauce', 'well', 'other'],\n",
       " ['know', 'orange', 'donut', 'be', 'terrible', 'idea'],\n",
       " ['thank', 'respond', 'look', 'forward', 'work'],\n",
       " ['look',\n",
       "  'marketing',\n",
       "  'team',\n",
       "  'didn',\n",
       "  'think',\n",
       "  'good',\n",
       "  'idea',\n",
       "  'motto',\n",
       "  'again',\n",
       "  'fuck',\n",
       "  'customer'],\n",
       " ['similar',\n",
       "  'crota_funko',\n",
       "  'prove',\n",
       "  'capable',\n",
       "  'letting',\n",
       "  'know',\n",
       "  'advance',\n",
       "  'limited',\n",
       "  'product',\n",
       "  'sale',\n",
       "  'still',\n",
       "  'redeem',\n",
       "  'fiasco',\n",
       "  'launch',\n",
       "  'randomly',\n",
       "  'throw'],\n",
       " ['godday',\n",
       "  'support',\n",
       "  'issue',\n",
       "  'tryin',\n",
       "  'sync',\n",
       "  'merchandise',\n",
       "  'printfull',\n",
       "  'woocommerce'],\n",
       " ['thank'],\n",
       " ['shit', 'wrong'],\n",
       " [],\n",
       " ['lie', 'mine', 'error', 'mistake'],\n",
       " ['change', 'hold', 'music', 'being', 'loop', 'love'],\n",
       " ['give',\n",
       "  'call',\n",
       "  'center',\n",
       "  'people',\n",
       "  'raise',\n",
       "  'have',\n",
       "  'deal',\n",
       "  'nonsense',\n",
       "  'create',\n",
       "  'robot',\n",
       "  'system',\n",
       "  'randomly',\n",
       "  'cancel',\n",
       "  'installation'],\n",
       " ['sure'],\n",
       " ['package'],\n",
       " ['find', 'option', 'cancel', 'order'],\n",
       " ['quick', 'response', 'attach'],\n",
       " ['thing',\n",
       "  'tell',\n",
       "  'customer',\n",
       "  'service',\n",
       "  'create',\n",
       "  'email',\n",
       "  'address',\n",
       "  'prime',\n",
       "  'trial',\n",
       "  'forgot',\n",
       "  'charge'],\n",
       " ['remember',\n",
       "  'email',\n",
       "  'address',\n",
       "  'use',\n",
       "  'look',\n",
       "  'account',\n",
       "  'bank',\n",
       "  'information'],\n",
       " ['send',\n",
       "  'email',\n",
       "  'send',\n",
       "  'guy',\n",
       "  'say',\n",
       "  'wasn',\n",
       "  'gon',\n",
       "  'charge',\n",
       "  'able',\n",
       "  'look',\n",
       "  'account',\n",
       "  'different'],\n",
       " ['try', 'phone', 'number', 'do', 'mobile', 'account', 'go', 'hour', 'phone'],\n",
       " ['call',\n",
       "  'customer',\n",
       "  'service',\n",
       "  'tell',\n",
       "  'membership',\n",
       "  'wouldn',\n",
       "  'renew',\n",
       "  'charge',\n",
       "  'today',\n",
       "  'refund'],\n",
       " ['try',\n",
       "  'allow',\n",
       "  'access',\n",
       "  'account',\n",
       "  'cancel',\n",
       "  'membership',\n",
       "  'haven',\n",
       "  'even',\n",
       "  'use',\n",
       "  'prime',\n",
       "  'almost',\n",
       "  'month'],\n",
       " ['where', 'support', 'member', 'false', 'charge'],\n",
       " ['essentially',\n",
       "  'still',\n",
       "  'separate',\n",
       "  'account',\n",
       "  'share',\n",
       "  'payment',\n",
       "  'info',\n",
       "  'want',\n",
       "  'family',\n",
       "  'christmas',\n",
       "  'shopping',\n",
       "  'list'],\n",
       " ['adult',\n",
       "  'amazon',\n",
       "  'household',\n",
       "  'account',\n",
       "  'wishlist',\n",
       "  'photo',\n",
       "  'order',\n",
       "  'history'],\n",
       " ['package', 'here', 'good', 'thank'],\n",
       " ['never',\n",
       "  'beta',\n",
       "  'be',\n",
       "  'tell',\n",
       "  'other',\n",
       "  'stuff',\n",
       "  'include',\n",
       "  'last',\n",
       "  'jedi',\n",
       "  'content',\n",
       "  'bonus',\n",
       "  'class'],\n",
       " ['deluxe_edition',\n",
       "  'september',\n",
       "  'definitely',\n",
       "  'order',\n",
       "  'profile',\n",
       "  'order',\n",
       "  'also',\n",
       "  'pay',\n",
       "  'prime'],\n",
       " ['star_war',\n",
       "  'battlefront_elite',\n",
       "  'trooper_deluxe_edition',\n",
       "  'playstation',\n",
       "  'preorder',\n",
       "  'info',\n",
       "  'description'],\n",
       " ['website', 'offer', 'order', 'content'],\n",
       " ['literally',\n",
       "  'description',\n",
       "  'item',\n",
       "  'player',\n",
       "  'order',\n",
       "  'star_war_battlefront'],\n",
       " ['real', 'offering', 'preorder', 'bonus', 'actually', 'give'],\n",
       " ['straight', 'preordere'],\n",
       " ['cancel', 'order', 'go', 'good', 'thank'],\n",
       " ['fulfil',\n",
       "  'amazon',\n",
       "  'quite',\n",
       "  'disturbing',\n",
       "  'sell',\n",
       "  'counterfeit',\n",
       "  'item',\n",
       "  'trust'],\n",
       " ['already', 'assistance', 'receive', 'absolutely', 'useless', 'rude'],\n",
       " ['fake', 'item', 'time', 'cancel', 'amazon', 'prime_membership'],\n",
       " ['luck'],\n",
       " ['allow',\n",
       "  'update',\n",
       "  'register',\n",
       "  'amazon',\n",
       "  'account',\n",
       "  'read',\n",
       "  'manually',\n",
       "  'response'],\n",
       " ['apartment', 'send', 'time', 'where', 'package'],\n",
       " ['go', 'take', 'megaalexa', 'whole', 'food'],\n",
       " ['truly', 'strange', 'vampire', 'book', 'ever', 'receive'],\n",
       " ['update', 'still', 'come'],\n",
       " ['keep', 'change', 'stop'],\n",
       " ['thing', 'still', 'like', 'cent', 'credit', 'credit'],\n",
       " ['awesome'],\n",
       " ['need', 'regard', 'region', 'change', 'apple'],\n",
       " ['time', 'try', 'different', 'apple', 'still', 'show', 'phone'],\n",
       " ['home', 'sharing', 'work'],\n",
       " ['iphone',\n",
       "  'check',\n",
       "  'update',\n",
       "  'none',\n",
       "  'available',\n",
       "  'swipe',\n",
       "  'close',\n",
       "  'several',\n",
       "  'time',\n",
       "  'restart'],\n",
       " ['battery', 'life', 'bad'],\n",
       " ['send', 'twice', 'know', 'first', 'go', 'reply', 'either'],\n",
       " ['white', 'screen', 'load', 'short', 'time', 'close', 'crash', 'reply'],\n",
       " ['change', 'ringer_volume', 'button', 'dumb', 'idea', 'change', 'still'],\n",
       " ['bana',\n",
       "  'yard',\n",
       "  'olur',\n",
       "  'musun',\n",
       "  'telefon',\n",
       "  'internet',\n",
       "  'konusunda',\n",
       "  'napcaz'],\n",
       " ['work'],\n",
       " ['say', 'update', 'ahead'],\n",
       " ['app', 'fuccin', 'download', 'update'],\n",
       " ['response'],\n",
       " ['appreciate', 'sure', 'happen'],\n",
       " ['already', 'min', 'check', 'long', 'detailed'],\n",
       " [],\n",
       " ['bruh', 'back'],\n",
       " ['trid', 'list', 'send', 'message'],\n",
       " ['complaint',\n",
       "  'take',\n",
       "  'seriously',\n",
       "  'take',\n",
       "  'customer',\n",
       "  'complaint',\n",
       "  'seriously',\n",
       "  'service'],\n",
       " [],\n",
       " [],\n",
       " ['policy', 'bottle', 'lemonade', 'bottle', 'joke', 'thirsty'],\n",
       " ['honestly', 'care', 'much', 'know', 'sausage', 'end'],\n",
       " ['think',\n",
       "  'know',\n",
       "  'sausage',\n",
       "  'purchase',\n",
       "  'taste',\n",
       "  'awful',\n",
       "  'ruin',\n",
       "  'sausage',\n",
       "  'mash',\n",
       "  'dinner',\n",
       "  'mash'],\n",
       " ['lose', 'customer'],\n",
       " ['regular',\n",
       "  'customer',\n",
       "  'spend',\n",
       "  'least',\n",
       "  'week',\n",
       "  'pretty',\n",
       "  'poor',\n",
       "  'apology',\n",
       "  'feel',\n",
       "  'shop',\n",
       "  'somewhere',\n",
       "  'else'],\n",
       " ['tell', 'paul', 'wash', 'mouth', 'soap', 'cheer'],\n",
       " ['answerphone',\n",
       "  'message',\n",
       "  'delivery',\n",
       "  'driver',\n",
       "  'end',\n",
       "  'say',\n",
       "  'fuck',\n",
       "  'obviously',\n",
       "  'think',\n",
       "  'phone'],\n",
       " ['flight', 'there', 'moan', 'pain', 'sweating', 'well'],\n",
       " ['divert'],\n",
       " ['news', 'divert'],\n",
       " ['send', 'guy', 'story', 'advance', 'provide'],\n",
       " ['bummer',\n",
       "  'promise',\n",
       "  'info',\n",
       "  'hurry',\n",
       "  'next',\n",
       "  'flight',\n",
       "  'forgot',\n",
       "  'leave',\n",
       "  'business',\n",
       "  'card'],\n",
       " ['flight', 'try', 'forward', 'message', 'able', 'assist'],\n",
       " ['love',\n",
       "  'lounge',\n",
       "  'access',\n",
       "  'thank',\n",
       "  'imagine',\n",
       "  'dark',\n",
       "  'more',\n",
       "  'room',\n",
       "  'relax',\n",
       "  'next',\n",
       "  'level'],\n",
       " ['look', 'mistake', 'fault'],\n",
       " ['flight',\n",
       "  'already',\n",
       "  'frustrated',\n",
       "  'amex',\n",
       "  'real',\n",
       "  'perk',\n",
       "  'wonder',\n",
       "  'perk',\n",
       "  'actually',\n",
       "  'happen'],\n",
       " ['refunded', 'seat', 'cost', 'never'],\n",
       " ['know',\n",
       "  'get',\n",
       "  'treat',\n",
       "  'crap',\n",
       "  'apparently',\n",
       "  'spend',\n",
       "  'thousand',\n",
       "  'amex',\n",
       "  'cut'],\n",
       " ['book',\n",
       "  'code',\n",
       "  'share',\n",
       "  'korean',\n",
       "  'flight',\n",
       "  'where',\n",
       "  'find',\n",
       "  'confirmation',\n",
       "  'ticket',\n",
       "  'portion'],\n",
       " ['check'],\n",
       " ['submit', 'complain', 'charge', 'still', 'response', 'uber', 'support'],\n",
       " ['try', 'browser', 'work'],\n",
       " ['desktop', 'still', 'work', 'cool', 'thing', 'easter', 'ecstatic'],\n",
       " [],\n",
       " ['use',\n",
       "  'macbook',\n",
       "  'capitan',\n",
       "  'late',\n",
       "  'spotify',\n",
       "  'update',\n",
       "  'iphone',\n",
       "  'late',\n",
       "  'software',\n",
       "  'spotify',\n",
       "  'update'],\n",
       " ['make',\n",
       "  'germany',\n",
       "  'bist',\n",
       "  'cover',\n",
       "  'jahre',\n",
       "  'mostly',\n",
       "  'miss',\n",
       "  'compilation',\n",
       "  'grey',\n",
       "  'track'],\n",
       " ['cancel', 'refuse', 'give', 'free', 'upgrade', 'inconvenience', 'cause'],\n",
       " ['find',\n",
       "  'terrify',\n",
       "  'hard',\n",
       "  'self',\n",
       "  'check',\n",
       "  'kiosk',\n",
       "  'grateful',\n",
       "  'human',\n",
       "  'recently'],\n",
       " ['try', 'point', 'contact', 'phone', 'email'],\n",
       " ['contact', 'email', 'give', 'further', 'detail'],\n",
       " ['call',\n",
       "  'centre',\n",
       "  'bad',\n",
       "  'customer',\n",
       "  'serivce',\n",
       "  'ever',\n",
       "  'keep',\n",
       "  'hold',\n",
       "  'endless',\n",
       "  'hour',\n",
       "  'apology',\n",
       "  'happy'],\n",
       " ['see', 'error', 'message', 'say', 'reboot', 'didn'],\n",
       " ['call',\n",
       "  'time',\n",
       "  'resolution',\n",
       "  'bill',\n",
       "  'house',\n",
       "  'live',\n",
       "  'still',\n",
       "  'remain',\n",
       "  'give',\n",
       "  'cancel',\n",
       "  'account'],\n",
       " ['attention'],\n",
       " ['go', 'where', 'internet'],\n",
       " ['wifi',\n",
       "  'make',\n",
       "  'amtrak',\n",
       "  'wifi',\n",
       "  'look',\n",
       "  'least',\n",
       "  'theirs',\n",
       "  'free',\n",
       "  'decent',\n",
       "  'wifi',\n",
       "  'reasonable',\n",
       "  'price'],\n",
       " ['already',\n",
       "  'change',\n",
       "  'browser',\n",
       "  'techie',\n",
       "  'trick',\n",
       "  'still',\n",
       "  'make',\n",
       "  'reservation',\n",
       "  'hour'],\n",
       " ['phone', 'hold', 'min', 'look', 'bleak'],\n",
       " ['still', 'hold', 'make', 'booking', 'try'],\n",
       " ['well', 'tell', 'ticket', 'cost', 'additional', 'person', 'wait'],\n",
       " ['think', 'change', 'minute', 'scam'],\n",
       " ['finally', 'book', 'honor', 'low', 'fare', 'still', 'available', 'line'],\n",
       " ['shouldn', 'hard', 'nearly', 'hour'],\n",
       " ['try',\n",
       "  'book',\n",
       "  'flight',\n",
       "  'error',\n",
       "  'come',\n",
       "  'system',\n",
       "  'have',\n",
       "  'trouble',\n",
       "  'else',\n",
       "  'have',\n",
       "  'problem'],\n",
       " ['much', 'do'],\n",
       " ['long', 'go', 'airport', 'then'],\n",
       " ['able'],\n",
       " ['look'],\n",
       " ['guacamole', 'marg', 'lounge', 'upgrade', 'underway'],\n",
       " ['john', 'have', 'much', 'trouble', 'come', 'back'],\n",
       " ['hour', 'total', 'day', 'still', 'work', 'come', 'back'],\n",
       " ['happen', 'conversation'],\n",
       " ['even', 'mobile', 'customer', 'people', 'piss', 'trolling', 'loser'],\n",
       " ['fool', 'troll'],\n",
       " ['go',\n",
       "  'store',\n",
       "  'spend',\n",
       "  'sunday',\n",
       "  'hour',\n",
       "  'try',\n",
       "  'come',\n",
       "  'back',\n",
       "  'tweet',\n",
       "  'today',\n",
       "  'make',\n",
       "  'front',\n",
       "  'hour',\n",
       "  'worth'],\n",
       " ['quit', 'beg', 'idiot', 'business'],\n",
       " ['sound',\n",
       "  'idiot',\n",
       "  'read',\n",
       "  'post',\n",
       "  'know',\n",
       "  'password',\n",
       "  'same',\n",
       "  'password',\n",
       "  'customer',\n",
       "  'month',\n",
       "  'sound',\n",
       "  'troll',\n",
       "  'make',\n",
       "  'hard',\n",
       "  'idiot',\n",
       "  'believe',\n",
       "  'stupid',\n",
       "  'generation',\n",
       "  'become'],\n",
       " [],\n",
       " ['send', 'guy', 'cassy', 'jason', 'be', 'help'],\n",
       " ['know',\n",
       "  'try',\n",
       "  'chat',\n",
       "  'team',\n",
       "  'ask',\n",
       "  'password',\n",
       "  'make',\n",
       "  'feel',\n",
       "  'want',\n",
       "  'back'],\n",
       " ['ask', 'password'],\n",
       " ['john',\n",
       "  'come',\n",
       "  'back',\n",
       "  'mobile',\n",
       "  'want',\n",
       "  'store',\n",
       "  'maybe',\n",
       "  'team',\n",
       "  'customer',\n",
       "  'service',\n",
       "  'want',\n",
       "  'store',\n",
       "  'maybe',\n",
       "  'stay',\n",
       "  'current',\n",
       "  'service',\n",
       "  'seem',\n",
       "  'want',\n",
       "  'back'],\n",
       " ['come', 'online'],\n",
       " ['thank', 'advice', 'make', 'connection', 'long', 'long', 'appreciate'],\n",
       " ['great',\n",
       "  'airline',\n",
       "  'fee',\n",
       "  'check',\n",
       "  'bag',\n",
       "  'free',\n",
       "  'drink',\n",
       "  'snack',\n",
       "  'board',\n",
       "  'complimentary',\n",
       "  'halloween',\n",
       "  'sweet',\n",
       "  'great',\n",
       "  'stuff',\n",
       "  'guy'],\n",
       " ['find', 'doesn', 'seem', 'work', 'check', 'fund', 'available'],\n",
       " ['voucher', 'seem', 'track', 'confirmation', 'number', 'anyway', 'look'],\n",
       " ['first', 'choice', 'only', 'money', 'fall', 'same', 'category', 'limit'],\n",
       " ['never', 'airplane'],\n",
       " ['love', 'employee', 'embrace', 'make', 'glad', 'enjoy'],\n",
       " ['bummer', 'watch', 'sadie', 'hawkin', 'airline'],\n",
       " ['unlucky', 'flying', 'today', 'wait', 'nice', 'free', 'drink', 'flight'],\n",
       " ['same', 'message', 'error', 'play', 'video', 'iphone'],\n",
       " ['get', 'error', 'play', 'episode'],\n",
       " ['other', 'major', 'network', 'stream', 'live', 'hulu', 'live'],\n",
       " ['do', 'check'],\n",
       " ['khassi',\n",
       "  'support',\n",
       "  'yaar',\n",
       "  'uber',\n",
       "  'rider',\n",
       "  'driver',\n",
       "  'telling',\n",
       "  'take',\n",
       "  'doc',\n",
       "  'nearby',\n",
       "  'uber',\n",
       "  'office',\n",
       "  'verification',\n",
       "  'ask',\n",
       "  'update',\n",
       "  'cellphone',\n",
       "  'number'],\n",
       " ['want', 'write', 'comment'],\n",
       " ['behalf', 'college_student', 'thank'],\n",
       " ['call',\n",
       "  'customer',\n",
       "  'care',\n",
       "  'tweet',\n",
       "  'say',\n",
       "  'double',\n",
       "  'charge',\n",
       "  'credit',\n",
       "  'still',\n",
       "  'credit'],\n",
       " ['bunch_crook', 'care', 'happy', 'customer', 'want', 'money', 'save'],\n",
       " ['contact', 'concern', 'deactivation', 'account', 'reactivate', 'deactivate'],\n",
       " ['very', 'disappointing', 'least', 'unacceptable', 'home', 'still', 'shock'],\n",
       " ['do',\n",
       "  'remember',\n",
       "  'practice',\n",
       "  'kindness',\n",
       "  'customer',\n",
       "  'understand',\n",
       "  'rude',\n",
       "  'thus'],\n",
       " ['back', 'friday', 'lunch'],\n",
       " ['wild',\n",
       "  'thing',\n",
       "  'hear',\n",
       "  'there',\n",
       "  'special',\n",
       "  'halloween',\n",
       "  'couldn',\n",
       "  'pass',\n",
       "  'hope',\n",
       "  'chipotle',\n",
       "  'sponsor',\n",
       "  'team'],\n",
       " ['know', 'guy', 'busy', 'undercook', 'brown_rice'],\n",
       " ['burrito_bowl', 'work', 'bring', 'guac'],\n",
       " ['geekin', 'rightnow'],\n",
       " ['say', 'halloween', 'burritos', 'taco'],\n",
       " ['year', 'get', 'boorito', 'spooooooky'],\n",
       " ['worry', 'burrito_bowl', 'issue', 'lucky', 'beat', 'line'],\n",
       " ['online', 'order', 'today', 'really'],\n",
       " ['send', 'hope', 'soon'],\n",
       " ['welp',\n",
       "  'guess',\n",
       "  'bibimbap',\n",
       "  'order',\n",
       "  'never',\n",
       "  'gon',\n",
       "  'receive',\n",
       "  'good',\n",
       "  'thing',\n",
       "  'use',\n",
       "  'first',\n",
       "  'time',\n",
       "  'order',\n",
       "  'promotion',\n",
       "  'good',\n",
       "  'first',\n",
       "  'impression'],\n",
       " ['also',\n",
       "  'support',\n",
       "  'ubereat',\n",
       "  'singapore',\n",
       "  'reach',\n",
       "  'here',\n",
       "  'support',\n",
       "  'there',\n",
       "  'useless',\n",
       "  'chance'],\n",
       " ['food'],\n",
       " ['put', 'salad_dress', 'holy', 'fack', 'delicious'],\n",
       " ['shoutout', 'well', 'burritos', 'burrito', 'good'],\n",
       " [],\n",
       " [],\n",
       " ['undercover', 'boss', 'thank'],\n",
       " ['love'],\n",
       " ['baby'],\n",
       " ['gon', 'ready', 'rolling', 'skill', 'suck'],\n",
       " ['boorito'],\n",
       " ['happy', 'halloween', 'break', 'cosplay', 'today', 'totally'],\n",
       " ['barbacoa', 'guac'],\n",
       " ['good', 'part', 'today', 'burrito'],\n",
       " ['absolutely', 'costume'],\n",
       " ['becky'],\n",
       " [],\n",
       " ['seem'],\n",
       " ['enjoy'],\n",
       " ['adult', 'trick', 'treating', 'go', 'many', 'find'],\n",
       " ['boorito', 'time'],\n",
       " ['hungry', 'rutger', 'student'],\n",
       " ['bruh', 'really', 'make', 'full', 'price', 'burrito', 'tight'],\n",
       " ['guy',\n",
       "  'make',\n",
       "  'really',\n",
       "  'hard',\n",
       "  'give',\n",
       "  'feedback',\n",
       "  'call',\n",
       "  'store',\n",
       "  'answer',\n",
       "  'send',\n",
       "  'option'],\n",
       " ['give_food_poisoning', 'never', 'more', 'heartbroken', 'life'],\n",
       " ['forgot', 'receipt', 'there', 'go', 'chance', 'burritos', 'year'],\n",
       " ['worth', 'deal'],\n",
       " ['go',\n",
       "  'rito',\n",
       "  'bowl',\n",
       "  'wear',\n",
       "  'minion',\n",
       "  'outfit',\n",
       "  'today',\n",
       "  'well',\n",
       "  'worth',\n",
       "  'also',\n",
       "  'alone',\n",
       "  'wear_costume',\n",
       "  'want',\n",
       "  'costume',\n",
       "  'chippy'],\n",
       " ['banking'],\n",
       " ['try', 'sign', 'autopay', 'site', 'tell', 'check', 'account', 'characters'],\n",
       " ['stand', 'front'],\n",
       " [],\n",
       " ['work', 'channel', 'come', 'guide', 'always', 'freeze', 'change'],\n",
       " [],\n",
       " ['problem', 'consistently', 'happen', 'month'],\n",
       " ['change', 'long', 'time', 'hardware', 'long', 'time'],\n",
       " ['same', 'problem', 'box'],\n",
       " ['phone', 'tech', 'look', 'internet'],\n",
       " ['nevermind', 'internet', 'saturday'],\n",
       " ['whenever',\n",
       "  'play',\n",
       "  'game',\n",
       "  'say',\n",
       "  'account',\n",
       "  'delete',\n",
       "  'system',\n",
       "  'use',\n",
       "  'account',\n",
       "  'once'],\n",
       " ['mean', 'local', 'user'],\n",
       " ['happen', 'only'],\n",
       " ['thankx'],\n",
       " ['play', 'hour', 'network', 'drop', 'then', 'play', 'game', 'black'],\n",
       " ['hecho', 'ahora', 'vuelvo', 'escribir', 'privado'],\n",
       " [],\n",
       " ['have', 'issue', 'account', 'idea', 'login', 'email', 'know'],\n",
       " ['pero',\n",
       "  'cobro',\n",
       "  'misma',\n",
       "  'informaci',\n",
       "  'minuto',\n",
       "  'despu',\n",
       "  'info',\n",
       "  'tarjeta',\n",
       "  'problema',\n",
       "  'store'],\n",
       " ['informaci',\n",
       "  'tarjeta',\n",
       "  'incorrecta',\n",
       "  'asociada',\n",
       "  'paypal',\n",
       "  'compra',\n",
       "  'hice',\n",
       "  'problema',\n",
       "  'minuto',\n",
       "  'ante'],\n",
       " ['possible', 'delete', 'change', 'location', 'currency', 'reply'],\n",
       " ['shadow',\n",
       "  'remote',\n",
       "  'play',\n",
       "  'thinking',\n",
       "  'get',\n",
       "  'vita',\n",
       "  'know',\n",
       "  'play',\n",
       "  'game',\n",
       "  'remotely'],\n",
       " ['recieve', 'weapon_unlock', 'ready', 'load'],\n",
       " ['come',\n",
       "  'multiplayer',\n",
       "  'server',\n",
       "  'active',\n",
       "  'people',\n",
       "  'illegal',\n",
       "  'copy',\n",
       "  'game'],\n",
       " ['wanna', 'know'],\n",
       " ['order', 'xbox', 'store', 'receive', 'weapon_unlock'],\n",
       " ['preordere', 'saturday', 'tell', 'go', 'point', 'wait', 'friday'],\n",
       " ['kind', 'wwii'],\n",
       " ['transfer', 'cryptokey', 'many'],\n",
       " [],\n",
       " ['update', 'black'],\n",
       " ['none', 'work', 'reset', 'want', 'reinstall', 'go', 'back', 'work'],\n",
       " ['try', 'help', 'try', 'shut', 'look', 'avoid', 'look', 'deal'],\n",
       " ['outstanding', 'assistance', 'company', 'take', 'heat', 'people', 'hurt'],\n",
       " ['even', 'worse', 'hack', 'hurt', 'try', 'show', 'concern'],\n",
       " ['apologize',\n",
       "  'sound',\n",
       "  'jerk',\n",
       "  'know',\n",
       "  'scamme',\n",
       "  'old',\n",
       "  'people',\n",
       "  'rip',\n",
       "  'money',\n",
       "  'know',\n",
       "  'well'],\n",
       " ['back', 'immediately', 'upmost', 'importance'],\n",
       " ['phone', 'call', 'claim', 'discover', 'weren', 'number', 'try', 'bribe'],\n",
       " ['sorry',\n",
       "  'misunderstood',\n",
       "  'use',\n",
       "  'catalog',\n",
       "  'import',\n",
       "  'file',\n",
       "  'still',\n",
       "  'sllllloooooow'],\n",
       " ['apology', 'delay', 'migrate', 'catalog'],\n",
       " ['file', 'capitan'],\n",
       " ['mean'],\n",
       " ['happen', 'platform', 'clock', 'slow', 'look', 'cctv'],\n",
       " ['door', 'second', 'spare', 'leave'],\n",
       " ['train',\n",
       "  'clapham_junction',\n",
       "  'leave',\n",
       "  'early',\n",
       "  'only',\n",
       "  'train',\n",
       "  'early',\n",
       "  'week',\n",
       "  'annoying'],\n",
       " ['create',\n",
       "  'second',\n",
       "  'account',\n",
       "  'play',\n",
       "  'bad',\n",
       "  'people',\n",
       "  'high',\n",
       "  'skill',\n",
       "  'want',\n",
       "  'play',\n",
       "  'people',\n",
       "  'consider',\n",
       "  'cheat'],\n",
       " ['guy', 'give', 'purchase'],\n",
       " ['headset', 'simple', 'plug', 'method', 'right'],\n",
       " ['train', 'manchester_piccadilly', 'york', 'delay'],\n",
       " ['saya', 'tukar', 'flight', 'reschedule', 'booking'],\n",
       " ['buy', 'arbroath', 'store', 'last', 'week'],\n",
       " ['individual', 'character'],\n",
       " ['fantastic', 'thank', 'much', 'hope', 'good', 'shift'],\n",
       " ['store',\n",
       "  'need',\n",
       "  'urgently',\n",
       "  'produce',\n",
       "  'paperwork',\n",
       "  'solicitor',\n",
       "  'disappoint'],\n",
       " ['perth'],\n",
       " ['love',\n",
       "  'look',\n",
       "  'cafe',\n",
       "  'local',\n",
       "  'store',\n",
       "  'delightful',\n",
       "  'veggie',\n",
       "  'cajun',\n",
       "  'burger',\n",
       "  'brioche',\n",
       "  'twa',\n",
       "  'only',\n",
       "  'morning',\n",
       "  'roll'],\n",
       " [],\n",
       " ['problem',\n",
       "  'favourite',\n",
       "  'time',\n",
       "  'year',\n",
       "  'awesome',\n",
       "  'pumpkin',\n",
       "  'size',\n",
       "  'shape',\n",
       "  'go',\n",
       "  'waste'],\n",
       " ['halloween',\n",
       "  'shop',\n",
       "  'really',\n",
       "  'step',\n",
       "  'love',\n",
       "  'diverse',\n",
       "  'range',\n",
       "  'pumpkin'],\n",
       " ['also',\n",
       "  'find',\n",
       "  'hair',\n",
       "  'soup',\n",
       "  'bowl',\n",
       "  'weong',\n",
       "  'dressing',\n",
       "  'salad',\n",
       "  'also',\n",
       "  'play',\n",
       "  'give',\n",
       "  'right'],\n",
       " ['chance', 'sort', 'sponsorship', 'already', 'spend', 'thousand_dollar'],\n",
       " ['recognize',\n",
       "  'buy',\n",
       "  'shopping',\n",
       "  'cart',\n",
       "  'full',\n",
       "  'sport',\n",
       "  'equipment',\n",
       "  'employee',\n",
       "  'think',\n",
       "  'here',\n",
       "  'often'],\n",
       " ['good', 'walmart'],\n",
       " ['fellow', 'associate'],\n",
       " ['cart', 'full', 'blanket', 'become', 'friend', 'cashier'],\n",
       " ['use', 'pretty', 'neat', 'service'],\n",
       " ['pumpkin',\n",
       "  'enjoy',\n",
       "  'many',\n",
       "  'family',\n",
       "  'holiday',\n",
       "  'season',\n",
       "  'otherwise',\n",
       "  'thank',\n",
       "  'very',\n",
       "  'much'],\n",
       " ['happy',\n",
       "  'halloween',\n",
       "  'look',\n",
       "  'pumpkin',\n",
       "  'be',\n",
       "  'donate',\n",
       "  'distribution_center'],\n",
       " ['shout', 'actually', 'have', 'gospel', 'music', 'sale', 'bravo'],\n",
       " ['good', 'here', 'eventually'],\n",
       " ['submit',\n",
       "  'online',\n",
       "  'request',\n",
       "  'expect',\n",
       "  'cancellation',\n",
       "  'credit',\n",
       "  'account',\n",
       "  'thank'],\n",
       " ['thank', 'response', 'request', 'wait', 'reply'],\n",
       " ['even', 'reply'],\n",
       " ['driver', 'officially', 'bad', 'auto', 'wala', 'there', 'refuse', 'listen'],\n",
       " ['thing',\n",
       "  'exact',\n",
       "  'same',\n",
       "  'reliability',\n",
       "  'speed',\n",
       "  'more',\n",
       "  'same',\n",
       "  'product',\n",
       "  'wait',\n",
       "  'later',\n",
       "  'give',\n",
       "  'money'],\n",
       " ['address',\n",
       "  'specific',\n",
       "  'issue',\n",
       "  'though',\n",
       "  'already',\n",
       "  'receive',\n",
       "  'compensation',\n",
       "  'ride',\n",
       "  'report',\n",
       "  'mention',\n",
       "  'avoid',\n",
       "  'route',\n",
       "  'location',\n",
       "  'plot',\n",
       "  'correctly',\n",
       "  'tell',\n",
       "  'pass',\n",
       "  'route',\n",
       "  'dead'],\n",
       " ['problem',\n",
       "  'cancellation',\n",
       "  'charge',\n",
       "  'case',\n",
       "  'fit',\n",
       "  'none',\n",
       "  'option',\n",
       "  'report'],\n",
       " ['already', 'register', 'driver', 'low', 'requirement', 'bypass', 'rule'],\n",
       " ['month',\n",
       "  'away',\n",
       "  'be',\n",
       "  'drive',\n",
       "  'experience',\n",
       "  'include',\n",
       "  'delivery',\n",
       "  'feel',\n",
       "  'able',\n",
       "  'drive',\n",
       "  'instead',\n",
       "  'wait'],\n",
       " ['otherwise',\n",
       "  'account',\n",
       "  'run',\n",
       "  'stop',\n",
       "  'lie',\n",
       "  'make',\n",
       "  'public',\n",
       "  'lie',\n",
       "  'guy',\n",
       "  'tell',\n",
       "  'tell',\n",
       "  'only',\n",
       "  'take',\n",
       "  'hour',\n",
       "  'waiting',\n",
       "  'day'],\n",
       " ['want',\n",
       "  'support',\n",
       "  'people',\n",
       "  'lie',\n",
       "  'run',\n",
       "  'wait',\n",
       "  'day',\n",
       "  'guy',\n",
       "  'lie',\n",
       "  'close',\n",
       "  'report',\n",
       "  'driver',\n",
       "  'vehicle',\n",
       "  'stop',\n",
       "  'next',\n",
       "  'facebook'],\n",
       " ['already',\n",
       "  'message',\n",
       "  'email',\n",
       "  'address',\n",
       "  'sure',\n",
       "  'mean',\n",
       "  'support',\n",
       "  'realize',\n",
       "  'guy',\n",
       "  'deactivate',\n",
       "  'account'],\n",
       " ['wife',\n",
       "  'account',\n",
       "  'charge',\n",
       "  'uber',\n",
       "  'eat',\n",
       "  'order',\n",
       "  'never',\n",
       "  'place',\n",
       "  'call',\n",
       "  'number',\n",
       "  'hold',\n",
       "  'be',\n",
       "  'tell',\n",
       "  'email',\n",
       "  'uber',\n",
       "  'seriously'],\n",
       " ['book',\n",
       "  'trip',\n",
       "  'tonight',\n",
       "  'pay',\n",
       "  'trip',\n",
       "  'driver',\n",
       "  'never',\n",
       "  'come',\n",
       "  'drive',\n",
       "  'complete',\n",
       "  'money',\n",
       "  'back'],\n",
       " ['definitely', 'avail', 'keep', 'default', 'terminal'],\n",
       " ['make',\n",
       "  'impossible',\n",
       "  'arrange',\n",
       "  'pick',\n",
       "  'airport',\n",
       "  'matter',\n",
       "  'pick',\n",
       "  'location',\n",
       "  'default',\n",
       "  'terminal',\n",
       "  'terminal',\n",
       "  'guy',\n",
       "  'lose',\n",
       "  'ride',\n",
       "  'tonight'],\n",
       " ['minimum', 'fare', 'ride', 'lose', 'money'],\n",
       " ['already', 'week', 'answer', 'reboot', 'reinstall'],\n",
       " ['paypal', 'payment', 'work', 'start', 'week'],\n",
       " ['parisgamesweek', 'system', 'dosnt', 'work', 'paypal', 'take', 'taxi'],\n",
       " ['already', 'try', 'fail'],\n",
       " ['phone', 'warranty', 'expire'],\n",
       " ['phone', 'austin', 'good', 'customer', 'service', 'experience', 'ever'],\n",
       " [],\n",
       " ['feast',\n",
       "  'collect',\n",
       "  'fund',\n",
       "  'know',\n",
       "  'money',\n",
       "  'delete',\n",
       "  'unnecessary',\n",
       "  'thing',\n",
       "  'do',\n",
       "  'subscribe'],\n",
       " ['centimetre'],\n",
       " ['well', 'try', 'clearly', 'say', 'open'],\n",
       " ['online', 'order', 'know', 'nappy', 'be', 'use', 'month', 'never', 'issue'],\n",
       " ['want',\n",
       "  'know',\n",
       "  'recently',\n",
       "  'bough',\n",
       "  'online',\n",
       "  'grocery',\n",
       "  'order',\n",
       "  'baby',\n",
       "  'nappy',\n",
       "  'nappy',\n",
       "  'wouldn',\n",
       "  'even',\n",
       "  'stay',\n",
       "  'child',\n",
       "  'reason',\n",
       "  'half',\n",
       "  'like',\n",
       "  'be',\n",
       "  'leak',\n",
       "  'call',\n",
       "  'contact',\n",
       "  'centre',\n",
       "  'say'],\n",
       " ['only', 'seem', 'release', 'furious'],\n",
       " ['tesco',\n",
       "  'say',\n",
       "  'ask',\n",
       "  'only',\n",
       "  'customer',\n",
       "  'fulfillment',\n",
       "  'centre',\n",
       "  'christmas',\n",
       "  'slot',\n",
       "  'london',\n",
       "  'mainly'],\n",
       " ['area', 'have', 'delivery', 'apparently'],\n",
       " ['book', 'cheer'],\n",
       " ['glad', 'sort'],\n",
       " ['cheer', 'well'],\n",
       " ['problem', 'tesco', 'website', 'busy'],\n",
       " ['joke', 'queue', 'xmas', 'slot'],\n",
       " ['still', 'wait', 'bowl', 'cherry'],\n",
       " ['thank', 'give', 'midnight', 'go', 'reasonable', 'slot'],\n",
       " ['none', 'there'],\n",
       " [],\n",
       " ['book', 'slot'],\n",
       " ['actually', 'website', 'order'],\n",
       " ['then', 'queue', 'time'],\n",
       " ['stick', 'wait'],\n",
       " ['website', 'say', 'busy', 'load'],\n",
       " ['thank'],\n",
       " [],\n",
       " ['really'],\n",
       " ['midnight', 'apparently'],\n",
       " ['firetvstick'],\n",
       " [],\n",
       " ['stick', 'wifi'],\n",
       " ['amazon', 'much', 'didn', 'know', 'process', 'receive', 'item'],\n",
       " ['wasn', 'track', 'send', 'royal_mail', 'email', 'seller'],\n",
       " ['send', 'email', 'say', 'dispatch'],\n",
       " ['order', 'item', 'say', 'deliver', 'still', 'haven', 'receive'],\n",
       " ['learn',\n",
       "  'german',\n",
       "  'really',\n",
       "  'mind',\n",
       "  'german',\n",
       "  'english',\n",
       "  'choose',\n",
       "  'german'],\n",
       " ['allow', 'well', 'past', 'never', 'notify', 'other', 'delay'],\n",
       " ['make',\n",
       "  'same',\n",
       "  'ship',\n",
       "  'monday',\n",
       "  'say',\n",
       "  'deliver',\n",
       "  'didn',\n",
       "  'today',\n",
       "  'still',\n",
       "  'say',\n",
       "  'delivery',\n",
       "  'still',\n",
       "  'show'],\n",
       " ['have', 'issue', 'same', 'ship', 'order'],\n",
       " ['buy', 'item', 'only', 'get', 'back'],\n",
       " ['where', 'order'],\n",
       " ['bummer', 'hope', 'quick', 'well', 'response'],\n",
       " ['amazonuk', 'do', 'refund', 'process', 'money'],\n",
       " ['mail',\n",
       "  'amazonuk',\n",
       "  'many',\n",
       "  'time',\n",
       "  'have',\n",
       "  'progress',\n",
       "  'customer',\n",
       "  'care',\n",
       "  'say',\n",
       "  'billing',\n",
       "  'section',\n",
       "  'have',\n",
       "  'refund'],\n",
       " ['redund',\n",
       "  'issue',\n",
       "  'sing',\n",
       "  'money',\n",
       "  'amazonuk',\n",
       "  'say',\n",
       "  'billing',\n",
       "  'department',\n",
       "  'signof',\n",
       "  'devlp'],\n",
       " ['legacy',\n",
       "  'share',\n",
       "  'prime',\n",
       "  'benefit',\n",
       "  'account',\n",
       "  'try',\n",
       "  'join',\n",
       "  'amazon',\n",
       "  'household',\n",
       "  'prim',\n",
       "  'account',\n",
       "  'holder',\n",
       "  'share',\n",
       "  'echo',\n",
       "  'voice',\n",
       "  'profile'],\n",
       " ['prime', 'queue', 'kindle', 'queue', 'echo', 'queue', 'hold', 'again'],\n",
       " ['well', 'say', 'dlvd', 'bother', 'deliver', 'think', 'wash_hand'],\n",
       " ['dlvd',\n",
       "  'lie',\n",
       "  'say',\n",
       "  'leave',\n",
       "  'safe',\n",
       "  'place',\n",
       "  'yesterday',\n",
       "  'say',\n",
       "  'dlvd',\n",
       "  'sort'],\n",
       " ['make',\n",
       "  'many',\n",
       "  'call',\n",
       "  'amazon',\n",
       "  'resolution',\n",
       "  'member',\n",
       "  'need',\n",
       "  'corporate',\n",
       "  'involved'],\n",
       " ['talk',\n",
       "  'customer',\n",
       "  'service',\n",
       "  'again',\n",
       "  'part',\n",
       "  'problem',\n",
       "  'want',\n",
       "  'america',\n",
       "  'corporate',\n",
       "  'make',\n",
       "  'decision'],\n",
       " ['amazon',\n",
       "  'twitter',\n",
       "  'staff',\n",
       "  'same',\n",
       "  'people',\n",
       "  'customer',\n",
       "  'service',\n",
       "  'answer',\n",
       "  'here',\n",
       "  'speak',\n",
       "  'different',\n",
       "  'person'],\n",
       " ['card',\n",
       "  'work',\n",
       "  'only',\n",
       "  'time',\n",
       "  'usps',\n",
       "  'delivery',\n",
       "  'person',\n",
       "  'deliver',\n",
       "  'send'],\n",
       " ['want', 'speak', 'corp', 'address', 'issue'],\n",
       " ['multiple',\n",
       "  'call',\n",
       "  'call',\n",
       "  'amazon',\n",
       "  'call',\n",
       "  'center',\n",
       "  'resolution',\n",
       "  'never',\n",
       "  'promise',\n",
       "  'call'],\n",
       " ['face', 'very', 'poor', 'network', 'village', 'surround', 'locality'],\n",
       " ['already', 'reply', 'direct', 'message'],\n",
       " ['father',\n",
       "  'security',\n",
       "  'issue',\n",
       "  'report',\n",
       "  'incompetancy',\n",
       "  'representative',\n",
       "  'connought',\n",
       "  'place',\n",
       "  'delhi',\n",
       "  'cost',\n",
       "  'more',\n",
       "  'date',\n",
       "  'suffering',\n",
       "  'idea',\n",
       "  'handle',\n",
       "  'case',\n",
       "  'need',\n",
       "  'urgent'],\n",
       " ['say', 'solve', 'problem', 'currently', 'hold'],\n",
       " ['update', 'phone'],\n",
       " ['battery',\n",
       "  'life',\n",
       "  'short',\n",
       "  'update',\n",
       "  'battery',\n",
       "  'poor',\n",
       "  'wife',\n",
       "  'didn',\n",
       "  'like',\n",
       "  'battery',\n",
       "  'life'],\n",
       " ['do', 'show', 'music', 'store', 'phone', 'want', 'store', 'music', 'phone'],\n",
       " ['watchos',\n",
       "  'make',\n",
       "  'watch',\n",
       "  'pointless',\n",
       "  'browse',\n",
       "  'music',\n",
       "  'phone',\n",
       "  'watch',\n",
       "  'reason',\n",
       "  'buy',\n",
       "  'useless'],\n",
       " ['hopefully', 'help'],\n",
       " ['get', 'bad', 'month'],\n",
       " ['iphone'],\n",
       " ['music', 'never', 'control_center'],\n",
       " ['plug',\n",
       "  'adapter',\n",
       "  'straight',\n",
       "  'transformer',\n",
       "  'still',\n",
       "  'didn',\n",
       "  'charger',\n",
       "  'charger',\n",
       "  'do',\n",
       "  'light',\n",
       "  'either'],\n",
       " ['cost', 'send', 'diagnose', 'problem', 'warranty'],\n",
       " ['problem', 'macbook', 'turn', 'think', 'charger', 'sure'],\n",
       " ['still', 'reliable', 'bluetooth', 'iphone'],\n",
       " ['roll', 'month', 'do', 'appear', 'hang'],\n",
       " ['app', 'epilepsy', 'detect', 'seizure', 'advance'],\n",
       " [],\n",
       " ['new', 'version', 'iphone'],\n",
       " ['iphone', 'erase', 'add', 'email', 'date', 'back', 'twice', 'past', 'hour'],\n",
       " ['imessage',\n",
       "  'become',\n",
       "  'impersonal',\n",
       "  'frequent',\n",
       "  'implement',\n",
       "  'italic',\n",
       "  'bold',\n",
       "  'give',\n",
       "  'more',\n",
       "  'context',\n",
       "  'message'],\n",
       " ['happen'],\n",
       " [],\n",
       " ['keep', 'get', 'error', 'message', 'say', 'item', 'play'],\n",
       " [],\n",
       " ['check'],\n",
       " ['internal',\n",
       "  'problem',\n",
       "  'suggestion',\n",
       "  'pay',\n",
       "  'phone',\n",
       "  'didn',\n",
       "  'cause',\n",
       "  'damage'],\n",
       " ['work',\n",
       "  'go',\n",
       "  'apple',\n",
       "  'store',\n",
       "  'lynnwood',\n",
       "  'try',\n",
       "  'charge',\n",
       "  'replacement',\n",
       "  'phone'],\n",
       " ['say', 'search', 'instead', 'give', 'signal', 'deal', 'week', 'sprint'],\n",
       " ['problem', 'iphone'],\n",
       " ['idea',\n",
       "  'icon',\n",
       "  'show',\n",
       "  'force',\n",
       "  'reset',\n",
       "  'avail',\n",
       "  'initial',\n",
       "  'notification',\n",
       "  'display',\n",
       "  'show'],\n",
       " ['sorted', 'update', 'need', 'change', 'hard', 'reboot'],\n",
       " ['adjust',\n",
       "  'alarm',\n",
       "  'volume',\n",
       "  'waking',\n",
       "  'house',\n",
       "  'neighbour',\n",
       "  'ringer',\n",
       "  'be',\n",
       "  'minimum'],\n",
       " ['live', 'photo', 'keep', 'turn', 'camera', 'even', 'stay', 'next', 'update'],\n",
       " ['down', 'wire', 'wireless'],\n",
       " [],\n",
       " ['here',\n",
       "  'speed',\n",
       "  'hardwired',\n",
       "  'realize',\n",
       "  'guy',\n",
       "  'speed',\n",
       "  'certain',\n",
       "  'amount',\n",
       "  'pay',\n",
       "  'amount',\n",
       "  'shouldn',\n",
       "  'get',\n",
       "  'download',\n",
       "  'outrageous',\n",
       "  'believe',\n",
       "  'even',\n",
       "  'half'],\n",
       " ['try', 'computer', 'able', 'hang', 'tight'],\n",
       " ['clearly', 'actually', 'find', 'pay', 'mbps', 'download', 'even'],\n",
       " ['reason', 'even', 'hit', 'resolve', 'obviously', 'even', 'get', 'third'],\n",
       " ['unfortunately', 'only', 'ethernet_cable', 'provide'],\n",
       " ['test',\n",
       "  'multiple',\n",
       "  'platform',\n",
       "  'technician',\n",
       "  'come',\n",
       "  'resolve',\n",
       "  'issue',\n",
       "  'packet_loss',\n",
       "  'incredibly',\n",
       "  'high'],\n",
       " ['associate', 'speak', 'do'],\n",
       " ['definitely',\n",
       "  'issue',\n",
       "  'multiple',\n",
       "  'test',\n",
       "  'speed',\n",
       "  'test',\n",
       "  'ookla',\n",
       "  'get',\n",
       "  'download',\n",
       "  'trace',\n",
       "  'route',\n",
       "  'associate',\n",
       "  'speak',\n",
       "  'phone',\n",
       "  'able',\n",
       "  'provide',\n",
       "  'get',\n",
       "  'anywhere',\n",
       "  'near',\n",
       "  'down'],\n",
       " ['thank', 'post', 'result'],\n",
       " ['ethernet_cord',\n",
       "  'give',\n",
       "  'modem',\n",
       "  'unfortunately',\n",
       "  'only',\n",
       "  'even',\n",
       "  'mbps',\n",
       "  'potentially',\n",
       "  'plan',\n",
       "  'only',\n",
       "  'see'],\n",
       " ['here', 'wifi', 'even', 'panoramic', 'close', 'pay', 'running', 'wire'],\n",
       " ['continually',\n",
       "  'give',\n",
       "  'guy',\n",
       "  'benefit',\n",
       "  'doubt',\n",
       "  'pay',\n",
       "  'know',\n",
       "  'mbps',\n",
       "  'get',\n",
       "  'need',\n",
       "  'fix',\n",
       "  'yesterday'],\n",
       " [],\n",
       " ['need',\n",
       "  'account',\n",
       "  'get',\n",
       "  'disable',\n",
       "  'time',\n",
       "  'login',\n",
       "  'get',\n",
       "  'really',\n",
       "  'frustrating'],\n",
       " ['haven', 'reach', 'refund', 'cost', 'inedible', 'food', 'delay'],\n",
       " [],\n",
       " ['order', 'food', 'uber', 'eat', 'delivery', 'contact'],\n",
       " [],\n",
       " ['fucking',\n",
       "  'cold',\n",
       "  'wait',\n",
       "  'want',\n",
       "  'cancel',\n",
       "  'taxi',\n",
       "  'doesn',\n",
       "  'work',\n",
       "  'there',\n",
       "  'taxis',\n",
       "  'front'],\n",
       " ['reduce',\n",
       "  'clear',\n",
       "  'price',\n",
       "  'more',\n",
       "  'expensive',\n",
       "  'same',\n",
       "  'store',\n",
       "  'mislead',\n",
       "  'incompetent'],\n",
       " ['loose',\n",
       "  'pie',\n",
       "  'poly',\n",
       "  'label',\n",
       "  'local',\n",
       "  'staff',\n",
       "  'say',\n",
       "  'different',\n",
       "  'ingredient',\n",
       "  'reason'],\n",
       " ['haddington',\n",
       "  'mini',\n",
       "  'melton_mowbray',\n",
       "  'pie',\n",
       "  'mini',\n",
       "  'melton_mowbray',\n",
       "  'pie',\n",
       "  'reduce',\n",
       "  'shelf'],\n",
       " ['reason',\n",
       "  'usually',\n",
       "  'shop',\n",
       "  'elsewhere',\n",
       "  'complicated',\n",
       "  'special',\n",
       "  'offer',\n",
       "  'then',\n",
       "  'be',\n",
       "  'tell',\n",
       "  'checkout',\n",
       "  'much',\n",
       "  'money',\n",
       "  'save'],\n",
       " ['then',\n",
       "  'manager',\n",
       "  'say',\n",
       "  'different',\n",
       "  'ingredient',\n",
       "  'exact',\n",
       "  'same',\n",
       "  'description',\n",
       "  'different',\n",
       "  'ingredient',\n",
       "  'doubt',\n",
       "  'legal'],\n",
       " ['annoyed',\n",
       "  'already',\n",
       "  'pack',\n",
       "  'reduce',\n",
       "  'clear',\n",
       "  'offer',\n",
       "  'pack',\n",
       "  'back',\n",
       "  'shelf',\n",
       "  'find',\n",
       "  'cheap',\n",
       "  'pack'],\n",
       " ['avoid',\n",
       "  'mislead',\n",
       "  'public',\n",
       "  'standard',\n",
       "  'procedure',\n",
       "  'ensure',\n",
       "  'good',\n",
       "  'clearance',\n",
       "  'shelf',\n",
       "  'cheap',\n",
       "  'same',\n",
       "  'good',\n",
       "  'shop'],\n",
       " ['gon',\n",
       "  'back',\n",
       "  'store',\n",
       "  'pass',\n",
       "  'much',\n",
       "  'easy',\n",
       "  'do',\n",
       "  'receipt',\n",
       "  'detail',\n",
       "  'think',\n",
       "  'be',\n",
       "  'quid'],\n",
       " ['gon',\n",
       "  'take',\n",
       "  'satisfactory',\n",
       "  'offer',\n",
       "  'return',\n",
       "  'overwhelming',\n",
       "  'taste',\n",
       "  'coconut_milk',\n",
       "  'powder',\n",
       "  'curry'],\n",
       " ['send', 'photo', 'okay'],\n",
       " ['buy', 'lasagne', 'early', 'husband', 'open', 'manky'],\n",
       " ['manage', 'checkout', 'thank', 'luckily', 'didn', 'loose', 'space'],\n",
       " ['imagine', 'get', 'half', 'shopping', 'find', 'well', 'loose', 'slot'],\n",
       " ['dear', 'find', 'hair', 'food', 'buy', 'hair'],\n",
       " ['speak',\n",
       "  'check',\n",
       "  'say',\n",
       "  'work',\n",
       "  'stock',\n",
       "  'say',\n",
       "  'freezer',\n",
       "  'be',\n",
       "  'break',\n",
       "  'good',\n",
       "  'enough'],\n",
       " ['also',\n",
       "  'then',\n",
       "  'drive',\n",
       "  'tesco',\n",
       "  'prestwich',\n",
       "  'only',\n",
       "  'packet',\n",
       "  'quorn',\n",
       "  'mince',\n",
       "  'leave'],\n",
       " ['come', 'specifically', 'quran', 'mince', 'cheetham_hill', 'impress'],\n",
       " ['do', 'tikka_masala', 'cashew_nuts'],\n",
       " ['nice',\n",
       "  'know',\n",
       "  'clearly',\n",
       "  'label',\n",
       "  'product',\n",
       "  'aren',\n",
       "  'suitable',\n",
       "  'people',\n",
       "  'allergy',\n",
       "  'nearly',\n",
       "  'die'],\n",
       " ['give', 'credit', 'where', 'thank'],\n",
       " ['dear',\n",
       "  'thank',\n",
       "  'provide',\n",
       "  'excellent',\n",
       "  'service',\n",
       "  'employee',\n",
       "  'truly',\n",
       "  'care',\n",
       "  'customer',\n",
       "  'experience',\n",
       "  'stand',\n",
       "  'crowd'],\n",
       " ['gate', 'agent', 'be', 'kind', 'airport', 'great', 'vote', 'top', 'often'],\n",
       " ['montreal',\n",
       "  'where',\n",
       "  'say',\n",
       "  'allow',\n",
       "  'deal',\n",
       "  'tweet',\n",
       "  'exchange',\n",
       "  'day',\n",
       "  'email',\n",
       "  'same',\n",
       "  'offer'],\n",
       " ['day',\n",
       "  'later',\n",
       "  'still',\n",
       "  'advertising',\n",
       "  'sale',\n",
       "  'geographically',\n",
       "  'ineligible',\n",
       "  'time',\n",
       "  'facebook',\n",
       "  'know',\n",
       "  'choose',\n",
       "  'where',\n",
       "  'want',\n",
       "  'display'],\n",
       " ['actually', 'amazing'],\n",
       " ['have', 'party'],\n",
       " ['quick',\n",
       "  'reply',\n",
       "  'work',\n",
       "  'reinstall',\n",
       "  'time',\n",
       "  'macos_high_sierra',\n",
       "  'look',\n",
       "  'version',\n",
       "  'aaaf',\n",
       "  'sure',\n",
       "  'initial',\n",
       "  'problem',\n",
       "  'again',\n",
       "  'work'],\n",
       " ['try',\n",
       "  'select',\n",
       "  'option',\n",
       "  'multiple',\n",
       "  'time',\n",
       "  'time',\n",
       "  'closing',\n",
       "  'setting',\n",
       "  'go',\n",
       "  'right',\n",
       "  'back',\n",
       "  'minimize',\n",
       "  'want',\n",
       "  'boot',\n",
       "  'startup',\n",
       "  'give'],\n",
       " ['reach', 'pascal', 'payment', 'update'],\n",
       " ['booooourn'],\n",
       " ['doubt', 'thank', 'reply'],\n",
       " ['album',\n",
       "  'spotify',\n",
       "  'playable',\n",
       "  'super',\n",
       "  'available',\n",
       "  'playlist',\n",
       "  'complete',\n",
       "  'song',\n",
       "  'first',\n",
       "  'mini',\n",
       "  'album'],\n",
       " ['single',\n",
       "  'time',\n",
       "  'send',\n",
       "  'spotify',\n",
       "  'link',\n",
       "  'never',\n",
       "  'work',\n",
       "  'first',\n",
       "  'time',\n",
       "  'press',\n",
       "  'link',\n",
       "  'twice',\n",
       "  'work'],\n",
       " ['use', 'facebook', 'account', 'method'],\n",
       " ['connection', 'notification', 'phone', 'love', 'fresh', 'install', 'luck'],\n",
       " ['spotify',\n",
       "  'android',\n",
       "  'version',\n",
       "  'device',\n",
       "  'brand',\n",
       "  'huawei',\n",
       "  'mate',\n",
       "  'look',\n",
       "  'matter',\n",
       "  'update'],\n",
       " ['beef'],\n",
       " ['anyway', 'move', 'song', 'order', 'order', 'add', 'make', 'sense'],\n",
       " ['here', 'link'],\n",
       " ['keyword', 'playlist', 'playlist', 'song'],\n",
       " ['feel', 'idea', 'similar', 'keyword', 'tell', 'close', 'long', 'vote'],\n",
       " ['playlist',\n",
       "  'idea',\n",
       "  'status',\n",
       "  'change',\n",
       "  'receive',\n",
       "  'vote',\n",
       "  'send',\n",
       "  'link',\n",
       "  'similar',\n",
       "  'idea',\n",
       "  'close'],\n",
       " [],\n",
       " ['drag',\n",
       "  'many',\n",
       "  'song',\n",
       "  'same',\n",
       "  'playlist',\n",
       "  'aim',\n",
       "  'technology',\n",
       "  'make',\n",
       "  'everyday',\n",
       "  'task',\n",
       "  'easier',\n",
       "  'right'],\n",
       " ['spotify',\n",
       "  'really',\n",
       "  'need',\n",
       "  'feature',\n",
       "  'song',\n",
       "  'multiple',\n",
       "  'playlist',\n",
       "  'once'],\n",
       " [],\n",
       " ['well', 'do', 'guy'],\n",
       " ['take',\n",
       "  'shake',\n",
       "  'night',\n",
       "  'long',\n",
       "  'spotify',\n",
       "  'piss',\n",
       "  'remove',\n",
       "  'great',\n",
       "  'song',\n",
       "  'ever',\n",
       "  'make'],\n",
       " [],\n",
       " ['mobile'],\n",
       " ['actually',\n",
       "  'ask',\n",
       "  'customer',\n",
       "  'advisor',\n",
       "  'say',\n",
       "  'local',\n",
       "  'rate',\n",
       "  'incur',\n",
       "  'cost',\n",
       "  'make',\n",
       "  'people',\n",
       "  'aware'],\n",
       " ['daily', 'post', 'tweet'],\n",
       " ['call',\n",
       "  'number',\n",
       "  'premium',\n",
       "  'rate',\n",
       "  'additional',\n",
       "  'service',\n",
       "  'charge',\n",
       "  'benefit'],\n",
       " ['call',\n",
       "  'number',\n",
       "  'inclusive',\n",
       "  'allowance',\n",
       "  'otherwise',\n",
       "  'charge',\n",
       "  'same',\n",
       "  'number'],\n",
       " ['call', 'charge', 'number', 'entirely', 'caller', 'phone', 'provider'],\n",
       " ['charge', 'phone', 'call', 'book', 'flight', 'cost'],\n",
       " ['try',\n",
       "  'check',\n",
       "  'online',\n",
       "  'flight',\n",
       "  'however',\n",
       "  'say',\n",
       "  'need',\n",
       "  'esta',\n",
       "  'valid'],\n",
       " ['know', 'run', 'winter', 'specifically', 'plan', 'hoping', 'route'],\n",
       " ['reply',\n",
       "  'keep',\n",
       "  'website',\n",
       "  'husband',\n",
       "  'planning',\n",
       "  'next',\n",
       "  'year',\n",
       "  'hopefully',\n",
       "  'route',\n",
       "  'thank'],\n",
       " ['direct', 'flight', 'lima', 'lima', 'year', 'round', 'look', 'couldn'],\n",
       " ['want',\n",
       "  'know',\n",
       "  'office',\n",
       "  'location',\n",
       "  'lago',\n",
       "  'abuja',\n",
       "  'respective',\n",
       "  'contact',\n",
       "  'number',\n",
       "  'travel',\n",
       "  'purpose'],\n",
       " ['thank', 'jane'],\n",
       " ['silver',\n",
       "  'avio',\n",
       "  'member',\n",
       "  'fly',\n",
       "  'premium',\n",
       "  'there',\n",
       "  'lounge',\n",
       "  'schiphol',\n",
       "  'airport'],\n",
       " ['disgraceful',\n",
       "  'fly',\n",
       "  'club_europe',\n",
       "  'crush',\n",
       "  'knee',\n",
       "  'fly',\n",
       "  'load',\n",
       "  'room',\n",
       "  'waste',\n",
       "  'money',\n",
       "  'again'],\n",
       " ['already', 'fix', 'thank'],\n",
       " ['again'],\n",
       " ['already',\n",
       "  'call',\n",
       "  'talk',\n",
       "  'very',\n",
       "  'nice',\n",
       "  'young',\n",
       "  'lady',\n",
       "  'apologize',\n",
       "  'problem',\n",
       "  'solution',\n",
       "  'repeat',\n",
       "  'outage',\n",
       "  'area',\n",
       "  'outage'],\n",
       " ['give',\n",
       "  'full',\n",
       "  'cap',\n",
       "  'even',\n",
       "  'local',\n",
       "  'telephone',\n",
       "  'give',\n",
       "  'corporate_greed',\n",
       "  'monster'],\n",
       " ['where', 'report', 'outage'],\n",
       " ['thank'],\n",
       " ['good', 'memorizing', 'channel'],\n",
       " ['once', 'wrestle'],\n",
       " ['remote', 'setup'],\n",
       " ['infinity',\n",
       "  'voice',\n",
       "  'remote',\n",
       "  'able',\n",
       "  'find',\n",
       "  'high',\n",
       "  'definition',\n",
       "  'channel',\n",
       "  'again',\n",
       "  'verbal',\n",
       "  'search'],\n",
       " ['ascent', 'baby', 'go', 'full', 'chucky', 'happy', 'halloween'],\n",
       " [],\n",
       " ['start', 'conversation', 'back', 'wifi', 'little'],\n",
       " ['ascent', 'baby', 'go', 'full', 'chucky', 'happy', 'halloween'],\n",
       " ['get', 'admit', 'baby', 'commitment'],\n",
       " [],\n",
       " ['bring', 'earplug', 'ambien'],\n",
       " ['jeez'],\n",
       " ['entire', 'flight', 'dude'],\n",
       " ['buy',\n",
       "  'flight',\n",
       "  'pass',\n",
       "  'tell',\n",
       "  'guy',\n",
       "  'baby',\n",
       "  'still',\n",
       "  'chucky',\n",
       "  'possess',\n",
       "  'scream',\n",
       "  'only',\n",
       "  'seat',\n",
       "  'available',\n",
       "  'cabin',\n",
       "  'one'],\n",
       " ['guess'],\n",
       " ['go', 'minute'],\n",
       " ['really'],\n",
       " ['flight',\n",
       "  'paris',\n",
       "  'sit',\n",
       "  'next',\n",
       "  'loud',\n",
       "  'baby',\n",
       "  'ever',\n",
       "  'hear',\n",
       "  'life',\n",
       "  'upgrade'],\n",
       " ['give',\n",
       "  'grief',\n",
       "  'thing',\n",
       "  'poorly',\n",
       "  'here',\n",
       "  'credit',\n",
       "  'guacamole',\n",
       "  'admiral_club',\n",
       "  'outstanding',\n",
       "  'addition'],\n",
       " ['aware',\n",
       "  'fit_overhead',\n",
       "  'return',\n",
       "  'trip',\n",
       "  'same',\n",
       "  'luggage',\n",
       "  'go',\n",
       "  'security',\n",
       "  'gate',\n",
       "  'chck',\n",
       "  'empty',\n",
       "  'overhead'],\n",
       " ['fly',\n",
       "  'same',\n",
       "  'forced',\n",
       "  'check',\n",
       "  'guitar',\n",
       "  'charge',\n",
       "  'gate',\n",
       "  'security',\n",
       "  'full'],\n",
       " ['fifteen',\n",
       "  'empty',\n",
       "  'business',\n",
       "  'class',\n",
       "  'seat',\n",
       "  'only',\n",
       "  'person',\n",
       "  'upgrade'],\n",
       " ['send'],\n",
       " ['still', 'wait', 'compensate', 'crap', 'honeymoon', 'almost', 'year'],\n",
       " ['night', 'joel'],\n",
       " ['confirm',\n",
       "  'long',\n",
       "  'delay',\n",
       "  'train',\n",
       "  'london',\n",
       "  'euston',\n",
       "  'bham_street',\n",
       "  'train',\n",
       "  'announcer',\n",
       "  'even',\n",
       "  'announce',\n",
       "  'min',\n",
       "  'late',\n",
       "  'get',\n",
       "  'reply',\n",
       "  'refund',\n",
       "  'claim',\n",
       "  'min'],\n",
       " ['question'],\n",
       " ['do', 'teddy_bear', 'count', 'personal', 'item', 'next', 'flight'],\n",
       " ['happy', 'halloween', 'safe'],\n",
       " ['ironic', 'amazing', 'touch', 'look'],\n",
       " ['kind', 'reply', 'real'],\n",
       " ['give', 'cash', 'cheap', 'asshole'],\n",
       " ['airline',\n",
       "  'again',\n",
       "  'screw',\n",
       "  'last',\n",
       "  'time',\n",
       "  'never',\n",
       "  'fly',\n",
       "  'southwest',\n",
       "  'again'],\n",
       " ['here',\n",
       "  'ahead',\n",
       "  'close',\n",
       "  'account',\n",
       "  'do',\n",
       "  'call',\n",
       "  'chase',\n",
       "  'cancel',\n",
       "  'visa',\n",
       "  'adio'],\n",
       " ['look',\n",
       "  'try',\n",
       "  'make',\n",
       "  'send',\n",
       "  'drink_coupon',\n",
       "  'almost',\n",
       "  'year',\n",
       "  'sober',\n",
       "  'former',\n",
       "  'alcoholic'],\n",
       " ['already', 'speak', 'guy', 'wasn', 'helpful'],\n",
       " ['audio', 'syncing', 'show'],\n",
       " ['invite',\n",
       "  'hulu',\n",
       "  'free',\n",
       "  'trial',\n",
       "  'still',\n",
       "  'charge',\n",
       "  'want',\n",
       "  'money',\n",
       "  'back'],\n",
       " ['charge', 'subscription', 'didn', 'sign'],\n",
       " ['send'],\n",
       " ['mine',\n",
       "  'brother',\n",
       "  'datum',\n",
       "  'barely',\n",
       "  'work',\n",
       "  'full',\n",
       "  'signal',\n",
       "  'loading',\n",
       "  'do',\n",
       "  'load',\n",
       "  'very',\n",
       "  'slow'],\n",
       " ['worry', 'go', 'other', 'company', 'offer'],\n",
       " [],\n",
       " ['complete', 'ineptness'],\n",
       " ['surprised', 'work', 'come', 'sprint'],\n",
       " ['seat', 'dimension'],\n",
       " ['classify',\n",
       "  'personal',\n",
       "  'item',\n",
       "  'website',\n",
       "  'do',\n",
       "  'dimension',\n",
       "  'personal',\n",
       "  'item'],\n",
       " ['didn', 'language'],\n",
       " ['enough',\n",
       "  'care',\n",
       "  'offer',\n",
       "  'finger_cross',\n",
       "  'hassle',\n",
       "  'change',\n",
       "  'frequent_flyer',\n",
       "  'program',\n",
       "  'stay',\n",
       "  'always'],\n",
       " ['mile', 'point', 'useless', 'airline', 'actually', 'helpful', 'time'],\n",
       " ['wait',\n",
       "  'actually',\n",
       "  'stick',\n",
       "  'airline',\n",
       "  'airline',\n",
       "  'most',\n",
       "  'convenient',\n",
       "  'flight',\n",
       "  'time',\n",
       "  'whatnot'],\n",
       " ['literally',\n",
       "  'always',\n",
       "  'delta',\n",
       "  'work',\n",
       "  'choice',\n",
       "  'time',\n",
       "  'personal',\n",
       "  'travel',\n",
       "  'mediocrity'],\n",
       " ['always',\n",
       "  'use',\n",
       "  'delta',\n",
       "  'year',\n",
       "  'business',\n",
       "  'fly',\n",
       "  'southwest',\n",
       "  'last',\n",
       "  'week',\n",
       "  'first',\n",
       "  'time',\n",
       "  'great',\n",
       "  'free',\n",
       "  'check',\n",
       "  'bag',\n",
       "  'still',\n",
       "  'team',\n",
       "  'delta',\n",
       "  'get',\n",
       "  'weak'],\n",
       " ['figure'],\n",
       " ['wisconsin',\n",
       "  'runway',\n",
       "  'hour',\n",
       "  'half',\n",
       "  'delay',\n",
       "  'min',\n",
       "  'land',\n",
       "  'return',\n",
       "  'flight',\n",
       "  'delay',\n",
       "  'hour',\n",
       "  'explanation',\n",
       "  'only',\n",
       "  'alternate',\n",
       "  'flight',\n",
       "  'tomorrow'],\n",
       " ['international', 'flight', 'time'],\n",
       " ['think', 'right'],\n",
       " ['think', 'long', 'decide'],\n",
       " [],\n",
       " ['trip', 'cost', 'mile', 'waitlist', 'delta', 'burn', 'long', 'flight'],\n",
       " ['reply',\n",
       "  'understand',\n",
       "  'concern',\n",
       "  'safety',\n",
       "  'otherwise',\n",
       "  'great',\n",
       "  'flight',\n",
       "  'appreciate',\n",
       "  'get',\n",
       "  'home',\n",
       "  'safe',\n",
       "  'very',\n",
       "  'busy',\n",
       "  'holiday',\n",
       "  'weekend'],\n",
       " ['pilot', 'land', 'min', 'early', 'gate', 'avail', 'ground', 'stick', 'seat'],\n",
       " ['pleasure'],\n",
       " ['great', 'start', 'great', 'event'],\n",
       " [],\n",
       " ['check',\n",
       "  'flight',\n",
       "  'tomorrow',\n",
       "  'move',\n",
       "  'seat',\n",
       "  'originally',\n",
       "  'aisle',\n",
       "  'hope'],\n",
       " ['disappointed',\n",
       "  'yesterday',\n",
       "  'flight',\n",
       "  'wifi',\n",
       "  'offer',\n",
       "  'work',\n",
       "  'couldn',\n",
       "  'work',\n",
       "  'plan',\n",
       "  'do',\n",
       "  'do'],\n",
       " ['thank'],\n",
       " ['be', 'very', 'unhelpful', 'never', 'problem', 'travel'],\n",
       " ['cancel', 'hour', 'computer', 'system', 'mess'],\n",
       " ['delta', 'call', 'help'],\n",
       " ['spend',\n",
       "  'money',\n",
       "  'ticket',\n",
       "  'online',\n",
       "  'system',\n",
       "  'say',\n",
       "  'full',\n",
       "  'refund',\n",
       "  'costumer',\n",
       "  'service',\n",
       "  'want',\n",
       "  'department',\n",
       "  'credit',\n",
       "  'refuse'],\n",
       " ['pleasure'],\n",
       " ['look', 'really', 'good'],\n",
       " ['flight',\n",
       "  'attendant',\n",
       "  'pilot',\n",
       "  'flight',\n",
       "  'be',\n",
       "  'short',\n",
       "  'amazing',\n",
       "  'super',\n",
       "  'kind',\n",
       "  'helpful',\n",
       "  'funny',\n",
       "  'wish',\n",
       "  'be',\n",
       "  'crew',\n",
       "  'time'],\n",
       " ['go',\n",
       "  'service',\n",
       "  'center',\n",
       "  'speak',\n",
       "  'wouldn',\n",
       "  'refund',\n",
       "  'deliver',\n",
       "  'bag',\n",
       "  'couldn',\n",
       "  'show',\n",
       "  'writing',\n",
       "  'tell',\n",
       "  'voluntarily',\n",
       "  'separate',\n",
       "  'say',\n",
       "  'cost',\n",
       "  'delta',\n",
       "  'deliver',\n",
       "  'apparently',\n",
       "  'flight',\n",
       "  'year',\n",
       "  'mean'],\n",
       " ['go',\n",
       "  'charge',\n",
       "  'move',\n",
       "  'early',\n",
       "  'flight',\n",
       "  'move',\n",
       "  'luggage',\n",
       "  'flight',\n",
       "  'then',\n",
       "  'tell',\n",
       "  'deliver',\n",
       "  'luggage',\n",
       "  'voluntarily',\n",
       "  'separate',\n",
       "  'didn',\n",
       "  'voluntarily',\n",
       "  'leave'],\n",
       " ['hear',\n",
       "  'back',\n",
       "  'phone',\n",
       "  'correspondence',\n",
       "  'early',\n",
       "  'happy',\n",
       "  'accommodation',\n",
       "  'understand',\n",
       "  'thank',\n",
       "  'appreciate',\n",
       "  'get',\n",
       "  'back'],\n",
       " ['much',\n",
       "  'timely',\n",
       "  'sincere',\n",
       "  'reply',\n",
       "  'part',\n",
       "  'reason',\n",
       "  'remain',\n",
       "  'loyal',\n",
       "  'member',\n",
       "  'generous',\n",
       "  'offer',\n",
       "  'skymile',\n",
       "  'wife',\n",
       "  'accept',\n",
       "  'appreciated',\n",
       "  'reply',\n",
       "  'direct',\n",
       "  'message',\n",
       "  'need',\n",
       "  'contact',\n",
       "  'detail'],\n",
       " ['support',\n",
       "  'hopefully',\n",
       "  'right',\n",
       "  'thing',\n",
       "  'jennifer',\n",
       "  'frustrating',\n",
       "  'episode',\n",
       "  'address',\n",
       "  'cust',\n",
       "  'service',\n",
       "  'issue'],\n",
       " ['trouble', 'get', 'here', 'welcome'],\n",
       " ['dear',\n",
       "  'pretty',\n",
       "  'good',\n",
       "  'lately',\n",
       "  'appreciate',\n",
       "  'service',\n",
       "  'receive',\n",
       "  'last',\n",
       "  'day',\n",
       "  'acceptable'],\n",
       " ['get', 'flight', 'ground'],\n",
       " ['nuts',\n",
       "  'sitting',\n",
       "  'gate',\n",
       "  'wait',\n",
       "  'catering',\n",
       "  'hope',\n",
       "  'mean',\n",
       "  'feed',\n",
       "  'whole',\n",
       "  'plane',\n",
       "  'frustrated',\n",
       "  'passenger',\n",
       "  'travel',\n",
       "  'voucher',\n",
       "  'hour',\n",
       "  'delay',\n",
       "  'still',\n",
       "  'wait',\n",
       "  'indeed'],\n",
       " ['deplane', 'be', 'sit', 'gate', 'update', 'know', 'next'],\n",
       " ['great', 'also', 'question', 'regard', 'baggage_allowance', 'leave'],\n",
       " [],\n",
       " ['try',\n",
       "  'cancel',\n",
       "  'award',\n",
       "  'booking',\n",
       "  'book',\n",
       "  'less',\n",
       "  'hour',\n",
       "  'online',\n",
       "  'say',\n",
       "  'cancel',\n",
       "  'cancellation'],\n",
       " ['thank'],\n",
       " ['come', 'back', 'morning'],\n",
       " ['still', 'internet', 'go', 'hour', 'already', 'talk', 'afternoon', 'aware'],\n",
       " ['make'],\n",
       " ['already',\n",
       "  'state',\n",
       "  'site',\n",
       "  'request',\n",
       "  'go',\n",
       "  'call',\n",
       "  'miss',\n",
       "  'ease',\n",
       "  'solve',\n",
       "  'problem'],\n",
       " ...]"
      ]
     },
     "execution_count": 101,
     "metadata": {},
     "output_type": "execute_result"
    }
   ],
   "source": [
    "data_bigrams_trigrams"
   ]
  },
  {
   "cell_type": "code",
   "execution_count": 102,
   "id": "87a257aa",
   "metadata": {},
   "outputs": [],
   "source": [
    "df_final['data_bigrams_trigrams'] = data_bigrams_trigrams"
   ]
  },
  {
   "cell_type": "code",
   "execution_count": 103,
   "id": "f859ed2f",
   "metadata": {},
   "outputs": [
    {
     "data": {
      "text/html": [
       "<div>\n",
       "<style scoped>\n",
       "    .dataframe tbody tr th:only-of-type {\n",
       "        vertical-align: middle;\n",
       "    }\n",
       "\n",
       "    .dataframe tbody tr th {\n",
       "        vertical-align: top;\n",
       "    }\n",
       "\n",
       "    .dataframe thead th {\n",
       "        text-align: right;\n",
       "    }\n",
       "</style>\n",
       "<table border=\"1\" class=\"dataframe\">\n",
       "  <thead>\n",
       "    <tr style=\"text-align: right;\">\n",
       "      <th></th>\n",
       "      <th>text</th>\n",
       "      <th>Organization</th>\n",
       "      <th>Corpus</th>\n",
       "      <th>lemma</th>\n",
       "      <th>data_bigrams_trigrams</th>\n",
       "    </tr>\n",
       "  </thead>\n",
       "  <tbody>\n",
       "    <tr>\n",
       "      <th>0</th>\n",
       "      <td>@sprintcare and how do you propose we do that</td>\n",
       "      <td>sprintcare</td>\n",
       "      <td>propose</td>\n",
       "      <td>propose</td>\n",
       "      <td>[propose]</td>\n",
       "    </tr>\n",
       "    <tr>\n",
       "      <th>1</th>\n",
       "      <td>@sprintcare I have sent several private messag...</td>\n",
       "      <td>sprintcare</td>\n",
       "      <td>sent several private messages responding usual</td>\n",
       "      <td>send several private message respond usual</td>\n",
       "      <td>[send, several, private, message, respond, usual]</td>\n",
       "    </tr>\n",
       "    <tr>\n",
       "      <th>2</th>\n",
       "      <td>@sprintcare I did.</td>\n",
       "      <td>sprintcare</td>\n",
       "      <td></td>\n",
       "      <td></td>\n",
       "      <td>[]</td>\n",
       "    </tr>\n",
       "    <tr>\n",
       "      <th>3</th>\n",
       "      <td>@sprintcare is the worst customer service</td>\n",
       "      <td>sprintcare</td>\n",
       "      <td>worst customer service</td>\n",
       "      <td>bad customer service</td>\n",
       "      <td>[bad, customer, service]</td>\n",
       "    </tr>\n",
       "    <tr>\n",
       "      <th>4</th>\n",
       "      <td>@sprintcare You gonna magically change your co...</td>\n",
       "      <td>sprintcare</td>\n",
       "      <td>gonna magically change connectivity whole family</td>\n",
       "      <td>gon magically change connectivity whole family</td>\n",
       "      <td>[gon, magically, change, connectivity, whole, ...</td>\n",
       "    </tr>\n",
       "    <tr>\n",
       "      <th>...</th>\n",
       "      <td>...</td>\n",
       "      <td>...</td>\n",
       "      <td>...</td>\n",
       "      <td>...</td>\n",
       "      <td>...</td>\n",
       "    </tr>\n",
       "    <tr>\n",
       "      <th>1176983</th>\n",
       "      <td>Hai @AirAsiaSupport #asking how many days need...</td>\n",
       "      <td>AirAsiaSupport</td>\n",
       "      <td>many days needed proceed cancelation flight th...</td>\n",
       "      <td>many day need proceed cancelation flight email...</td>\n",
       "      <td>[many, day, need, proceed, cancelation, flight...</td>\n",
       "    </tr>\n",
       "    <tr>\n",
       "      <th>1176984</th>\n",
       "      <td>@AirAsiaSupport \\n\\nI am unable to do web chec...</td>\n",
       "      <td>AirAsiaSupport</td>\n",
       "      <td>unable checkin getting below error check rever...</td>\n",
       "      <td>unable checkin get error check revert thank</td>\n",
       "      <td>[unable, checkin, get, error, check, revert, t...</td>\n",
       "    </tr>\n",
       "    <tr>\n",
       "      <th>1176985</th>\n",
       "      <td>@VirginTrains Hope you are well? Does the 9.30...</td>\n",
       "      <td>VirginTrains</td>\n",
       "      <td>hope well does train crewe euston class peak peak</td>\n",
       "      <td>hope do train crewe euston class peak peak</td>\n",
       "      <td>[hope, do, train, crewe, euston, class, peak, ...</td>\n",
       "    </tr>\n",
       "    <tr>\n",
       "      <th>1176986</th>\n",
       "      <td>@143549 @sprintcare You have to go to https://...</td>\n",
       "      <td>sprintcare</td>\n",
       "      <td>them hulu service account after text good</td>\n",
       "      <td>hulu service account text good</td>\n",
       "      <td>[hulu, service, account, text, good]</td>\n",
       "    </tr>\n",
       "    <tr>\n",
       "      <th>1176987</th>\n",
       "      <td>@AldiUK  warm sloe gin mince pies with ice cre...</td>\n",
       "      <td>AldiUK</td>\n",
       "      <td>warm sloe mince pies cream best thing ever</td>\n",
       "      <td>warm sloe mince pie cream good thing ever</td>\n",
       "      <td>[warm, sloe_mince_pie, cream, good, thing, ever]</td>\n",
       "    </tr>\n",
       "  </tbody>\n",
       "</table>\n",
       "<p>1133828 rows × 5 columns</p>\n",
       "</div>"
      ],
      "text/plain": [
       "                                                      text    Organization  \\\n",
       "0            @sprintcare and how do you propose we do that      sprintcare   \n",
       "1        @sprintcare I have sent several private messag...      sprintcare   \n",
       "2                                       @sprintcare I did.      sprintcare   \n",
       "3                @sprintcare is the worst customer service      sprintcare   \n",
       "4        @sprintcare You gonna magically change your co...      sprintcare   \n",
       "...                                                    ...             ...   \n",
       "1176983  Hai @AirAsiaSupport #asking how many days need...  AirAsiaSupport   \n",
       "1176984  @AirAsiaSupport \\n\\nI am unable to do web chec...  AirAsiaSupport   \n",
       "1176985  @VirginTrains Hope you are well? Does the 9.30...    VirginTrains   \n",
       "1176986  @143549 @sprintcare You have to go to https://...      sprintcare   \n",
       "1176987  @AldiUK  warm sloe gin mince pies with ice cre...          AldiUK   \n",
       "\n",
       "                                                    Corpus  \\\n",
       "0                                                  propose   \n",
       "1           sent several private messages responding usual   \n",
       "2                                                            \n",
       "3                                   worst customer service   \n",
       "4         gonna magically change connectivity whole family   \n",
       "...                                                    ...   \n",
       "1176983  many days needed proceed cancelation flight th...   \n",
       "1176984  unable checkin getting below error check rever...   \n",
       "1176985  hope well does train crewe euston class peak peak   \n",
       "1176986          them hulu service account after text good   \n",
       "1176987         warm sloe mince pies cream best thing ever   \n",
       "\n",
       "                                                     lemma  \\\n",
       "0                                                  propose   \n",
       "1               send several private message respond usual   \n",
       "2                                                            \n",
       "3                                     bad customer service   \n",
       "4           gon magically change connectivity whole family   \n",
       "...                                                    ...   \n",
       "1176983  many day need proceed cancelation flight email...   \n",
       "1176984        unable checkin get error check revert thank   \n",
       "1176985         hope do train crewe euston class peak peak   \n",
       "1176986                     hulu service account text good   \n",
       "1176987          warm sloe mince pie cream good thing ever   \n",
       "\n",
       "                                     data_bigrams_trigrams  \n",
       "0                                                [propose]  \n",
       "1        [send, several, private, message, respond, usual]  \n",
       "2                                                       []  \n",
       "3                                 [bad, customer, service]  \n",
       "4        [gon, magically, change, connectivity, whole, ...  \n",
       "...                                                    ...  \n",
       "1176983  [many, day, need, proceed, cancelation, flight...  \n",
       "1176984  [unable, checkin, get, error, check, revert, t...  \n",
       "1176985  [hope, do, train, crewe, euston, class, peak, ...  \n",
       "1176986               [hulu, service, account, text, good]  \n",
       "1176987   [warm, sloe_mince_pie, cream, good, thing, ever]  \n",
       "\n",
       "[1133828 rows x 5 columns]"
      ]
     },
     "execution_count": 103,
     "metadata": {},
     "output_type": "execute_result"
    }
   ],
   "source": [
    "df_final"
   ]
  },
  {
   "cell_type": "code",
   "execution_count": 104,
   "id": "2ec721d1",
   "metadata": {},
   "outputs": [],
   "source": [
    "# df_final.to_csv(\"Preprocessed.csv\")"
   ]
  },
  {
   "cell_type": "code",
   "execution_count": 4,
   "id": "36855685",
   "metadata": {},
   "outputs": [],
   "source": [
    "df_final = pd.read_csv('Preprocessed.csv')"
   ]
  },
  {
   "cell_type": "code",
   "execution_count": 5,
   "id": "74ff675d",
   "metadata": {},
   "outputs": [
    {
     "data": {
      "text/html": [
       "<div>\n",
       "<style scoped>\n",
       "    .dataframe tbody tr th:only-of-type {\n",
       "        vertical-align: middle;\n",
       "    }\n",
       "\n",
       "    .dataframe tbody tr th {\n",
       "        vertical-align: top;\n",
       "    }\n",
       "\n",
       "    .dataframe thead th {\n",
       "        text-align: right;\n",
       "    }\n",
       "</style>\n",
       "<table border=\"1\" class=\"dataframe\">\n",
       "  <thead>\n",
       "    <tr style=\"text-align: right;\">\n",
       "      <th></th>\n",
       "      <th>Unnamed: 0</th>\n",
       "      <th>text</th>\n",
       "      <th>Organization</th>\n",
       "      <th>Corpus</th>\n",
       "      <th>lemma</th>\n",
       "      <th>data_bigrams_trigrams</th>\n",
       "    </tr>\n",
       "  </thead>\n",
       "  <tbody>\n",
       "    <tr>\n",
       "      <th>0</th>\n",
       "      <td>0</td>\n",
       "      <td>@sprintcare and how do you propose we do that</td>\n",
       "      <td>sprintcare</td>\n",
       "      <td>propose</td>\n",
       "      <td>propose</td>\n",
       "      <td>['propose']</td>\n",
       "    </tr>\n",
       "    <tr>\n",
       "      <th>1</th>\n",
       "      <td>1</td>\n",
       "      <td>@sprintcare I have sent several private messag...</td>\n",
       "      <td>sprintcare</td>\n",
       "      <td>sent several private messages responding usual</td>\n",
       "      <td>send several private message respond usual</td>\n",
       "      <td>['send', 'several', 'private', 'message', 'res...</td>\n",
       "    </tr>\n",
       "    <tr>\n",
       "      <th>2</th>\n",
       "      <td>2</td>\n",
       "      <td>@sprintcare I did.</td>\n",
       "      <td>sprintcare</td>\n",
       "      <td>NaN</td>\n",
       "      <td>NaN</td>\n",
       "      <td>[]</td>\n",
       "    </tr>\n",
       "    <tr>\n",
       "      <th>3</th>\n",
       "      <td>3</td>\n",
       "      <td>@sprintcare is the worst customer service</td>\n",
       "      <td>sprintcare</td>\n",
       "      <td>worst customer service</td>\n",
       "      <td>bad customer service</td>\n",
       "      <td>['bad', 'customer', 'service']</td>\n",
       "    </tr>\n",
       "    <tr>\n",
       "      <th>4</th>\n",
       "      <td>4</td>\n",
       "      <td>@sprintcare You gonna magically change your co...</td>\n",
       "      <td>sprintcare</td>\n",
       "      <td>gonna magically change connectivity whole family</td>\n",
       "      <td>gon magically change connectivity whole family</td>\n",
       "      <td>['gon', 'magically', 'change', 'connectivity',...</td>\n",
       "    </tr>\n",
       "    <tr>\n",
       "      <th>...</th>\n",
       "      <td>...</td>\n",
       "      <td>...</td>\n",
       "      <td>...</td>\n",
       "      <td>...</td>\n",
       "      <td>...</td>\n",
       "      <td>...</td>\n",
       "    </tr>\n",
       "    <tr>\n",
       "      <th>1133823</th>\n",
       "      <td>1176983</td>\n",
       "      <td>Hai @AirAsiaSupport #asking how many days need...</td>\n",
       "      <td>AirAsiaSupport</td>\n",
       "      <td>many days needed proceed cancelation flight th...</td>\n",
       "      <td>many day need proceed cancelation flight email...</td>\n",
       "      <td>['many', 'day', 'need', 'proceed', 'cancelatio...</td>\n",
       "    </tr>\n",
       "    <tr>\n",
       "      <th>1133824</th>\n",
       "      <td>1176984</td>\n",
       "      <td>@AirAsiaSupport \\n\\nI am unable to do web chec...</td>\n",
       "      <td>AirAsiaSupport</td>\n",
       "      <td>unable checkin getting below error check rever...</td>\n",
       "      <td>unable checkin get error check revert thank</td>\n",
       "      <td>['unable', 'checkin', 'get', 'error', 'check',...</td>\n",
       "    </tr>\n",
       "    <tr>\n",
       "      <th>1133825</th>\n",
       "      <td>1176985</td>\n",
       "      <td>@VirginTrains Hope you are well? Does the 9.30...</td>\n",
       "      <td>VirginTrains</td>\n",
       "      <td>hope well does train crewe euston class peak peak</td>\n",
       "      <td>hope do train crewe euston class peak peak</td>\n",
       "      <td>['hope', 'do', 'train', 'crewe', 'euston', 'cl...</td>\n",
       "    </tr>\n",
       "    <tr>\n",
       "      <th>1133826</th>\n",
       "      <td>1176986</td>\n",
       "      <td>@143549 @sprintcare You have to go to https://...</td>\n",
       "      <td>sprintcare</td>\n",
       "      <td>them hulu service account after text good</td>\n",
       "      <td>hulu service account text good</td>\n",
       "      <td>['hulu', 'service', 'account', 'text', 'good']</td>\n",
       "    </tr>\n",
       "    <tr>\n",
       "      <th>1133827</th>\n",
       "      <td>1176987</td>\n",
       "      <td>@AldiUK  warm sloe gin mince pies with ice cre...</td>\n",
       "      <td>AldiUK</td>\n",
       "      <td>warm sloe mince pies cream best thing ever</td>\n",
       "      <td>warm sloe mince pie cream good thing ever</td>\n",
       "      <td>['warm', 'sloe_mince_pie', 'cream', 'good', 't...</td>\n",
       "    </tr>\n",
       "  </tbody>\n",
       "</table>\n",
       "<p>1133828 rows × 6 columns</p>\n",
       "</div>"
      ],
      "text/plain": [
       "         Unnamed: 0                                               text  \\\n",
       "0                 0      @sprintcare and how do you propose we do that   \n",
       "1                 1  @sprintcare I have sent several private messag...   \n",
       "2                 2                                 @sprintcare I did.   \n",
       "3                 3          @sprintcare is the worst customer service   \n",
       "4                 4  @sprintcare You gonna magically change your co...   \n",
       "...             ...                                                ...   \n",
       "1133823     1176983  Hai @AirAsiaSupport #asking how many days need...   \n",
       "1133824     1176984  @AirAsiaSupport \\n\\nI am unable to do web chec...   \n",
       "1133825     1176985  @VirginTrains Hope you are well? Does the 9.30...   \n",
       "1133826     1176986  @143549 @sprintcare You have to go to https://...   \n",
       "1133827     1176987  @AldiUK  warm sloe gin mince pies with ice cre...   \n",
       "\n",
       "           Organization                                             Corpus  \\\n",
       "0            sprintcare                                            propose   \n",
       "1            sprintcare     sent several private messages responding usual   \n",
       "2            sprintcare                                                NaN   \n",
       "3            sprintcare                             worst customer service   \n",
       "4            sprintcare   gonna magically change connectivity whole family   \n",
       "...                 ...                                                ...   \n",
       "1133823  AirAsiaSupport  many days needed proceed cancelation flight th...   \n",
       "1133824  AirAsiaSupport  unable checkin getting below error check rever...   \n",
       "1133825    VirginTrains  hope well does train crewe euston class peak peak   \n",
       "1133826      sprintcare          them hulu service account after text good   \n",
       "1133827          AldiUK         warm sloe mince pies cream best thing ever   \n",
       "\n",
       "                                                     lemma  \\\n",
       "0                                                  propose   \n",
       "1               send several private message respond usual   \n",
       "2                                                      NaN   \n",
       "3                                     bad customer service   \n",
       "4           gon magically change connectivity whole family   \n",
       "...                                                    ...   \n",
       "1133823  many day need proceed cancelation flight email...   \n",
       "1133824        unable checkin get error check revert thank   \n",
       "1133825         hope do train crewe euston class peak peak   \n",
       "1133826                     hulu service account text good   \n",
       "1133827          warm sloe mince pie cream good thing ever   \n",
       "\n",
       "                                     data_bigrams_trigrams  \n",
       "0                                              ['propose']  \n",
       "1        ['send', 'several', 'private', 'message', 'res...  \n",
       "2                                                       []  \n",
       "3                           ['bad', 'customer', 'service']  \n",
       "4        ['gon', 'magically', 'change', 'connectivity',...  \n",
       "...                                                    ...  \n",
       "1133823  ['many', 'day', 'need', 'proceed', 'cancelatio...  \n",
       "1133824  ['unable', 'checkin', 'get', 'error', 'check',...  \n",
       "1133825  ['hope', 'do', 'train', 'crewe', 'euston', 'cl...  \n",
       "1133826     ['hulu', 'service', 'account', 'text', 'good']  \n",
       "1133827  ['warm', 'sloe_mince_pie', 'cream', 'good', 't...  \n",
       "\n",
       "[1133828 rows x 6 columns]"
      ]
     },
     "execution_count": 5,
     "metadata": {},
     "output_type": "execute_result"
    }
   ],
   "source": [
    "df_final"
   ]
  },
  {
   "cell_type": "code",
   "execution_count": 6,
   "id": "75d32700",
   "metadata": {},
   "outputs": [],
   "source": [
    "df_final.drop(['text','Corpus','lemma', 'Unnamed: 0'], axis=1, inplace=True)"
   ]
  },
  {
   "cell_type": "code",
   "execution_count": 7,
   "id": "c757fda0",
   "metadata": {},
   "outputs": [
    {
     "data": {
      "text/html": [
       "<div>\n",
       "<style scoped>\n",
       "    .dataframe tbody tr th:only-of-type {\n",
       "        vertical-align: middle;\n",
       "    }\n",
       "\n",
       "    .dataframe tbody tr th {\n",
       "        vertical-align: top;\n",
       "    }\n",
       "\n",
       "    .dataframe thead th {\n",
       "        text-align: right;\n",
       "    }\n",
       "</style>\n",
       "<table border=\"1\" class=\"dataframe\">\n",
       "  <thead>\n",
       "    <tr style=\"text-align: right;\">\n",
       "      <th></th>\n",
       "      <th>Organization</th>\n",
       "      <th>data_bigrams_trigrams</th>\n",
       "    </tr>\n",
       "  </thead>\n",
       "  <tbody>\n",
       "    <tr>\n",
       "      <th>0</th>\n",
       "      <td>sprintcare</td>\n",
       "      <td>['propose']</td>\n",
       "    </tr>\n",
       "    <tr>\n",
       "      <th>1</th>\n",
       "      <td>sprintcare</td>\n",
       "      <td>['send', 'several', 'private', 'message', 'res...</td>\n",
       "    </tr>\n",
       "    <tr>\n",
       "      <th>2</th>\n",
       "      <td>sprintcare</td>\n",
       "      <td>[]</td>\n",
       "    </tr>\n",
       "    <tr>\n",
       "      <th>3</th>\n",
       "      <td>sprintcare</td>\n",
       "      <td>['bad', 'customer', 'service']</td>\n",
       "    </tr>\n",
       "    <tr>\n",
       "      <th>4</th>\n",
       "      <td>sprintcare</td>\n",
       "      <td>['gon', 'magically', 'change', 'connectivity',...</td>\n",
       "    </tr>\n",
       "    <tr>\n",
       "      <th>...</th>\n",
       "      <td>...</td>\n",
       "      <td>...</td>\n",
       "    </tr>\n",
       "    <tr>\n",
       "      <th>1133823</th>\n",
       "      <td>AirAsiaSupport</td>\n",
       "      <td>['many', 'day', 'need', 'proceed', 'cancelatio...</td>\n",
       "    </tr>\n",
       "    <tr>\n",
       "      <th>1133824</th>\n",
       "      <td>AirAsiaSupport</td>\n",
       "      <td>['unable', 'checkin', 'get', 'error', 'check',...</td>\n",
       "    </tr>\n",
       "    <tr>\n",
       "      <th>1133825</th>\n",
       "      <td>VirginTrains</td>\n",
       "      <td>['hope', 'do', 'train', 'crewe', 'euston', 'cl...</td>\n",
       "    </tr>\n",
       "    <tr>\n",
       "      <th>1133826</th>\n",
       "      <td>sprintcare</td>\n",
       "      <td>['hulu', 'service', 'account', 'text', 'good']</td>\n",
       "    </tr>\n",
       "    <tr>\n",
       "      <th>1133827</th>\n",
       "      <td>AldiUK</td>\n",
       "      <td>['warm', 'sloe_mince_pie', 'cream', 'good', 't...</td>\n",
       "    </tr>\n",
       "  </tbody>\n",
       "</table>\n",
       "<p>1133828 rows × 2 columns</p>\n",
       "</div>"
      ],
      "text/plain": [
       "           Organization                              data_bigrams_trigrams\n",
       "0            sprintcare                                        ['propose']\n",
       "1            sprintcare  ['send', 'several', 'private', 'message', 'res...\n",
       "2            sprintcare                                                 []\n",
       "3            sprintcare                     ['bad', 'customer', 'service']\n",
       "4            sprintcare  ['gon', 'magically', 'change', 'connectivity',...\n",
       "...                 ...                                                ...\n",
       "1133823  AirAsiaSupport  ['many', 'day', 'need', 'proceed', 'cancelatio...\n",
       "1133824  AirAsiaSupport  ['unable', 'checkin', 'get', 'error', 'check',...\n",
       "1133825    VirginTrains  ['hope', 'do', 'train', 'crewe', 'euston', 'cl...\n",
       "1133826      sprintcare     ['hulu', 'service', 'account', 'text', 'good']\n",
       "1133827          AldiUK  ['warm', 'sloe_mince_pie', 'cream', 'good', 't...\n",
       "\n",
       "[1133828 rows x 2 columns]"
      ]
     },
     "execution_count": 7,
     "metadata": {},
     "output_type": "execute_result"
    }
   ],
   "source": [
    "df_final"
   ]
  },
  {
   "cell_type": "markdown",
   "id": "239abbd8",
   "metadata": {},
   "source": [
    "There are certain rows where empty lists are present, lets delete them"
   ]
  },
  {
   "cell_type": "code",
   "execution_count": 8,
   "id": "532633df",
   "metadata": {},
   "outputs": [],
   "source": [
    "df_final.drop(df_final[df_final['data_bigrams_trigrams']=='[]'].index, axis=0, inplace=True)"
   ]
  },
  {
   "cell_type": "code",
   "execution_count": 9,
   "id": "ca0bc9c8",
   "metadata": {},
   "outputs": [
    {
     "data": {
      "text/html": [
       "<div>\n",
       "<style scoped>\n",
       "    .dataframe tbody tr th:only-of-type {\n",
       "        vertical-align: middle;\n",
       "    }\n",
       "\n",
       "    .dataframe tbody tr th {\n",
       "        vertical-align: top;\n",
       "    }\n",
       "\n",
       "    .dataframe thead th {\n",
       "        text-align: right;\n",
       "    }\n",
       "</style>\n",
       "<table border=\"1\" class=\"dataframe\">\n",
       "  <thead>\n",
       "    <tr style=\"text-align: right;\">\n",
       "      <th></th>\n",
       "      <th>Organization</th>\n",
       "      <th>data_bigrams_trigrams</th>\n",
       "    </tr>\n",
       "  </thead>\n",
       "  <tbody>\n",
       "    <tr>\n",
       "      <th>0</th>\n",
       "      <td>sprintcare</td>\n",
       "      <td>['propose']</td>\n",
       "    </tr>\n",
       "    <tr>\n",
       "      <th>1</th>\n",
       "      <td>sprintcare</td>\n",
       "      <td>['send', 'several', 'private', 'message', 'res...</td>\n",
       "    </tr>\n",
       "    <tr>\n",
       "      <th>3</th>\n",
       "      <td>sprintcare</td>\n",
       "      <td>['bad', 'customer', 'service']</td>\n",
       "    </tr>\n",
       "    <tr>\n",
       "      <th>4</th>\n",
       "      <td>sprintcare</td>\n",
       "      <td>['gon', 'magically', 'change', 'connectivity',...</td>\n",
       "    </tr>\n",
       "    <tr>\n",
       "      <th>5</th>\n",
       "      <td>sprintcare</td>\n",
       "      <td>['sign']</td>\n",
       "    </tr>\n",
       "    <tr>\n",
       "      <th>...</th>\n",
       "      <td>...</td>\n",
       "      <td>...</td>\n",
       "    </tr>\n",
       "    <tr>\n",
       "      <th>1133823</th>\n",
       "      <td>AirAsiaSupport</td>\n",
       "      <td>['many', 'day', 'need', 'proceed', 'cancelatio...</td>\n",
       "    </tr>\n",
       "    <tr>\n",
       "      <th>1133824</th>\n",
       "      <td>AirAsiaSupport</td>\n",
       "      <td>['unable', 'checkin', 'get', 'error', 'check',...</td>\n",
       "    </tr>\n",
       "    <tr>\n",
       "      <th>1133825</th>\n",
       "      <td>VirginTrains</td>\n",
       "      <td>['hope', 'do', 'train', 'crewe', 'euston', 'cl...</td>\n",
       "    </tr>\n",
       "    <tr>\n",
       "      <th>1133826</th>\n",
       "      <td>sprintcare</td>\n",
       "      <td>['hulu', 'service', 'account', 'text', 'good']</td>\n",
       "    </tr>\n",
       "    <tr>\n",
       "      <th>1133827</th>\n",
       "      <td>AldiUK</td>\n",
       "      <td>['warm', 'sloe_mince_pie', 'cream', 'good', 't...</td>\n",
       "    </tr>\n",
       "  </tbody>\n",
       "</table>\n",
       "<p>1086315 rows × 2 columns</p>\n",
       "</div>"
      ],
      "text/plain": [
       "           Organization                              data_bigrams_trigrams\n",
       "0            sprintcare                                        ['propose']\n",
       "1            sprintcare  ['send', 'several', 'private', 'message', 'res...\n",
       "3            sprintcare                     ['bad', 'customer', 'service']\n",
       "4            sprintcare  ['gon', 'magically', 'change', 'connectivity',...\n",
       "5            sprintcare                                           ['sign']\n",
       "...                 ...                                                ...\n",
       "1133823  AirAsiaSupport  ['many', 'day', 'need', 'proceed', 'cancelatio...\n",
       "1133824  AirAsiaSupport  ['unable', 'checkin', 'get', 'error', 'check',...\n",
       "1133825    VirginTrains  ['hope', 'do', 'train', 'crewe', 'euston', 'cl...\n",
       "1133826      sprintcare     ['hulu', 'service', 'account', 'text', 'good']\n",
       "1133827          AldiUK  ['warm', 'sloe_mince_pie', 'cream', 'good', 't...\n",
       "\n",
       "[1086315 rows x 2 columns]"
      ]
     },
     "execution_count": 9,
     "metadata": {},
     "output_type": "execute_result"
    }
   ],
   "source": [
    "df_final"
   ]
  },
  {
   "cell_type": "code",
   "execution_count": 10,
   "id": "a743c403",
   "metadata": {},
   "outputs": [],
   "source": [
    "from ast import literal_eval\n",
    "\n",
    "df_final['lis'] = df_final.data_bigrams_trigrams.apply(literal_eval)"
   ]
  },
  {
   "cell_type": "code",
   "execution_count": 11,
   "id": "b9b108a8",
   "metadata": {},
   "outputs": [
    {
     "data": {
      "text/html": [
       "<div>\n",
       "<style scoped>\n",
       "    .dataframe tbody tr th:only-of-type {\n",
       "        vertical-align: middle;\n",
       "    }\n",
       "\n",
       "    .dataframe tbody tr th {\n",
       "        vertical-align: top;\n",
       "    }\n",
       "\n",
       "    .dataframe thead th {\n",
       "        text-align: right;\n",
       "    }\n",
       "</style>\n",
       "<table border=\"1\" class=\"dataframe\">\n",
       "  <thead>\n",
       "    <tr style=\"text-align: right;\">\n",
       "      <th></th>\n",
       "      <th>Organization</th>\n",
       "      <th>data_bigrams_trigrams</th>\n",
       "      <th>lis</th>\n",
       "    </tr>\n",
       "  </thead>\n",
       "  <tbody>\n",
       "    <tr>\n",
       "      <th>0</th>\n",
       "      <td>sprintcare</td>\n",
       "      <td>['propose']</td>\n",
       "      <td>[propose]</td>\n",
       "    </tr>\n",
       "    <tr>\n",
       "      <th>1</th>\n",
       "      <td>sprintcare</td>\n",
       "      <td>['send', 'several', 'private', 'message', 'res...</td>\n",
       "      <td>[send, several, private, message, respond, usual]</td>\n",
       "    </tr>\n",
       "    <tr>\n",
       "      <th>3</th>\n",
       "      <td>sprintcare</td>\n",
       "      <td>['bad', 'customer', 'service']</td>\n",
       "      <td>[bad, customer, service]</td>\n",
       "    </tr>\n",
       "    <tr>\n",
       "      <th>4</th>\n",
       "      <td>sprintcare</td>\n",
       "      <td>['gon', 'magically', 'change', 'connectivity',...</td>\n",
       "      <td>[gon, magically, change, connectivity, whole, ...</td>\n",
       "    </tr>\n",
       "    <tr>\n",
       "      <th>5</th>\n",
       "      <td>sprintcare</td>\n",
       "      <td>['sign']</td>\n",
       "      <td>[sign]</td>\n",
       "    </tr>\n",
       "    <tr>\n",
       "      <th>...</th>\n",
       "      <td>...</td>\n",
       "      <td>...</td>\n",
       "      <td>...</td>\n",
       "    </tr>\n",
       "    <tr>\n",
       "      <th>1133823</th>\n",
       "      <td>AirAsiaSupport</td>\n",
       "      <td>['many', 'day', 'need', 'proceed', 'cancelatio...</td>\n",
       "      <td>[many, day, need, proceed, cancelation, flight...</td>\n",
       "    </tr>\n",
       "    <tr>\n",
       "      <th>1133824</th>\n",
       "      <td>AirAsiaSupport</td>\n",
       "      <td>['unable', 'checkin', 'get', 'error', 'check',...</td>\n",
       "      <td>[unable, checkin, get, error, check, revert, t...</td>\n",
       "    </tr>\n",
       "    <tr>\n",
       "      <th>1133825</th>\n",
       "      <td>VirginTrains</td>\n",
       "      <td>['hope', 'do', 'train', 'crewe', 'euston', 'cl...</td>\n",
       "      <td>[hope, do, train, crewe, euston, class, peak, ...</td>\n",
       "    </tr>\n",
       "    <tr>\n",
       "      <th>1133826</th>\n",
       "      <td>sprintcare</td>\n",
       "      <td>['hulu', 'service', 'account', 'text', 'good']</td>\n",
       "      <td>[hulu, service, account, text, good]</td>\n",
       "    </tr>\n",
       "    <tr>\n",
       "      <th>1133827</th>\n",
       "      <td>AldiUK</td>\n",
       "      <td>['warm', 'sloe_mince_pie', 'cream', 'good', 't...</td>\n",
       "      <td>[warm, sloe_mince_pie, cream, good, thing, ever]</td>\n",
       "    </tr>\n",
       "  </tbody>\n",
       "</table>\n",
       "<p>1086315 rows × 3 columns</p>\n",
       "</div>"
      ],
      "text/plain": [
       "           Organization                              data_bigrams_trigrams  \\\n",
       "0            sprintcare                                        ['propose']   \n",
       "1            sprintcare  ['send', 'several', 'private', 'message', 'res...   \n",
       "3            sprintcare                     ['bad', 'customer', 'service']   \n",
       "4            sprintcare  ['gon', 'magically', 'change', 'connectivity',...   \n",
       "5            sprintcare                                           ['sign']   \n",
       "...                 ...                                                ...   \n",
       "1133823  AirAsiaSupport  ['many', 'day', 'need', 'proceed', 'cancelatio...   \n",
       "1133824  AirAsiaSupport  ['unable', 'checkin', 'get', 'error', 'check',...   \n",
       "1133825    VirginTrains  ['hope', 'do', 'train', 'crewe', 'euston', 'cl...   \n",
       "1133826      sprintcare     ['hulu', 'service', 'account', 'text', 'good']   \n",
       "1133827          AldiUK  ['warm', 'sloe_mince_pie', 'cream', 'good', 't...   \n",
       "\n",
       "                                                       lis  \n",
       "0                                                [propose]  \n",
       "1        [send, several, private, message, respond, usual]  \n",
       "3                                 [bad, customer, service]  \n",
       "4        [gon, magically, change, connectivity, whole, ...  \n",
       "5                                                   [sign]  \n",
       "...                                                    ...  \n",
       "1133823  [many, day, need, proceed, cancelation, flight...  \n",
       "1133824  [unable, checkin, get, error, check, revert, t...  \n",
       "1133825  [hope, do, train, crewe, euston, class, peak, ...  \n",
       "1133826               [hulu, service, account, text, good]  \n",
       "1133827   [warm, sloe_mince_pie, cream, good, thing, ever]  \n",
       "\n",
       "[1086315 rows x 3 columns]"
      ]
     },
     "execution_count": 11,
     "metadata": {},
     "output_type": "execute_result"
    }
   ],
   "source": [
    "df_final"
   ]
  },
  {
   "cell_type": "markdown",
   "id": "e07810fe",
   "metadata": {},
   "source": [
    "lets find number of words present in every record after preprocessing"
   ]
  },
  {
   "cell_type": "code",
   "execution_count": 12,
   "id": "9a0fd9e1",
   "metadata": {},
   "outputs": [],
   "source": [
    "length = []\n",
    "for index in df_final['lis'].index:\n",
    "    length.append(len(df_final['lis'][index]))\n",
    "    \n",
    "df_final['Number_of_word'] = length\n",
    "    "
   ]
  },
  {
   "cell_type": "code",
   "execution_count": 13,
   "id": "4cbdab52",
   "metadata": {},
   "outputs": [
    {
     "data": {
      "text/html": [
       "<div>\n",
       "<style scoped>\n",
       "    .dataframe tbody tr th:only-of-type {\n",
       "        vertical-align: middle;\n",
       "    }\n",
       "\n",
       "    .dataframe tbody tr th {\n",
       "        vertical-align: top;\n",
       "    }\n",
       "\n",
       "    .dataframe thead th {\n",
       "        text-align: right;\n",
       "    }\n",
       "</style>\n",
       "<table border=\"1\" class=\"dataframe\">\n",
       "  <thead>\n",
       "    <tr style=\"text-align: right;\">\n",
       "      <th></th>\n",
       "      <th>Organization</th>\n",
       "      <th>data_bigrams_trigrams</th>\n",
       "      <th>lis</th>\n",
       "      <th>Number_of_word</th>\n",
       "    </tr>\n",
       "  </thead>\n",
       "  <tbody>\n",
       "    <tr>\n",
       "      <th>0</th>\n",
       "      <td>sprintcare</td>\n",
       "      <td>['propose']</td>\n",
       "      <td>[propose]</td>\n",
       "      <td>1</td>\n",
       "    </tr>\n",
       "    <tr>\n",
       "      <th>1</th>\n",
       "      <td>sprintcare</td>\n",
       "      <td>['send', 'several', 'private', 'message', 'res...</td>\n",
       "      <td>[send, several, private, message, respond, usual]</td>\n",
       "      <td>6</td>\n",
       "    </tr>\n",
       "    <tr>\n",
       "      <th>3</th>\n",
       "      <td>sprintcare</td>\n",
       "      <td>['bad', 'customer', 'service']</td>\n",
       "      <td>[bad, customer, service]</td>\n",
       "      <td>3</td>\n",
       "    </tr>\n",
       "    <tr>\n",
       "      <th>4</th>\n",
       "      <td>sprintcare</td>\n",
       "      <td>['gon', 'magically', 'change', 'connectivity',...</td>\n",
       "      <td>[gon, magically, change, connectivity, whole, ...</td>\n",
       "      <td>6</td>\n",
       "    </tr>\n",
       "    <tr>\n",
       "      <th>5</th>\n",
       "      <td>sprintcare</td>\n",
       "      <td>['sign']</td>\n",
       "      <td>[sign]</td>\n",
       "      <td>1</td>\n",
       "    </tr>\n",
       "    <tr>\n",
       "      <th>...</th>\n",
       "      <td>...</td>\n",
       "      <td>...</td>\n",
       "      <td>...</td>\n",
       "      <td>...</td>\n",
       "    </tr>\n",
       "    <tr>\n",
       "      <th>1133823</th>\n",
       "      <td>AirAsiaSupport</td>\n",
       "      <td>['many', 'day', 'need', 'proceed', 'cancelatio...</td>\n",
       "      <td>[many, day, need, proceed, cancelation, flight...</td>\n",
       "      <td>12</td>\n",
       "    </tr>\n",
       "    <tr>\n",
       "      <th>1133824</th>\n",
       "      <td>AirAsiaSupport</td>\n",
       "      <td>['unable', 'checkin', 'get', 'error', 'check',...</td>\n",
       "      <td>[unable, checkin, get, error, check, revert, t...</td>\n",
       "      <td>7</td>\n",
       "    </tr>\n",
       "    <tr>\n",
       "      <th>1133825</th>\n",
       "      <td>VirginTrains</td>\n",
       "      <td>['hope', 'do', 'train', 'crewe', 'euston', 'cl...</td>\n",
       "      <td>[hope, do, train, crewe, euston, class, peak, ...</td>\n",
       "      <td>8</td>\n",
       "    </tr>\n",
       "    <tr>\n",
       "      <th>1133826</th>\n",
       "      <td>sprintcare</td>\n",
       "      <td>['hulu', 'service', 'account', 'text', 'good']</td>\n",
       "      <td>[hulu, service, account, text, good]</td>\n",
       "      <td>5</td>\n",
       "    </tr>\n",
       "    <tr>\n",
       "      <th>1133827</th>\n",
       "      <td>AldiUK</td>\n",
       "      <td>['warm', 'sloe_mince_pie', 'cream', 'good', 't...</td>\n",
       "      <td>[warm, sloe_mince_pie, cream, good, thing, ever]</td>\n",
       "      <td>6</td>\n",
       "    </tr>\n",
       "  </tbody>\n",
       "</table>\n",
       "<p>1086315 rows × 4 columns</p>\n",
       "</div>"
      ],
      "text/plain": [
       "           Organization                              data_bigrams_trigrams  \\\n",
       "0            sprintcare                                        ['propose']   \n",
       "1            sprintcare  ['send', 'several', 'private', 'message', 'res...   \n",
       "3            sprintcare                     ['bad', 'customer', 'service']   \n",
       "4            sprintcare  ['gon', 'magically', 'change', 'connectivity',...   \n",
       "5            sprintcare                                           ['sign']   \n",
       "...                 ...                                                ...   \n",
       "1133823  AirAsiaSupport  ['many', 'day', 'need', 'proceed', 'cancelatio...   \n",
       "1133824  AirAsiaSupport  ['unable', 'checkin', 'get', 'error', 'check',...   \n",
       "1133825    VirginTrains  ['hope', 'do', 'train', 'crewe', 'euston', 'cl...   \n",
       "1133826      sprintcare     ['hulu', 'service', 'account', 'text', 'good']   \n",
       "1133827          AldiUK  ['warm', 'sloe_mince_pie', 'cream', 'good', 't...   \n",
       "\n",
       "                                                       lis  Number_of_word  \n",
       "0                                                [propose]               1  \n",
       "1        [send, several, private, message, respond, usual]               6  \n",
       "3                                 [bad, customer, service]               3  \n",
       "4        [gon, magically, change, connectivity, whole, ...               6  \n",
       "5                                                   [sign]               1  \n",
       "...                                                    ...             ...  \n",
       "1133823  [many, day, need, proceed, cancelation, flight...              12  \n",
       "1133824  [unable, checkin, get, error, check, revert, t...               7  \n",
       "1133825  [hope, do, train, crewe, euston, class, peak, ...               8  \n",
       "1133826               [hulu, service, account, text, good]               5  \n",
       "1133827   [warm, sloe_mince_pie, cream, good, thing, ever]               6  \n",
       "\n",
       "[1086315 rows x 4 columns]"
      ]
     },
     "execution_count": 13,
     "metadata": {},
     "output_type": "execute_result"
    }
   ],
   "source": [
    "df_final"
   ]
  },
  {
   "cell_type": "code",
   "execution_count": 14,
   "id": "bc6a91dc",
   "metadata": {},
   "outputs": [
    {
     "data": {
      "text/plain": [
       "array([ 1,  6,  3,  5, 11, 10,  4,  2,  8,  7,  9, 12, 22, 32, 13, 16, 17,\n",
       "       18, 21, 15, 14, 19, 23, 20, 25, 24, 27, 26, 28, 31, 30, 29, 47, 33,\n",
       "       34, 45], dtype=int64)"
      ]
     },
     "execution_count": 14,
     "metadata": {},
     "output_type": "execute_result"
    }
   ],
   "source": [
    "df_final['Number_of_word'].unique()"
   ]
  },
  {
   "cell_type": "code",
   "execution_count": 15,
   "id": "872b33a0",
   "metadata": {},
   "outputs": [
    {
     "data": {
      "text/plain": [
       "<AxesSubplot:xlabel='Number_of_word', ylabel='count'>"
      ]
     },
     "execution_count": 15,
     "metadata": {},
     "output_type": "execute_result"
    },
    {
     "data": {
      "image/png": "[encoded data removed]",
      "text/plain": [
       "<Figure size 1080x720 with 1 Axes>"
      ]
     },
     "metadata": {},
     "output_type": "display_data"
    }
   ],
   "source": [
    "sns.set(rc={'figure.figsize':(15,10)})\n",
    "sns.countplot(x=\"Number_of_word\", data=df_final)"
   ]
  },
  {
   "cell_type": "markdown",
   "id": "7636d095",
   "metadata": {},
   "source": [
    "we are only considering those record where atleast 5 words are present"
   ]
  },
  {
   "cell_type": "code",
   "execution_count": 16,
   "id": "ddacf8a8",
   "metadata": {},
   "outputs": [
    {
     "data": {
      "text/plain": [
       "(762159, 4)"
      ]
     },
     "execution_count": 16,
     "metadata": {},
     "output_type": "execute_result"
    }
   ],
   "source": [
    "df_final = df_final[df_final['Number_of_word']>=5]\n",
    "df_final.shape"
   ]
  },
  {
   "cell_type": "code",
   "execution_count": 17,
   "id": "63d8cdb5",
   "metadata": {},
   "outputs": [],
   "source": [
    "# df_final.to_csv('preprocessed11.csv')"
   ]
  },
  {
   "cell_type": "code",
   "execution_count": 18,
   "id": "c7e2b42c",
   "metadata": {},
   "outputs": [
    {
     "data": {
      "text/html": [
       "<div>\n",
       "<style scoped>\n",
       "    .dataframe tbody tr th:only-of-type {\n",
       "        vertical-align: middle;\n",
       "    }\n",
       "\n",
       "    .dataframe tbody tr th {\n",
       "        vertical-align: top;\n",
       "    }\n",
       "\n",
       "    .dataframe thead th {\n",
       "        text-align: right;\n",
       "    }\n",
       "</style>\n",
       "<table border=\"1\" class=\"dataframe\">\n",
       "  <thead>\n",
       "    <tr style=\"text-align: right;\">\n",
       "      <th></th>\n",
       "      <th>Unnamed: 0</th>\n",
       "      <th>Organization</th>\n",
       "      <th>data_bigrams_trigrams</th>\n",
       "      <th>lis</th>\n",
       "      <th>Number_of_word</th>\n",
       "    </tr>\n",
       "  </thead>\n",
       "  <tbody>\n",
       "    <tr>\n",
       "      <th>0</th>\n",
       "      <td>1</td>\n",
       "      <td>sprintcare</td>\n",
       "      <td>['send', 'several', 'private', 'message', 'res...</td>\n",
       "      <td>['send', 'several', 'private', 'message', 'res...</td>\n",
       "      <td>6</td>\n",
       "    </tr>\n",
       "    <tr>\n",
       "      <th>1</th>\n",
       "      <td>4</td>\n",
       "      <td>sprintcare</td>\n",
       "      <td>['gon', 'magically', 'change', 'connectivity',...</td>\n",
       "      <td>['gon', 'magically', 'change', 'connectivity',...</td>\n",
       "      <td>6</td>\n",
       "    </tr>\n",
       "    <tr>\n",
       "      <th>2</th>\n",
       "      <td>6</td>\n",
       "      <td>Ask_Spectrum</td>\n",
       "      <td>['like', 'email', 'copy', 'spectrum', 'update'...</td>\n",
       "      <td>['like', 'email', 'copy', 'spectrum', 'update'...</td>\n",
       "      <td>6</td>\n",
       "    </tr>\n",
       "    <tr>\n",
       "      <th>3</th>\n",
       "      <td>7</td>\n",
       "      <td>Ask_Spectrum</td>\n",
       "      <td>['receive', 'corporate', 'office', 'like', 'co...</td>\n",
       "      <td>['receive', 'corporate', 'office', 'like', 'co...</td>\n",
       "      <td>5</td>\n",
       "    </tr>\n",
       "    <tr>\n",
       "      <th>4</th>\n",
       "      <td>8</td>\n",
       "      <td>Ask_Spectrum</td>\n",
       "      <td>['correct', 'account', 'takeover', 'email', 'c...</td>\n",
       "      <td>['correct', 'account', 'takeover', 'email', 'c...</td>\n",
       "      <td>11</td>\n",
       "    </tr>\n",
       "    <tr>\n",
       "      <th>...</th>\n",
       "      <td>...</td>\n",
       "      <td>...</td>\n",
       "      <td>...</td>\n",
       "      <td>...</td>\n",
       "      <td>...</td>\n",
       "    </tr>\n",
       "    <tr>\n",
       "      <th>762154</th>\n",
       "      <td>1133823</td>\n",
       "      <td>AirAsiaSupport</td>\n",
       "      <td>['many', 'day', 'need', 'proceed', 'cancelatio...</td>\n",
       "      <td>['many', 'day', 'need', 'proceed', 'cancelatio...</td>\n",
       "      <td>12</td>\n",
       "    </tr>\n",
       "    <tr>\n",
       "      <th>762155</th>\n",
       "      <td>1133824</td>\n",
       "      <td>AirAsiaSupport</td>\n",
       "      <td>['unable', 'checkin', 'get', 'error', 'check',...</td>\n",
       "      <td>['unable', 'checkin', 'get', 'error', 'check',...</td>\n",
       "      <td>7</td>\n",
       "    </tr>\n",
       "    <tr>\n",
       "      <th>762156</th>\n",
       "      <td>1133825</td>\n",
       "      <td>VirginTrains</td>\n",
       "      <td>['hope', 'do', 'train', 'crewe', 'euston', 'cl...</td>\n",
       "      <td>['hope', 'do', 'train', 'crewe', 'euston', 'cl...</td>\n",
       "      <td>8</td>\n",
       "    </tr>\n",
       "    <tr>\n",
       "      <th>762157</th>\n",
       "      <td>1133826</td>\n",
       "      <td>sprintcare</td>\n",
       "      <td>['hulu', 'service', 'account', 'text', 'good']</td>\n",
       "      <td>['hulu', 'service', 'account', 'text', 'good']</td>\n",
       "      <td>5</td>\n",
       "    </tr>\n",
       "    <tr>\n",
       "      <th>762158</th>\n",
       "      <td>1133827</td>\n",
       "      <td>AldiUK</td>\n",
       "      <td>['warm', 'sloe_mince_pie', 'cream', 'good', 't...</td>\n",
       "      <td>['warm', 'sloe_mince_pie', 'cream', 'good', 't...</td>\n",
       "      <td>6</td>\n",
       "    </tr>\n",
       "  </tbody>\n",
       "</table>\n",
       "<p>762159 rows × 5 columns</p>\n",
       "</div>"
      ],
      "text/plain": [
       "        Unnamed: 0    Organization  \\\n",
       "0                1      sprintcare   \n",
       "1                4      sprintcare   \n",
       "2                6    Ask_Spectrum   \n",
       "3                7    Ask_Spectrum   \n",
       "4                8    Ask_Spectrum   \n",
       "...            ...             ...   \n",
       "762154     1133823  AirAsiaSupport   \n",
       "762155     1133824  AirAsiaSupport   \n",
       "762156     1133825    VirginTrains   \n",
       "762157     1133826      sprintcare   \n",
       "762158     1133827          AldiUK   \n",
       "\n",
       "                                    data_bigrams_trigrams  \\\n",
       "0       ['send', 'several', 'private', 'message', 'res...   \n",
       "1       ['gon', 'magically', 'change', 'connectivity',...   \n",
       "2       ['like', 'email', 'copy', 'spectrum', 'update'...   \n",
       "3       ['receive', 'corporate', 'office', 'like', 'co...   \n",
       "4       ['correct', 'account', 'takeover', 'email', 'c...   \n",
       "...                                                   ...   \n",
       "762154  ['many', 'day', 'need', 'proceed', 'cancelatio...   \n",
       "762155  ['unable', 'checkin', 'get', 'error', 'check',...   \n",
       "762156  ['hope', 'do', 'train', 'crewe', 'euston', 'cl...   \n",
       "762157     ['hulu', 'service', 'account', 'text', 'good']   \n",
       "762158  ['warm', 'sloe_mince_pie', 'cream', 'good', 't...   \n",
       "\n",
       "                                                      lis  Number_of_word  \n",
       "0       ['send', 'several', 'private', 'message', 'res...               6  \n",
       "1       ['gon', 'magically', 'change', 'connectivity',...               6  \n",
       "2       ['like', 'email', 'copy', 'spectrum', 'update'...               6  \n",
       "3       ['receive', 'corporate', 'office', 'like', 'co...               5  \n",
       "4       ['correct', 'account', 'takeover', 'email', 'c...              11  \n",
       "...                                                   ...             ...  \n",
       "762154  ['many', 'day', 'need', 'proceed', 'cancelatio...              12  \n",
       "762155  ['unable', 'checkin', 'get', 'error', 'check',...               7  \n",
       "762156  ['hope', 'do', 'train', 'crewe', 'euston', 'cl...               8  \n",
       "762157     ['hulu', 'service', 'account', 'text', 'good']               5  \n",
       "762158  ['warm', 'sloe_mince_pie', 'cream', 'good', 't...               6  \n",
       "\n",
       "[762159 rows x 5 columns]"
      ]
     },
     "execution_count": 18,
     "metadata": {},
     "output_type": "execute_result"
    }
   ],
   "source": [
    "df_final = pd.read_csv(\"preprocessed11.csv\")\n",
    "df_final"
   ]
  },
  {
   "cell_type": "code",
   "execution_count": 19,
   "id": "568c5430",
   "metadata": {},
   "outputs": [
    {
     "data": {
      "text/plain": [
       "<AxesSubplot:xlabel='Organization', ylabel='count'>"
      ]
     },
     "execution_count": 19,
     "metadata": {},
     "output_type": "execute_result"
    },
    {
     "data": {
      "image/png": "[encoded data removed]",
      "text/plain": [
       "<Figure size 1152x720 with 1 Axes>"
      ]
     },
     "metadata": {},
     "output_type": "display_data"
    }
   ],
   "source": [
    "fig = plt.gcf()\n",
    "fig.set_size_inches( 16, 10)\n",
    "plt.xticks(rotation=90)\n",
    "sns.countplot(x=\"Organization\", data=df_final)"
   ]
  },
  {
   "cell_type": "markdown",
   "id": "b87f5ff2",
   "metadata": {},
   "source": [
    "Dataset is Highly Imbalanced and there are 108 labels"
   ]
  },
  {
   "cell_type": "markdown",
   "id": "69ff3da5",
   "metadata": {},
   "source": [
    "lets Consider Top5 companies/organization based on their value counts"
   ]
  },
  {
   "cell_type": "code",
   "execution_count": 20,
   "id": "4d5c9499",
   "metadata": {},
   "outputs": [
    {
     "data": {
      "text/plain": [
       "['AmazonHelp', 'AppleSupport', 'AmericanAir', 'Uber_Support', 'Delta']"
      ]
     },
     "execution_count": 20,
     "metadata": {},
     "output_type": "execute_result"
    }
   ],
   "source": [
    "top5 = df_final['Organization'].value_counts().head(5).index.tolist()\n",
    "top5\n"
   ]
  },
  {
   "cell_type": "code",
   "execution_count": 21,
   "id": "f4528caf",
   "metadata": {},
   "outputs": [
    {
     "data": {
      "text/html": [
       "<div>\n",
       "<style scoped>\n",
       "    .dataframe tbody tr th:only-of-type {\n",
       "        vertical-align: middle;\n",
       "    }\n",
       "\n",
       "    .dataframe tbody tr th {\n",
       "        vertical-align: top;\n",
       "    }\n",
       "\n",
       "    .dataframe thead th {\n",
       "        text-align: right;\n",
       "    }\n",
       "</style>\n",
       "<table border=\"1\" class=\"dataframe\">\n",
       "  <thead>\n",
       "    <tr style=\"text-align: right;\">\n",
       "      <th></th>\n",
       "      <th>Unnamed: 0</th>\n",
       "      <th>Organization</th>\n",
       "      <th>data_bigrams_trigrams</th>\n",
       "      <th>lis</th>\n",
       "      <th>Number_of_word</th>\n",
       "    </tr>\n",
       "  </thead>\n",
       "  <tbody>\n",
       "    <tr>\n",
       "      <th>80</th>\n",
       "      <td>143</td>\n",
       "      <td>AmazonHelp</td>\n",
       "      <td>['different', 'people', 'give', 'different', '...</td>\n",
       "      <td>['different', 'people', 'give', 'different', '...</td>\n",
       "      <td>11</td>\n",
       "    </tr>\n",
       "    <tr>\n",
       "      <th>81</th>\n",
       "      <td>144</td>\n",
       "      <td>AmazonHelp</td>\n",
       "      <td>['frankly', 'patience', 'chat', 'customer', 's...</td>\n",
       "      <td>['frankly', 'patience', 'chat', 'customer', 's...</td>\n",
       "      <td>7</td>\n",
       "    </tr>\n",
       "    <tr>\n",
       "      <th>82</th>\n",
       "      <td>146</td>\n",
       "      <td>AmazonHelp</td>\n",
       "      <td>['crazy', 'less', 'week', 'away', 'still', 'sh...</td>\n",
       "      <td>['crazy', 'less', 'week', 'away', 'still', 'sh...</td>\n",
       "      <td>10</td>\n",
       "    </tr>\n",
       "    <tr>\n",
       "      <th>83</th>\n",
       "      <td>147</td>\n",
       "      <td>AmazonHelp</td>\n",
       "      <td>['order', 'local', 'courier', 'last', 'day', '...</td>\n",
       "      <td>['order', 'local', 'courier', 'last', 'day', '...</td>\n",
       "      <td>10</td>\n",
       "    </tr>\n",
       "    <tr>\n",
       "      <th>84</th>\n",
       "      <td>151</td>\n",
       "      <td>AmazonHelp</td>\n",
       "      <td>['buy', 'echo', 'show', 'recognize', 'single',...</td>\n",
       "      <td>['buy', 'echo', 'show', 'recognize', 'single',...</td>\n",
       "      <td>8</td>\n",
       "    </tr>\n",
       "    <tr>\n",
       "      <th>...</th>\n",
       "      <td>...</td>\n",
       "      <td>...</td>\n",
       "      <td>...</td>\n",
       "      <td>...</td>\n",
       "      <td>...</td>\n",
       "    </tr>\n",
       "    <tr>\n",
       "      <th>762110</th>\n",
       "      <td>1133762</td>\n",
       "      <td>AmericanAir</td>\n",
       "      <td>['blatant', 'sexism', 'aside', 'tell', 'do', '...</td>\n",
       "      <td>['blatant', 'sexism', 'aside', 'tell', 'do', '...</td>\n",
       "      <td>9</td>\n",
       "    </tr>\n",
       "    <tr>\n",
       "      <th>762111</th>\n",
       "      <td>1133763</td>\n",
       "      <td>AmericanAir</td>\n",
       "      <td>['do', 'still', 'suck', 'international', 'trip...</td>\n",
       "      <td>['do', 'still', 'suck', 'international', 'trip...</td>\n",
       "      <td>8</td>\n",
       "    </tr>\n",
       "    <tr>\n",
       "      <th>762112</th>\n",
       "      <td>1133764</td>\n",
       "      <td>AmericanAir</td>\n",
       "      <td>['seriously', 'time', 'airline', 'change', 'ru...</td>\n",
       "      <td>['seriously', 'time', 'airline', 'change', 'ru...</td>\n",
       "      <td>10</td>\n",
       "    </tr>\n",
       "    <tr>\n",
       "      <th>762113</th>\n",
       "      <td>1133766</td>\n",
       "      <td>AmericanAir</td>\n",
       "      <td>['look', 'mistake', 'time', 'same', 'divert']</td>\n",
       "      <td>['look', 'mistake', 'time', 'same', 'divert']</td>\n",
       "      <td>5</td>\n",
       "    </tr>\n",
       "    <tr>\n",
       "      <th>762120</th>\n",
       "      <td>1133778</td>\n",
       "      <td>AmazonHelp</td>\n",
       "      <td>['talk', 'custom', 'make', 'offer', 'regular',...</td>\n",
       "      <td>['talk', 'custom', 'make', 'offer', 'regular',...</td>\n",
       "      <td>19</td>\n",
       "    </tr>\n",
       "  </tbody>\n",
       "</table>\n",
       "<p>248187 rows × 5 columns</p>\n",
       "</div>"
      ],
      "text/plain": [
       "        Unnamed: 0 Organization  \\\n",
       "80             143   AmazonHelp   \n",
       "81             144   AmazonHelp   \n",
       "82             146   AmazonHelp   \n",
       "83             147   AmazonHelp   \n",
       "84             151   AmazonHelp   \n",
       "...            ...          ...   \n",
       "762110     1133762  AmericanAir   \n",
       "762111     1133763  AmericanAir   \n",
       "762112     1133764  AmericanAir   \n",
       "762113     1133766  AmericanAir   \n",
       "762120     1133778   AmazonHelp   \n",
       "\n",
       "                                    data_bigrams_trigrams  \\\n",
       "80      ['different', 'people', 'give', 'different', '...   \n",
       "81      ['frankly', 'patience', 'chat', 'customer', 's...   \n",
       "82      ['crazy', 'less', 'week', 'away', 'still', 'sh...   \n",
       "83      ['order', 'local', 'courier', 'last', 'day', '...   \n",
       "84      ['buy', 'echo', 'show', 'recognize', 'single',...   \n",
       "...                                                   ...   \n",
       "762110  ['blatant', 'sexism', 'aside', 'tell', 'do', '...   \n",
       "762111  ['do', 'still', 'suck', 'international', 'trip...   \n",
       "762112  ['seriously', 'time', 'airline', 'change', 'ru...   \n",
       "762113      ['look', 'mistake', 'time', 'same', 'divert']   \n",
       "762120  ['talk', 'custom', 'make', 'offer', 'regular',...   \n",
       "\n",
       "                                                      lis  Number_of_word  \n",
       "80      ['different', 'people', 'give', 'different', '...              11  \n",
       "81      ['frankly', 'patience', 'chat', 'customer', 's...               7  \n",
       "82      ['crazy', 'less', 'week', 'away', 'still', 'sh...              10  \n",
       "83      ['order', 'local', 'courier', 'last', 'day', '...              10  \n",
       "84      ['buy', 'echo', 'show', 'recognize', 'single',...               8  \n",
       "...                                                   ...             ...  \n",
       "762110  ['blatant', 'sexism', 'aside', 'tell', 'do', '...               9  \n",
       "762111  ['do', 'still', 'suck', 'international', 'trip...               8  \n",
       "762112  ['seriously', 'time', 'airline', 'change', 'ru...              10  \n",
       "762113      ['look', 'mistake', 'time', 'same', 'divert']               5  \n",
       "762120  ['talk', 'custom', 'make', 'offer', 'regular',...              19  \n",
       "\n",
       "[248187 rows x 5 columns]"
      ]
     },
     "execution_count": 21,
     "metadata": {},
     "output_type": "execute_result"
    }
   ],
   "source": [
    "df_final = df_final.loc[df_final['Organization'].isin(top5)]\n",
    "df_final\n"
   ]
  },
  {
   "cell_type": "code",
   "execution_count": 22,
   "id": "0949ce77",
   "metadata": {},
   "outputs": [],
   "source": [
    "df_final.reset_index(inplace=True)"
   ]
  },
  {
   "cell_type": "code",
   "execution_count": 23,
   "id": "45667b82",
   "metadata": {},
   "outputs": [
    {
     "data": {
      "text/html": [
       "<div>\n",
       "<style scoped>\n",
       "    .dataframe tbody tr th:only-of-type {\n",
       "        vertical-align: middle;\n",
       "    }\n",
       "\n",
       "    .dataframe tbody tr th {\n",
       "        vertical-align: top;\n",
       "    }\n",
       "\n",
       "    .dataframe thead th {\n",
       "        text-align: right;\n",
       "    }\n",
       "</style>\n",
       "<table border=\"1\" class=\"dataframe\">\n",
       "  <thead>\n",
       "    <tr style=\"text-align: right;\">\n",
       "      <th></th>\n",
       "      <th>index</th>\n",
       "      <th>Unnamed: 0</th>\n",
       "      <th>Organization</th>\n",
       "      <th>data_bigrams_trigrams</th>\n",
       "      <th>lis</th>\n",
       "      <th>Number_of_word</th>\n",
       "    </tr>\n",
       "  </thead>\n",
       "  <tbody>\n",
       "    <tr>\n",
       "      <th>0</th>\n",
       "      <td>80</td>\n",
       "      <td>143</td>\n",
       "      <td>AmazonHelp</td>\n",
       "      <td>['different', 'people', 'give', 'different', '...</td>\n",
       "      <td>['different', 'people', 'give', 'different', '...</td>\n",
       "      <td>11</td>\n",
       "    </tr>\n",
       "    <tr>\n",
       "      <th>1</th>\n",
       "      <td>81</td>\n",
       "      <td>144</td>\n",
       "      <td>AmazonHelp</td>\n",
       "      <td>['frankly', 'patience', 'chat', 'customer', 's...</td>\n",
       "      <td>['frankly', 'patience', 'chat', 'customer', 's...</td>\n",
       "      <td>7</td>\n",
       "    </tr>\n",
       "    <tr>\n",
       "      <th>2</th>\n",
       "      <td>82</td>\n",
       "      <td>146</td>\n",
       "      <td>AmazonHelp</td>\n",
       "      <td>['crazy', 'less', 'week', 'away', 'still', 'sh...</td>\n",
       "      <td>['crazy', 'less', 'week', 'away', 'still', 'sh...</td>\n",
       "      <td>10</td>\n",
       "    </tr>\n",
       "    <tr>\n",
       "      <th>3</th>\n",
       "      <td>83</td>\n",
       "      <td>147</td>\n",
       "      <td>AmazonHelp</td>\n",
       "      <td>['order', 'local', 'courier', 'last', 'day', '...</td>\n",
       "      <td>['order', 'local', 'courier', 'last', 'day', '...</td>\n",
       "      <td>10</td>\n",
       "    </tr>\n",
       "    <tr>\n",
       "      <th>4</th>\n",
       "      <td>84</td>\n",
       "      <td>151</td>\n",
       "      <td>AmazonHelp</td>\n",
       "      <td>['buy', 'echo', 'show', 'recognize', 'single',...</td>\n",
       "      <td>['buy', 'echo', 'show', 'recognize', 'single',...</td>\n",
       "      <td>8</td>\n",
       "    </tr>\n",
       "    <tr>\n",
       "      <th>...</th>\n",
       "      <td>...</td>\n",
       "      <td>...</td>\n",
       "      <td>...</td>\n",
       "      <td>...</td>\n",
       "      <td>...</td>\n",
       "      <td>...</td>\n",
       "    </tr>\n",
       "    <tr>\n",
       "      <th>248182</th>\n",
       "      <td>762110</td>\n",
       "      <td>1133762</td>\n",
       "      <td>AmericanAir</td>\n",
       "      <td>['blatant', 'sexism', 'aside', 'tell', 'do', '...</td>\n",
       "      <td>['blatant', 'sexism', 'aside', 'tell', 'do', '...</td>\n",
       "      <td>9</td>\n",
       "    </tr>\n",
       "    <tr>\n",
       "      <th>248183</th>\n",
       "      <td>762111</td>\n",
       "      <td>1133763</td>\n",
       "      <td>AmericanAir</td>\n",
       "      <td>['do', 'still', 'suck', 'international', 'trip...</td>\n",
       "      <td>['do', 'still', 'suck', 'international', 'trip...</td>\n",
       "      <td>8</td>\n",
       "    </tr>\n",
       "    <tr>\n",
       "      <th>248184</th>\n",
       "      <td>762112</td>\n",
       "      <td>1133764</td>\n",
       "      <td>AmericanAir</td>\n",
       "      <td>['seriously', 'time', 'airline', 'change', 'ru...</td>\n",
       "      <td>['seriously', 'time', 'airline', 'change', 'ru...</td>\n",
       "      <td>10</td>\n",
       "    </tr>\n",
       "    <tr>\n",
       "      <th>248185</th>\n",
       "      <td>762113</td>\n",
       "      <td>1133766</td>\n",
       "      <td>AmericanAir</td>\n",
       "      <td>['look', 'mistake', 'time', 'same', 'divert']</td>\n",
       "      <td>['look', 'mistake', 'time', 'same', 'divert']</td>\n",
       "      <td>5</td>\n",
       "    </tr>\n",
       "    <tr>\n",
       "      <th>248186</th>\n",
       "      <td>762120</td>\n",
       "      <td>1133778</td>\n",
       "      <td>AmazonHelp</td>\n",
       "      <td>['talk', 'custom', 'make', 'offer', 'regular',...</td>\n",
       "      <td>['talk', 'custom', 'make', 'offer', 'regular',...</td>\n",
       "      <td>19</td>\n",
       "    </tr>\n",
       "  </tbody>\n",
       "</table>\n",
       "<p>248187 rows × 6 columns</p>\n",
       "</div>"
      ],
      "text/plain": [
       "         index  Unnamed: 0 Organization  \\\n",
       "0           80         143   AmazonHelp   \n",
       "1           81         144   AmazonHelp   \n",
       "2           82         146   AmazonHelp   \n",
       "3           83         147   AmazonHelp   \n",
       "4           84         151   AmazonHelp   \n",
       "...        ...         ...          ...   \n",
       "248182  762110     1133762  AmericanAir   \n",
       "248183  762111     1133763  AmericanAir   \n",
       "248184  762112     1133764  AmericanAir   \n",
       "248185  762113     1133766  AmericanAir   \n",
       "248186  762120     1133778   AmazonHelp   \n",
       "\n",
       "                                    data_bigrams_trigrams  \\\n",
       "0       ['different', 'people', 'give', 'different', '...   \n",
       "1       ['frankly', 'patience', 'chat', 'customer', 's...   \n",
       "2       ['crazy', 'less', 'week', 'away', 'still', 'sh...   \n",
       "3       ['order', 'local', 'courier', 'last', 'day', '...   \n",
       "4       ['buy', 'echo', 'show', 'recognize', 'single',...   \n",
       "...                                                   ...   \n",
       "248182  ['blatant', 'sexism', 'aside', 'tell', 'do', '...   \n",
       "248183  ['do', 'still', 'suck', 'international', 'trip...   \n",
       "248184  ['seriously', 'time', 'airline', 'change', 'ru...   \n",
       "248185      ['look', 'mistake', 'time', 'same', 'divert']   \n",
       "248186  ['talk', 'custom', 'make', 'offer', 'regular',...   \n",
       "\n",
       "                                                      lis  Number_of_word  \n",
       "0       ['different', 'people', 'give', 'different', '...              11  \n",
       "1       ['frankly', 'patience', 'chat', 'customer', 's...               7  \n",
       "2       ['crazy', 'less', 'week', 'away', 'still', 'sh...              10  \n",
       "3       ['order', 'local', 'courier', 'last', 'day', '...              10  \n",
       "4       ['buy', 'echo', 'show', 'recognize', 'single',...               8  \n",
       "...                                                   ...             ...  \n",
       "248182  ['blatant', 'sexism', 'aside', 'tell', 'do', '...               9  \n",
       "248183  ['do', 'still', 'suck', 'international', 'trip...               8  \n",
       "248184  ['seriously', 'time', 'airline', 'change', 'ru...              10  \n",
       "248185      ['look', 'mistake', 'time', 'same', 'divert']               5  \n",
       "248186  ['talk', 'custom', 'make', 'offer', 'regular',...              19  \n",
       "\n",
       "[248187 rows x 6 columns]"
      ]
     },
     "execution_count": 23,
     "metadata": {},
     "output_type": "execute_result"
    }
   ],
   "source": [
    "df_final"
   ]
  },
  {
   "cell_type": "markdown",
   "id": "5077d1ba",
   "metadata": {},
   "source": [
    "Convert text data into vectors using Tfidf Vectoriser...\n",
    "\n",
    "we can also use countvectoriser as well but Tfidf Vectoriser has its own advantage"
   ]
  },
  {
   "cell_type": "code",
   "execution_count": 41,
   "id": "c3a41ef8",
   "metadata": {},
   "outputs": [],
   "source": [
    "vectorizer = TfidfVectorizer( ngram_range=(1, 3), min_df=7, max_features=12000)\n",
    "X = vectorizer.fit_transform(df_final['data_bigrams_trigrams'])\n",
    "y = df_final.Organization\n",
    "    "
   ]
  },
  {
   "cell_type": "code",
   "execution_count": 43,
   "id": "5c7d9802",
   "metadata": {},
   "outputs": [],
   "source": [
    "X_train, X_test, y_train, y_test = train_test_split(X, y, test_size=0.3, stratify=y)"
   ]
  },
  {
   "cell_type": "code",
   "execution_count": 44,
   "id": "de8494b7",
   "metadata": {},
   "outputs": [],
   "source": [
    "def train_test_model(model, X_train, X_test, y_train, y_test):\n",
    "    model.fit(X_train, y_train)\n",
    "    predictions = model.predict(X_test)\n",
    "    accuracy = model.score(X_test, y_test)\n",
    "    precision = precision_score(y_test, predictions, average='weighted')\n",
    "    recall = recall_score(y_test, predictions, average='weighted')\n",
    "    fscore= f1_score(y_test, predictions, average='weighted')\n",
    "    \n",
    "    return predictions, accuracy, precision, recall, fscore"
   ]
  },
  {
   "cell_type": "markdown",
   "id": "41e7a045",
   "metadata": {},
   "source": [
    "### Naive Bayes"
   ]
  },
  {
   "cell_type": "code",
   "execution_count": 74,
   "id": "5fce23e4",
   "metadata": {},
   "outputs": [
    {
     "name": "stderr",
     "output_type": "stream",
     "text": [
      "C:\\Users\\Asus\\Anaconda\\lib\\site-packages\\sklearn\\naive_bayes.py:508: UserWarning: alpha too small will result in numeric errors, setting alpha = 1.0e-10\n",
      "  warnings.warn('alpha too small will result in numeric errors, '\n",
      "C:\\Users\\Asus\\Anaconda\\lib\\site-packages\\sklearn\\naive_bayes.py:508: UserWarning: alpha too small will result in numeric errors, setting alpha = 1.0e-10\n",
      "  warnings.warn('alpha too small will result in numeric errors, '\n",
      "C:\\Users\\Asus\\Anaconda\\lib\\site-packages\\sklearn\\naive_bayes.py:508: UserWarning: alpha too small will result in numeric errors, setting alpha = 1.0e-10\n",
      "  warnings.warn('alpha too small will result in numeric errors, '\n",
      "C:\\Users\\Asus\\Anaconda\\lib\\site-packages\\sklearn\\naive_bayes.py:508: UserWarning: alpha too small will result in numeric errors, setting alpha = 1.0e-10\n",
      "  warnings.warn('alpha too small will result in numeric errors, '\n",
      "C:\\Users\\Asus\\Anaconda\\lib\\site-packages\\sklearn\\naive_bayes.py:508: UserWarning: alpha too small will result in numeric errors, setting alpha = 1.0e-10\n",
      "  warnings.warn('alpha too small will result in numeric errors, '\n",
      "C:\\Users\\Asus\\Anaconda\\lib\\site-packages\\sklearn\\naive_bayes.py:508: UserWarning: alpha too small will result in numeric errors, setting alpha = 1.0e-10\n",
      "  warnings.warn('alpha too small will result in numeric errors, '\n"
     ]
    }
   ],
   "source": [
    "skfold = StratifiedKFold(n_splits=5, shuffle=True, random_state=123)\n",
    "nb_model = MultinomialNB(alpha=0)\n",
    "\n",
    "\n",
    "\n",
    "predictions_nb, accuracy_nb, precision_nb, recall_nb, fscore_nb = train_test_model(nb_model, X_train, X_test, y_train, y_test)\n",
    "\n",
    "accuracy1 = []\n",
    "precision1 = []\n",
    "recall1 = []\n",
    "fscore1 = []\n",
    "\n",
    "for train_index, test_index in skfold.split(X,y):\n",
    "    X_train, X_test = X[train_index], X[test_index]\n",
    "    y_train, y_test = y[train_index], y[test_index]\n",
    "    \n",
    "    nb_model.fit(X_train, y_train)\n",
    "    predictions = nb_model.predict(X_test)\n",
    "    accuracy = nb_model.score(X_test, y_test)\n",
    "    precision= precision_score(y_test, predictions, average='weighted')\n",
    "    recall = recall_score(y_test, predictions, average='weighted')\n",
    "    fscore = f1_score(y_test, predictions, average='weighted')\n",
    "    \n",
    "    accuracy1.append(accuracy)\n",
    "    precision1.append(precision)\n",
    "    recall1.append(recall)\n",
    "    fscore1.append(fscore)\n",
    "    \n",
    "avg_accuracy1 = (sum(accuracy1)/len(accuracy1))\n",
    "avg_precision1 = (sum(precision1)/len(precision1))\n",
    "avg_recall1 = (sum(recall1)/len(recall1))\n",
    "avg_fscore1 = (sum(fscore1)/len(fscore1))\n",
    "\n",
    "\n",
    "    \n",
    "    \n",
    "\n",
    "\n",
    "\n"
   ]
  },
  {
   "cell_type": "code",
   "execution_count": 88,
   "id": "9e896234",
   "metadata": {},
   "outputs": [
    {
     "data": {
      "text/html": [
       "<div>\n",
       "<style scoped>\n",
       "    .dataframe tbody tr th:only-of-type {\n",
       "        vertical-align: middle;\n",
       "    }\n",
       "\n",
       "    .dataframe tbody tr th {\n",
       "        vertical-align: top;\n",
       "    }\n",
       "\n",
       "    .dataframe thead th {\n",
       "        text-align: right;\n",
       "    }\n",
       "</style>\n",
       "<table border=\"1\" class=\"dataframe\">\n",
       "  <thead>\n",
       "    <tr style=\"text-align: right;\">\n",
       "      <th></th>\n",
       "      <th>Evaluation_Type</th>\n",
       "      <th>Metrics</th>\n",
       "      <th>Score</th>\n",
       "    </tr>\n",
       "  </thead>\n",
       "  <tbody>\n",
       "    <tr>\n",
       "      <th>0</th>\n",
       "      <td>Normal</td>\n",
       "      <td>Accuracy</td>\n",
       "      <td>0.784234</td>\n",
       "    </tr>\n",
       "    <tr>\n",
       "      <th>1</th>\n",
       "      <td>Normal</td>\n",
       "      <td>Precision</td>\n",
       "      <td>0.780794</td>\n",
       "    </tr>\n",
       "    <tr>\n",
       "      <th>2</th>\n",
       "      <td>Normal</td>\n",
       "      <td>Recall</td>\n",
       "      <td>0.784234</td>\n",
       "    </tr>\n",
       "    <tr>\n",
       "      <th>3</th>\n",
       "      <td>Normal</td>\n",
       "      <td>F1Score</td>\n",
       "      <td>0.778138</td>\n",
       "    </tr>\n",
       "    <tr>\n",
       "      <th>4</th>\n",
       "      <td>CV</td>\n",
       "      <td>Accuracy</td>\n",
       "      <td>0.784598</td>\n",
       "    </tr>\n",
       "    <tr>\n",
       "      <th>5</th>\n",
       "      <td>CV</td>\n",
       "      <td>Precision</td>\n",
       "      <td>0.780917</td>\n",
       "    </tr>\n",
       "    <tr>\n",
       "      <th>6</th>\n",
       "      <td>CV</td>\n",
       "      <td>Recall</td>\n",
       "      <td>0.784598</td>\n",
       "    </tr>\n",
       "    <tr>\n",
       "      <th>7</th>\n",
       "      <td>CV</td>\n",
       "      <td>F1Score</td>\n",
       "      <td>0.778259</td>\n",
       "    </tr>\n",
       "  </tbody>\n",
       "</table>\n",
       "</div>"
      ],
      "text/plain": [
       "  Evaluation_Type    Metrics     Score\n",
       "0          Normal   Accuracy  0.784234\n",
       "1          Normal  Precision  0.780794\n",
       "2          Normal     Recall  0.784234\n",
       "3          Normal    F1Score  0.778138\n",
       "4              CV   Accuracy  0.784598\n",
       "5              CV  Precision  0.780917\n",
       "6              CV     Recall  0.784598\n",
       "7              CV    F1Score  0.778259"
      ]
     },
     "execution_count": 88,
     "metadata": {},
     "output_type": "execute_result"
    }
   ],
   "source": [
    "# # initialise data of lists.\n",
    "data = {'Evaluation_Type':['Normal', 'Normal', 'Normal', 'Normal',\"CV\", \"CV\",\"CV\",\"CV\"],\n",
    "        'Metrics':[\"Accuracy\", \"Precision\", \"Recall\", \"F1Score\",\"Accuracy\", \"Precision\", \"Recall\", \"F1Score\"],\n",
    "       \"Score\":[accuracy_nb, precision_nb, recall_nb, fscore_nb,avg_accuracy1,avg_precision1, avg_recall1,avg_fscore1]}\n",
    " \n",
    "# Create DataFrame\n",
    "df_nb = pd.DataFrame(data)\n",
    " \n",
    "# Print the output.\n",
    "df_nb"
   ]
  },
  {
   "cell_type": "code",
   "execution_count": 89,
   "id": "031ef01d",
   "metadata": {},
   "outputs": [
    {
     "data": {
      "image/png": "[encoded data removed]",
      "text/plain": [
       "<Figure size 1080x720 with 1 Axes>"
      ]
     },
     "metadata": {},
     "output_type": "display_data"
    }
   ],
   "source": [
    "ax = sns.barplot(x=\"Metrics\", y=\"Score\", hue=\"Evaluation_Type\", data=df_nb)"
   ]
  },
  {
   "cell_type": "markdown",
   "id": "eed958d6",
   "metadata": {},
   "source": [
    "## Logistic Regression"
   ]
  },
  {
   "cell_type": "code",
   "execution_count": 76,
   "id": "3cc771bc",
   "metadata": {},
   "outputs": [],
   "source": [
    "skfold = StratifiedKFold(n_splits=5, shuffle=True, random_state=123)\n",
    "Lg_model = LogisticRegression(multi_class='multinomial', solver='lbfgs', penalty='l2', C=1.0, max_iter=1000)\n",
    "\n",
    "\n",
    "\n",
    "\n",
    "predictions_Lg, accuracy_Lg, precision_Lg, recall_Lg, fscore_Lg = train_test_model(Lg_model, X_train, X_test, y_train, y_test)\n",
    "\n",
    "accuracy1 = []\n",
    "precision1 = []\n",
    "recall1 = []\n",
    "fscore1 = []\n",
    "\n",
    "for train_index, test_index in skfold.split(X,y):\n",
    "    X_train, X_test = X[train_index], X[test_index]\n",
    "    y_train, y_test = y[train_index], y[test_index]\n",
    "    \n",
    "    Lg_model.fit(X_train, y_train)\n",
    "    predictions = Lg_model.predict(X_test)\n",
    "    accuracy = Lg_model.score(X_test, y_test)\n",
    "    precision= precision_score(y_test, predictions, average='weighted')\n",
    "    recall = recall_score(y_test, predictions, average='weighted')\n",
    "    fscore = f1_score(y_test, predictions, average='weighted')\n",
    "    \n",
    "    accuracy1.append(accuracy)\n",
    "    precision1.append(precision)\n",
    "    recall1.append(recall)\n",
    "    fscore1.append(fscore)\n",
    "    \n",
    "avg_accuracy2=(sum(accuracy1)/len(accuracy1))\n",
    "avg_precision2 = (sum(precision1)/len(precision1))\n",
    "avg_recall2 = (sum(recall1)/len(recall1))\n",
    "avg_fscore2 = (sum(fscore1)/len(fscore1))"
   ]
  },
  {
   "cell_type": "code",
   "execution_count": 90,
   "id": "606f1d15",
   "metadata": {},
   "outputs": [
    {
     "data": {
      "text/html": [
       "<div>\n",
       "<style scoped>\n",
       "    .dataframe tbody tr th:only-of-type {\n",
       "        vertical-align: middle;\n",
       "    }\n",
       "\n",
       "    .dataframe tbody tr th {\n",
       "        vertical-align: top;\n",
       "    }\n",
       "\n",
       "    .dataframe thead th {\n",
       "        text-align: right;\n",
       "    }\n",
       "</style>\n",
       "<table border=\"1\" class=\"dataframe\">\n",
       "  <thead>\n",
       "    <tr style=\"text-align: right;\">\n",
       "      <th></th>\n",
       "      <th>Evaluation_Type</th>\n",
       "      <th>Metrics</th>\n",
       "      <th>Score</th>\n",
       "    </tr>\n",
       "  </thead>\n",
       "  <tbody>\n",
       "    <tr>\n",
       "      <th>0</th>\n",
       "      <td>Normal</td>\n",
       "      <td>Accuracy</td>\n",
       "      <td>0.798880</td>\n",
       "    </tr>\n",
       "    <tr>\n",
       "      <th>1</th>\n",
       "      <td>Normal</td>\n",
       "      <td>Precision</td>\n",
       "      <td>0.793935</td>\n",
       "    </tr>\n",
       "    <tr>\n",
       "      <th>2</th>\n",
       "      <td>Normal</td>\n",
       "      <td>Recall</td>\n",
       "      <td>0.798880</td>\n",
       "    </tr>\n",
       "    <tr>\n",
       "      <th>3</th>\n",
       "      <td>Normal</td>\n",
       "      <td>F1Score</td>\n",
       "      <td>0.793340</td>\n",
       "    </tr>\n",
       "    <tr>\n",
       "      <th>4</th>\n",
       "      <td>CV</td>\n",
       "      <td>Accuracy</td>\n",
       "      <td>0.800086</td>\n",
       "    </tr>\n",
       "    <tr>\n",
       "      <th>5</th>\n",
       "      <td>CV</td>\n",
       "      <td>Precision</td>\n",
       "      <td>0.795196</td>\n",
       "    </tr>\n",
       "    <tr>\n",
       "      <th>6</th>\n",
       "      <td>CV</td>\n",
       "      <td>Recall</td>\n",
       "      <td>0.800086</td>\n",
       "    </tr>\n",
       "    <tr>\n",
       "      <th>7</th>\n",
       "      <td>CV</td>\n",
       "      <td>F1Score</td>\n",
       "      <td>0.794436</td>\n",
       "    </tr>\n",
       "  </tbody>\n",
       "</table>\n",
       "</div>"
      ],
      "text/plain": [
       "  Evaluation_Type    Metrics     Score\n",
       "0          Normal   Accuracy  0.798880\n",
       "1          Normal  Precision  0.793935\n",
       "2          Normal     Recall  0.798880\n",
       "3          Normal    F1Score  0.793340\n",
       "4              CV   Accuracy  0.800086\n",
       "5              CV  Precision  0.795196\n",
       "6              CV     Recall  0.800086\n",
       "7              CV    F1Score  0.794436"
      ]
     },
     "execution_count": 90,
     "metadata": {},
     "output_type": "execute_result"
    }
   ],
   "source": [
    "# # initialise data of lists.\n",
    "data = {'Evaluation_Type':['Normal', 'Normal', 'Normal', 'Normal',\"CV\", \"CV\",\"CV\",\"CV\"],\n",
    "        'Metrics':[\"Accuracy\", \"Precision\", \"Recall\", \"F1Score\",\"Accuracy\", \"Precision\", \"Recall\", \"F1Score\"],\n",
    "       \"Score\":[accuracy_Lg, precision_Lg, recall_Lg, fscore_Lg, avg_accuracy2,avg_precision2, avg_recall2,avg_fscore2]}\n",
    " \n",
    "# Create DataFrame\n",
    "df_lg = pd.DataFrame(data)\n",
    " \n",
    "# Print the output.\n",
    "df_lg"
   ]
  },
  {
   "cell_type": "code",
   "execution_count": 91,
   "id": "c8c50ebc",
   "metadata": {},
   "outputs": [
    {
     "data": {
      "image/png": "[encoded data removed]",
      "text/plain": [
       "<Figure size 1080x720 with 1 Axes>"
      ]
     },
     "metadata": {},
     "output_type": "display_data"
    }
   ],
   "source": [
    "ax = sns.barplot(x=\"Metrics\", y=\"Score\", hue=\"Evaluation_Type\", data=df_lg)"
   ]
  },
  {
   "cell_type": "markdown",
   "id": "5a11bcf6",
   "metadata": {},
   "source": [
    "### Xg Boost"
   ]
  },
  {
   "cell_type": "code",
   "execution_count": 79,
   "id": "3bb3c6da",
   "metadata": {
    "scrolled": true
   },
   "outputs": [
    {
     "name": "stderr",
     "output_type": "stream",
     "text": [
      "C:\\Users\\Asus\\Anaconda\\lib\\site-packages\\xgboost\\sklearn.py:1146: UserWarning: The use of label encoder in XGBClassifier is deprecated and will be removed in a future release. To remove this warning, do the following: 1) Pass option use_label_encoder=False when constructing XGBClassifier object; and 2) Encode your labels (y) as integers starting with 0, i.e. 0, 1, 2, ..., [num_class - 1].\n",
      "  warnings.warn(label_encoder_deprecation_msg, UserWarning)\n"
     ]
    },
    {
     "name": "stdout",
     "output_type": "stream",
     "text": [
      "[12:21:04] WARNING: C:/Users/Administrator/workspace/xgboost-win64_release_1.4.0/src/learner.cc:573: \n",
      "Parameters: { \"scale_pos_weight\" } might not be used.\n",
      "\n",
      "  This may not be accurate due to some parameters are only used in language bindings but\n",
      "  passed down to XGBoost core.  Or some parameters are not used but slip through this\n",
      "  verification. Please open an issue if you find above cases.\n",
      "\n",
      "\n",
      "[12:21:05] WARNING: C:/Users/Administrator/workspace/xgboost-win64_release_1.4.0/src/learner.cc:1095: Starting in XGBoost 1.3.0, the default evaluation metric used with the objective 'multi:softprob' was changed from 'merror' to 'mlogloss'. Explicitly set eval_metric if you'd like to restore the old behavior.\n"
     ]
    },
    {
     "name": "stderr",
     "output_type": "stream",
     "text": [
      "C:\\Users\\Asus\\Anaconda\\lib\\site-packages\\xgboost\\sklearn.py:1146: UserWarning: The use of label encoder in XGBClassifier is deprecated and will be removed in a future release. To remove this warning, do the following: 1) Pass option use_label_encoder=False when constructing XGBClassifier object; and 2) Encode your labels (y) as integers starting with 0, i.e. 0, 1, 2, ..., [num_class - 1].\n",
      "  warnings.warn(label_encoder_deprecation_msg, UserWarning)\n"
     ]
    },
    {
     "name": "stdout",
     "output_type": "stream",
     "text": [
      "[12:23:04] WARNING: C:/Users/Administrator/workspace/xgboost-win64_release_1.4.0/src/learner.cc:573: \n",
      "Parameters: { \"scale_pos_weight\" } might not be used.\n",
      "\n",
      "  This may not be accurate due to some parameters are only used in language bindings but\n",
      "  passed down to XGBoost core.  Or some parameters are not used but slip through this\n",
      "  verification. Please open an issue if you find above cases.\n",
      "\n",
      "\n",
      "[12:23:05] WARNING: C:/Users/Administrator/workspace/xgboost-win64_release_1.4.0/src/learner.cc:1095: Starting in XGBoost 1.3.0, the default evaluation metric used with the objective 'multi:softprob' was changed from 'merror' to 'mlogloss'. Explicitly set eval_metric if you'd like to restore the old behavior.\n"
     ]
    },
    {
     "name": "stderr",
     "output_type": "stream",
     "text": [
      "C:\\Users\\Asus\\Anaconda\\lib\\site-packages\\xgboost\\sklearn.py:1146: UserWarning: The use of label encoder in XGBClassifier is deprecated and will be removed in a future release. To remove this warning, do the following: 1) Pass option use_label_encoder=False when constructing XGBClassifier object; and 2) Encode your labels (y) as integers starting with 0, i.e. 0, 1, 2, ..., [num_class - 1].\n",
      "  warnings.warn(label_encoder_deprecation_msg, UserWarning)\n"
     ]
    },
    {
     "name": "stdout",
     "output_type": "stream",
     "text": [
      "[12:25:21] WARNING: C:/Users/Administrator/workspace/xgboost-win64_release_1.4.0/src/learner.cc:573: \n",
      "Parameters: { \"scale_pos_weight\" } might not be used.\n",
      "\n",
      "  This may not be accurate due to some parameters are only used in language bindings but\n",
      "  passed down to XGBoost core.  Or some parameters are not used but slip through this\n",
      "  verification. Please open an issue if you find above cases.\n",
      "\n",
      "\n",
      "[12:25:22] WARNING: C:/Users/Administrator/workspace/xgboost-win64_release_1.4.0/src/learner.cc:1095: Starting in XGBoost 1.3.0, the default evaluation metric used with the objective 'multi:softprob' was changed from 'merror' to 'mlogloss'. Explicitly set eval_metric if you'd like to restore the old behavior.\n"
     ]
    },
    {
     "name": "stderr",
     "output_type": "stream",
     "text": [
      "C:\\Users\\Asus\\Anaconda\\lib\\site-packages\\xgboost\\sklearn.py:1146: UserWarning: The use of label encoder in XGBClassifier is deprecated and will be removed in a future release. To remove this warning, do the following: 1) Pass option use_label_encoder=False when constructing XGBClassifier object; and 2) Encode your labels (y) as integers starting with 0, i.e. 0, 1, 2, ..., [num_class - 1].\n",
      "  warnings.warn(label_encoder_deprecation_msg, UserWarning)\n"
     ]
    },
    {
     "name": "stdout",
     "output_type": "stream",
     "text": [
      "[12:27:42] WARNING: C:/Users/Administrator/workspace/xgboost-win64_release_1.4.0/src/learner.cc:573: \n",
      "Parameters: { \"scale_pos_weight\" } might not be used.\n",
      "\n",
      "  This may not be accurate due to some parameters are only used in language bindings but\n",
      "  passed down to XGBoost core.  Or some parameters are not used but slip through this\n",
      "  verification. Please open an issue if you find above cases.\n",
      "\n",
      "\n",
      "[12:27:43] WARNING: C:/Users/Administrator/workspace/xgboost-win64_release_1.4.0/src/learner.cc:1095: Starting in XGBoost 1.3.0, the default evaluation metric used with the objective 'multi:softprob' was changed from 'merror' to 'mlogloss'. Explicitly set eval_metric if you'd like to restore the old behavior.\n"
     ]
    },
    {
     "name": "stderr",
     "output_type": "stream",
     "text": [
      "C:\\Users\\Asus\\Anaconda\\lib\\site-packages\\xgboost\\sklearn.py:1146: UserWarning: The use of label encoder in XGBClassifier is deprecated and will be removed in a future release. To remove this warning, do the following: 1) Pass option use_label_encoder=False when constructing XGBClassifier object; and 2) Encode your labels (y) as integers starting with 0, i.e. 0, 1, 2, ..., [num_class - 1].\n",
      "  warnings.warn(label_encoder_deprecation_msg, UserWarning)\n"
     ]
    },
    {
     "name": "stdout",
     "output_type": "stream",
     "text": [
      "[12:29:59] WARNING: C:/Users/Administrator/workspace/xgboost-win64_release_1.4.0/src/learner.cc:573: \n",
      "Parameters: { \"scale_pos_weight\" } might not be used.\n",
      "\n",
      "  This may not be accurate due to some parameters are only used in language bindings but\n",
      "  passed down to XGBoost core.  Or some parameters are not used but slip through this\n",
      "  verification. Please open an issue if you find above cases.\n",
      "\n",
      "\n",
      "[12:30:00] WARNING: C:/Users/Administrator/workspace/xgboost-win64_release_1.4.0/src/learner.cc:1095: Starting in XGBoost 1.3.0, the default evaluation metric used with the objective 'multi:softprob' was changed from 'merror' to 'mlogloss'. Explicitly set eval_metric if you'd like to restore the old behavior.\n"
     ]
    },
    {
     "name": "stderr",
     "output_type": "stream",
     "text": [
      "C:\\Users\\Asus\\Anaconda\\lib\\site-packages\\xgboost\\sklearn.py:1146: UserWarning: The use of label encoder in XGBClassifier is deprecated and will be removed in a future release. To remove this warning, do the following: 1) Pass option use_label_encoder=False when constructing XGBClassifier object; and 2) Encode your labels (y) as integers starting with 0, i.e. 0, 1, 2, ..., [num_class - 1].\n",
      "  warnings.warn(label_encoder_deprecation_msg, UserWarning)\n"
     ]
    },
    {
     "name": "stdout",
     "output_type": "stream",
     "text": [
      "[12:32:18] WARNING: C:/Users/Administrator/workspace/xgboost-win64_release_1.4.0/src/learner.cc:573: \n",
      "Parameters: { \"scale_pos_weight\" } might not be used.\n",
      "\n",
      "  This may not be accurate due to some parameters are only used in language bindings but\n",
      "  passed down to XGBoost core.  Or some parameters are not used but slip through this\n",
      "  verification. Please open an issue if you find above cases.\n",
      "\n",
      "\n",
      "[12:32:19] WARNING: C:/Users/Administrator/workspace/xgboost-win64_release_1.4.0/src/learner.cc:1095: Starting in XGBoost 1.3.0, the default evaluation metric used with the objective 'multi:softprob' was changed from 'merror' to 'mlogloss'. Explicitly set eval_metric if you'd like to restore the old behavior.\n"
     ]
    }
   ],
   "source": [
    "skfold = StratifiedKFold(n_splits=5, shuffle=True, random_state=123)\n",
    "Xg_model = XGBClassifier(objective='multi:softmax',scale_pos_weight=10000)\n",
    "\n",
    "\n",
    "\n",
    "\n",
    "predictions_Xg, accuracy_Xg, precision_Xg, recall_Xg, fscore_Xg = train_test_model(Xg_model, X_train, X_test, y_train, y_test)\n",
    "\n",
    "accuracy1 = []\n",
    "precision1 = []\n",
    "recall1 = []\n",
    "fscore1 = []\n",
    "\n",
    "for train_index, test_index in skfold.split(X,y):\n",
    "    X_train, X_test = X[train_index], X[test_index]\n",
    "    y_train, y_test = y[train_index], y[test_index]\n",
    "    \n",
    "    Xg_model.fit(X_train, y_train)\n",
    "    predictions = Xg_model.predict(X_test)\n",
    "    accuracy = Xg_model.score(X_test, y_test)\n",
    "    precision= precision_score(y_test, predictions, average='weighted')\n",
    "    recall = recall_score(y_test, predictions, average='weighted')\n",
    "    fscore = f1_score(y_test, predictions, average='weighted')\n",
    "    \n",
    "    accuracy1.append(accuracy)\n",
    "    precision1.append(precision)\n",
    "    recall1.append(recall)\n",
    "    fscore1.append(fscore)\n",
    "    \n",
    "avg_accuracy3 = (sum(accuracy1)/len(accuracy1))\n",
    "avg_precision3 = (sum(precision1)/len(precision1))\n",
    "avg_recall3=(sum(recall1)/len(recall1))\n",
    "avg_fscore3=(sum(fscore1)/len(fscore1))"
   ]
  },
  {
   "cell_type": "code",
   "execution_count": 92,
   "id": "07050c3a",
   "metadata": {},
   "outputs": [
    {
     "data": {
      "text/html": [
       "<div>\n",
       "<style scoped>\n",
       "    .dataframe tbody tr th:only-of-type {\n",
       "        vertical-align: middle;\n",
       "    }\n",
       "\n",
       "    .dataframe tbody tr th {\n",
       "        vertical-align: top;\n",
       "    }\n",
       "\n",
       "    .dataframe thead th {\n",
       "        text-align: right;\n",
       "    }\n",
       "</style>\n",
       "<table border=\"1\" class=\"dataframe\">\n",
       "  <thead>\n",
       "    <tr style=\"text-align: right;\">\n",
       "      <th></th>\n",
       "      <th>Evaluation_Type</th>\n",
       "      <th>Metrics</th>\n",
       "      <th>Score</th>\n",
       "    </tr>\n",
       "  </thead>\n",
       "  <tbody>\n",
       "    <tr>\n",
       "      <th>0</th>\n",
       "      <td>Normal</td>\n",
       "      <td>Accuracy</td>\n",
       "      <td>0.758970</td>\n",
       "    </tr>\n",
       "    <tr>\n",
       "      <th>1</th>\n",
       "      <td>Normal</td>\n",
       "      <td>Precision</td>\n",
       "      <td>0.765151</td>\n",
       "    </tr>\n",
       "    <tr>\n",
       "      <th>2</th>\n",
       "      <td>Normal</td>\n",
       "      <td>Recall</td>\n",
       "      <td>0.758970</td>\n",
       "    </tr>\n",
       "    <tr>\n",
       "      <th>3</th>\n",
       "      <td>Normal</td>\n",
       "      <td>F1Score</td>\n",
       "      <td>0.745751</td>\n",
       "    </tr>\n",
       "    <tr>\n",
       "      <th>4</th>\n",
       "      <td>CV</td>\n",
       "      <td>Accuracy</td>\n",
       "      <td>0.760386</td>\n",
       "    </tr>\n",
       "    <tr>\n",
       "      <th>5</th>\n",
       "      <td>CV</td>\n",
       "      <td>Precision</td>\n",
       "      <td>0.766371</td>\n",
       "    </tr>\n",
       "    <tr>\n",
       "      <th>6</th>\n",
       "      <td>CV</td>\n",
       "      <td>Recall</td>\n",
       "      <td>0.760386</td>\n",
       "    </tr>\n",
       "    <tr>\n",
       "      <th>7</th>\n",
       "      <td>CV</td>\n",
       "      <td>F1Score</td>\n",
       "      <td>0.747389</td>\n",
       "    </tr>\n",
       "  </tbody>\n",
       "</table>\n",
       "</div>"
      ],
      "text/plain": [
       "  Evaluation_Type    Metrics     Score\n",
       "0          Normal   Accuracy  0.758970\n",
       "1          Normal  Precision  0.765151\n",
       "2          Normal     Recall  0.758970\n",
       "3          Normal    F1Score  0.745751\n",
       "4              CV   Accuracy  0.760386\n",
       "5              CV  Precision  0.766371\n",
       "6              CV     Recall  0.760386\n",
       "7              CV    F1Score  0.747389"
      ]
     },
     "execution_count": 92,
     "metadata": {},
     "output_type": "execute_result"
    }
   ],
   "source": [
    "# # initialise data of lists.\n",
    "data = {'Evaluation_Type':['Normal', 'Normal', 'Normal', 'Normal',\"CV\", \"CV\",\"CV\",\"CV\"],\n",
    "        'Metrics':[\"Accuracy\", \"Precision\", \"Recall\", \"F1Score\",\"Accuracy\", \"Precision\", \"Recall\", \"F1Score\"],\n",
    "       \"Score\":[accuracy_Xg, precision_Xg, recall_Xg, fscore_Xg,avg_accuracy3,avg_precision3, avg_recall3,avg_fscore3]}\n",
    " \n",
    "# Create DataFrame\n",
    "df_xg = pd.DataFrame(data)\n",
    " \n",
    "# Print the output.\n",
    "df_xg"
   ]
  },
  {
   "cell_type": "code",
   "execution_count": 93,
   "id": "0b6ea670",
   "metadata": {},
   "outputs": [
    {
     "data": {
      "image/png": "[encoded data removed]",
      "text/plain": [
       "<Figure size 1080x720 with 1 Axes>"
      ]
     },
     "metadata": {},
     "output_type": "display_data"
    }
   ],
   "source": [
    "ax = sns.barplot(x=\"Metrics\", y=\"Score\", hue=\"Evaluation_Type\", data=df_xg)"
   ]
  },
  {
   "cell_type": "markdown",
   "id": "fb56518a",
   "metadata": {},
   "source": [
    "## Random Forest"
   ]
  },
  {
   "cell_type": "code",
   "execution_count": 80,
   "id": "f4e4461e",
   "metadata": {},
   "outputs": [],
   "source": [
    "skfold = StratifiedKFold(n_splits=5, shuffle=True, random_state=123)\n",
    "Rf_model = RandomForestClassifier(n_estimators=100, max_depth=100, min_samples_split=10, n_jobs=-1, verbose=0)\n",
    "\n",
    "\n",
    "\n",
    "predictions_Rf, accuracy_Rf, precision_Rf, recall_Rf, fscore_Rf = train_test_model(Rf_model, X_train, X_test, y_train, y_test)\n",
    "\n",
    "accuracy1 = []\n",
    "precision1 = []\n",
    "recall1 = []\n",
    "fscore1 = []\n",
    "\n",
    "for train_index, test_index in skfold.split(X,y):\n",
    "    X_train, X_test = X[train_index], X[test_index]\n",
    "    y_train, y_test = y[train_index], y[test_index]\n",
    "    \n",
    "    Rf_model.fit(X_train, y_train)\n",
    "    predictions = Rf_model.predict(X_test)\n",
    "    accuracy = Rf_model.score(X_test, y_test)\n",
    "    precision= precision_score(y_test, predictions, average='weighted')\n",
    "    recall = recall_score(y_test, predictions, average='weighted')\n",
    "    fscore = f1_score(y_test, predictions, average='weighted')\n",
    "    \n",
    "    accuracy1.append(accuracy)\n",
    "    precision1.append(precision)\n",
    "    recall1.append(recall)\n",
    "    fscore1.append(fscore)\n",
    "    \n",
    "\n",
    "    \n",
    "avg_accuracy4 = (sum(accuracy1)/len(accuracy1))\n",
    "avg_precision4 = (sum(precision1)/len(precision1))\n",
    "avg_recall4 = (sum(recall1)/len(recall1))\n",
    "avg_fscore4 = (sum(fscore1)/len(fscore1))"
   ]
  },
  {
   "cell_type": "code",
   "execution_count": 94,
   "id": "2e7b15b0",
   "metadata": {},
   "outputs": [
    {
     "data": {
      "text/html": [
       "<div>\n",
       "<style scoped>\n",
       "    .dataframe tbody tr th:only-of-type {\n",
       "        vertical-align: middle;\n",
       "    }\n",
       "\n",
       "    .dataframe tbody tr th {\n",
       "        vertical-align: top;\n",
       "    }\n",
       "\n",
       "    .dataframe thead th {\n",
       "        text-align: right;\n",
       "    }\n",
       "</style>\n",
       "<table border=\"1\" class=\"dataframe\">\n",
       "  <thead>\n",
       "    <tr style=\"text-align: right;\">\n",
       "      <th></th>\n",
       "      <th>Evaluation_Type</th>\n",
       "      <th>Metrics</th>\n",
       "      <th>Score</th>\n",
       "    </tr>\n",
       "  </thead>\n",
       "  <tbody>\n",
       "    <tr>\n",
       "      <th>0</th>\n",
       "      <td>Normal</td>\n",
       "      <td>Accuracy</td>\n",
       "      <td>0.743518</td>\n",
       "    </tr>\n",
       "    <tr>\n",
       "      <th>1</th>\n",
       "      <td>Normal</td>\n",
       "      <td>Precision</td>\n",
       "      <td>0.761969</td>\n",
       "    </tr>\n",
       "    <tr>\n",
       "      <th>2</th>\n",
       "      <td>Normal</td>\n",
       "      <td>Recall</td>\n",
       "      <td>0.743518</td>\n",
       "    </tr>\n",
       "    <tr>\n",
       "      <th>3</th>\n",
       "      <td>Normal</td>\n",
       "      <td>F1Score</td>\n",
       "      <td>0.723825</td>\n",
       "    </tr>\n",
       "    <tr>\n",
       "      <th>4</th>\n",
       "      <td>CV</td>\n",
       "      <td>Accuracy</td>\n",
       "      <td>0.746268</td>\n",
       "    </tr>\n",
       "    <tr>\n",
       "      <th>5</th>\n",
       "      <td>CV</td>\n",
       "      <td>Precision</td>\n",
       "      <td>0.763690</td>\n",
       "    </tr>\n",
       "    <tr>\n",
       "      <th>6</th>\n",
       "      <td>CV</td>\n",
       "      <td>Recall</td>\n",
       "      <td>0.746268</td>\n",
       "    </tr>\n",
       "    <tr>\n",
       "      <th>7</th>\n",
       "      <td>CV</td>\n",
       "      <td>F1Score</td>\n",
       "      <td>0.726873</td>\n",
       "    </tr>\n",
       "  </tbody>\n",
       "</table>\n",
       "</div>"
      ],
      "text/plain": [
       "  Evaluation_Type    Metrics     Score\n",
       "0          Normal   Accuracy  0.743518\n",
       "1          Normal  Precision  0.761969\n",
       "2          Normal     Recall  0.743518\n",
       "3          Normal    F1Score  0.723825\n",
       "4              CV   Accuracy  0.746268\n",
       "5              CV  Precision  0.763690\n",
       "6              CV     Recall  0.746268\n",
       "7              CV    F1Score  0.726873"
      ]
     },
     "execution_count": 94,
     "metadata": {},
     "output_type": "execute_result"
    }
   ],
   "source": [
    "# # initialise data of lists.\n",
    "data = {'Evaluation_Type':['Normal', 'Normal', 'Normal', 'Normal',\"CV\", \"CV\",\"CV\",\"CV\"],\n",
    "        'Metrics':[\"Accuracy\", \"Precision\", \"Recall\", \"F1Score\",\"Accuracy\", \"Precision\", \"Recall\", \"F1Score\"],\n",
    "       \"Score\":[accuracy_Rf, precision_Rf, recall_Rf, fscore_Rf,avg_accuracy4,avg_precision4, avg_recall4,avg_fscore4]}\n",
    " \n",
    "# Create DataFrame\n",
    "df_Rf = pd.DataFrame(data)\n",
    " \n",
    "# Print the output.\n",
    "df_Rf"
   ]
  },
  {
   "cell_type": "code",
   "execution_count": 95,
   "id": "994169ee",
   "metadata": {},
   "outputs": [
    {
     "data": {
      "image/png": "[encoded data removed]",
      "text/plain": [
       "<Figure size 1080x720 with 1 Axes>"
      ]
     },
     "metadata": {},
     "output_type": "display_data"
    }
   ],
   "source": [
    "ax = sns.barplot(x=\"Metrics\", y=\"Score\", hue=\"Evaluation_Type\", data=df_Rf)"
   ]
  },
  {
   "cell_type": "markdown",
   "id": "e81ccb39",
   "metadata": {},
   "source": [
    "## SVM"
   ]
  },
  {
   "cell_type": "code",
   "execution_count": 81,
   "id": "1ac25e83",
   "metadata": {},
   "outputs": [],
   "source": [
    "skfold = StratifiedKFold(n_splits=5, shuffle=True, random_state=123)\n",
    "svc_model = LinearSVC(class_weight='balanced', verbose=False, max_iter=10000, tol=1e-4, C=0.1)\n",
    "\n",
    "\n",
    "\n",
    "predictions_svc, accuracy_svc, precision_svc, recall_svc, fscore_svc = train_test_model(svc_model, X_train, X_test, y_train, y_test)\n",
    "\n",
    "accuracy1 = []\n",
    "precision1 = []\n",
    "recall1 = []\n",
    "fscore1 = []\n",
    "\n",
    "for train_index, test_index in skfold.split(X,y):\n",
    "    X_train, X_test = X[train_index], X[test_index]\n",
    "    y_train, y_test = y[train_index], y[test_index]\n",
    "    \n",
    "    svc_model.fit(X_train, y_train)\n",
    "    predictions = svc_model.predict(X_test)\n",
    "    accuracy = svc_model.score(X_test, y_test)\n",
    "    precision= precision_score(y_test, predictions, average='weighted')\n",
    "    recall = recall_score(y_test, predictions, average='weighted')\n",
    "    fscore = f1_score(y_test, predictions, average='weighted')\n",
    "    \n",
    "    accuracy1.append(accuracy)\n",
    "    precision1.append(precision)\n",
    "    recall1.append(recall)\n",
    "    fscore1.append(fscore)\n",
    "    \n",
    "\n",
    "    \n",
    "avg_accuracy5 = (sum(accuracy1)/len(accuracy1))\n",
    "avg_precision5 = (sum(precision1)/len(precision1))\n",
    "avg_recall5=(sum(recall1)/len(recall1))\n",
    "avg_fscore5 = (sum(fscore1)/len(fscore1))"
   ]
  },
  {
   "cell_type": "code",
   "execution_count": 96,
   "id": "f801f42e",
   "metadata": {},
   "outputs": [
    {
     "data": {
      "text/html": [
       "<div>\n",
       "<style scoped>\n",
       "    .dataframe tbody tr th:only-of-type {\n",
       "        vertical-align: middle;\n",
       "    }\n",
       "\n",
       "    .dataframe tbody tr th {\n",
       "        vertical-align: top;\n",
       "    }\n",
       "\n",
       "    .dataframe thead th {\n",
       "        text-align: right;\n",
       "    }\n",
       "</style>\n",
       "<table border=\"1\" class=\"dataframe\">\n",
       "  <thead>\n",
       "    <tr style=\"text-align: right;\">\n",
       "      <th></th>\n",
       "      <th>Evaluation_Type</th>\n",
       "      <th>Metrics</th>\n",
       "      <th>Score</th>\n",
       "    </tr>\n",
       "  </thead>\n",
       "  <tbody>\n",
       "    <tr>\n",
       "      <th>0</th>\n",
       "      <td>Normal</td>\n",
       "      <td>Accuracy</td>\n",
       "      <td>0.793682</td>\n",
       "    </tr>\n",
       "    <tr>\n",
       "      <th>1</th>\n",
       "      <td>Normal</td>\n",
       "      <td>Precision</td>\n",
       "      <td>0.792965</td>\n",
       "    </tr>\n",
       "    <tr>\n",
       "      <th>2</th>\n",
       "      <td>Normal</td>\n",
       "      <td>Recall</td>\n",
       "      <td>0.793682</td>\n",
       "    </tr>\n",
       "    <tr>\n",
       "      <th>3</th>\n",
       "      <td>Normal</td>\n",
       "      <td>F1Score</td>\n",
       "      <td>0.792494</td>\n",
       "    </tr>\n",
       "    <tr>\n",
       "      <th>4</th>\n",
       "      <td>CV</td>\n",
       "      <td>Accuracy</td>\n",
       "      <td>0.795626</td>\n",
       "    </tr>\n",
       "    <tr>\n",
       "      <th>5</th>\n",
       "      <td>CV</td>\n",
       "      <td>Precision</td>\n",
       "      <td>0.794571</td>\n",
       "    </tr>\n",
       "    <tr>\n",
       "      <th>6</th>\n",
       "      <td>CV</td>\n",
       "      <td>Recall</td>\n",
       "      <td>0.795626</td>\n",
       "    </tr>\n",
       "    <tr>\n",
       "      <th>7</th>\n",
       "      <td>CV</td>\n",
       "      <td>F1Score</td>\n",
       "      <td>0.794279</td>\n",
       "    </tr>\n",
       "  </tbody>\n",
       "</table>\n",
       "</div>"
      ],
      "text/plain": [
       "  Evaluation_Type    Metrics     Score\n",
       "0          Normal   Accuracy  0.793682\n",
       "1          Normal  Precision  0.792965\n",
       "2          Normal     Recall  0.793682\n",
       "3          Normal    F1Score  0.792494\n",
       "4              CV   Accuracy  0.795626\n",
       "5              CV  Precision  0.794571\n",
       "6              CV     Recall  0.795626\n",
       "7              CV    F1Score  0.794279"
      ]
     },
     "execution_count": 96,
     "metadata": {},
     "output_type": "execute_result"
    }
   ],
   "source": [
    "# # initialise data of lists.\n",
    "data = {'Evaluation_Type':['Normal', 'Normal', 'Normal', 'Normal',\"CV\", \"CV\",\"CV\",\"CV\"],\n",
    "        'Metrics':[\"Accuracy\", \"Precision\", \"Recall\", \"F1Score\",\"Accuracy\", \"Precision\", \"Recall\", \"F1Score\"],\n",
    "       \"Score\":[accuracy_svc, precision_svc, recall_svc, fscore_svc,avg_accuracy5,avg_precision5, avg_recall5,avg_fscore5]}\n",
    " \n",
    "# Create DataFrame\n",
    "df_svc = pd.DataFrame(data)\n",
    " \n",
    "# Print the output.\n",
    "df_svc"
   ]
  },
  {
   "cell_type": "code",
   "execution_count": 97,
   "id": "905d87fc",
   "metadata": {},
   "outputs": [
    {
     "data": {
      "image/png": "[encoded data removed]",
      "text/plain": [
       "<Figure size 1080x720 with 1 Axes>"
      ]
     },
     "metadata": {},
     "output_type": "display_data"
    }
   ],
   "source": [
    "ax = sns.barplot(x=\"Metrics\", y=\"Score\", hue=\"Evaluation_Type\", data=df_svc)"
   ]
  },
  {
   "cell_type": "markdown",
   "id": "95ba2be5",
   "metadata": {},
   "source": [
    "Observation:\n",
    "    \n",
    "    In all the above Models we almost got the same score for Normal and Kfold evaluation type \n",
    "    \n",
    "    Now lets find which model perform well out of all Models"
   ]
  },
  {
   "cell_type": "code",
   "execution_count": 98,
   "id": "4f86362f",
   "metadata": {},
   "outputs": [
    {
     "data": {
      "text/html": [
       "<div>\n",
       "<style scoped>\n",
       "    .dataframe tbody tr th:only-of-type {\n",
       "        vertical-align: middle;\n",
       "    }\n",
       "\n",
       "    .dataframe tbody tr th {\n",
       "        vertical-align: top;\n",
       "    }\n",
       "\n",
       "    .dataframe thead th {\n",
       "        text-align: right;\n",
       "    }\n",
       "</style>\n",
       "<table border=\"1\" class=\"dataframe\">\n",
       "  <thead>\n",
       "    <tr style=\"text-align: right;\">\n",
       "      <th></th>\n",
       "      <th>Model</th>\n",
       "      <th>Accuracy</th>\n",
       "      <th>Precision</th>\n",
       "      <th>Recall</th>\n",
       "      <th>F1Score</th>\n",
       "    </tr>\n",
       "  </thead>\n",
       "  <tbody>\n",
       "    <tr>\n",
       "      <th>0</th>\n",
       "      <td>NaiveBayes</td>\n",
       "      <td>0.784598</td>\n",
       "      <td>0.780917</td>\n",
       "      <td>0.784598</td>\n",
       "      <td>0.778259</td>\n",
       "    </tr>\n",
       "    <tr>\n",
       "      <th>1</th>\n",
       "      <td>Logistic Regression</td>\n",
       "      <td>0.800086</td>\n",
       "      <td>0.795196</td>\n",
       "      <td>0.800086</td>\n",
       "      <td>0.794436</td>\n",
       "    </tr>\n",
       "    <tr>\n",
       "      <th>2</th>\n",
       "      <td>XgBoost</td>\n",
       "      <td>0.760386</td>\n",
       "      <td>0.766371</td>\n",
       "      <td>0.760386</td>\n",
       "      <td>0.747389</td>\n",
       "    </tr>\n",
       "    <tr>\n",
       "      <th>3</th>\n",
       "      <td>RandomForest</td>\n",
       "      <td>0.746268</td>\n",
       "      <td>0.763690</td>\n",
       "      <td>0.746268</td>\n",
       "      <td>0.726873</td>\n",
       "    </tr>\n",
       "    <tr>\n",
       "      <th>4</th>\n",
       "      <td>SVC</td>\n",
       "      <td>0.795626</td>\n",
       "      <td>0.794571</td>\n",
       "      <td>0.795626</td>\n",
       "      <td>0.794279</td>\n",
       "    </tr>\n",
       "  </tbody>\n",
       "</table>\n",
       "</div>"
      ],
      "text/plain": [
       "                 Model  Accuracy  Precision    Recall   F1Score\n",
       "0           NaiveBayes  0.784598   0.780917  0.784598  0.778259\n",
       "1  Logistic Regression  0.800086   0.795196  0.800086  0.794436\n",
       "2              XgBoost  0.760386   0.766371  0.760386  0.747389\n",
       "3         RandomForest  0.746268   0.763690  0.746268  0.726873\n",
       "4                  SVC  0.795626   0.794571  0.795626  0.794279"
      ]
     },
     "execution_count": 98,
     "metadata": {},
     "output_type": "execute_result"
    }
   ],
   "source": [
    "# # initialise data of lists.\n",
    "data = {'Model':['NaiveBayes', 'Logistic Regression', 'XgBoost', 'RandomForest',\"SVC\"],\n",
    "        'Accuracy':[avg_accuracy1, avg_accuracy2, avg_accuracy3, avg_accuracy4, avg_accuracy5],\n",
    "       \"Precision\":[avg_precision1, avg_precision2, avg_precision3, avg_precision4,avg_precision5],\n",
    "       \"Recall\":[avg_recall1, avg_recall2, avg_recall3, avg_recall4,avg_recall5],\n",
    "       \"F1Score\":[avg_fscore1, avg_fscore2, avg_fscore3, avg_fscore4,avg_fscore5]}\n",
    " \n",
    "# Create DataFrame\n",
    "df_result = pd.DataFrame(data)\n",
    " \n",
    "# Print the output.\n",
    "df_result"
   ]
  },
  {
   "cell_type": "code",
   "execution_count": 103,
   "id": "1852cf3c",
   "metadata": {},
   "outputs": [
    {
     "data": {
      "application/vnd.plotly.v1+json": {
       "config": {
        "plotlyServerURL": "https://plot.ly"
       },
       "data": [
        {
         "hovertemplate": "Model=%{x}<br>Accuracy=%{text}<extra></extra>",
         "legendgroup": "",
         "line": {
          "color": "#636efa",
          "dash": "solid"
         },
         "marker": {
          "symbol": "circle"
         },
         "mode": "lines+markers+text",
         "name": "",
         "orientation": "v",
         "showlegend": false,
         "text": [
          0.78459790146247,
          0.8000862282573676,
          0.7603863255908674,
          0.7462679319395781,
          0.7956258795680038
         ],
         "type": "scatter",
         "x": [
          "NaiveBayes",
          "Logistic Regression",
          "XgBoost",
          "RandomForest",
          "SVC"
         ],
         "xaxis": "x",
         "y": [
          0.78459790146247,
          0.8000862282573676,
          0.7603863255908674,
          0.7462679319395781,
          0.7956258795680038
         ],
         "yaxis": "y"
        }
       ],
       "layout": {
        "legend": {
         "tracegroupgap": 0
        },
        "template": {
         "data": {
          "bar": [
           {
            "error_x": {
             "color": "#2a3f5f"
            },
            "error_y": {
             "color": "#2a3f5f"
            },
            "marker": {
             "line": {
              "color": "#E5ECF6",
              "width": 0.5
             },
             "pattern": {
              "fillmode": "overlay",
              "size": 10,
              "solidity": 0.2
             }
            },
            "type": "bar"
           }
          ],
          "barpolar": [
           {
            "marker": {
             "line": {
              "color": "#E5ECF6",
              "width": 0.5
             },
             "pattern": {
              "fillmode": "overlay",
              "size": 10,
              "solidity": 0.2
             }
            },
            "type": "barpolar"
           }
          ],
          "carpet": [
           {
            "aaxis": {
             "endlinecolor": "#2a3f5f",
             "gridcolor": "white",
             "linecolor": "white",
             "minorgridcolor": "white",
             "startlinecolor": "#2a3f5f"
            },
            "baxis": {
             "endlinecolor": "#2a3f5f",
             "gridcolor": "white",
             "linecolor": "white",
             "minorgridcolor": "white",
             "startlinecolor": "#2a3f5f"
            },
            "type": "carpet"
           }
          ],
          "choropleth": [
           {
            "colorbar": {
             "outlinewidth": 0,
             "ticks": ""
            },
            "type": "choropleth"
           }
          ],
          "contour": [
           {
            "colorbar": {
             "outlinewidth": 0,
             "ticks": ""
            },
            "colorscale": [
             [
              0,
              "#0d0887"
             ],
             [
              0.1111111111111111,
              "#46039f"
             ],
             [
              0.2222222222222222,
              "#7201a8"
             ],
             [
              0.3333333333333333,
              "#9c179e"
             ],
             [
              0.4444444444444444,
              "#bd3786"
             ],
             [
              0.5555555555555556,
              "#d8576b"
             ],
             [
              0.6666666666666666,
              "#ed7953"
             ],
             [
              0.7777777777777778,
              "#fb9f3a"
             ],
             [
              0.8888888888888888,
              "#fdca26"
             ],
             [
              1,
              "#f0f921"
             ]
            ],
            "type": "contour"
           }
          ],
          "contourcarpet": [
           {
            "colorbar": {
             "outlinewidth": 0,
             "ticks": ""
            },
            "type": "contourcarpet"
           }
          ],
          "heatmap": [
           {
            "colorbar": {
             "outlinewidth": 0,
             "ticks": ""
            },
            "colorscale": [
             [
              0,
              "#0d0887"
             ],
             [
              0.1111111111111111,
              "#46039f"
             ],
             [
              0.2222222222222222,
              "#7201a8"
             ],
             [
              0.3333333333333333,
              "#9c179e"
             ],
             [
              0.4444444444444444,
              "#bd3786"
             ],
             [
              0.5555555555555556,
              "#d8576b"
             ],
             [
              0.6666666666666666,
              "#ed7953"
             ],
             [
              0.7777777777777778,
              "#fb9f3a"
             ],
             [
              0.8888888888888888,
              "#fdca26"
             ],
             [
              1,
              "#f0f921"
             ]
            ],
            "type": "heatmap"
           }
          ],
          "heatmapgl": [
           {
            "colorbar": {
             "outlinewidth": 0,
             "ticks": ""
            },
            "colorscale": [
             [
              0,
              "#0d0887"
             ],
             [
              0.1111111111111111,
              "#46039f"
             ],
             [
              0.2222222222222222,
              "#7201a8"
             ],
             [
              0.3333333333333333,
              "#9c179e"
             ],
             [
              0.4444444444444444,
              "#bd3786"
             ],
             [
              0.5555555555555556,
              "#d8576b"
             ],
             [
              0.6666666666666666,
              "#ed7953"
             ],
             [
              0.7777777777777778,
              "#fb9f3a"
             ],
             [
              0.8888888888888888,
              "#fdca26"
             ],
             [
              1,
              "#f0f921"
             ]
            ],
            "type": "heatmapgl"
           }
          ],
          "histogram": [
           {
            "marker": {
             "pattern": {
              "fillmode": "overlay",
              "size": 10,
              "solidity": 0.2
             }
            },
            "type": "histogram"
           }
          ],
          "histogram2d": [
           {
            "colorbar": {
             "outlinewidth": 0,
             "ticks": ""
            },
            "colorscale": [
             [
              0,
              "#0d0887"
             ],
             [
              0.1111111111111111,
              "#46039f"
             ],
             [
              0.2222222222222222,
              "#7201a8"
             ],
             [
              0.3333333333333333,
              "#9c179e"
             ],
             [
              0.4444444444444444,
              "#bd3786"
             ],
             [
              0.5555555555555556,
              "#d8576b"
             ],
             [
              0.6666666666666666,
              "#ed7953"
             ],
             [
              0.7777777777777778,
              "#fb9f3a"
             ],
             [
              0.8888888888888888,
              "#fdca26"
             ],
             [
              1,
              "#f0f921"
             ]
            ],
            "type": "histogram2d"
           }
          ],
          "histogram2dcontour": [
           {
            "colorbar": {
             "outlinewidth": 0,
             "ticks": ""
            },
            "colorscale": [
             [
              0,
              "#0d0887"
             ],
             [
              0.1111111111111111,
              "#46039f"
             ],
             [
              0.2222222222222222,
              "#7201a8"
             ],
             [
              0.3333333333333333,
              "#9c179e"
             ],
             [
              0.4444444444444444,
              "#bd3786"
             ],
             [
              0.5555555555555556,
              "#d8576b"
             ],
             [
              0.6666666666666666,
              "#ed7953"
             ],
             [
              0.7777777777777778,
              "#fb9f3a"
             ],
             [
              0.8888888888888888,
              "#fdca26"
             ],
             [
              1,
              "#f0f921"
             ]
            ],
            "type": "histogram2dcontour"
           }
          ],
          "mesh3d": [
           {
            "colorbar": {
             "outlinewidth": 0,
             "ticks": ""
            },
            "type": "mesh3d"
           }
          ],
          "parcoords": [
           {
            "line": {
             "colorbar": {
              "outlinewidth": 0,
              "ticks": ""
             }
            },
            "type": "parcoords"
           }
          ],
          "pie": [
           {
            "automargin": true,
            "type": "pie"
           }
          ],
          "scatter": [
           {
            "marker": {
             "colorbar": {
              "outlinewidth": 0,
              "ticks": ""
             }
            },
            "type": "scatter"
           }
          ],
          "scatter3d": [
           {
            "line": {
             "colorbar": {
              "outlinewidth": 0,
              "ticks": ""
             }
            },
            "marker": {
             "colorbar": {
              "outlinewidth": 0,
              "ticks": ""
             }
            },
            "type": "scatter3d"
           }
          ],
          "scattercarpet": [
           {
            "marker": {
             "colorbar": {
              "outlinewidth": 0,
              "ticks": ""
             }
            },
            "type": "scattercarpet"
           }
          ],
          "scattergeo": [
           {
            "marker": {
             "colorbar": {
              "outlinewidth": 0,
              "ticks": ""
             }
            },
            "type": "scattergeo"
           }
          ],
          "scattergl": [
           {
            "marker": {
             "colorbar": {
              "outlinewidth": 0,
              "ticks": ""
             }
            },
            "type": "scattergl"
           }
          ],
          "scattermapbox": [
           {
            "marker": {
             "colorbar": {
              "outlinewidth": 0,
              "ticks": ""
             }
            },
            "type": "scattermapbox"
           }
          ],
          "scatterpolar": [
           {
            "marker": {
             "colorbar": {
              "outlinewidth": 0,
              "ticks": ""
             }
            },
            "type": "scatterpolar"
           }
          ],
          "scatterpolargl": [
           {
            "marker": {
             "colorbar": {
              "outlinewidth": 0,
              "ticks": ""
             }
            },
            "type": "scatterpolargl"
           }
          ],
          "scatterternary": [
           {
            "marker": {
             "colorbar": {
              "outlinewidth": 0,
              "ticks": ""
             }
            },
            "type": "scatterternary"
           }
          ],
          "surface": [
           {
            "colorbar": {
             "outlinewidth": 0,
             "ticks": ""
            },
            "colorscale": [
             [
              0,
              "#0d0887"
             ],
             [
              0.1111111111111111,
              "#46039f"
             ],
             [
              0.2222222222222222,
              "#7201a8"
             ],
             [
              0.3333333333333333,
              "#9c179e"
             ],
             [
              0.4444444444444444,
              "#bd3786"
             ],
             [
              0.5555555555555556,
              "#d8576b"
             ],
             [
              0.6666666666666666,
              "#ed7953"
             ],
             [
              0.7777777777777778,
              "#fb9f3a"
             ],
             [
              0.8888888888888888,
              "#fdca26"
             ],
             [
              1,
              "#f0f921"
             ]
            ],
            "type": "surface"
           }
          ],
          "table": [
           {
            "cells": {
             "fill": {
              "color": "#EBF0F8"
             },
             "line": {
              "color": "white"
             }
            },
            "header": {
             "fill": {
              "color": "#C8D4E3"
             },
             "line": {
              "color": "white"
             }
            },
            "type": "table"
           }
          ]
         },
         "layout": {
          "annotationdefaults": {
           "arrowcolor": "#2a3f5f",
           "arrowhead": 0,
           "arrowwidth": 1
          },
          "autotypenumbers": "strict",
          "coloraxis": {
           "colorbar": {
            "outlinewidth": 0,
            "ticks": ""
           }
          },
          "colorscale": {
           "diverging": [
            [
             0,
             "#8e0152"
            ],
            [
             0.1,
             "#c51b7d"
            ],
            [
             0.2,
             "#de77ae"
            ],
            [
             0.3,
             "#f1b6da"
            ],
            [
             0.4,
             "#fde0ef"
            ],
            [
             0.5,
             "#f7f7f7"
            ],
            [
             0.6,
             "#e6f5d0"
            ],
            [
             0.7,
             "#b8e186"
            ],
            [
             0.8,
             "#7fbc41"
            ],
            [
             0.9,
             "#4d9221"
            ],
            [
             1,
             "#276419"
            ]
           ],
           "sequential": [
            [
             0,
             "#0d0887"
            ],
            [
             0.1111111111111111,
             "#46039f"
            ],
            [
             0.2222222222222222,
             "#7201a8"
            ],
            [
             0.3333333333333333,
             "#9c179e"
            ],
            [
             0.4444444444444444,
             "#bd3786"
            ],
            [
             0.5555555555555556,
             "#d8576b"
            ],
            [
             0.6666666666666666,
             "#ed7953"
            ],
            [
             0.7777777777777778,
             "#fb9f3a"
            ],
            [
             0.8888888888888888,
             "#fdca26"
            ],
            [
             1,
             "#f0f921"
            ]
           ],
           "sequentialminus": [
            [
             0,
             "#0d0887"
            ],
            [
             0.1111111111111111,
             "#46039f"
            ],
            [
             0.2222222222222222,
             "#7201a8"
            ],
            [
             0.3333333333333333,
             "#9c179e"
            ],
            [
             0.4444444444444444,
             "#bd3786"
            ],
            [
             0.5555555555555556,
             "#d8576b"
            ],
            [
             0.6666666666666666,
             "#ed7953"
            ],
            [
             0.7777777777777778,
             "#fb9f3a"
            ],
            [
             0.8888888888888888,
             "#fdca26"
            ],
            [
             1,
             "#f0f921"
            ]
           ]
          },
          "colorway": [
           "#636efa",
           "#EF553B",
           "#00cc96",
           "#ab63fa",
           "#FFA15A",
           "#19d3f3",
           "#FF6692",
           "#B6E880",
           "#FF97FF",
           "#FECB52"
          ],
          "font": {
           "color": "#2a3f5f"
          },
          "geo": {
           "bgcolor": "white",
           "lakecolor": "white",
           "landcolor": "#E5ECF6",
           "showlakes": true,
           "showland": true,
           "subunitcolor": "white"
          },
          "hoverlabel": {
           "align": "left"
          },
          "hovermode": "closest",
          "mapbox": {
           "style": "light"
          },
          "paper_bgcolor": "white",
          "plot_bgcolor": "#E5ECF6",
          "polar": {
           "angularaxis": {
            "gridcolor": "white",
            "linecolor": "white",
            "ticks": ""
           },
           "bgcolor": "#E5ECF6",
           "radialaxis": {
            "gridcolor": "white",
            "linecolor": "white",
            "ticks": ""
           }
          },
          "scene": {
           "xaxis": {
            "backgroundcolor": "#E5ECF6",
            "gridcolor": "white",
            "gridwidth": 2,
            "linecolor": "white",
            "showbackground": true,
            "ticks": "",
            "zerolinecolor": "white"
           },
           "yaxis": {
            "backgroundcolor": "#E5ECF6",
            "gridcolor": "white",
            "gridwidth": 2,
            "linecolor": "white",
            "showbackground": true,
            "ticks": "",
            "zerolinecolor": "white"
           },
           "zaxis": {
            "backgroundcolor": "#E5ECF6",
            "gridcolor": "white",
            "gridwidth": 2,
            "linecolor": "white",
            "showbackground": true,
            "ticks": "",
            "zerolinecolor": "white"
           }
          },
          "shapedefaults": {
           "line": {
            "color": "#2a3f5f"
           }
          },
          "ternary": {
           "aaxis": {
            "gridcolor": "white",
            "linecolor": "white",
            "ticks": ""
           },
           "baxis": {
            "gridcolor": "white",
            "linecolor": "white",
            "ticks": ""
           },
           "bgcolor": "#E5ECF6",
           "caxis": {
            "gridcolor": "white",
            "linecolor": "white",
            "ticks": ""
           }
          },
          "title": {
           "x": 0.05
          },
          "xaxis": {
           "automargin": true,
           "gridcolor": "white",
           "linecolor": "white",
           "ticks": "",
           "title": {
            "standoff": 15
           },
           "zerolinecolor": "white",
           "zerolinewidth": 2
          },
          "yaxis": {
           "automargin": true,
           "gridcolor": "white",
           "linecolor": "white",
           "ticks": "",
           "title": {
            "standoff": 15
           },
           "zerolinecolor": "white",
           "zerolinewidth": 2
          }
         }
        },
        "title": {
         "text": "Cross Validation Accuracy Score for different models"
        },
        "xaxis": {
         "anchor": "y",
         "domain": [
          0,
          1
         ],
         "title": {
          "text": "Model"
         }
        },
        "yaxis": {
         "anchor": "x",
         "domain": [
          0,
          1
         ],
         "title": {
          "text": "Accuracy"
         }
        }
       }
      },
      "text/html": [
       "<div>                            <div id=\"c2749171-c9ea-4ddf-b4d3-0215c6e0676c\" class=\"plotly-graph-div\" style=\"height:525px; width:100%;\"></div>            <script type=\"text/javascript\">                require([\"plotly\"], function(Plotly) {                    window.PLOTLYENV=window.PLOTLYENV || {};                                    if (document.getElementById(\"c2749171-c9ea-4ddf-b4d3-0215c6e0676c\")) {                    Plotly.newPlot(                        \"c2749171-c9ea-4ddf-b4d3-0215c6e0676c\",                        [{\"hovertemplate\":\"Model=%{x}<br>Accuracy=%{text}<extra></extra>\",\"legendgroup\":\"\",\"line\":{\"color\":\"#636efa\",\"dash\":\"solid\"},\"marker\":{\"symbol\":\"circle\"},\"mode\":\"lines+markers+text\",\"name\":\"\",\"orientation\":\"v\",\"showlegend\":false,\"text\":[0.78459790146247,0.8000862282573676,0.7603863255908674,0.7462679319395781,0.7956258795680038],\"type\":\"scatter\",\"x\":[\"NaiveBayes\",\"Logistic Regression\",\"XgBoost\",\"RandomForest\",\"SVC\"],\"xaxis\":\"x\",\"y\":[0.78459790146247,0.8000862282573676,0.7603863255908674,0.7462679319395781,0.7956258795680038],\"yaxis\":\"y\"}],                        {\"legend\":{\"tracegroupgap\":0},\"template\":{\"data\":{\"bar\":[{\"error_x\":{\"color\":\"#2a3f5f\"},\"error_y\":{\"color\":\"#2a3f5f\"},\"marker\":{\"line\":{\"color\":\"#E5ECF6\",\"width\":0.5},\"pattern\":{\"fillmode\":\"overlay\",\"size\":10,\"solidity\":0.2}},\"type\":\"bar\"}],\"barpolar\":[{\"marker\":{\"line\":{\"color\":\"#E5ECF6\",\"width\":0.5},\"pattern\":{\"fillmode\":\"overlay\",\"size\":10,\"solidity\":0.2}},\"type\":\"barpolar\"}],\"carpet\":[{\"aaxis\":{\"endlinecolor\":\"#2a3f5f\",\"gridcolor\":\"white\",\"linecolor\":\"white\",\"minorgridcolor\":\"white\",\"startlinecolor\":\"#2a3f5f\"},\"baxis\":{\"endlinecolor\":\"#2a3f5f\",\"gridcolor\":\"white\",\"linecolor\":\"white\",\"minorgridcolor\":\"white\",\"startlinecolor\":\"#2a3f5f\"},\"type\":\"carpet\"}],\"choropleth\":[{\"colorbar\":{\"outlinewidth\":0,\"ticks\":\"\"},\"type\":\"choropleth\"}],\"contour\":[{\"colorbar\":{\"outlinewidth\":0,\"ticks\":\"\"},\"colorscale\":[[0.0,\"#0d0887\"],[0.1111111111111111,\"#46039f\"],[0.2222222222222222,\"#7201a8\"],[0.3333333333333333,\"#9c179e\"],[0.4444444444444444,\"#bd3786\"],[0.5555555555555556,\"#d8576b\"],[0.6666666666666666,\"#ed7953\"],[0.7777777777777778,\"#fb9f3a\"],[0.8888888888888888,\"#fdca26\"],[1.0,\"#f0f921\"]],\"type\":\"contour\"}],\"contourcarpet\":[{\"colorbar\":{\"outlinewidth\":0,\"ticks\":\"\"},\"type\":\"contourcarpet\"}],\"heatmap\":[{\"colorbar\":{\"outlinewidth\":0,\"ticks\":\"\"},\"colorscale\":[[0.0,\"#0d0887\"],[0.1111111111111111,\"#46039f\"],[0.2222222222222222,\"#7201a8\"],[0.3333333333333333,\"#9c179e\"],[0.4444444444444444,\"#bd3786\"],[0.5555555555555556,\"#d8576b\"],[0.6666666666666666,\"#ed7953\"],[0.7777777777777778,\"#fb9f3a\"],[0.8888888888888888,\"#fdca26\"],[1.0,\"#f0f921\"]],\"type\":\"heatmap\"}],\"heatmapgl\":[{\"colorbar\":{\"outlinewidth\":0,\"ticks\":\"\"},\"colorscale\":[[0.0,\"#0d0887\"],[0.1111111111111111,\"#46039f\"],[0.2222222222222222,\"#7201a8\"],[0.3333333333333333,\"#9c179e\"],[0.4444444444444444,\"#bd3786\"],[0.5555555555555556,\"#d8576b\"],[0.6666666666666666,\"#ed7953\"],[0.7777777777777778,\"#fb9f3a\"],[0.8888888888888888,\"#fdca26\"],[1.0,\"#f0f921\"]],\"type\":\"heatmapgl\"}],\"histogram\":[{\"marker\":{\"pattern\":{\"fillmode\":\"overlay\",\"size\":10,\"solidity\":0.2}},\"type\":\"histogram\"}],\"histogram2d\":[{\"colorbar\":{\"outlinewidth\":0,\"ticks\":\"\"},\"colorscale\":[[0.0,\"#0d0887\"],[0.1111111111111111,\"#46039f\"],[0.2222222222222222,\"#7201a8\"],[0.3333333333333333,\"#9c179e\"],[0.4444444444444444,\"#bd3786\"],[0.5555555555555556,\"#d8576b\"],[0.6666666666666666,\"#ed7953\"],[0.7777777777777778,\"#fb9f3a\"],[0.8888888888888888,\"#fdca26\"],[1.0,\"#f0f921\"]],\"type\":\"histogram2d\"}],\"histogram2dcontour\":[{\"colorbar\":{\"outlinewidth\":0,\"ticks\":\"\"},\"colorscale\":[[0.0,\"#0d0887\"],[0.1111111111111111,\"#46039f\"],[0.2222222222222222,\"#7201a8\"],[0.3333333333333333,\"#9c179e\"],[0.4444444444444444,\"#bd3786\"],[0.5555555555555556,\"#d8576b\"],[0.6666666666666666,\"#ed7953\"],[0.7777777777777778,\"#fb9f3a\"],[0.8888888888888888,\"#fdca26\"],[1.0,\"#f0f921\"]],\"type\":\"histogram2dcontour\"}],\"mesh3d\":[{\"colorbar\":{\"outlinewidth\":0,\"ticks\":\"\"},\"type\":\"mesh3d\"}],\"parcoords\":[{\"line\":{\"colorbar\":{\"outlinewidth\":0,\"ticks\":\"\"}},\"type\":\"parcoords\"}],\"pie\":[{\"automargin\":true,\"type\":\"pie\"}],\"scatter\":[{\"marker\":{\"colorbar\":{\"outlinewidth\":0,\"ticks\":\"\"}},\"type\":\"scatter\"}],\"scatter3d\":[{\"line\":{\"colorbar\":{\"outlinewidth\":0,\"ticks\":\"\"}},\"marker\":{\"colorbar\":{\"outlinewidth\":0,\"ticks\":\"\"}},\"type\":\"scatter3d\"}],\"scattercarpet\":[{\"marker\":{\"colorbar\":{\"outlinewidth\":0,\"ticks\":\"\"}},\"type\":\"scattercarpet\"}],\"scattergeo\":[{\"marker\":{\"colorbar\":{\"outlinewidth\":0,\"ticks\":\"\"}},\"type\":\"scattergeo\"}],\"scattergl\":[{\"marker\":{\"colorbar\":{\"outlinewidth\":0,\"ticks\":\"\"}},\"type\":\"scattergl\"}],\"scattermapbox\":[{\"marker\":{\"colorbar\":{\"outlinewidth\":0,\"ticks\":\"\"}},\"type\":\"scattermapbox\"}],\"scatterpolar\":[{\"marker\":{\"colorbar\":{\"outlinewidth\":0,\"ticks\":\"\"}},\"type\":\"scatterpolar\"}],\"scatterpolargl\":[{\"marker\":{\"colorbar\":{\"outlinewidth\":0,\"ticks\":\"\"}},\"type\":\"scatterpolargl\"}],\"scatterternary\":[{\"marker\":{\"colorbar\":{\"outlinewidth\":0,\"ticks\":\"\"}},\"type\":\"scatterternary\"}],\"surface\":[{\"colorbar\":{\"outlinewidth\":0,\"ticks\":\"\"},\"colorscale\":[[0.0,\"#0d0887\"],[0.1111111111111111,\"#46039f\"],[0.2222222222222222,\"#7201a8\"],[0.3333333333333333,\"#9c179e\"],[0.4444444444444444,\"#bd3786\"],[0.5555555555555556,\"#d8576b\"],[0.6666666666666666,\"#ed7953\"],[0.7777777777777778,\"#fb9f3a\"],[0.8888888888888888,\"#fdca26\"],[1.0,\"#f0f921\"]],\"type\":\"surface\"}],\"table\":[{\"cells\":{\"fill\":{\"color\":\"#EBF0F8\"},\"line\":{\"color\":\"white\"}},\"header\":{\"fill\":{\"color\":\"#C8D4E3\"},\"line\":{\"color\":\"white\"}},\"type\":\"table\"}]},\"layout\":{\"annotationdefaults\":{\"arrowcolor\":\"#2a3f5f\",\"arrowhead\":0,\"arrowwidth\":1},\"autotypenumbers\":\"strict\",\"coloraxis\":{\"colorbar\":{\"outlinewidth\":0,\"ticks\":\"\"}},\"colorscale\":{\"diverging\":[[0,\"#8e0152\"],[0.1,\"#c51b7d\"],[0.2,\"#de77ae\"],[0.3,\"#f1b6da\"],[0.4,\"#fde0ef\"],[0.5,\"#f7f7f7\"],[0.6,\"#e6f5d0\"],[0.7,\"#b8e186\"],[0.8,\"#7fbc41\"],[0.9,\"#4d9221\"],[1,\"#276419\"]],\"sequential\":[[0.0,\"#0d0887\"],[0.1111111111111111,\"#46039f\"],[0.2222222222222222,\"#7201a8\"],[0.3333333333333333,\"#9c179e\"],[0.4444444444444444,\"#bd3786\"],[0.5555555555555556,\"#d8576b\"],[0.6666666666666666,\"#ed7953\"],[0.7777777777777778,\"#fb9f3a\"],[0.8888888888888888,\"#fdca26\"],[1.0,\"#f0f921\"]],\"sequentialminus\":[[0.0,\"#0d0887\"],[0.1111111111111111,\"#46039f\"],[0.2222222222222222,\"#7201a8\"],[0.3333333333333333,\"#9c179e\"],[0.4444444444444444,\"#bd3786\"],[0.5555555555555556,\"#d8576b\"],[0.6666666666666666,\"#ed7953\"],[0.7777777777777778,\"#fb9f3a\"],[0.8888888888888888,\"#fdca26\"],[1.0,\"#f0f921\"]]},\"colorway\":[\"#636efa\",\"#EF553B\",\"#00cc96\",\"#ab63fa\",\"#FFA15A\",\"#19d3f3\",\"#FF6692\",\"#B6E880\",\"#FF97FF\",\"#FECB52\"],\"font\":{\"color\":\"#2a3f5f\"},\"geo\":{\"bgcolor\":\"white\",\"lakecolor\":\"white\",\"landcolor\":\"#E5ECF6\",\"showlakes\":true,\"showland\":true,\"subunitcolor\":\"white\"},\"hoverlabel\":{\"align\":\"left\"},\"hovermode\":\"closest\",\"mapbox\":{\"style\":\"light\"},\"paper_bgcolor\":\"white\",\"plot_bgcolor\":\"#E5ECF6\",\"polar\":{\"angularaxis\":{\"gridcolor\":\"white\",\"linecolor\":\"white\",\"ticks\":\"\"},\"bgcolor\":\"#E5ECF6\",\"radialaxis\":{\"gridcolor\":\"white\",\"linecolor\":\"white\",\"ticks\":\"\"}},\"scene\":{\"xaxis\":{\"backgroundcolor\":\"#E5ECF6\",\"gridcolor\":\"white\",\"gridwidth\":2,\"linecolor\":\"white\",\"showbackground\":true,\"ticks\":\"\",\"zerolinecolor\":\"white\"},\"yaxis\":{\"backgroundcolor\":\"#E5ECF6\",\"gridcolor\":\"white\",\"gridwidth\":2,\"linecolor\":\"white\",\"showbackground\":true,\"ticks\":\"\",\"zerolinecolor\":\"white\"},\"zaxis\":{\"backgroundcolor\":\"#E5ECF6\",\"gridcolor\":\"white\",\"gridwidth\":2,\"linecolor\":\"white\",\"showbackground\":true,\"ticks\":\"\",\"zerolinecolor\":\"white\"}},\"shapedefaults\":{\"line\":{\"color\":\"#2a3f5f\"}},\"ternary\":{\"aaxis\":{\"gridcolor\":\"white\",\"linecolor\":\"white\",\"ticks\":\"\"},\"baxis\":{\"gridcolor\":\"white\",\"linecolor\":\"white\",\"ticks\":\"\"},\"bgcolor\":\"#E5ECF6\",\"caxis\":{\"gridcolor\":\"white\",\"linecolor\":\"white\",\"ticks\":\"\"}},\"title\":{\"x\":0.05},\"xaxis\":{\"automargin\":true,\"gridcolor\":\"white\",\"linecolor\":\"white\",\"ticks\":\"\",\"title\":{\"standoff\":15},\"zerolinecolor\":\"white\",\"zerolinewidth\":2},\"yaxis\":{\"automargin\":true,\"gridcolor\":\"white\",\"linecolor\":\"white\",\"ticks\":\"\",\"title\":{\"standoff\":15},\"zerolinecolor\":\"white\",\"zerolinewidth\":2}}},\"title\":{\"text\":\"Cross Validation Accuracy Score for different models\"},\"xaxis\":{\"anchor\":\"y\",\"domain\":[0.0,1.0],\"title\":{\"text\":\"Model\"}},\"yaxis\":{\"anchor\":\"x\",\"domain\":[0.0,1.0],\"title\":{\"text\":\"Accuracy\"}}},                        {\"responsive\": true}                    ).then(function(){\n",
       "                            \n",
       "var gd = document.getElementById('c2749171-c9ea-4ddf-b4d3-0215c6e0676c');\n",
       "var x = new MutationObserver(function (mutations, observer) {{\n",
       "        var display = window.getComputedStyle(gd).display;\n",
       "        if (!display || display === 'none') {{\n",
       "            console.log([gd, 'removed!']);\n",
       "            Plotly.purge(gd);\n",
       "            observer.disconnect();\n",
       "        }}\n",
       "}});\n",
       "\n",
       "// Listen for the removal of the full notebook cells\n",
       "var notebookContainer = gd.closest('#notebook-container');\n",
       "if (notebookContainer) {{\n",
       "    x.observe(notebookContainer, {childList: true});\n",
       "}}\n",
       "\n",
       "// Listen for the clearing of the current output cell\n",
       "var outputEl = gd.closest('.output');\n",
       "if (outputEl) {{\n",
       "    x.observe(outputEl, {childList: true});\n",
       "}}\n",
       "\n",
       "                        })                };                });            </script>        </div>"
      ]
     },
     "metadata": {},
     "output_type": "display_data"
    }
   ],
   "source": [
    "fig = px.line(df_result, x='Model', y='Accuracy', text=\"Accuracy\", title='Cross Validation Accuracy Score for different models')\n",
    "fig.show()"
   ]
  },
  {
   "cell_type": "code",
   "execution_count": 104,
   "id": "889c47a1",
   "metadata": {},
   "outputs": [
    {
     "data": {
      "application/vnd.plotly.v1+json": {
       "config": {
        "plotlyServerURL": "https://plot.ly"
       },
       "data": [
        {
         "hovertemplate": "Model=%{x}<br>Precision=%{text}<extra></extra>",
         "legendgroup": "",
         "line": {
          "color": "#636efa",
          "dash": "solid"
         },
         "marker": {
          "symbol": "circle"
         },
         "mode": "lines+markers+text",
         "name": "",
         "orientation": "v",
         "showlegend": false,
         "text": [
          0.7809174906639713,
          0.7951955724718184,
          0.7663708563059309,
          0.7636898085892566,
          0.7945707349490458
         ],
         "type": "scatter",
         "x": [
          "NaiveBayes",
          "Logistic Regression",
          "XgBoost",
          "RandomForest",
          "SVC"
         ],
         "xaxis": "x",
         "y": [
          0.7809174906639713,
          0.7951955724718184,
          0.7663708563059309,
          0.7636898085892566,
          0.7945707349490458
         ],
         "yaxis": "y"
        }
       ],
       "layout": {
        "legend": {
         "tracegroupgap": 0
        },
        "template": {
         "data": {
          "bar": [
           {
            "error_x": {
             "color": "#2a3f5f"
            },
            "error_y": {
             "color": "#2a3f5f"
            },
            "marker": {
             "line": {
              "color": "#E5ECF6",
              "width": 0.5
             },
             "pattern": {
              "fillmode": "overlay",
              "size": 10,
              "solidity": 0.2
             }
            },
            "type": "bar"
           }
          ],
          "barpolar": [
           {
            "marker": {
             "line": {
              "color": "#E5ECF6",
              "width": 0.5
             },
             "pattern": {
              "fillmode": "overlay",
              "size": 10,
              "solidity": 0.2
             }
            },
            "type": "barpolar"
           }
          ],
          "carpet": [
           {
            "aaxis": {
             "endlinecolor": "#2a3f5f",
             "gridcolor": "white",
             "linecolor": "white",
             "minorgridcolor": "white",
             "startlinecolor": "#2a3f5f"
            },
            "baxis": {
             "endlinecolor": "#2a3f5f",
             "gridcolor": "white",
             "linecolor": "white",
             "minorgridcolor": "white",
             "startlinecolor": "#2a3f5f"
            },
            "type": "carpet"
           }
          ],
          "choropleth": [
           {
            "colorbar": {
             "outlinewidth": 0,
             "ticks": ""
            },
            "type": "choropleth"
           }
          ],
          "contour": [
           {
            "colorbar": {
             "outlinewidth": 0,
             "ticks": ""
            },
            "colorscale": [
             [
              0,
              "#0d0887"
             ],
             [
              0.1111111111111111,
              "#46039f"
             ],
             [
              0.2222222222222222,
              "#7201a8"
             ],
             [
              0.3333333333333333,
              "#9c179e"
             ],
             [
              0.4444444444444444,
              "#bd3786"
             ],
             [
              0.5555555555555556,
              "#d8576b"
             ],
             [
              0.6666666666666666,
              "#ed7953"
             ],
             [
              0.7777777777777778,
              "#fb9f3a"
             ],
             [
              0.8888888888888888,
              "#fdca26"
             ],
             [
              1,
              "#f0f921"
             ]
            ],
            "type": "contour"
           }
          ],
          "contourcarpet": [
           {
            "colorbar": {
             "outlinewidth": 0,
             "ticks": ""
            },
            "type": "contourcarpet"
           }
          ],
          "heatmap": [
           {
            "colorbar": {
             "outlinewidth": 0,
             "ticks": ""
            },
            "colorscale": [
             [
              0,
              "#0d0887"
             ],
             [
              0.1111111111111111,
              "#46039f"
             ],
             [
              0.2222222222222222,
              "#7201a8"
             ],
             [
              0.3333333333333333,
              "#9c179e"
             ],
             [
              0.4444444444444444,
              "#bd3786"
             ],
             [
              0.5555555555555556,
              "#d8576b"
             ],
             [
              0.6666666666666666,
              "#ed7953"
             ],
             [
              0.7777777777777778,
              "#fb9f3a"
             ],
             [
              0.8888888888888888,
              "#fdca26"
             ],
             [
              1,
              "#f0f921"
             ]
            ],
            "type": "heatmap"
           }
          ],
          "heatmapgl": [
           {
            "colorbar": {
             "outlinewidth": 0,
             "ticks": ""
            },
            "colorscale": [
             [
              0,
              "#0d0887"
             ],
             [
              0.1111111111111111,
              "#46039f"
             ],
             [
              0.2222222222222222,
              "#7201a8"
             ],
             [
              0.3333333333333333,
              "#9c179e"
             ],
             [
              0.4444444444444444,
              "#bd3786"
             ],
             [
              0.5555555555555556,
              "#d8576b"
             ],
             [
              0.6666666666666666,
              "#ed7953"
             ],
             [
              0.7777777777777778,
              "#fb9f3a"
             ],
             [
              0.8888888888888888,
              "#fdca26"
             ],
             [
              1,
              "#f0f921"
             ]
            ],
            "type": "heatmapgl"
           }
          ],
          "histogram": [
           {
            "marker": {
             "pattern": {
              "fillmode": "overlay",
              "size": 10,
              "solidity": 0.2
             }
            },
            "type": "histogram"
           }
          ],
          "histogram2d": [
           {
            "colorbar": {
             "outlinewidth": 0,
             "ticks": ""
            },
            "colorscale": [
             [
              0,
              "#0d0887"
             ],
             [
              0.1111111111111111,
              "#46039f"
             ],
             [
              0.2222222222222222,
              "#7201a8"
             ],
             [
              0.3333333333333333,
              "#9c179e"
             ],
             [
              0.4444444444444444,
              "#bd3786"
             ],
             [
              0.5555555555555556,
              "#d8576b"
             ],
             [
              0.6666666666666666,
              "#ed7953"
             ],
             [
              0.7777777777777778,
              "#fb9f3a"
             ],
             [
              0.8888888888888888,
              "#fdca26"
             ],
             [
              1,
              "#f0f921"
             ]
            ],
            "type": "histogram2d"
           }
          ],
          "histogram2dcontour": [
           {
            "colorbar": {
             "outlinewidth": 0,
             "ticks": ""
            },
            "colorscale": [
             [
              0,
              "#0d0887"
             ],
             [
              0.1111111111111111,
              "#46039f"
             ],
             [
              0.2222222222222222,
              "#7201a8"
             ],
             [
              0.3333333333333333,
              "#9c179e"
             ],
             [
              0.4444444444444444,
              "#bd3786"
             ],
             [
              0.5555555555555556,
              "#d8576b"
             ],
             [
              0.6666666666666666,
              "#ed7953"
             ],
             [
              0.7777777777777778,
              "#fb9f3a"
             ],
             [
              0.8888888888888888,
              "#fdca26"
             ],
             [
              1,
              "#f0f921"
             ]
            ],
            "type": "histogram2dcontour"
           }
          ],
          "mesh3d": [
           {
            "colorbar": {
             "outlinewidth": 0,
             "ticks": ""
            },
            "type": "mesh3d"
           }
          ],
          "parcoords": [
           {
            "line": {
             "colorbar": {
              "outlinewidth": 0,
              "ticks": ""
             }
            },
            "type": "parcoords"
           }
          ],
          "pie": [
           {
            "automargin": true,
            "type": "pie"
           }
          ],
          "scatter": [
           {
            "marker": {
             "colorbar": {
              "outlinewidth": 0,
              "ticks": ""
             }
            },
            "type": "scatter"
           }
          ],
          "scatter3d": [
           {
            "line": {
             "colorbar": {
              "outlinewidth": 0,
              "ticks": ""
             }
            },
            "marker": {
             "colorbar": {
              "outlinewidth": 0,
              "ticks": ""
             }
            },
            "type": "scatter3d"
           }
          ],
          "scattercarpet": [
           {
            "marker": {
             "colorbar": {
              "outlinewidth": 0,
              "ticks": ""
             }
            },
            "type": "scattercarpet"
           }
          ],
          "scattergeo": [
           {
            "marker": {
             "colorbar": {
              "outlinewidth": 0,
              "ticks": ""
             }
            },
            "type": "scattergeo"
           }
          ],
          "scattergl": [
           {
            "marker": {
             "colorbar": {
              "outlinewidth": 0,
              "ticks": ""
             }
            },
            "type": "scattergl"
           }
          ],
          "scattermapbox": [
           {
            "marker": {
             "colorbar": {
              "outlinewidth": 0,
              "ticks": ""
             }
            },
            "type": "scattermapbox"
           }
          ],
          "scatterpolar": [
           {
            "marker": {
             "colorbar": {
              "outlinewidth": 0,
              "ticks": ""
             }
            },
            "type": "scatterpolar"
           }
          ],
          "scatterpolargl": [
           {
            "marker": {
             "colorbar": {
              "outlinewidth": 0,
              "ticks": ""
             }
            },
            "type": "scatterpolargl"
           }
          ],
          "scatterternary": [
           {
            "marker": {
             "colorbar": {
              "outlinewidth": 0,
              "ticks": ""
             }
            },
            "type": "scatterternary"
           }
          ],
          "surface": [
           {
            "colorbar": {
             "outlinewidth": 0,
             "ticks": ""
            },
            "colorscale": [
             [
              0,
              "#0d0887"
             ],
             [
              0.1111111111111111,
              "#46039f"
             ],
             [
              0.2222222222222222,
              "#7201a8"
             ],
             [
              0.3333333333333333,
              "#9c179e"
             ],
             [
              0.4444444444444444,
              "#bd3786"
             ],
             [
              0.5555555555555556,
              "#d8576b"
             ],
             [
              0.6666666666666666,
              "#ed7953"
             ],
             [
              0.7777777777777778,
              "#fb9f3a"
             ],
             [
              0.8888888888888888,
              "#fdca26"
             ],
             [
              1,
              "#f0f921"
             ]
            ],
            "type": "surface"
           }
          ],
          "table": [
           {
            "cells": {
             "fill": {
              "color": "#EBF0F8"
             },
             "line": {
              "color": "white"
             }
            },
            "header": {
             "fill": {
              "color": "#C8D4E3"
             },
             "line": {
              "color": "white"
             }
            },
            "type": "table"
           }
          ]
         },
         "layout": {
          "annotationdefaults": {
           "arrowcolor": "#2a3f5f",
           "arrowhead": 0,
           "arrowwidth": 1
          },
          "autotypenumbers": "strict",
          "coloraxis": {
           "colorbar": {
            "outlinewidth": 0,
            "ticks": ""
           }
          },
          "colorscale": {
           "diverging": [
            [
             0,
             "#8e0152"
            ],
            [
             0.1,
             "#c51b7d"
            ],
            [
             0.2,
             "#de77ae"
            ],
            [
             0.3,
             "#f1b6da"
            ],
            [
             0.4,
             "#fde0ef"
            ],
            [
             0.5,
             "#f7f7f7"
            ],
            [
             0.6,
             "#e6f5d0"
            ],
            [
             0.7,
             "#b8e186"
            ],
            [
             0.8,
             "#7fbc41"
            ],
            [
             0.9,
             "#4d9221"
            ],
            [
             1,
             "#276419"
            ]
           ],
           "sequential": [
            [
             0,
             "#0d0887"
            ],
            [
             0.1111111111111111,
             "#46039f"
            ],
            [
             0.2222222222222222,
             "#7201a8"
            ],
            [
             0.3333333333333333,
             "#9c179e"
            ],
            [
             0.4444444444444444,
             "#bd3786"
            ],
            [
             0.5555555555555556,
             "#d8576b"
            ],
            [
             0.6666666666666666,
             "#ed7953"
            ],
            [
             0.7777777777777778,
             "#fb9f3a"
            ],
            [
             0.8888888888888888,
             "#fdca26"
            ],
            [
             1,
             "#f0f921"
            ]
           ],
           "sequentialminus": [
            [
             0,
             "#0d0887"
            ],
            [
             0.1111111111111111,
             "#46039f"
            ],
            [
             0.2222222222222222,
             "#7201a8"
            ],
            [
             0.3333333333333333,
             "#9c179e"
            ],
            [
             0.4444444444444444,
             "#bd3786"
            ],
            [
             0.5555555555555556,
             "#d8576b"
            ],
            [
             0.6666666666666666,
             "#ed7953"
            ],
            [
             0.7777777777777778,
             "#fb9f3a"
            ],
            [
             0.8888888888888888,
             "#fdca26"
            ],
            [
             1,
             "#f0f921"
            ]
           ]
          },
          "colorway": [
           "#636efa",
           "#EF553B",
           "#00cc96",
           "#ab63fa",
           "#FFA15A",
           "#19d3f3",
           "#FF6692",
           "#B6E880",
           "#FF97FF",
           "#FECB52"
          ],
          "font": {
           "color": "#2a3f5f"
          },
          "geo": {
           "bgcolor": "white",
           "lakecolor": "white",
           "landcolor": "#E5ECF6",
           "showlakes": true,
           "showland": true,
           "subunitcolor": "white"
          },
          "hoverlabel": {
           "align": "left"
          },
          "hovermode": "closest",
          "mapbox": {
           "style": "light"
          },
          "paper_bgcolor": "white",
          "plot_bgcolor": "#E5ECF6",
          "polar": {
           "angularaxis": {
            "gridcolor": "white",
            "linecolor": "white",
            "ticks": ""
           },
           "bgcolor": "#E5ECF6",
           "radialaxis": {
            "gridcolor": "white",
            "linecolor": "white",
            "ticks": ""
           }
          },
          "scene": {
           "xaxis": {
            "backgroundcolor": "#E5ECF6",
            "gridcolor": "white",
            "gridwidth": 2,
            "linecolor": "white",
            "showbackground": true,
            "ticks": "",
            "zerolinecolor": "white"
           },
           "yaxis": {
            "backgroundcolor": "#E5ECF6",
            "gridcolor": "white",
            "gridwidth": 2,
            "linecolor": "white",
            "showbackground": true,
            "ticks": "",
            "zerolinecolor": "white"
           },
           "zaxis": {
            "backgroundcolor": "#E5ECF6",
            "gridcolor": "white",
            "gridwidth": 2,
            "linecolor": "white",
            "showbackground": true,
            "ticks": "",
            "zerolinecolor": "white"
           }
          },
          "shapedefaults": {
           "line": {
            "color": "#2a3f5f"
           }
          },
          "ternary": {
           "aaxis": {
            "gridcolor": "white",
            "linecolor": "white",
            "ticks": ""
           },
           "baxis": {
            "gridcolor": "white",
            "linecolor": "white",
            "ticks": ""
           },
           "bgcolor": "#E5ECF6",
           "caxis": {
            "gridcolor": "white",
            "linecolor": "white",
            "ticks": ""
           }
          },
          "title": {
           "x": 0.05
          },
          "xaxis": {
           "automargin": true,
           "gridcolor": "white",
           "linecolor": "white",
           "ticks": "",
           "title": {
            "standoff": 15
           },
           "zerolinecolor": "white",
           "zerolinewidth": 2
          },
          "yaxis": {
           "automargin": true,
           "gridcolor": "white",
           "linecolor": "white",
           "ticks": "",
           "title": {
            "standoff": 15
           },
           "zerolinecolor": "white",
           "zerolinewidth": 2
          }
         }
        },
        "title": {
         "text": "Precision Score for different models"
        },
        "xaxis": {
         "anchor": "y",
         "domain": [
          0,
          1
         ],
         "title": {
          "text": "Model"
         }
        },
        "yaxis": {
         "anchor": "x",
         "domain": [
          0,
          1
         ],
         "title": {
          "text": "Precision"
         }
        }
       }
      },
      "text/html": [
       "<div>                            <div id=\"eaa00356-ab8d-4ee8-a0ea-109d7c2e6d7d\" class=\"plotly-graph-div\" style=\"height:525px; width:100%;\"></div>            <script type=\"text/javascript\">                require([\"plotly\"], function(Plotly) {                    window.PLOTLYENV=window.PLOTLYENV || {};                                    if (document.getElementById(\"eaa00356-ab8d-4ee8-a0ea-109d7c2e6d7d\")) {                    Plotly.newPlot(                        \"eaa00356-ab8d-4ee8-a0ea-109d7c2e6d7d\",                        [{\"hovertemplate\":\"Model=%{x}<br>Precision=%{text}<extra></extra>\",\"legendgroup\":\"\",\"line\":{\"color\":\"#636efa\",\"dash\":\"solid\"},\"marker\":{\"symbol\":\"circle\"},\"mode\":\"lines+markers+text\",\"name\":\"\",\"orientation\":\"v\",\"showlegend\":false,\"text\":[0.7809174906639713,0.7951955724718184,0.7663708563059309,0.7636898085892566,0.7945707349490458],\"type\":\"scatter\",\"x\":[\"NaiveBayes\",\"Logistic Regression\",\"XgBoost\",\"RandomForest\",\"SVC\"],\"xaxis\":\"x\",\"y\":[0.7809174906639713,0.7951955724718184,0.7663708563059309,0.7636898085892566,0.7945707349490458],\"yaxis\":\"y\"}],                        {\"legend\":{\"tracegroupgap\":0},\"template\":{\"data\":{\"bar\":[{\"error_x\":{\"color\":\"#2a3f5f\"},\"error_y\":{\"color\":\"#2a3f5f\"},\"marker\":{\"line\":{\"color\":\"#E5ECF6\",\"width\":0.5},\"pattern\":{\"fillmode\":\"overlay\",\"size\":10,\"solidity\":0.2}},\"type\":\"bar\"}],\"barpolar\":[{\"marker\":{\"line\":{\"color\":\"#E5ECF6\",\"width\":0.5},\"pattern\":{\"fillmode\":\"overlay\",\"size\":10,\"solidity\":0.2}},\"type\":\"barpolar\"}],\"carpet\":[{\"aaxis\":{\"endlinecolor\":\"#2a3f5f\",\"gridcolor\":\"white\",\"linecolor\":\"white\",\"minorgridcolor\":\"white\",\"startlinecolor\":\"#2a3f5f\"},\"baxis\":{\"endlinecolor\":\"#2a3f5f\",\"gridcolor\":\"white\",\"linecolor\":\"white\",\"minorgridcolor\":\"white\",\"startlinecolor\":\"#2a3f5f\"},\"type\":\"carpet\"}],\"choropleth\":[{\"colorbar\":{\"outlinewidth\":0,\"ticks\":\"\"},\"type\":\"choropleth\"}],\"contour\":[{\"colorbar\":{\"outlinewidth\":0,\"ticks\":\"\"},\"colorscale\":[[0.0,\"#0d0887\"],[0.1111111111111111,\"#46039f\"],[0.2222222222222222,\"#7201a8\"],[0.3333333333333333,\"#9c179e\"],[0.4444444444444444,\"#bd3786\"],[0.5555555555555556,\"#d8576b\"],[0.6666666666666666,\"#ed7953\"],[0.7777777777777778,\"#fb9f3a\"],[0.8888888888888888,\"#fdca26\"],[1.0,\"#f0f921\"]],\"type\":\"contour\"}],\"contourcarpet\":[{\"colorbar\":{\"outlinewidth\":0,\"ticks\":\"\"},\"type\":\"contourcarpet\"}],\"heatmap\":[{\"colorbar\":{\"outlinewidth\":0,\"ticks\":\"\"},\"colorscale\":[[0.0,\"#0d0887\"],[0.1111111111111111,\"#46039f\"],[0.2222222222222222,\"#7201a8\"],[0.3333333333333333,\"#9c179e\"],[0.4444444444444444,\"#bd3786\"],[0.5555555555555556,\"#d8576b\"],[0.6666666666666666,\"#ed7953\"],[0.7777777777777778,\"#fb9f3a\"],[0.8888888888888888,\"#fdca26\"],[1.0,\"#f0f921\"]],\"type\":\"heatmap\"}],\"heatmapgl\":[{\"colorbar\":{\"outlinewidth\":0,\"ticks\":\"\"},\"colorscale\":[[0.0,\"#0d0887\"],[0.1111111111111111,\"#46039f\"],[0.2222222222222222,\"#7201a8\"],[0.3333333333333333,\"#9c179e\"],[0.4444444444444444,\"#bd3786\"],[0.5555555555555556,\"#d8576b\"],[0.6666666666666666,\"#ed7953\"],[0.7777777777777778,\"#fb9f3a\"],[0.8888888888888888,\"#fdca26\"],[1.0,\"#f0f921\"]],\"type\":\"heatmapgl\"}],\"histogram\":[{\"marker\":{\"pattern\":{\"fillmode\":\"overlay\",\"size\":10,\"solidity\":0.2}},\"type\":\"histogram\"}],\"histogram2d\":[{\"colorbar\":{\"outlinewidth\":0,\"ticks\":\"\"},\"colorscale\":[[0.0,\"#0d0887\"],[0.1111111111111111,\"#46039f\"],[0.2222222222222222,\"#7201a8\"],[0.3333333333333333,\"#9c179e\"],[0.4444444444444444,\"#bd3786\"],[0.5555555555555556,\"#d8576b\"],[0.6666666666666666,\"#ed7953\"],[0.7777777777777778,\"#fb9f3a\"],[0.8888888888888888,\"#fdca26\"],[1.0,\"#f0f921\"]],\"type\":\"histogram2d\"}],\"histogram2dcontour\":[{\"colorbar\":{\"outlinewidth\":0,\"ticks\":\"\"},\"colorscale\":[[0.0,\"#0d0887\"],[0.1111111111111111,\"#46039f\"],[0.2222222222222222,\"#7201a8\"],[0.3333333333333333,\"#9c179e\"],[0.4444444444444444,\"#bd3786\"],[0.5555555555555556,\"#d8576b\"],[0.6666666666666666,\"#ed7953\"],[0.7777777777777778,\"#fb9f3a\"],[0.8888888888888888,\"#fdca26\"],[1.0,\"#f0f921\"]],\"type\":\"histogram2dcontour\"}],\"mesh3d\":[{\"colorbar\":{\"outlinewidth\":0,\"ticks\":\"\"},\"type\":\"mesh3d\"}],\"parcoords\":[{\"line\":{\"colorbar\":{\"outlinewidth\":0,\"ticks\":\"\"}},\"type\":\"parcoords\"}],\"pie\":[{\"automargin\":true,\"type\":\"pie\"}],\"scatter\":[{\"marker\":{\"colorbar\":{\"outlinewidth\":0,\"ticks\":\"\"}},\"type\":\"scatter\"}],\"scatter3d\":[{\"line\":{\"colorbar\":{\"outlinewidth\":0,\"ticks\":\"\"}},\"marker\":{\"colorbar\":{\"outlinewidth\":0,\"ticks\":\"\"}},\"type\":\"scatter3d\"}],\"scattercarpet\":[{\"marker\":{\"colorbar\":{\"outlinewidth\":0,\"ticks\":\"\"}},\"type\":\"scattercarpet\"}],\"scattergeo\":[{\"marker\":{\"colorbar\":{\"outlinewidth\":0,\"ticks\":\"\"}},\"type\":\"scattergeo\"}],\"scattergl\":[{\"marker\":{\"colorbar\":{\"outlinewidth\":0,\"ticks\":\"\"}},\"type\":\"scattergl\"}],\"scattermapbox\":[{\"marker\":{\"colorbar\":{\"outlinewidth\":0,\"ticks\":\"\"}},\"type\":\"scattermapbox\"}],\"scatterpolar\":[{\"marker\":{\"colorbar\":{\"outlinewidth\":0,\"ticks\":\"\"}},\"type\":\"scatterpolar\"}],\"scatterpolargl\":[{\"marker\":{\"colorbar\":{\"outlinewidth\":0,\"ticks\":\"\"}},\"type\":\"scatterpolargl\"}],\"scatterternary\":[{\"marker\":{\"colorbar\":{\"outlinewidth\":0,\"ticks\":\"\"}},\"type\":\"scatterternary\"}],\"surface\":[{\"colorbar\":{\"outlinewidth\":0,\"ticks\":\"\"},\"colorscale\":[[0.0,\"#0d0887\"],[0.1111111111111111,\"#46039f\"],[0.2222222222222222,\"#7201a8\"],[0.3333333333333333,\"#9c179e\"],[0.4444444444444444,\"#bd3786\"],[0.5555555555555556,\"#d8576b\"],[0.6666666666666666,\"#ed7953\"],[0.7777777777777778,\"#fb9f3a\"],[0.8888888888888888,\"#fdca26\"],[1.0,\"#f0f921\"]],\"type\":\"surface\"}],\"table\":[{\"cells\":{\"fill\":{\"color\":\"#EBF0F8\"},\"line\":{\"color\":\"white\"}},\"header\":{\"fill\":{\"color\":\"#C8D4E3\"},\"line\":{\"color\":\"white\"}},\"type\":\"table\"}]},\"layout\":{\"annotationdefaults\":{\"arrowcolor\":\"#2a3f5f\",\"arrowhead\":0,\"arrowwidth\":1},\"autotypenumbers\":\"strict\",\"coloraxis\":{\"colorbar\":{\"outlinewidth\":0,\"ticks\":\"\"}},\"colorscale\":{\"diverging\":[[0,\"#8e0152\"],[0.1,\"#c51b7d\"],[0.2,\"#de77ae\"],[0.3,\"#f1b6da\"],[0.4,\"#fde0ef\"],[0.5,\"#f7f7f7\"],[0.6,\"#e6f5d0\"],[0.7,\"#b8e186\"],[0.8,\"#7fbc41\"],[0.9,\"#4d9221\"],[1,\"#276419\"]],\"sequential\":[[0.0,\"#0d0887\"],[0.1111111111111111,\"#46039f\"],[0.2222222222222222,\"#7201a8\"],[0.3333333333333333,\"#9c179e\"],[0.4444444444444444,\"#bd3786\"],[0.5555555555555556,\"#d8576b\"],[0.6666666666666666,\"#ed7953\"],[0.7777777777777778,\"#fb9f3a\"],[0.8888888888888888,\"#fdca26\"],[1.0,\"#f0f921\"]],\"sequentialminus\":[[0.0,\"#0d0887\"],[0.1111111111111111,\"#46039f\"],[0.2222222222222222,\"#7201a8\"],[0.3333333333333333,\"#9c179e\"],[0.4444444444444444,\"#bd3786\"],[0.5555555555555556,\"#d8576b\"],[0.6666666666666666,\"#ed7953\"],[0.7777777777777778,\"#fb9f3a\"],[0.8888888888888888,\"#fdca26\"],[1.0,\"#f0f921\"]]},\"colorway\":[\"#636efa\",\"#EF553B\",\"#00cc96\",\"#ab63fa\",\"#FFA15A\",\"#19d3f3\",\"#FF6692\",\"#B6E880\",\"#FF97FF\",\"#FECB52\"],\"font\":{\"color\":\"#2a3f5f\"},\"geo\":{\"bgcolor\":\"white\",\"lakecolor\":\"white\",\"landcolor\":\"#E5ECF6\",\"showlakes\":true,\"showland\":true,\"subunitcolor\":\"white\"},\"hoverlabel\":{\"align\":\"left\"},\"hovermode\":\"closest\",\"mapbox\":{\"style\":\"light\"},\"paper_bgcolor\":\"white\",\"plot_bgcolor\":\"#E5ECF6\",\"polar\":{\"angularaxis\":{\"gridcolor\":\"white\",\"linecolor\":\"white\",\"ticks\":\"\"},\"bgcolor\":\"#E5ECF6\",\"radialaxis\":{\"gridcolor\":\"white\",\"linecolor\":\"white\",\"ticks\":\"\"}},\"scene\":{\"xaxis\":{\"backgroundcolor\":\"#E5ECF6\",\"gridcolor\":\"white\",\"gridwidth\":2,\"linecolor\":\"white\",\"showbackground\":true,\"ticks\":\"\",\"zerolinecolor\":\"white\"},\"yaxis\":{\"backgroundcolor\":\"#E5ECF6\",\"gridcolor\":\"white\",\"gridwidth\":2,\"linecolor\":\"white\",\"showbackground\":true,\"ticks\":\"\",\"zerolinecolor\":\"white\"},\"zaxis\":{\"backgroundcolor\":\"#E5ECF6\",\"gridcolor\":\"white\",\"gridwidth\":2,\"linecolor\":\"white\",\"showbackground\":true,\"ticks\":\"\",\"zerolinecolor\":\"white\"}},\"shapedefaults\":{\"line\":{\"color\":\"#2a3f5f\"}},\"ternary\":{\"aaxis\":{\"gridcolor\":\"white\",\"linecolor\":\"white\",\"ticks\":\"\"},\"baxis\":{\"gridcolor\":\"white\",\"linecolor\":\"white\",\"ticks\":\"\"},\"bgcolor\":\"#E5ECF6\",\"caxis\":{\"gridcolor\":\"white\",\"linecolor\":\"white\",\"ticks\":\"\"}},\"title\":{\"x\":0.05},\"xaxis\":{\"automargin\":true,\"gridcolor\":\"white\",\"linecolor\":\"white\",\"ticks\":\"\",\"title\":{\"standoff\":15},\"zerolinecolor\":\"white\",\"zerolinewidth\":2},\"yaxis\":{\"automargin\":true,\"gridcolor\":\"white\",\"linecolor\":\"white\",\"ticks\":\"\",\"title\":{\"standoff\":15},\"zerolinecolor\":\"white\",\"zerolinewidth\":2}}},\"title\":{\"text\":\"Precision Score for different models\"},\"xaxis\":{\"anchor\":\"y\",\"domain\":[0.0,1.0],\"title\":{\"text\":\"Model\"}},\"yaxis\":{\"anchor\":\"x\",\"domain\":[0.0,1.0],\"title\":{\"text\":\"Precision\"}}},                        {\"responsive\": true}                    ).then(function(){\n",
       "                            \n",
       "var gd = document.getElementById('eaa00356-ab8d-4ee8-a0ea-109d7c2e6d7d');\n",
       "var x = new MutationObserver(function (mutations, observer) {{\n",
       "        var display = window.getComputedStyle(gd).display;\n",
       "        if (!display || display === 'none') {{\n",
       "            console.log([gd, 'removed!']);\n",
       "            Plotly.purge(gd);\n",
       "            observer.disconnect();\n",
       "        }}\n",
       "}});\n",
       "\n",
       "// Listen for the removal of the full notebook cells\n",
       "var notebookContainer = gd.closest('#notebook-container');\n",
       "if (notebookContainer) {{\n",
       "    x.observe(notebookContainer, {childList: true});\n",
       "}}\n",
       "\n",
       "// Listen for the clearing of the current output cell\n",
       "var outputEl = gd.closest('.output');\n",
       "if (outputEl) {{\n",
       "    x.observe(outputEl, {childList: true});\n",
       "}}\n",
       "\n",
       "                        })                };                });            </script>        </div>"
      ]
     },
     "metadata": {},
     "output_type": "display_data"
    }
   ],
   "source": [
    "fig = px.line(df_result, x='Model', y='Precision', text=\"Precision\", title='Precision Score for different models')\n",
    "fig.show()"
   ]
  },
  {
   "cell_type": "code",
   "execution_count": 105,
   "id": "4c83d4cc",
   "metadata": {},
   "outputs": [
    {
     "data": {
      "application/vnd.plotly.v1+json": {
       "config": {
        "plotlyServerURL": "https://plot.ly"
       },
       "data": [
        {
         "hovertemplate": "Model=%{x}<br>Recall=%{text}<extra></extra>",
         "legendgroup": "",
         "line": {
          "color": "#636efa",
          "dash": "solid"
         },
         "marker": {
          "symbol": "circle"
         },
         "mode": "lines+markers+text",
         "name": "",
         "orientation": "v",
         "showlegend": false,
         "text": [
          0.78459790146247,
          0.8000862282573676,
          0.7603863255908674,
          0.7462679319395781,
          0.7956258795680038
         ],
         "type": "scatter",
         "x": [
          "NaiveBayes",
          "Logistic Regression",
          "XgBoost",
          "RandomForest",
          "SVC"
         ],
         "xaxis": "x",
         "y": [
          0.78459790146247,
          0.8000862282573676,
          0.7603863255908674,
          0.7462679319395781,
          0.7956258795680038
         ],
         "yaxis": "y"
        }
       ],
       "layout": {
        "legend": {
         "tracegroupgap": 0
        },
        "template": {
         "data": {
          "bar": [
           {
            "error_x": {
             "color": "#2a3f5f"
            },
            "error_y": {
             "color": "#2a3f5f"
            },
            "marker": {
             "line": {
              "color": "#E5ECF6",
              "width": 0.5
             },
             "pattern": {
              "fillmode": "overlay",
              "size": 10,
              "solidity": 0.2
             }
            },
            "type": "bar"
           }
          ],
          "barpolar": [
           {
            "marker": {
             "line": {
              "color": "#E5ECF6",
              "width": 0.5
             },
             "pattern": {
              "fillmode": "overlay",
              "size": 10,
              "solidity": 0.2
             }
            },
            "type": "barpolar"
           }
          ],
          "carpet": [
           {
            "aaxis": {
             "endlinecolor": "#2a3f5f",
             "gridcolor": "white",
             "linecolor": "white",
             "minorgridcolor": "white",
             "startlinecolor": "#2a3f5f"
            },
            "baxis": {
             "endlinecolor": "#2a3f5f",
             "gridcolor": "white",
             "linecolor": "white",
             "minorgridcolor": "white",
             "startlinecolor": "#2a3f5f"
            },
            "type": "carpet"
           }
          ],
          "choropleth": [
           {
            "colorbar": {
             "outlinewidth": 0,
             "ticks": ""
            },
            "type": "choropleth"
           }
          ],
          "contour": [
           {
            "colorbar": {
             "outlinewidth": 0,
             "ticks": ""
            },
            "colorscale": [
             [
              0,
              "#0d0887"
             ],
             [
              0.1111111111111111,
              "#46039f"
             ],
             [
              0.2222222222222222,
              "#7201a8"
             ],
             [
              0.3333333333333333,
              "#9c179e"
             ],
             [
              0.4444444444444444,
              "#bd3786"
             ],
             [
              0.5555555555555556,
              "#d8576b"
             ],
             [
              0.6666666666666666,
              "#ed7953"
             ],
             [
              0.7777777777777778,
              "#fb9f3a"
             ],
             [
              0.8888888888888888,
              "#fdca26"
             ],
             [
              1,
              "#f0f921"
             ]
            ],
            "type": "contour"
           }
          ],
          "contourcarpet": [
           {
            "colorbar": {
             "outlinewidth": 0,
             "ticks": ""
            },
            "type": "contourcarpet"
           }
          ],
          "heatmap": [
           {
            "colorbar": {
             "outlinewidth": 0,
             "ticks": ""
            },
            "colorscale": [
             [
              0,
              "#0d0887"
             ],
             [
              0.1111111111111111,
              "#46039f"
             ],
             [
              0.2222222222222222,
              "#7201a8"
             ],
             [
              0.3333333333333333,
              "#9c179e"
             ],
             [
              0.4444444444444444,
              "#bd3786"
             ],
             [
              0.5555555555555556,
              "#d8576b"
             ],
             [
              0.6666666666666666,
              "#ed7953"
             ],
             [
              0.7777777777777778,
              "#fb9f3a"
             ],
             [
              0.8888888888888888,
              "#fdca26"
             ],
             [
              1,
              "#f0f921"
             ]
            ],
            "type": "heatmap"
           }
          ],
          "heatmapgl": [
           {
            "colorbar": {
             "outlinewidth": 0,
             "ticks": ""
            },
            "colorscale": [
             [
              0,
              "#0d0887"
             ],
             [
              0.1111111111111111,
              "#46039f"
             ],
             [
              0.2222222222222222,
              "#7201a8"
             ],
             [
              0.3333333333333333,
              "#9c179e"
             ],
             [
              0.4444444444444444,
              "#bd3786"
             ],
             [
              0.5555555555555556,
              "#d8576b"
             ],
             [
              0.6666666666666666,
              "#ed7953"
             ],
             [
              0.7777777777777778,
              "#fb9f3a"
             ],
             [
              0.8888888888888888,
              "#fdca26"
             ],
             [
              1,
              "#f0f921"
             ]
            ],
            "type": "heatmapgl"
           }
          ],
          "histogram": [
           {
            "marker": {
             "pattern": {
              "fillmode": "overlay",
              "size": 10,
              "solidity": 0.2
             }
            },
            "type": "histogram"
           }
          ],
          "histogram2d": [
           {
            "colorbar": {
             "outlinewidth": 0,
             "ticks": ""
            },
            "colorscale": [
             [
              0,
              "#0d0887"
             ],
             [
              0.1111111111111111,
              "#46039f"
             ],
             [
              0.2222222222222222,
              "#7201a8"
             ],
             [
              0.3333333333333333,
              "#9c179e"
             ],
             [
              0.4444444444444444,
              "#bd3786"
             ],
             [
              0.5555555555555556,
              "#d8576b"
             ],
             [
              0.6666666666666666,
              "#ed7953"
             ],
             [
              0.7777777777777778,
              "#fb9f3a"
             ],
             [
              0.8888888888888888,
              "#fdca26"
             ],
             [
              1,
              "#f0f921"
             ]
            ],
            "type": "histogram2d"
           }
          ],
          "histogram2dcontour": [
           {
            "colorbar": {
             "outlinewidth": 0,
             "ticks": ""
            },
            "colorscale": [
             [
              0,
              "#0d0887"
             ],
             [
              0.1111111111111111,
              "#46039f"
             ],
             [
              0.2222222222222222,
              "#7201a8"
             ],
             [
              0.3333333333333333,
              "#9c179e"
             ],
             [
              0.4444444444444444,
              "#bd3786"
             ],
             [
              0.5555555555555556,
              "#d8576b"
             ],
             [
              0.6666666666666666,
              "#ed7953"
             ],
             [
              0.7777777777777778,
              "#fb9f3a"
             ],
             [
              0.8888888888888888,
              "#fdca26"
             ],
             [
              1,
              "#f0f921"
             ]
            ],
            "type": "histogram2dcontour"
           }
          ],
          "mesh3d": [
           {
            "colorbar": {
             "outlinewidth": 0,
             "ticks": ""
            },
            "type": "mesh3d"
           }
          ],
          "parcoords": [
           {
            "line": {
             "colorbar": {
              "outlinewidth": 0,
              "ticks": ""
             }
            },
            "type": "parcoords"
           }
          ],
          "pie": [
           {
            "automargin": true,
            "type": "pie"
           }
          ],
          "scatter": [
           {
            "marker": {
             "colorbar": {
              "outlinewidth": 0,
              "ticks": ""
             }
            },
            "type": "scatter"
           }
          ],
          "scatter3d": [
           {
            "line": {
             "colorbar": {
              "outlinewidth": 0,
              "ticks": ""
             }
            },
            "marker": {
             "colorbar": {
              "outlinewidth": 0,
              "ticks": ""
             }
            },
            "type": "scatter3d"
           }
          ],
          "scattercarpet": [
           {
            "marker": {
             "colorbar": {
              "outlinewidth": 0,
              "ticks": ""
             }
            },
            "type": "scattercarpet"
           }
          ],
          "scattergeo": [
           {
            "marker": {
             "colorbar": {
              "outlinewidth": 0,
              "ticks": ""
             }
            },
            "type": "scattergeo"
           }
          ],
          "scattergl": [
           {
            "marker": {
             "colorbar": {
              "outlinewidth": 0,
              "ticks": ""
             }
            },
            "type": "scattergl"
           }
          ],
          "scattermapbox": [
           {
            "marker": {
             "colorbar": {
              "outlinewidth": 0,
              "ticks": ""
             }
            },
            "type": "scattermapbox"
           }
          ],
          "scatterpolar": [
           {
            "marker": {
             "colorbar": {
              "outlinewidth": 0,
              "ticks": ""
             }
            },
            "type": "scatterpolar"
           }
          ],
          "scatterpolargl": [
           {
            "marker": {
             "colorbar": {
              "outlinewidth": 0,
              "ticks": ""
             }
            },
            "type": "scatterpolargl"
           }
          ],
          "scatterternary": [
           {
            "marker": {
             "colorbar": {
              "outlinewidth": 0,
              "ticks": ""
             }
            },
            "type": "scatterternary"
           }
          ],
          "surface": [
           {
            "colorbar": {
             "outlinewidth": 0,
             "ticks": ""
            },
            "colorscale": [
             [
              0,
              "#0d0887"
             ],
             [
              0.1111111111111111,
              "#46039f"
             ],
             [
              0.2222222222222222,
              "#7201a8"
             ],
             [
              0.3333333333333333,
              "#9c179e"
             ],
             [
              0.4444444444444444,
              "#bd3786"
             ],
             [
              0.5555555555555556,
              "#d8576b"
             ],
             [
              0.6666666666666666,
              "#ed7953"
             ],
             [
              0.7777777777777778,
              "#fb9f3a"
             ],
             [
              0.8888888888888888,
              "#fdca26"
             ],
             [
              1,
              "#f0f921"
             ]
            ],
            "type": "surface"
           }
          ],
          "table": [
           {
            "cells": {
             "fill": {
              "color": "#EBF0F8"
             },
             "line": {
              "color": "white"
             }
            },
            "header": {
             "fill": {
              "color": "#C8D4E3"
             },
             "line": {
              "color": "white"
             }
            },
            "type": "table"
           }
          ]
         },
         "layout": {
          "annotationdefaults": {
           "arrowcolor": "#2a3f5f",
           "arrowhead": 0,
           "arrowwidth": 1
          },
          "autotypenumbers": "strict",
          "coloraxis": {
           "colorbar": {
            "outlinewidth": 0,
            "ticks": ""
           }
          },
          "colorscale": {
           "diverging": [
            [
             0,
             "#8e0152"
            ],
            [
             0.1,
             "#c51b7d"
            ],
            [
             0.2,
             "#de77ae"
            ],
            [
             0.3,
             "#f1b6da"
            ],
            [
             0.4,
             "#fde0ef"
            ],
            [
             0.5,
             "#f7f7f7"
            ],
            [
             0.6,
             "#e6f5d0"
            ],
            [
             0.7,
             "#b8e186"
            ],
            [
             0.8,
             "#7fbc41"
            ],
            [
             0.9,
             "#4d9221"
            ],
            [
             1,
             "#276419"
            ]
           ],
           "sequential": [
            [
             0,
             "#0d0887"
            ],
            [
             0.1111111111111111,
             "#46039f"
            ],
            [
             0.2222222222222222,
             "#7201a8"
            ],
            [
             0.3333333333333333,
             "#9c179e"
            ],
            [
             0.4444444444444444,
             "#bd3786"
            ],
            [
             0.5555555555555556,
             "#d8576b"
            ],
            [
             0.6666666666666666,
             "#ed7953"
            ],
            [
             0.7777777777777778,
             "#fb9f3a"
            ],
            [
             0.8888888888888888,
             "#fdca26"
            ],
            [
             1,
             "#f0f921"
            ]
           ],
           "sequentialminus": [
            [
             0,
             "#0d0887"
            ],
            [
             0.1111111111111111,
             "#46039f"
            ],
            [
             0.2222222222222222,
             "#7201a8"
            ],
            [
             0.3333333333333333,
             "#9c179e"
            ],
            [
             0.4444444444444444,
             "#bd3786"
            ],
            [
             0.5555555555555556,
             "#d8576b"
            ],
            [
             0.6666666666666666,
             "#ed7953"
            ],
            [
             0.7777777777777778,
             "#fb9f3a"
            ],
            [
             0.8888888888888888,
             "#fdca26"
            ],
            [
             1,
             "#f0f921"
            ]
           ]
          },
          "colorway": [
           "#636efa",
           "#EF553B",
           "#00cc96",
           "#ab63fa",
           "#FFA15A",
           "#19d3f3",
           "#FF6692",
           "#B6E880",
           "#FF97FF",
           "#FECB52"
          ],
          "font": {
           "color": "#2a3f5f"
          },
          "geo": {
           "bgcolor": "white",
           "lakecolor": "white",
           "landcolor": "#E5ECF6",
           "showlakes": true,
           "showland": true,
           "subunitcolor": "white"
          },
          "hoverlabel": {
           "align": "left"
          },
          "hovermode": "closest",
          "mapbox": {
           "style": "light"
          },
          "paper_bgcolor": "white",
          "plot_bgcolor": "#E5ECF6",
          "polar": {
           "angularaxis": {
            "gridcolor": "white",
            "linecolor": "white",
            "ticks": ""
           },
           "bgcolor": "#E5ECF6",
           "radialaxis": {
            "gridcolor": "white",
            "linecolor": "white",
            "ticks": ""
           }
          },
          "scene": {
           "xaxis": {
            "backgroundcolor": "#E5ECF6",
            "gridcolor": "white",
            "gridwidth": 2,
            "linecolor": "white",
            "showbackground": true,
            "ticks": "",
            "zerolinecolor": "white"
           },
           "yaxis": {
            "backgroundcolor": "#E5ECF6",
            "gridcolor": "white",
            "gridwidth": 2,
            "linecolor": "white",
            "showbackground": true,
            "ticks": "",
            "zerolinecolor": "white"
           },
           "zaxis": {
            "backgroundcolor": "#E5ECF6",
            "gridcolor": "white",
            "gridwidth": 2,
            "linecolor": "white",
            "showbackground": true,
            "ticks": "",
            "zerolinecolor": "white"
           }
          },
          "shapedefaults": {
           "line": {
            "color": "#2a3f5f"
           }
          },
          "ternary": {
           "aaxis": {
            "gridcolor": "white",
            "linecolor": "white",
            "ticks": ""
           },
           "baxis": {
            "gridcolor": "white",
            "linecolor": "white",
            "ticks": ""
           },
           "bgcolor": "#E5ECF6",
           "caxis": {
            "gridcolor": "white",
            "linecolor": "white",
            "ticks": ""
           }
          },
          "title": {
           "x": 0.05
          },
          "xaxis": {
           "automargin": true,
           "gridcolor": "white",
           "linecolor": "white",
           "ticks": "",
           "title": {
            "standoff": 15
           },
           "zerolinecolor": "white",
           "zerolinewidth": 2
          },
          "yaxis": {
           "automargin": true,
           "gridcolor": "white",
           "linecolor": "white",
           "ticks": "",
           "title": {
            "standoff": 15
           },
           "zerolinecolor": "white",
           "zerolinewidth": 2
          }
         }
        },
        "title": {
         "text": "Recall Score for different models"
        },
        "xaxis": {
         "anchor": "y",
         "domain": [
          0,
          1
         ],
         "title": {
          "text": "Model"
         }
        },
        "yaxis": {
         "anchor": "x",
         "domain": [
          0,
          1
         ],
         "title": {
          "text": "Recall"
         }
        }
       }
      },
      "text/html": [
       "<div>                            <div id=\"6f0fabe3-7f18-48e7-80f0-219f7ef46ef5\" class=\"plotly-graph-div\" style=\"height:525px; width:100%;\"></div>            <script type=\"text/javascript\">                require([\"plotly\"], function(Plotly) {                    window.PLOTLYENV=window.PLOTLYENV || {};                                    if (document.getElementById(\"6f0fabe3-7f18-48e7-80f0-219f7ef46ef5\")) {                    Plotly.newPlot(                        \"6f0fabe3-7f18-48e7-80f0-219f7ef46ef5\",                        [{\"hovertemplate\":\"Model=%{x}<br>Recall=%{text}<extra></extra>\",\"legendgroup\":\"\",\"line\":{\"color\":\"#636efa\",\"dash\":\"solid\"},\"marker\":{\"symbol\":\"circle\"},\"mode\":\"lines+markers+text\",\"name\":\"\",\"orientation\":\"v\",\"showlegend\":false,\"text\":[0.78459790146247,0.8000862282573676,0.7603863255908674,0.7462679319395781,0.7956258795680038],\"type\":\"scatter\",\"x\":[\"NaiveBayes\",\"Logistic Regression\",\"XgBoost\",\"RandomForest\",\"SVC\"],\"xaxis\":\"x\",\"y\":[0.78459790146247,0.8000862282573676,0.7603863255908674,0.7462679319395781,0.7956258795680038],\"yaxis\":\"y\"}],                        {\"legend\":{\"tracegroupgap\":0},\"template\":{\"data\":{\"bar\":[{\"error_x\":{\"color\":\"#2a3f5f\"},\"error_y\":{\"color\":\"#2a3f5f\"},\"marker\":{\"line\":{\"color\":\"#E5ECF6\",\"width\":0.5},\"pattern\":{\"fillmode\":\"overlay\",\"size\":10,\"solidity\":0.2}},\"type\":\"bar\"}],\"barpolar\":[{\"marker\":{\"line\":{\"color\":\"#E5ECF6\",\"width\":0.5},\"pattern\":{\"fillmode\":\"overlay\",\"size\":10,\"solidity\":0.2}},\"type\":\"barpolar\"}],\"carpet\":[{\"aaxis\":{\"endlinecolor\":\"#2a3f5f\",\"gridcolor\":\"white\",\"linecolor\":\"white\",\"minorgridcolor\":\"white\",\"startlinecolor\":\"#2a3f5f\"},\"baxis\":{\"endlinecolor\":\"#2a3f5f\",\"gridcolor\":\"white\",\"linecolor\":\"white\",\"minorgridcolor\":\"white\",\"startlinecolor\":\"#2a3f5f\"},\"type\":\"carpet\"}],\"choropleth\":[{\"colorbar\":{\"outlinewidth\":0,\"ticks\":\"\"},\"type\":\"choropleth\"}],\"contour\":[{\"colorbar\":{\"outlinewidth\":0,\"ticks\":\"\"},\"colorscale\":[[0.0,\"#0d0887\"],[0.1111111111111111,\"#46039f\"],[0.2222222222222222,\"#7201a8\"],[0.3333333333333333,\"#9c179e\"],[0.4444444444444444,\"#bd3786\"],[0.5555555555555556,\"#d8576b\"],[0.6666666666666666,\"#ed7953\"],[0.7777777777777778,\"#fb9f3a\"],[0.8888888888888888,\"#fdca26\"],[1.0,\"#f0f921\"]],\"type\":\"contour\"}],\"contourcarpet\":[{\"colorbar\":{\"outlinewidth\":0,\"ticks\":\"\"},\"type\":\"contourcarpet\"}],\"heatmap\":[{\"colorbar\":{\"outlinewidth\":0,\"ticks\":\"\"},\"colorscale\":[[0.0,\"#0d0887\"],[0.1111111111111111,\"#46039f\"],[0.2222222222222222,\"#7201a8\"],[0.3333333333333333,\"#9c179e\"],[0.4444444444444444,\"#bd3786\"],[0.5555555555555556,\"#d8576b\"],[0.6666666666666666,\"#ed7953\"],[0.7777777777777778,\"#fb9f3a\"],[0.8888888888888888,\"#fdca26\"],[1.0,\"#f0f921\"]],\"type\":\"heatmap\"}],\"heatmapgl\":[{\"colorbar\":{\"outlinewidth\":0,\"ticks\":\"\"},\"colorscale\":[[0.0,\"#0d0887\"],[0.1111111111111111,\"#46039f\"],[0.2222222222222222,\"#7201a8\"],[0.3333333333333333,\"#9c179e\"],[0.4444444444444444,\"#bd3786\"],[0.5555555555555556,\"#d8576b\"],[0.6666666666666666,\"#ed7953\"],[0.7777777777777778,\"#fb9f3a\"],[0.8888888888888888,\"#fdca26\"],[1.0,\"#f0f921\"]],\"type\":\"heatmapgl\"}],\"histogram\":[{\"marker\":{\"pattern\":{\"fillmode\":\"overlay\",\"size\":10,\"solidity\":0.2}},\"type\":\"histogram\"}],\"histogram2d\":[{\"colorbar\":{\"outlinewidth\":0,\"ticks\":\"\"},\"colorscale\":[[0.0,\"#0d0887\"],[0.1111111111111111,\"#46039f\"],[0.2222222222222222,\"#7201a8\"],[0.3333333333333333,\"#9c179e\"],[0.4444444444444444,\"#bd3786\"],[0.5555555555555556,\"#d8576b\"],[0.6666666666666666,\"#ed7953\"],[0.7777777777777778,\"#fb9f3a\"],[0.8888888888888888,\"#fdca26\"],[1.0,\"#f0f921\"]],\"type\":\"histogram2d\"}],\"histogram2dcontour\":[{\"colorbar\":{\"outlinewidth\":0,\"ticks\":\"\"},\"colorscale\":[[0.0,\"#0d0887\"],[0.1111111111111111,\"#46039f\"],[0.2222222222222222,\"#7201a8\"],[0.3333333333333333,\"#9c179e\"],[0.4444444444444444,\"#bd3786\"],[0.5555555555555556,\"#d8576b\"],[0.6666666666666666,\"#ed7953\"],[0.7777777777777778,\"#fb9f3a\"],[0.8888888888888888,\"#fdca26\"],[1.0,\"#f0f921\"]],\"type\":\"histogram2dcontour\"}],\"mesh3d\":[{\"colorbar\":{\"outlinewidth\":0,\"ticks\":\"\"},\"type\":\"mesh3d\"}],\"parcoords\":[{\"line\":{\"colorbar\":{\"outlinewidth\":0,\"ticks\":\"\"}},\"type\":\"parcoords\"}],\"pie\":[{\"automargin\":true,\"type\":\"pie\"}],\"scatter\":[{\"marker\":{\"colorbar\":{\"outlinewidth\":0,\"ticks\":\"\"}},\"type\":\"scatter\"}],\"scatter3d\":[{\"line\":{\"colorbar\":{\"outlinewidth\":0,\"ticks\":\"\"}},\"marker\":{\"colorbar\":{\"outlinewidth\":0,\"ticks\":\"\"}},\"type\":\"scatter3d\"}],\"scattercarpet\":[{\"marker\":{\"colorbar\":{\"outlinewidth\":0,\"ticks\":\"\"}},\"type\":\"scattercarpet\"}],\"scattergeo\":[{\"marker\":{\"colorbar\":{\"outlinewidth\":0,\"ticks\":\"\"}},\"type\":\"scattergeo\"}],\"scattergl\":[{\"marker\":{\"colorbar\":{\"outlinewidth\":0,\"ticks\":\"\"}},\"type\":\"scattergl\"}],\"scattermapbox\":[{\"marker\":{\"colorbar\":{\"outlinewidth\":0,\"ticks\":\"\"}},\"type\":\"scattermapbox\"}],\"scatterpolar\":[{\"marker\":{\"colorbar\":{\"outlinewidth\":0,\"ticks\":\"\"}},\"type\":\"scatterpolar\"}],\"scatterpolargl\":[{\"marker\":{\"colorbar\":{\"outlinewidth\":0,\"ticks\":\"\"}},\"type\":\"scatterpolargl\"}],\"scatterternary\":[{\"marker\":{\"colorbar\":{\"outlinewidth\":0,\"ticks\":\"\"}},\"type\":\"scatterternary\"}],\"surface\":[{\"colorbar\":{\"outlinewidth\":0,\"ticks\":\"\"},\"colorscale\":[[0.0,\"#0d0887\"],[0.1111111111111111,\"#46039f\"],[0.2222222222222222,\"#7201a8\"],[0.3333333333333333,\"#9c179e\"],[0.4444444444444444,\"#bd3786\"],[0.5555555555555556,\"#d8576b\"],[0.6666666666666666,\"#ed7953\"],[0.7777777777777778,\"#fb9f3a\"],[0.8888888888888888,\"#fdca26\"],[1.0,\"#f0f921\"]],\"type\":\"surface\"}],\"table\":[{\"cells\":{\"fill\":{\"color\":\"#EBF0F8\"},\"line\":{\"color\":\"white\"}},\"header\":{\"fill\":{\"color\":\"#C8D4E3\"},\"line\":{\"color\":\"white\"}},\"type\":\"table\"}]},\"layout\":{\"annotationdefaults\":{\"arrowcolor\":\"#2a3f5f\",\"arrowhead\":0,\"arrowwidth\":1},\"autotypenumbers\":\"strict\",\"coloraxis\":{\"colorbar\":{\"outlinewidth\":0,\"ticks\":\"\"}},\"colorscale\":{\"diverging\":[[0,\"#8e0152\"],[0.1,\"#c51b7d\"],[0.2,\"#de77ae\"],[0.3,\"#f1b6da\"],[0.4,\"#fde0ef\"],[0.5,\"#f7f7f7\"],[0.6,\"#e6f5d0\"],[0.7,\"#b8e186\"],[0.8,\"#7fbc41\"],[0.9,\"#4d9221\"],[1,\"#276419\"]],\"sequential\":[[0.0,\"#0d0887\"],[0.1111111111111111,\"#46039f\"],[0.2222222222222222,\"#7201a8\"],[0.3333333333333333,\"#9c179e\"],[0.4444444444444444,\"#bd3786\"],[0.5555555555555556,\"#d8576b\"],[0.6666666666666666,\"#ed7953\"],[0.7777777777777778,\"#fb9f3a\"],[0.8888888888888888,\"#fdca26\"],[1.0,\"#f0f921\"]],\"sequentialminus\":[[0.0,\"#0d0887\"],[0.1111111111111111,\"#46039f\"],[0.2222222222222222,\"#7201a8\"],[0.3333333333333333,\"#9c179e\"],[0.4444444444444444,\"#bd3786\"],[0.5555555555555556,\"#d8576b\"],[0.6666666666666666,\"#ed7953\"],[0.7777777777777778,\"#fb9f3a\"],[0.8888888888888888,\"#fdca26\"],[1.0,\"#f0f921\"]]},\"colorway\":[\"#636efa\",\"#EF553B\",\"#00cc96\",\"#ab63fa\",\"#FFA15A\",\"#19d3f3\",\"#FF6692\",\"#B6E880\",\"#FF97FF\",\"#FECB52\"],\"font\":{\"color\":\"#2a3f5f\"},\"geo\":{\"bgcolor\":\"white\",\"lakecolor\":\"white\",\"landcolor\":\"#E5ECF6\",\"showlakes\":true,\"showland\":true,\"subunitcolor\":\"white\"},\"hoverlabel\":{\"align\":\"left\"},\"hovermode\":\"closest\",\"mapbox\":{\"style\":\"light\"},\"paper_bgcolor\":\"white\",\"plot_bgcolor\":\"#E5ECF6\",\"polar\":{\"angularaxis\":{\"gridcolor\":\"white\",\"linecolor\":\"white\",\"ticks\":\"\"},\"bgcolor\":\"#E5ECF6\",\"radialaxis\":{\"gridcolor\":\"white\",\"linecolor\":\"white\",\"ticks\":\"\"}},\"scene\":{\"xaxis\":{\"backgroundcolor\":\"#E5ECF6\",\"gridcolor\":\"white\",\"gridwidth\":2,\"linecolor\":\"white\",\"showbackground\":true,\"ticks\":\"\",\"zerolinecolor\":\"white\"},\"yaxis\":{\"backgroundcolor\":\"#E5ECF6\",\"gridcolor\":\"white\",\"gridwidth\":2,\"linecolor\":\"white\",\"showbackground\":true,\"ticks\":\"\",\"zerolinecolor\":\"white\"},\"zaxis\":{\"backgroundcolor\":\"#E5ECF6\",\"gridcolor\":\"white\",\"gridwidth\":2,\"linecolor\":\"white\",\"showbackground\":true,\"ticks\":\"\",\"zerolinecolor\":\"white\"}},\"shapedefaults\":{\"line\":{\"color\":\"#2a3f5f\"}},\"ternary\":{\"aaxis\":{\"gridcolor\":\"white\",\"linecolor\":\"white\",\"ticks\":\"\"},\"baxis\":{\"gridcolor\":\"white\",\"linecolor\":\"white\",\"ticks\":\"\"},\"bgcolor\":\"#E5ECF6\",\"caxis\":{\"gridcolor\":\"white\",\"linecolor\":\"white\",\"ticks\":\"\"}},\"title\":{\"x\":0.05},\"xaxis\":{\"automargin\":true,\"gridcolor\":\"white\",\"linecolor\":\"white\",\"ticks\":\"\",\"title\":{\"standoff\":15},\"zerolinecolor\":\"white\",\"zerolinewidth\":2},\"yaxis\":{\"automargin\":true,\"gridcolor\":\"white\",\"linecolor\":\"white\",\"ticks\":\"\",\"title\":{\"standoff\":15},\"zerolinecolor\":\"white\",\"zerolinewidth\":2}}},\"title\":{\"text\":\"Recall Score for different models\"},\"xaxis\":{\"anchor\":\"y\",\"domain\":[0.0,1.0],\"title\":{\"text\":\"Model\"}},\"yaxis\":{\"anchor\":\"x\",\"domain\":[0.0,1.0],\"title\":{\"text\":\"Recall\"}}},                        {\"responsive\": true}                    ).then(function(){\n",
       "                            \n",
       "var gd = document.getElementById('6f0fabe3-7f18-48e7-80f0-219f7ef46ef5');\n",
       "var x = new MutationObserver(function (mutations, observer) {{\n",
       "        var display = window.getComputedStyle(gd).display;\n",
       "        if (!display || display === 'none') {{\n",
       "            console.log([gd, 'removed!']);\n",
       "            Plotly.purge(gd);\n",
       "            observer.disconnect();\n",
       "        }}\n",
       "}});\n",
       "\n",
       "// Listen for the removal of the full notebook cells\n",
       "var notebookContainer = gd.closest('#notebook-container');\n",
       "if (notebookContainer) {{\n",
       "    x.observe(notebookContainer, {childList: true});\n",
       "}}\n",
       "\n",
       "// Listen for the clearing of the current output cell\n",
       "var outputEl = gd.closest('.output');\n",
       "if (outputEl) {{\n",
       "    x.observe(outputEl, {childList: true});\n",
       "}}\n",
       "\n",
       "                        })                };                });            </script>        </div>"
      ]
     },
     "metadata": {},
     "output_type": "display_data"
    }
   ],
   "source": [
    "fig = px.line(df_result, x='Model', y='Recall', text=\"Recall\", title='Recall Score for different models')\n",
    "fig.show()"
   ]
  },
  {
   "cell_type": "code",
   "execution_count": 106,
   "id": "b3617f2c",
   "metadata": {},
   "outputs": [
    {
     "data": {
      "application/vnd.plotly.v1+json": {
       "config": {
        "plotlyServerURL": "https://plot.ly"
       },
       "data": [
        {
         "hovertemplate": "Model=%{x}<br>F1Score=%{text}<extra></extra>",
         "legendgroup": "",
         "line": {
          "color": "#636efa",
          "dash": "solid"
         },
         "marker": {
          "symbol": "circle"
         },
         "mode": "lines+markers+text",
         "name": "",
         "orientation": "v",
         "showlegend": false,
         "text": [
          0.7782587988580099,
          0.7944359273151077,
          0.7473887965919565,
          0.7268731018498961,
          0.7942793710836551
         ],
         "type": "scatter",
         "x": [
          "NaiveBayes",
          "Logistic Regression",
          "XgBoost",
          "RandomForest",
          "SVC"
         ],
         "xaxis": "x",
         "y": [
          0.7782587988580099,
          0.7944359273151077,
          0.7473887965919565,
          0.7268731018498961,
          0.7942793710836551
         ],
         "yaxis": "y"
        }
       ],
       "layout": {
        "legend": {
         "tracegroupgap": 0
        },
        "template": {
         "data": {
          "bar": [
           {
            "error_x": {
             "color": "#2a3f5f"
            },
            "error_y": {
             "color": "#2a3f5f"
            },
            "marker": {
             "line": {
              "color": "#E5ECF6",
              "width": 0.5
             },
             "pattern": {
              "fillmode": "overlay",
              "size": 10,
              "solidity": 0.2
             }
            },
            "type": "bar"
           }
          ],
          "barpolar": [
           {
            "marker": {
             "line": {
              "color": "#E5ECF6",
              "width": 0.5
             },
             "pattern": {
              "fillmode": "overlay",
              "size": 10,
              "solidity": 0.2
             }
            },
            "type": "barpolar"
           }
          ],
          "carpet": [
           {
            "aaxis": {
             "endlinecolor": "#2a3f5f",
             "gridcolor": "white",
             "linecolor": "white",
             "minorgridcolor": "white",
             "startlinecolor": "#2a3f5f"
            },
            "baxis": {
             "endlinecolor": "#2a3f5f",
             "gridcolor": "white",
             "linecolor": "white",
             "minorgridcolor": "white",
             "startlinecolor": "#2a3f5f"
            },
            "type": "carpet"
           }
          ],
          "choropleth": [
           {
            "colorbar": {
             "outlinewidth": 0,
             "ticks": ""
            },
            "type": "choropleth"
           }
          ],
          "contour": [
           {
            "colorbar": {
             "outlinewidth": 0,
             "ticks": ""
            },
            "colorscale": [
             [
              0,
              "#0d0887"
             ],
             [
              0.1111111111111111,
              "#46039f"
             ],
             [
              0.2222222222222222,
              "#7201a8"
             ],
             [
              0.3333333333333333,
              "#9c179e"
             ],
             [
              0.4444444444444444,
              "#bd3786"
             ],
             [
              0.5555555555555556,
              "#d8576b"
             ],
             [
              0.6666666666666666,
              "#ed7953"
             ],
             [
              0.7777777777777778,
              "#fb9f3a"
             ],
             [
              0.8888888888888888,
              "#fdca26"
             ],
             [
              1,
              "#f0f921"
             ]
            ],
            "type": "contour"
           }
          ],
          "contourcarpet": [
           {
            "colorbar": {
             "outlinewidth": 0,
             "ticks": ""
            },
            "type": "contourcarpet"
           }
          ],
          "heatmap": [
           {
            "colorbar": {
             "outlinewidth": 0,
             "ticks": ""
            },
            "colorscale": [
             [
              0,
              "#0d0887"
             ],
             [
              0.1111111111111111,
              "#46039f"
             ],
             [
              0.2222222222222222,
              "#7201a8"
             ],
             [
              0.3333333333333333,
              "#9c179e"
             ],
             [
              0.4444444444444444,
              "#bd3786"
             ],
             [
              0.5555555555555556,
              "#d8576b"
             ],
             [
              0.6666666666666666,
              "#ed7953"
             ],
             [
              0.7777777777777778,
              "#fb9f3a"
             ],
             [
              0.8888888888888888,
              "#fdca26"
             ],
             [
              1,
              "#f0f921"
             ]
            ],
            "type": "heatmap"
           }
          ],
          "heatmapgl": [
           {
            "colorbar": {
             "outlinewidth": 0,
             "ticks": ""
            },
            "colorscale": [
             [
              0,
              "#0d0887"
             ],
             [
              0.1111111111111111,
              "#46039f"
             ],
             [
              0.2222222222222222,
              "#7201a8"
             ],
             [
              0.3333333333333333,
              "#9c179e"
             ],
             [
              0.4444444444444444,
              "#bd3786"
             ],
             [
              0.5555555555555556,
              "#d8576b"
             ],
             [
              0.6666666666666666,
              "#ed7953"
             ],
             [
              0.7777777777777778,
              "#fb9f3a"
             ],
             [
              0.8888888888888888,
              "#fdca26"
             ],
             [
              1,
              "#f0f921"
             ]
            ],
            "type": "heatmapgl"
           }
          ],
          "histogram": [
           {
            "marker": {
             "pattern": {
              "fillmode": "overlay",
              "size": 10,
              "solidity": 0.2
             }
            },
            "type": "histogram"
           }
          ],
          "histogram2d": [
           {
            "colorbar": {
             "outlinewidth": 0,
             "ticks": ""
            },
            "colorscale": [
             [
              0,
              "#0d0887"
             ],
             [
              0.1111111111111111,
              "#46039f"
             ],
             [
              0.2222222222222222,
              "#7201a8"
             ],
             [
              0.3333333333333333,
              "#9c179e"
             ],
             [
              0.4444444444444444,
              "#bd3786"
             ],
             [
              0.5555555555555556,
              "#d8576b"
             ],
             [
              0.6666666666666666,
              "#ed7953"
             ],
             [
              0.7777777777777778,
              "#fb9f3a"
             ],
             [
              0.8888888888888888,
              "#fdca26"
             ],
             [
              1,
              "#f0f921"
             ]
            ],
            "type": "histogram2d"
           }
          ],
          "histogram2dcontour": [
           {
            "colorbar": {
             "outlinewidth": 0,
             "ticks": ""
            },
            "colorscale": [
             [
              0,
              "#0d0887"
             ],
             [
              0.1111111111111111,
              "#46039f"
             ],
             [
              0.2222222222222222,
              "#7201a8"
             ],
             [
              0.3333333333333333,
              "#9c179e"
             ],
             [
              0.4444444444444444,
              "#bd3786"
             ],
             [
              0.5555555555555556,
              "#d8576b"
             ],
             [
              0.6666666666666666,
              "#ed7953"
             ],
             [
              0.7777777777777778,
              "#fb9f3a"
             ],
             [
              0.8888888888888888,
              "#fdca26"
             ],
             [
              1,
              "#f0f921"
             ]
            ],
            "type": "histogram2dcontour"
           }
          ],
          "mesh3d": [
           {
            "colorbar": {
             "outlinewidth": 0,
             "ticks": ""
            },
            "type": "mesh3d"
           }
          ],
          "parcoords": [
           {
            "line": {
             "colorbar": {
              "outlinewidth": 0,
              "ticks": ""
             }
            },
            "type": "parcoords"
           }
          ],
          "pie": [
           {
            "automargin": true,
            "type": "pie"
           }
          ],
          "scatter": [
           {
            "marker": {
             "colorbar": {
              "outlinewidth": 0,
              "ticks": ""
             }
            },
            "type": "scatter"
           }
          ],
          "scatter3d": [
           {
            "line": {
             "colorbar": {
              "outlinewidth": 0,
              "ticks": ""
             }
            },
            "marker": {
             "colorbar": {
              "outlinewidth": 0,
              "ticks": ""
             }
            },
            "type": "scatter3d"
           }
          ],
          "scattercarpet": [
           {
            "marker": {
             "colorbar": {
              "outlinewidth": 0,
              "ticks": ""
             }
            },
            "type": "scattercarpet"
           }
          ],
          "scattergeo": [
           {
            "marker": {
             "colorbar": {
              "outlinewidth": 0,
              "ticks": ""
             }
            },
            "type": "scattergeo"
           }
          ],
          "scattergl": [
           {
            "marker": {
             "colorbar": {
              "outlinewidth": 0,
              "ticks": ""
             }
            },
            "type": "scattergl"
           }
          ],
          "scattermapbox": [
           {
            "marker": {
             "colorbar": {
              "outlinewidth": 0,
              "ticks": ""
             }
            },
            "type": "scattermapbox"
           }
          ],
          "scatterpolar": [
           {
            "marker": {
             "colorbar": {
              "outlinewidth": 0,
              "ticks": ""
             }
            },
            "type": "scatterpolar"
           }
          ],
          "scatterpolargl": [
           {
            "marker": {
             "colorbar": {
              "outlinewidth": 0,
              "ticks": ""
             }
            },
            "type": "scatterpolargl"
           }
          ],
          "scatterternary": [
           {
            "marker": {
             "colorbar": {
              "outlinewidth": 0,
              "ticks": ""
             }
            },
            "type": "scatterternary"
           }
          ],
          "surface": [
           {
            "colorbar": {
             "outlinewidth": 0,
             "ticks": ""
            },
            "colorscale": [
             [
              0,
              "#0d0887"
             ],
             [
              0.1111111111111111,
              "#46039f"
             ],
             [
              0.2222222222222222,
              "#7201a8"
             ],
             [
              0.3333333333333333,
              "#9c179e"
             ],
             [
              0.4444444444444444,
              "#bd3786"
             ],
             [
              0.5555555555555556,
              "#d8576b"
             ],
             [
              0.6666666666666666,
              "#ed7953"
             ],
             [
              0.7777777777777778,
              "#fb9f3a"
             ],
             [
              0.8888888888888888,
              "#fdca26"
             ],
             [
              1,
              "#f0f921"
             ]
            ],
            "type": "surface"
           }
          ],
          "table": [
           {
            "cells": {
             "fill": {
              "color": "#EBF0F8"
             },
             "line": {
              "color": "white"
             }
            },
            "header": {
             "fill": {
              "color": "#C8D4E3"
             },
             "line": {
              "color": "white"
             }
            },
            "type": "table"
           }
          ]
         },
         "layout": {
          "annotationdefaults": {
           "arrowcolor": "#2a3f5f",
           "arrowhead": 0,
           "arrowwidth": 1
          },
          "autotypenumbers": "strict",
          "coloraxis": {
           "colorbar": {
            "outlinewidth": 0,
            "ticks": ""
           }
          },
          "colorscale": {
           "diverging": [
            [
             0,
             "#8e0152"
            ],
            [
             0.1,
             "#c51b7d"
            ],
            [
             0.2,
             "#de77ae"
            ],
            [
             0.3,
             "#f1b6da"
            ],
            [
             0.4,
             "#fde0ef"
            ],
            [
             0.5,
             "#f7f7f7"
            ],
            [
             0.6,
             "#e6f5d0"
            ],
            [
             0.7,
             "#b8e186"
            ],
            [
             0.8,
             "#7fbc41"
            ],
            [
             0.9,
             "#4d9221"
            ],
            [
             1,
             "#276419"
            ]
           ],
           "sequential": [
            [
             0,
             "#0d0887"
            ],
            [
             0.1111111111111111,
             "#46039f"
            ],
            [
             0.2222222222222222,
             "#7201a8"
            ],
            [
             0.3333333333333333,
             "#9c179e"
            ],
            [
             0.4444444444444444,
             "#bd3786"
            ],
            [
             0.5555555555555556,
             "#d8576b"
            ],
            [
             0.6666666666666666,
             "#ed7953"
            ],
            [
             0.7777777777777778,
             "#fb9f3a"
            ],
            [
             0.8888888888888888,
             "#fdca26"
            ],
            [
             1,
             "#f0f921"
            ]
           ],
           "sequentialminus": [
            [
             0,
             "#0d0887"
            ],
            [
             0.1111111111111111,
             "#46039f"
            ],
            [
             0.2222222222222222,
             "#7201a8"
            ],
            [
             0.3333333333333333,
             "#9c179e"
            ],
            [
             0.4444444444444444,
             "#bd3786"
            ],
            [
             0.5555555555555556,
             "#d8576b"
            ],
            [
             0.6666666666666666,
             "#ed7953"
            ],
            [
             0.7777777777777778,
             "#fb9f3a"
            ],
            [
             0.8888888888888888,
             "#fdca26"
            ],
            [
             1,
             "#f0f921"
            ]
           ]
          },
          "colorway": [
           "#636efa",
           "#EF553B",
           "#00cc96",
           "#ab63fa",
           "#FFA15A",
           "#19d3f3",
           "#FF6692",
           "#B6E880",
           "#FF97FF",
           "#FECB52"
          ],
          "font": {
           "color": "#2a3f5f"
          },
          "geo": {
           "bgcolor": "white",
           "lakecolor": "white",
           "landcolor": "#E5ECF6",
           "showlakes": true,
           "showland": true,
           "subunitcolor": "white"
          },
          "hoverlabel": {
           "align": "left"
          },
          "hovermode": "closest",
          "mapbox": {
           "style": "light"
          },
          "paper_bgcolor": "white",
          "plot_bgcolor": "#E5ECF6",
          "polar": {
           "angularaxis": {
            "gridcolor": "white",
            "linecolor": "white",
            "ticks": ""
           },
           "bgcolor": "#E5ECF6",
           "radialaxis": {
            "gridcolor": "white",
            "linecolor": "white",
            "ticks": ""
           }
          },
          "scene": {
           "xaxis": {
            "backgroundcolor": "#E5ECF6",
            "gridcolor": "white",
            "gridwidth": 2,
            "linecolor": "white",
            "showbackground": true,
            "ticks": "",
            "zerolinecolor": "white"
           },
           "yaxis": {
            "backgroundcolor": "#E5ECF6",
            "gridcolor": "white",
            "gridwidth": 2,
            "linecolor": "white",
            "showbackground": true,
            "ticks": "",
            "zerolinecolor": "white"
           },
           "zaxis": {
            "backgroundcolor": "#E5ECF6",
            "gridcolor": "white",
            "gridwidth": 2,
            "linecolor": "white",
            "showbackground": true,
            "ticks": "",
            "zerolinecolor": "white"
           }
          },
          "shapedefaults": {
           "line": {
            "color": "#2a3f5f"
           }
          },
          "ternary": {
           "aaxis": {
            "gridcolor": "white",
            "linecolor": "white",
            "ticks": ""
           },
           "baxis": {
            "gridcolor": "white",
            "linecolor": "white",
            "ticks": ""
           },
           "bgcolor": "#E5ECF6",
           "caxis": {
            "gridcolor": "white",
            "linecolor": "white",
            "ticks": ""
           }
          },
          "title": {
           "x": 0.05
          },
          "xaxis": {
           "automargin": true,
           "gridcolor": "white",
           "linecolor": "white",
           "ticks": "",
           "title": {
            "standoff": 15
           },
           "zerolinecolor": "white",
           "zerolinewidth": 2
          },
          "yaxis": {
           "automargin": true,
           "gridcolor": "white",
           "linecolor": "white",
           "ticks": "",
           "title": {
            "standoff": 15
           },
           "zerolinecolor": "white",
           "zerolinewidth": 2
          }
         }
        },
        "title": {
         "text": "F1Score Score for different models"
        },
        "xaxis": {
         "anchor": "y",
         "domain": [
          0,
          1
         ],
         "title": {
          "text": "Model"
         }
        },
        "yaxis": {
         "anchor": "x",
         "domain": [
          0,
          1
         ],
         "title": {
          "text": "F1Score"
         }
        }
       }
      },
      "text/html": [
       "<div>                            <div id=\"0a3b16d0-7fd9-405c-a9e7-6e126fd01000\" class=\"plotly-graph-div\" style=\"height:525px; width:100%;\"></div>            <script type=\"text/javascript\">                require([\"plotly\"], function(Plotly) {                    window.PLOTLYENV=window.PLOTLYENV || {};                                    if (document.getElementById(\"0a3b16d0-7fd9-405c-a9e7-6e126fd01000\")) {                    Plotly.newPlot(                        \"0a3b16d0-7fd9-405c-a9e7-6e126fd01000\",                        [{\"hovertemplate\":\"Model=%{x}<br>F1Score=%{text}<extra></extra>\",\"legendgroup\":\"\",\"line\":{\"color\":\"#636efa\",\"dash\":\"solid\"},\"marker\":{\"symbol\":\"circle\"},\"mode\":\"lines+markers+text\",\"name\":\"\",\"orientation\":\"v\",\"showlegend\":false,\"text\":[0.7782587988580099,0.7944359273151077,0.7473887965919565,0.7268731018498961,0.7942793710836551],\"type\":\"scatter\",\"x\":[\"NaiveBayes\",\"Logistic Regression\",\"XgBoost\",\"RandomForest\",\"SVC\"],\"xaxis\":\"x\",\"y\":[0.7782587988580099,0.7944359273151077,0.7473887965919565,0.7268731018498961,0.7942793710836551],\"yaxis\":\"y\"}],                        {\"legend\":{\"tracegroupgap\":0},\"template\":{\"data\":{\"bar\":[{\"error_x\":{\"color\":\"#2a3f5f\"},\"error_y\":{\"color\":\"#2a3f5f\"},\"marker\":{\"line\":{\"color\":\"#E5ECF6\",\"width\":0.5},\"pattern\":{\"fillmode\":\"overlay\",\"size\":10,\"solidity\":0.2}},\"type\":\"bar\"}],\"barpolar\":[{\"marker\":{\"line\":{\"color\":\"#E5ECF6\",\"width\":0.5},\"pattern\":{\"fillmode\":\"overlay\",\"size\":10,\"solidity\":0.2}},\"type\":\"barpolar\"}],\"carpet\":[{\"aaxis\":{\"endlinecolor\":\"#2a3f5f\",\"gridcolor\":\"white\",\"linecolor\":\"white\",\"minorgridcolor\":\"white\",\"startlinecolor\":\"#2a3f5f\"},\"baxis\":{\"endlinecolor\":\"#2a3f5f\",\"gridcolor\":\"white\",\"linecolor\":\"white\",\"minorgridcolor\":\"white\",\"startlinecolor\":\"#2a3f5f\"},\"type\":\"carpet\"}],\"choropleth\":[{\"colorbar\":{\"outlinewidth\":0,\"ticks\":\"\"},\"type\":\"choropleth\"}],\"contour\":[{\"colorbar\":{\"outlinewidth\":0,\"ticks\":\"\"},\"colorscale\":[[0.0,\"#0d0887\"],[0.1111111111111111,\"#46039f\"],[0.2222222222222222,\"#7201a8\"],[0.3333333333333333,\"#9c179e\"],[0.4444444444444444,\"#bd3786\"],[0.5555555555555556,\"#d8576b\"],[0.6666666666666666,\"#ed7953\"],[0.7777777777777778,\"#fb9f3a\"],[0.8888888888888888,\"#fdca26\"],[1.0,\"#f0f921\"]],\"type\":\"contour\"}],\"contourcarpet\":[{\"colorbar\":{\"outlinewidth\":0,\"ticks\":\"\"},\"type\":\"contourcarpet\"}],\"heatmap\":[{\"colorbar\":{\"outlinewidth\":0,\"ticks\":\"\"},\"colorscale\":[[0.0,\"#0d0887\"],[0.1111111111111111,\"#46039f\"],[0.2222222222222222,\"#7201a8\"],[0.3333333333333333,\"#9c179e\"],[0.4444444444444444,\"#bd3786\"],[0.5555555555555556,\"#d8576b\"],[0.6666666666666666,\"#ed7953\"],[0.7777777777777778,\"#fb9f3a\"],[0.8888888888888888,\"#fdca26\"],[1.0,\"#f0f921\"]],\"type\":\"heatmap\"}],\"heatmapgl\":[{\"colorbar\":{\"outlinewidth\":0,\"ticks\":\"\"},\"colorscale\":[[0.0,\"#0d0887\"],[0.1111111111111111,\"#46039f\"],[0.2222222222222222,\"#7201a8\"],[0.3333333333333333,\"#9c179e\"],[0.4444444444444444,\"#bd3786\"],[0.5555555555555556,\"#d8576b\"],[0.6666666666666666,\"#ed7953\"],[0.7777777777777778,\"#fb9f3a\"],[0.8888888888888888,\"#fdca26\"],[1.0,\"#f0f921\"]],\"type\":\"heatmapgl\"}],\"histogram\":[{\"marker\":{\"pattern\":{\"fillmode\":\"overlay\",\"size\":10,\"solidity\":0.2}},\"type\":\"histogram\"}],\"histogram2d\":[{\"colorbar\":{\"outlinewidth\":0,\"ticks\":\"\"},\"colorscale\":[[0.0,\"#0d0887\"],[0.1111111111111111,\"#46039f\"],[0.2222222222222222,\"#7201a8\"],[0.3333333333333333,\"#9c179e\"],[0.4444444444444444,\"#bd3786\"],[0.5555555555555556,\"#d8576b\"],[0.6666666666666666,\"#ed7953\"],[0.7777777777777778,\"#fb9f3a\"],[0.8888888888888888,\"#fdca26\"],[1.0,\"#f0f921\"]],\"type\":\"histogram2d\"}],\"histogram2dcontour\":[{\"colorbar\":{\"outlinewidth\":0,\"ticks\":\"\"},\"colorscale\":[[0.0,\"#0d0887\"],[0.1111111111111111,\"#46039f\"],[0.2222222222222222,\"#7201a8\"],[0.3333333333333333,\"#9c179e\"],[0.4444444444444444,\"#bd3786\"],[0.5555555555555556,\"#d8576b\"],[0.6666666666666666,\"#ed7953\"],[0.7777777777777778,\"#fb9f3a\"],[0.8888888888888888,\"#fdca26\"],[1.0,\"#f0f921\"]],\"type\":\"histogram2dcontour\"}],\"mesh3d\":[{\"colorbar\":{\"outlinewidth\":0,\"ticks\":\"\"},\"type\":\"mesh3d\"}],\"parcoords\":[{\"line\":{\"colorbar\":{\"outlinewidth\":0,\"ticks\":\"\"}},\"type\":\"parcoords\"}],\"pie\":[{\"automargin\":true,\"type\":\"pie\"}],\"scatter\":[{\"marker\":{\"colorbar\":{\"outlinewidth\":0,\"ticks\":\"\"}},\"type\":\"scatter\"}],\"scatter3d\":[{\"line\":{\"colorbar\":{\"outlinewidth\":0,\"ticks\":\"\"}},\"marker\":{\"colorbar\":{\"outlinewidth\":0,\"ticks\":\"\"}},\"type\":\"scatter3d\"}],\"scattercarpet\":[{\"marker\":{\"colorbar\":{\"outlinewidth\":0,\"ticks\":\"\"}},\"type\":\"scattercarpet\"}],\"scattergeo\":[{\"marker\":{\"colorbar\":{\"outlinewidth\":0,\"ticks\":\"\"}},\"type\":\"scattergeo\"}],\"scattergl\":[{\"marker\":{\"colorbar\":{\"outlinewidth\":0,\"ticks\":\"\"}},\"type\":\"scattergl\"}],\"scattermapbox\":[{\"marker\":{\"colorbar\":{\"outlinewidth\":0,\"ticks\":\"\"}},\"type\":\"scattermapbox\"}],\"scatterpolar\":[{\"marker\":{\"colorbar\":{\"outlinewidth\":0,\"ticks\":\"\"}},\"type\":\"scatterpolar\"}],\"scatterpolargl\":[{\"marker\":{\"colorbar\":{\"outlinewidth\":0,\"ticks\":\"\"}},\"type\":\"scatterpolargl\"}],\"scatterternary\":[{\"marker\":{\"colorbar\":{\"outlinewidth\":0,\"ticks\":\"\"}},\"type\":\"scatterternary\"}],\"surface\":[{\"colorbar\":{\"outlinewidth\":0,\"ticks\":\"\"},\"colorscale\":[[0.0,\"#0d0887\"],[0.1111111111111111,\"#46039f\"],[0.2222222222222222,\"#7201a8\"],[0.3333333333333333,\"#9c179e\"],[0.4444444444444444,\"#bd3786\"],[0.5555555555555556,\"#d8576b\"],[0.6666666666666666,\"#ed7953\"],[0.7777777777777778,\"#fb9f3a\"],[0.8888888888888888,\"#fdca26\"],[1.0,\"#f0f921\"]],\"type\":\"surface\"}],\"table\":[{\"cells\":{\"fill\":{\"color\":\"#EBF0F8\"},\"line\":{\"color\":\"white\"}},\"header\":{\"fill\":{\"color\":\"#C8D4E3\"},\"line\":{\"color\":\"white\"}},\"type\":\"table\"}]},\"layout\":{\"annotationdefaults\":{\"arrowcolor\":\"#2a3f5f\",\"arrowhead\":0,\"arrowwidth\":1},\"autotypenumbers\":\"strict\",\"coloraxis\":{\"colorbar\":{\"outlinewidth\":0,\"ticks\":\"\"}},\"colorscale\":{\"diverging\":[[0,\"#8e0152\"],[0.1,\"#c51b7d\"],[0.2,\"#de77ae\"],[0.3,\"#f1b6da\"],[0.4,\"#fde0ef\"],[0.5,\"#f7f7f7\"],[0.6,\"#e6f5d0\"],[0.7,\"#b8e186\"],[0.8,\"#7fbc41\"],[0.9,\"#4d9221\"],[1,\"#276419\"]],\"sequential\":[[0.0,\"#0d0887\"],[0.1111111111111111,\"#46039f\"],[0.2222222222222222,\"#7201a8\"],[0.3333333333333333,\"#9c179e\"],[0.4444444444444444,\"#bd3786\"],[0.5555555555555556,\"#d8576b\"],[0.6666666666666666,\"#ed7953\"],[0.7777777777777778,\"#fb9f3a\"],[0.8888888888888888,\"#fdca26\"],[1.0,\"#f0f921\"]],\"sequentialminus\":[[0.0,\"#0d0887\"],[0.1111111111111111,\"#46039f\"],[0.2222222222222222,\"#7201a8\"],[0.3333333333333333,\"#9c179e\"],[0.4444444444444444,\"#bd3786\"],[0.5555555555555556,\"#d8576b\"],[0.6666666666666666,\"#ed7953\"],[0.7777777777777778,\"#fb9f3a\"],[0.8888888888888888,\"#fdca26\"],[1.0,\"#f0f921\"]]},\"colorway\":[\"#636efa\",\"#EF553B\",\"#00cc96\",\"#ab63fa\",\"#FFA15A\",\"#19d3f3\",\"#FF6692\",\"#B6E880\",\"#FF97FF\",\"#FECB52\"],\"font\":{\"color\":\"#2a3f5f\"},\"geo\":{\"bgcolor\":\"white\",\"lakecolor\":\"white\",\"landcolor\":\"#E5ECF6\",\"showlakes\":true,\"showland\":true,\"subunitcolor\":\"white\"},\"hoverlabel\":{\"align\":\"left\"},\"hovermode\":\"closest\",\"mapbox\":{\"style\":\"light\"},\"paper_bgcolor\":\"white\",\"plot_bgcolor\":\"#E5ECF6\",\"polar\":{\"angularaxis\":{\"gridcolor\":\"white\",\"linecolor\":\"white\",\"ticks\":\"\"},\"bgcolor\":\"#E5ECF6\",\"radialaxis\":{\"gridcolor\":\"white\",\"linecolor\":\"white\",\"ticks\":\"\"}},\"scene\":{\"xaxis\":{\"backgroundcolor\":\"#E5ECF6\",\"gridcolor\":\"white\",\"gridwidth\":2,\"linecolor\":\"white\",\"showbackground\":true,\"ticks\":\"\",\"zerolinecolor\":\"white\"},\"yaxis\":{\"backgroundcolor\":\"#E5ECF6\",\"gridcolor\":\"white\",\"gridwidth\":2,\"linecolor\":\"white\",\"showbackground\":true,\"ticks\":\"\",\"zerolinecolor\":\"white\"},\"zaxis\":{\"backgroundcolor\":\"#E5ECF6\",\"gridcolor\":\"white\",\"gridwidth\":2,\"linecolor\":\"white\",\"showbackground\":true,\"ticks\":\"\",\"zerolinecolor\":\"white\"}},\"shapedefaults\":{\"line\":{\"color\":\"#2a3f5f\"}},\"ternary\":{\"aaxis\":{\"gridcolor\":\"white\",\"linecolor\":\"white\",\"ticks\":\"\"},\"baxis\":{\"gridcolor\":\"white\",\"linecolor\":\"white\",\"ticks\":\"\"},\"bgcolor\":\"#E5ECF6\",\"caxis\":{\"gridcolor\":\"white\",\"linecolor\":\"white\",\"ticks\":\"\"}},\"title\":{\"x\":0.05},\"xaxis\":{\"automargin\":true,\"gridcolor\":\"white\",\"linecolor\":\"white\",\"ticks\":\"\",\"title\":{\"standoff\":15},\"zerolinecolor\":\"white\",\"zerolinewidth\":2},\"yaxis\":{\"automargin\":true,\"gridcolor\":\"white\",\"linecolor\":\"white\",\"ticks\":\"\",\"title\":{\"standoff\":15},\"zerolinecolor\":\"white\",\"zerolinewidth\":2}}},\"title\":{\"text\":\"F1Score Score for different models\"},\"xaxis\":{\"anchor\":\"y\",\"domain\":[0.0,1.0],\"title\":{\"text\":\"Model\"}},\"yaxis\":{\"anchor\":\"x\",\"domain\":[0.0,1.0],\"title\":{\"text\":\"F1Score\"}}},                        {\"responsive\": true}                    ).then(function(){\n",
       "                            \n",
       "var gd = document.getElementById('0a3b16d0-7fd9-405c-a9e7-6e126fd01000');\n",
       "var x = new MutationObserver(function (mutations, observer) {{\n",
       "        var display = window.getComputedStyle(gd).display;\n",
       "        if (!display || display === 'none') {{\n",
       "            console.log([gd, 'removed!']);\n",
       "            Plotly.purge(gd);\n",
       "            observer.disconnect();\n",
       "        }}\n",
       "}});\n",
       "\n",
       "// Listen for the removal of the full notebook cells\n",
       "var notebookContainer = gd.closest('#notebook-container');\n",
       "if (notebookContainer) {{\n",
       "    x.observe(notebookContainer, {childList: true});\n",
       "}}\n",
       "\n",
       "// Listen for the clearing of the current output cell\n",
       "var outputEl = gd.closest('.output');\n",
       "if (outputEl) {{\n",
       "    x.observe(outputEl, {childList: true});\n",
       "}}\n",
       "\n",
       "                        })                };                });            </script>        </div>"
      ]
     },
     "metadata": {},
     "output_type": "display_data"
    }
   ],
   "source": [
    "fig = px.line(df_result, x='Model', y='F1Score', text=\"F1Score\", title='F1Score Score for different models')\n",
    "fig.show()"
   ]
  },
  {
   "cell_type": "markdown",
   "id": "f6e8d168",
   "metadata": {},
   "source": [
    "Observation:\n",
    "    \n",
    "    Logistic Regression has Highest Accuracy, Precison, Recall and F1 Score"
   ]
  },
  {
   "cell_type": "code",
   "execution_count": null,
   "id": "65851560",
   "metadata": {},
   "outputs": [],
   "source": []
  },
  {
   "cell_type": "code",
   "execution_count": null,
   "id": "91fae0a1",
   "metadata": {},
   "outputs": [],
   "source": []
  },
  {
   "cell_type": "code",
   "execution_count": 35,
   "id": "adf0c83d",
   "metadata": {},
   "outputs": [],
   "source": []
  },
  {
   "cell_type": "code",
   "execution_count": null,
   "id": "9c0638a4",
   "metadata": {},
   "outputs": [],
   "source": []
  },
  {
   "cell_type": "code",
   "execution_count": null,
   "id": "efa8c094",
   "metadata": {},
   "outputs": [],
   "source": []
  },
  {
   "cell_type": "code",
   "execution_count": null,
   "id": "7a33ec33",
   "metadata": {},
   "outputs": [],
   "source": []
  },
  {
   "cell_type": "code",
   "execution_count": null,
   "id": "c33edebd",
   "metadata": {},
   "outputs": [],
   "source": []
  },
  {
   "cell_type": "code",
   "execution_count": null,
   "id": "9bd23941",
   "metadata": {},
   "outputs": [],
   "source": []
  }
 ],
 "metadata": {
  "kernelspec": {
   "display_name": "Python 3",
   "language": "python",
   "name": "python3"
  },
  "language_info": {
   "codemirror_mode": {
    "name": "ipython",
    "version": 3
   },
   "file_extension": ".py",
   "mimetype": "text/x-python",
   "name": "python",
   "nbconvert_exporter": "python",
   "pygments_lexer": "ipython3",
   "version": "3.8.8"
  }
 },
 "nbformat": 4,
 "nbformat_minor": 5
}
